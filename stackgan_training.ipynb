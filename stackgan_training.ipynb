{
 "cells": [
  {
   "cell_type": "markdown",
   "metadata": {},
   "source": [
    "# Synthesizing high-quality images from text descriptions"
   ]
  },
  {
   "cell_type": "markdown",
   "metadata": {
    "id": "TnczxE21oTqw"
   },
   "source": [
    "## Implementation of \"Stage 1 \" of **StackGAN**\n",
    "\n",
    "### Stage I of StackGAN \n",
    "\n",
    "#### 1- takes input as text, \n",
    "\n",
    "#### 2- convert the text to embedding using our pre-trained character level embedding. \n",
    "\n",
    "#### 3- Then, we give this embedding to Conditional Augmentation (CA) and \n",
    "\n",
    "#### 4- then to Stage I Generator which gives us low-resolution 64*64 images. "
   ]
  },
  {
   "cell_type": "code",
   "execution_count": null,
   "metadata": {
    "tags": []
   },
   "outputs": [],
   "source": []
  },
  {
   "cell_type": "code",
   "execution_count": 49,
   "metadata": {
    "id": "StpwZzOYxFRo",
    "tags": []
   },
   "outputs": [],
   "source": [
    "# ==============================================================================\n",
    "# Copyright 2019 The TensorFlow Authors. All Rights Reserved.\n",
    "#\n",
    "# Licensed under the Apache License, Version 2.0 (the \"License\");\n",
    "# you may not use this file except in compliance with the License.\n",
    "# You may obtain a copy of the License at\n",
    "#\n",
    "#     http://www.apache.org/licenses/LICENSE-2.0\n",
    "#\n",
    "# Unless required by applicable law or agreed to in writing, software\n",
    "# distributed under the License is distributed on an \"AS IS\" BASIS,\n",
    "# WITHOUT WARRANTIES OR CONDITIONS OF ANY KIND, either express or implied.\n",
    "# See the License for the specific language governing permissions and\n",
    "# limitations under the License.\n",
    "# ==============================================================================\n",
    "\"\"\"StackGAN.\n",
    "\"\"\"\n",
    "\n",
    "from __future__ import absolute_import\n",
    "from __future__ import division\n",
    "from __future__ import print_function\n",
    "\n",
    "import os\n",
    "import pickle\n",
    "import random\n",
    "import time\n",
    "\n",
    "import numpy as np\n",
    "import pandas as pd\n",
    "import tensorflow as tf\n",
    "\n",
    "assert tf.__version__.startswith('2')\n",
    "\n",
    "import PIL\n",
    "from PIL import Image\n",
    "import matplotlib.pyplot as plt\n",
    "import tensorflow.keras.backend as K\n",
    "from tensorflow.keras import Input, Model\n",
    "from tensorflow.keras.layers import LeakyReLU, BatchNormalization, ReLU, Activation\n",
    "from tensorflow.keras.layers import UpSampling2D, Conv2D, Concatenate, Dense, concatenate\n",
    "from tensorflow.keras.layers import Flatten, Lambda, Reshape, ZeroPadding2D, add\n",
    "from tensorflow.keras.optimizers import Adam\n",
    "from tensorflow.keras.preprocessing.image import ImageDataGenerator\n",
    "\n",
    "import warnings\n",
    "warnings.simplefilter(\"ignore\")\n",
    "warnings.filterwarnings( \"ignore\", module = \"matplotlib\\..*\" )"
   ]
  },
  {
   "cell_type": "markdown",
   "metadata": {
    "id": "8Rb4IqOBxN1C"
   },
   "source": [
    "\n",
    "############################################################\n",
    "# Conditioning Augmentation Network\n",
    "############################################################\n",
    "\n",
    "\n",
    "Computer doesn’t understand words, but it can represent the words in terms of something it does “understand”. That’s the “text embedding”, and it’s used as the c\n",
    "\n",
    "\n"
   ]
  },
  {
   "cell_type": "code",
   "execution_count": 50,
   "metadata": {
    "id": "SO_uUHnyxNOU",
    "tags": []
   },
   "outputs": [],
   "source": [
    "# conditioned by the text.\n",
    "def conditioning_augmentation(x):\n",
    "\t\"\"\"The mean_logsigma passed as argument is converted into the text conditioning variable.\n",
    "\n",
    "\tArgs:\n",
    "\t\tx: The output of the text embedding passed through a FC layer with LeakyReLU non-linearity.\n",
    "\n",
    "\tReturns:\n",
    "\t \tc: The text conditioning variable after computation.\n",
    "\t\"\"\"\n",
    "\tmean = x[:, :128]\n",
    "\tlog_sigma = x[:, 128:]\n",
    "\n",
    "\tstddev = tf.math.exp(log_sigma)\n",
    "\tepsilon = K.random_normal(shape=K.constant((mean.shape[1], ), dtype='int32'))\n",
    "\tc = mean + stddev * epsilon\n",
    "\treturn c\n",
    "\n",
    "def build_ca_network():\n",
    "\t\"\"\"Builds the conditioning augmentation network.\n",
    "\t\"\"\"\n",
    "\tinput_layer1 = Input(shape=(1024,)) #size of the vocabulary in the text data\n",
    "\tmls = Dense(256)(input_layer1)\n",
    "\tmls = LeakyReLU(alpha=0.2)(mls)\n",
    "\tca = Lambda(conditioning_augmentation)(mls)\n",
    "\treturn Model(inputs=[input_layer1], outputs=[ca]) \n"
   ]
  },
  {
   "cell_type": "markdown",
   "metadata": {},
   "source": [
    "############################################################\n",
    "# Stage 1 Generator Network \n",
    "############################################################\n",
    "\n",
    "1. The generator is fed with the text captions in the form of Embedding vectors which will be used to condition its generation of features.\n",
    "2. A vector with random noise.\n"
   ]
  },
  {
   "cell_type": "code",
   "execution_count": 51,
   "metadata": {
    "id": "8BaEBiaCxFUd",
    "tags": []
   },
   "outputs": [],
   "source": [
    "\n",
    "\n",
    "def UpSamplingBlock(x, num_kernels):\n",
    "\t\"\"\"An Upsample block with Upsampling2D, Conv2D, BatchNormalization and a ReLU activation.\n",
    "\n",
    "\tArgs:\n",
    "\t\tx: The preceding layer as input.\n",
    "\t\tnum_kernels: Number of kernels for the Conv2D layer.\n",
    "\n",
    "\tReturns:\n",
    "\t\tx: The final activation layer after the Upsampling block.\n",
    "\t\"\"\"\n",
    "\tx = UpSampling2D(size=(2,2))(x)\n",
    "\tx = Conv2D(num_kernels, kernel_size=(3,3), padding='same', strides=1, use_bias=False,\n",
    "\t\t\t\tkernel_initializer='he_uniform')(x)\n",
    "\tx = BatchNormalization(gamma_initializer='ones', beta_initializer='zeros')(x) #prevent from mode collapse\n",
    "\tx = ReLU()(x)\n",
    "\treturn x\n",
    "\n",
    "\n",
    "def build_stage1_generator():\n",
    "\n",
    "\tinput_layer1 = Input(shape=(1024,))\n",
    "\tca = Dense(256)(input_layer1)\n",
    "\tca = LeakyReLU(alpha=0.2)(ca)\n",
    "\n",
    "\t# Obtain the conditioned text\n",
    "\tc = Lambda(conditioning_augmentation)(ca)\n",
    "\n",
    "\tinput_layer2 = Input(shape=(100,))\n",
    "\tconcat = Concatenate(axis=1)([c, input_layer2]) \n",
    "\n",
    "\tx = Dense(16384, use_bias=False)(concat) \n",
    "\tx = ReLU()(x)\n",
    "\tx = Reshape((4, 4, 1024), input_shape=(16384,))(x)\n",
    "\n",
    "\tx = UpSamplingBlock(x, 512) \n",
    "\tx = UpSamplingBlock(x, 256)\n",
    "\tx = UpSamplingBlock(x, 128)\n",
    "\tx = UpSamplingBlock(x, 64)   # upsampled our image to 64*64*3 \n",
    "\n",
    "\tx = Conv2D(3, kernel_size=3, padding='same', strides=1, use_bias=False,\n",
    "\t\t\t\tkernel_initializer='he_uniform')(x)\n",
    "\tx = Activation('tanh')(x)\n",
    "\n",
    "\tstage1_gen = Model(inputs=[input_layer1, input_layer2], outputs=[x, ca]) \n",
    "\treturn stage1_gen\n",
    "\n"
   ]
  },
  {
   "cell_type": "code",
   "execution_count": 52,
   "metadata": {
    "tags": []
   },
   "outputs": [
    {
     "name": "stdout",
     "output_type": "stream",
     "text": [
      "Model: \"model_68\"\n",
      "__________________________________________________________________________________________________\n",
      " Layer (type)                   Output Shape         Param #     Connected to                     \n",
      "==================================================================================================\n",
      " input_128 (InputLayer)         [(None, 1024)]       0           []                               \n",
      "                                                                                                  \n",
      " dense_67 (Dense)               (None, 256)          262400      ['input_128[0][0]']              \n",
      "                                                                                                  \n",
      " leaky_re_lu_101 (LeakyReLU)    (None, 256)          0           ['dense_67[0][0]']               \n",
      "                                                                                                  \n",
      " lambda_26 (Lambda)             (None, 128)          0           ['leaky_re_lu_101[0][0]']        \n",
      "                                                                                                  \n",
      " input_129 (InputLayer)         [(None, 100)]        0           []                               \n",
      "                                                                                                  \n",
      " concatenate_29 (Concatenate)   (None, 228)          0           ['lambda_26[0][0]',              \n",
      "                                                                  'input_129[0][0]']              \n",
      "                                                                                                  \n",
      " dense_68 (Dense)               (None, 16384)        3735552     ['concatenate_29[0][0]']         \n",
      "                                                                                                  \n",
      " re_lu_82 (ReLU)                (None, 16384)        0           ['dense_68[0][0]']               \n",
      "                                                                                                  \n",
      " reshape_14 (Reshape)           (None, 4, 4, 1024)   0           ['re_lu_82[0][0]']               \n",
      "                                                                                                  \n",
      " up_sampling2d_56 (UpSampling2D  (None, 8, 8, 1024)  0           ['reshape_14[0][0]']             \n",
      " )                                                                                                \n",
      "                                                                                                  \n",
      " conv2d_145 (Conv2D)            (None, 8, 8, 512)    4718592     ['up_sampling2d_56[0][0]']       \n",
      "                                                                                                  \n",
      " batch_normalization_116 (Batch  (None, 8, 8, 512)   2048        ['conv2d_145[0][0]']             \n",
      " Normalization)                                                                                   \n",
      "                                                                                                  \n",
      " re_lu_83 (ReLU)                (None, 8, 8, 512)    0           ['batch_normalization_116[0][0]']\n",
      "                                                                                                  \n",
      " up_sampling2d_57 (UpSampling2D  (None, 16, 16, 512)  0          ['re_lu_83[0][0]']               \n",
      " )                                                                                                \n",
      "                                                                                                  \n",
      " conv2d_146 (Conv2D)            (None, 16, 16, 256)  1179648     ['up_sampling2d_57[0][0]']       \n",
      "                                                                                                  \n",
      " batch_normalization_117 (Batch  (None, 16, 16, 256)  1024       ['conv2d_146[0][0]']             \n",
      " Normalization)                                                                                   \n",
      "                                                                                                  \n",
      " re_lu_84 (ReLU)                (None, 16, 16, 256)  0           ['batch_normalization_117[0][0]']\n",
      "                                                                                                  \n",
      " up_sampling2d_58 (UpSampling2D  (None, 32, 32, 256)  0          ['re_lu_84[0][0]']               \n",
      " )                                                                                                \n",
      "                                                                                                  \n",
      " conv2d_147 (Conv2D)            (None, 32, 32, 128)  294912      ['up_sampling2d_58[0][0]']       \n",
      "                                                                                                  \n",
      " batch_normalization_118 (Batch  (None, 32, 32, 128)  512        ['conv2d_147[0][0]']             \n",
      " Normalization)                                                                                   \n",
      "                                                                                                  \n",
      " re_lu_85 (ReLU)                (None, 32, 32, 128)  0           ['batch_normalization_118[0][0]']\n",
      "                                                                                                  \n",
      " up_sampling2d_59 (UpSampling2D  (None, 64, 64, 128)  0          ['re_lu_85[0][0]']               \n",
      " )                                                                                                \n",
      "                                                                                                  \n",
      " conv2d_148 (Conv2D)            (None, 64, 64, 64)   73728       ['up_sampling2d_59[0][0]']       \n",
      "                                                                                                  \n",
      " batch_normalization_119 (Batch  (None, 64, 64, 64)  256         ['conv2d_148[0][0]']             \n",
      " Normalization)                                                                                   \n",
      "                                                                                                  \n",
      " re_lu_86 (ReLU)                (None, 64, 64, 64)   0           ['batch_normalization_119[0][0]']\n",
      "                                                                                                  \n",
      " conv2d_149 (Conv2D)            (None, 64, 64, 3)    1728        ['re_lu_86[0][0]']               \n",
      "                                                                                                  \n",
      " activation_29 (Activation)     (None, 64, 64, 3)    0           ['conv2d_149[0][0]']             \n",
      "                                                                                                  \n",
      "==================================================================================================\n",
      "Total params: 10,270,400\n",
      "Trainable params: 10,268,480\n",
      "Non-trainable params: 1,920\n",
      "__________________________________________________________________________________________________\n"
     ]
    }
   ],
   "source": [
    "generator = build_stage1_generator()\n",
    "generator.summary()"
   ]
  },
  {
   "cell_type": "markdown",
   "metadata": {
    "id": "bc7hLipAxcXb"
   },
   "source": [
    "\n",
    "############################################################\n",
    "# Stage 1 Discriminator Network\n",
    "############################################################\t\n"
   ]
  },
  {
   "cell_type": "code",
   "execution_count": 53,
   "metadata": {
    "id": "JwHBP8sCxFXg",
    "tags": []
   },
   "outputs": [],
   "source": [
    "def ConvBlock(x, num_kernels, kernel_size=(4,4), strides=2, activation=True):\n",
    "\t\"\"\"A ConvBlock with a Conv2D, BatchNormalization and LeakyReLU activation.\n",
    "\n",
    "\tArgs:\n",
    "\t\tx: The preceding layer as input.\n",
    "\t\tnum_kernels: Number of kernels for the Conv2D layer.\n",
    "\n",
    "\tReturns:\n",
    "\t\tx: The final activation layer after the ConvBlock block.\n",
    "\t\"\"\"\n",
    "\tx = Conv2D(num_kernels, kernel_size=kernel_size, padding='same', strides=strides, use_bias=False,\n",
    "\t\t\t\tkernel_initializer='he_uniform')(x)\n",
    "\tx = BatchNormalization(gamma_initializer='ones', beta_initializer='zeros')(x)\n",
    "\t\n",
    "\tif activation:\n",
    "\t\tx = LeakyReLU(alpha=0.2)(x)\n",
    "\treturn x\n",
    "\n",
    "\n",
    "def build_embedding_compressor():\n",
    "    \"\"\"Build embedding compressor model\n",
    "    \"\"\"\n",
    "    input_layer1 = Input(shape=(1024,)) \n",
    "    x = Dense(128)(input_layer1)\n",
    "    x = ReLU()(x)\n",
    "\n",
    "    model = Model(inputs=[input_layer1], outputs=[x])\n",
    "    return model\n",
    "\n",
    "# the discriminator is fed with two inputs, the feature from Generator and the text embedding\n",
    "def build_stage1_discriminator():\n",
    "\t\"\"\"Builds the Stage 1 Discriminator that uses the 64x64 resolution images from the generator\n",
    "\tand the compressed and spatially replicated embedding.\n",
    "\n",
    "\tReturns:\n",
    "\t\tStage 1 Discriminator Model for StackGAN.\n",
    "\t\"\"\"\n",
    "\tinput_layer1 = Input(shape=(64, 64, 3))  \n",
    "\n",
    "\tx = Conv2D(64, kernel_size=(4,4), strides=2, padding='same', use_bias=False,\n",
    "\t\t\t\tkernel_initializer='he_uniform')(input_layer1)\n",
    "\tx = LeakyReLU(alpha=0.2)(x)\n",
    "\n",
    "\tx = ConvBlock(x, 128)\n",
    "\tx = ConvBlock(x, 256)\n",
    "\tx = ConvBlock(x, 512)\n",
    "\n",
    "\t# Obtain the compressed and spatially replicated text embedding\n",
    "\tinput_layer2 = Input(shape=(4, 4, 128)) #2nd input to discriminator, text embedding\n",
    "\tconcat = concatenate([x, input_layer2])\n",
    "\n",
    "\tx1 = Conv2D(512, kernel_size=(1,1), padding='same', strides=1, use_bias=False,\n",
    "\t\t\t\tkernel_initializer='he_uniform')(concat)\n",
    "\tx1 = BatchNormalization(gamma_initializer='ones', beta_initializer='zeros')(x)\n",
    "\tx1 = LeakyReLU(alpha=0.2)(x)\n",
    "\n",
    "\t# Flatten and add a FC layer to predict.\n",
    "\tx1 = Flatten()(x1)\n",
    "\tx1 = Dense(1)(x1)\n",
    "\tx1 = Activation('sigmoid')(x1)\n",
    "\n",
    "\tstage1_dis = Model(inputs=[input_layer1, input_layer2], outputs=[x1])  \n",
    "\treturn stage1_dis\n"
   ]
  },
  {
   "cell_type": "code",
   "execution_count": 54,
   "metadata": {
    "tags": []
   },
   "outputs": [
    {
     "name": "stdout",
     "output_type": "stream",
     "text": [
      "Model: \"model_69\"\n",
      "__________________________________________________________________________________________________\n",
      " Layer (type)                   Output Shape         Param #     Connected to                     \n",
      "==================================================================================================\n",
      " input_130 (InputLayer)         [(None, 64, 64, 3)]  0           []                               \n",
      "                                                                                                  \n",
      " conv2d_150 (Conv2D)            (None, 32, 32, 64)   3072        ['input_130[0][0]']              \n",
      "                                                                                                  \n",
      " leaky_re_lu_102 (LeakyReLU)    (None, 32, 32, 64)   0           ['conv2d_150[0][0]']             \n",
      "                                                                                                  \n",
      " conv2d_151 (Conv2D)            (None, 16, 16, 128)  131072      ['leaky_re_lu_102[0][0]']        \n",
      "                                                                                                  \n",
      " batch_normalization_120 (Batch  (None, 16, 16, 128)  512        ['conv2d_151[0][0]']             \n",
      " Normalization)                                                                                   \n",
      "                                                                                                  \n",
      " leaky_re_lu_103 (LeakyReLU)    (None, 16, 16, 128)  0           ['batch_normalization_120[0][0]']\n",
      "                                                                                                  \n",
      " conv2d_152 (Conv2D)            (None, 8, 8, 256)    524288      ['leaky_re_lu_103[0][0]']        \n",
      "                                                                                                  \n",
      " batch_normalization_121 (Batch  (None, 8, 8, 256)   1024        ['conv2d_152[0][0]']             \n",
      " Normalization)                                                                                   \n",
      "                                                                                                  \n",
      " leaky_re_lu_104 (LeakyReLU)    (None, 8, 8, 256)    0           ['batch_normalization_121[0][0]']\n",
      "                                                                                                  \n",
      " conv2d_153 (Conv2D)            (None, 4, 4, 512)    2097152     ['leaky_re_lu_104[0][0]']        \n",
      "                                                                                                  \n",
      " batch_normalization_122 (Batch  (None, 4, 4, 512)   2048        ['conv2d_153[0][0]']             \n",
      " Normalization)                                                                                   \n",
      "                                                                                                  \n",
      " leaky_re_lu_105 (LeakyReLU)    (None, 4, 4, 512)    0           ['batch_normalization_122[0][0]']\n",
      "                                                                                                  \n",
      " leaky_re_lu_106 (LeakyReLU)    (None, 4, 4, 512)    0           ['leaky_re_lu_105[0][0]']        \n",
      "                                                                                                  \n",
      " flatten_15 (Flatten)           (None, 8192)         0           ['leaky_re_lu_106[0][0]']        \n",
      "                                                                                                  \n",
      " dense_69 (Dense)               (None, 1)            8193        ['flatten_15[0][0]']             \n",
      "                                                                                                  \n",
      " input_131 (InputLayer)         [(None, 4, 4, 128)]  0           []                               \n",
      "                                                                                                  \n",
      " activation_30 (Activation)     (None, 1)            0           ['dense_69[0][0]']               \n",
      "                                                                                                  \n",
      "==================================================================================================\n",
      "Total params: 2,767,361\n",
      "Trainable params: 2,765,569\n",
      "Non-trainable params: 1,792\n",
      "__________________________________________________________________________________________________\n"
     ]
    }
   ],
   "source": [
    "discriminator = build_stage1_discriminator()\n",
    "discriminator.summary()"
   ]
  },
  {
   "cell_type": "markdown",
   "metadata": {
    "id": "SXNLnmkFxjI0"
   },
   "source": [
    "\n",
    "############################################################\n",
    "# Stage 1 Adversarial Model  (Building a GAN)\n",
    "############################################################\n",
    "\n",
    "Generator and discriminator are stacked together. Output of the former is the input of the latter."
   ]
  },
  {
   "cell_type": "code",
   "execution_count": 55,
   "metadata": {
    "id": "8rjVyqYhxFag",
    "tags": []
   },
   "outputs": [],
   "source": [
    "# Building GAN with Generator and Discriminator\n",
    "\n",
    "def build_adversarial(generator_model, discriminator_model):\n",
    "\t\"\"\"Stage 1 Adversarial model.\n",
    "\n",
    "\tArgs:\n",
    "\t\tgenerator_model: Stage 1 Generator Model\n",
    "\t\tdiscriminator_model: Stage 1 Discriminator Model\n",
    "\n",
    "\tReturns:\n",
    "\t\tAdversarial Model.\n",
    "\t\"\"\"\n",
    "\tinput_layer1 = Input(shape=(1024,))  \n",
    "\tinput_layer2 = Input(shape=(100,)) \n",
    "\tinput_layer3 = Input(shape=(4, 4, 128)) \n",
    "\n",
    "\tx, ca = generator_model([input_layer1, input_layer2]) #text,noise\n",
    "\n",
    "\tdiscriminator_model.trainable = False \n",
    "\n",
    "\tprobabilities = discriminator_model([x, input_layer3]) \n",
    "\tadversarial_model = Model(inputs=[input_layer1, input_layer2, input_layer3], outputs=[probabilities, ca])\n",
    "\treturn adversarial_model\n",
    "\n"
   ]
  },
  {
   "cell_type": "code",
   "execution_count": 56,
   "metadata": {
    "tags": []
   },
   "outputs": [
    {
     "name": "stdout",
     "output_type": "stream",
     "text": [
      "Model: \"model_70\"\n",
      "__________________________________________________________________________________________________\n",
      " Layer (type)                   Output Shape         Param #     Connected to                     \n",
      "==================================================================================================\n",
      " input_132 (InputLayer)         [(None, 1024)]       0           []                               \n",
      "                                                                                                  \n",
      " input_133 (InputLayer)         [(None, 100)]        0           []                               \n",
      "                                                                                                  \n",
      " model_68 (Functional)          [(None, 64, 64, 3),  10270400    ['input_132[0][0]',              \n",
      "                                 (None, 256)]                     'input_133[0][0]']              \n",
      "                                                                                                  \n",
      " input_134 (InputLayer)         [(None, 4, 4, 128)]  0           []                               \n",
      "                                                                                                  \n",
      " model_69 (Functional)          (None, 1)            2767361     ['model_68[0][0]',               \n",
      "                                                                  'input_134[0][0]']              \n",
      "                                                                                                  \n",
      "==================================================================================================\n",
      "Total params: 13,037,761\n",
      "Trainable params: 10,268,480\n",
      "Non-trainable params: 2,769,281\n",
      "__________________________________________________________________________________________________\n"
     ]
    }
   ],
   "source": [
    "ganstage1 = build_adversarial(generator, discriminator)\n",
    "ganstage1.summary()"
   ]
  },
  {
   "cell_type": "markdown",
   "metadata": {
    "id": "g4Dy_RuO42Am"
   },
   "source": [
    "############################################################\n",
    "# Train Utilities\n",
    "############################################################\n"
   ]
  },
  {
   "cell_type": "code",
   "execution_count": 57,
   "metadata": {
    "id": "tuXx7HDj41XW",
    "tags": []
   },
   "outputs": [],
   "source": [
    "\n",
    "def checkpoint_prefix():\n",
    "\tcheckpoint_dir = './training_checkpoints'\n",
    "\tcheckpoint_prefix = os.path.join(checkpoint_dir, 'ckpt')\n",
    "\n",
    "\treturn checkpoint_prefix\n",
    "\n",
    "def adversarial_loss(y_true, y_pred):\n",
    "\tmean = y_pred[:, :128]\n",
    "\tls = y_pred[:, 128:]\n",
    "\tloss = -ls + 0.5 * (-1 + tf.math.exp(2.0 * ls) + tf.math.square(mean))\n",
    "\tloss = K.mean(loss)\n",
    "\treturn loss\n",
    "\n",
    "def normalize(input_image, real_image):\n",
    "\tinput_image = (input_image / 127.5) - 1\n",
    "\treal_image = (real_image / 127.5) - 1\n",
    "\n",
    "\treturn input_image, real_image\n",
    "\n",
    "def load_class_ids_filenames(class_id_path, filename_path):\n",
    "\twith open(class_id_path, 'rb') as file:\n",
    "\t\tclass_id = pickle.load(file, encoding='latin1')\n",
    "\n",
    "\twith open(filename_path, 'rb') as file:\n",
    "\t\tfilename = pickle.load(file, encoding='latin1')\n",
    "\n",
    "\treturn class_id, filename\n",
    "\n",
    "def load_text_embeddings(text_embeddings):\n",
    "\twith open(text_embeddings, 'rb') as file:\n",
    "\t\tembeds = pickle.load(file, encoding='latin1')\n",
    "\t\tembeds = np.array(embeds)\n",
    "\n",
    "\treturn embeds\n",
    "\n",
    "def load_bbox(data_path):\n",
    "\tbbox_path = data_path + '/bounding_boxes.txt'\n",
    "\timage_path = data_path + '/images.txt'\n",
    "\tbbox_df = pd.read_csv(bbox_path, delim_whitespace=True, header=None).astype(int)\n",
    "\tfilename_df = pd.read_csv(image_path, delim_whitespace=True, header=None)\n",
    "\n",
    "\tfilenames = filename_df[1].tolist()\n",
    "\tbbox_dict = {i[:-4]:[] for i in filenames[:2]}\n",
    "\n",
    "\tfor i in range(0, len(filenames)):\n",
    "\t\tbbox = bbox_df.iloc[i][1:].tolist()\n",
    "\t\tdict_key = filenames[i][:-4]\n",
    "\t\tbbox_dict[dict_key] = bbox\n",
    "\n",
    "\treturn bbox_dict\n",
    "\n",
    "def load_images(image_path, bounding_box, size):\n",
    "\t\"\"\"Crops the image to the bounding box and then resizes it.\n",
    "\t\"\"\"\n",
    "\timage = Image.open(image_path).convert('RGB')\n",
    "\tw, h = image.size\n",
    "\tif bounding_box is not None:\n",
    "\t\tr = int(np.maximum(bounding_box[2], bounding_box[3]) * 0.75)\n",
    "\t\tc_x = int((bounding_box[0] + bounding_box[2]) / 2)\n",
    "\t\tc_y = int((bounding_box[1] + bounding_box[3]) / 2)\n",
    "\t\ty1 = np.maximum(0, c_y - r)\n",
    "\t\ty2 = np.minimum(h, c_y + r)\n",
    "\t\tx1 = np.maximum(0, c_x - r)\n",
    "\t\tx2 = np.minimum(w, c_x + r)\n",
    "\t\timage = image.crop([x1, y1, x2, y2])\n",
    "\n",
    "\timage = image.resize(size, PIL.Image.BILINEAR)\n",
    "\treturn image\n",
    "\n",
    "def load_data(filename_path, class_id_path, dataset_path, embeddings_path, size):\n",
    "\t\"\"\"Loads the Dataset.\n",
    "\t\"\"\"\n",
    "\tdata_dir = \"./data/birds\"\n",
    "\ttrain_dir = data_dir + \"/train\"\n",
    "\ttest_dir = data_dir + \"/test\"\n",
    "\tembeddings_path_train = train_dir + \"/char-CNN-RNN-embeddings.pickle\"\n",
    "\tembeddings_path_test = test_dir + \"/char-CNN-RNN-embeddings.pickle\"\n",
    "\tfilename_path_train = train_dir + \"/filenames.pickle\"\n",
    "\tfilename_path_test = test_dir + \"/filenames.pickle\"\n",
    "\tclass_id_path_train = train_dir + \"/class_info.pickle\"\n",
    "\tclass_id_path_test = test_dir + \"/class_info.pickle\"\n",
    "\tdataset_path = \"./data/CUB_200_2011\"\n",
    "\tclass_id, filenames = load_class_ids_filenames(class_id_path, filename_path)\n",
    "\tembeddings = load_text_embeddings(embeddings_path)\n",
    "\tbbox_dict = load_bbox(dataset_path)\n",
    "\n",
    "\tx, y, embeds = [], [], []\n",
    "\n",
    "\tfor i, filename in enumerate(filenames):\n",
    "\t\tbbox = bbox_dict[filename]\n",
    "\n",
    "\t\ttry:\t\n",
    "\t\t\timage_path = f'{dataset_path}/images/{filename}.jpg'\n",
    "\t\t\timage = load_images(image_path, bbox, size)\n",
    "\t\t\te = embeddings[i, :, :]\n",
    "\t\t\tembed_index = np.random.randint(0, e.shape[0] - 1)\n",
    "\t\t\tembed = e[embed_index, :]\n",
    "\n",
    "\t\t\tx.append(np.array(image))\n",
    "\t\t\ty.append(class_id[i])\n",
    "\t\t\tembeds.append(embed)\n",
    "\n",
    "\t\texcept Exception as e:\n",
    "\t\t\tprint(f'{e}')\n",
    "\t\n",
    "\tx = np.array(x)\n",
    "\ty = np.array(y)\n",
    "\tembeds = np.array(embeds)\n",
    "\t\n",
    "\treturn x, y, embeds\n",
    "\n",
    "def save_image(file, save_path):\n",
    "\t\"\"\"Saves the image at the specified file path.\n",
    "\t\"\"\"\n",
    "\timage = plt.figure()\n",
    "\tax = image.add_subplot(1,1,1)\n",
    "\tax.imshow(file)\n",
    "\tax.axis(\"off\")\n",
    "\tplt.savefig(save_path)\n",
    "\n",
    "\n"
   ]
  },
  {
   "cell_type": "code",
   "execution_count": 58,
   "metadata": {
    "id": "pjcH1V8ax9A1",
    "tags": []
   },
   "outputs": [],
   "source": [
    "\n",
    "############################################################\n",
    "# StackGAN class\n",
    "############################################################\n",
    "\n",
    "class StackGanStage1(object):\n",
    "  \"\"\"StackGAN Stage 1 class.\"\"\"\n",
    "\n",
    "  data_dir = \"./data/birds\"\n",
    "  train_dir = data_dir + \"/train\"\n",
    "  test_dir = data_dir + \"/test\"\n",
    "  embeddings_path_train = train_dir + \"/char-CNN-RNN-embeddings.pickle\"\n",
    "  embeddings_path_test = test_dir + \"/char-CNN-RNN-embeddings.pickle\"\n",
    "  filename_path_train = train_dir + \"/filenames.pickle\"\n",
    "  filename_path_test = test_dir + \"/filenames.pickle\"\n",
    "  class_id_path_train = train_dir + \"/class_info.pickle\"\n",
    "  class_id_path_test = test_dir + \"/class_info.pickle\"\n",
    "  dataset_path = \"./data/CUB_200_2011\"\n",
    "  def __init__(self, epochs=500, z_dim=100, batch_size=64, enable_function=True, stage1_generator_lr=0.0002, stage1_discriminator_lr=0.0002):\n",
    "\t  self.epochs = epochs\n",
    "\t  self.z_dim = z_dim\n",
    "\t  self.enable_function = enable_function\n",
    "\t  self.stage1_generator_lr = stage1_generator_lr\n",
    "\t  self.stage1_discriminator_lr = stage1_discriminator_lr\n",
    "\t  self.image_size = 64\n",
    "\t  self.conditioning_dim = 128\n",
    "\t  self.batch_size = batch_size\n",
    "        \n",
    "\t  self.stage1_generator_optimizer = Adam(learning_rate=stage1_generator_lr, beta_1=0.5, beta_2=0.999)\n",
    "\t  self.stage1_discriminator_optimizer = Adam(learning_rate=stage1_discriminator_lr, beta_1=0.5, beta_2=0.999)\n",
    "        \n",
    "\t  self.stage1_generator = build_stage1_generator()\n",
    "\t  self.stage1_generator.compile(loss='mse', optimizer=self.stage1_generator_optimizer)\n",
    "\n",
    "\t  self.stage1_discriminator = build_stage1_discriminator()\n",
    "\t  self.stage1_discriminator.compile(loss='binary_crossentropy', optimizer=self.stage1_discriminator_optimizer)\n",
    "\n",
    "\t  self.ca_network = build_ca_network()\n",
    "\t  self.ca_network.compile(loss='binary_crossentropy', optimizer='Adam')\n",
    "\n",
    "\t  self.embedding_compressor = build_embedding_compressor()\n",
    "\t  self.embedding_compressor.compile(loss='binary_crossentropy', optimizer='Adam')\n",
    "\n",
    "\t  self.stage1_adversarial = build_adversarial(self.stage1_generator, self.stage1_discriminator)\n",
    "\t  self.stage1_adversarial.compile(loss=['binary_crossentropy', adversarial_loss], loss_weights=[1, 2.0], optimizer=self.stage1_generator_optimizer)\n",
    "\n",
    "\t  self.checkpoint1 = tf.train.Checkpoint(\n",
    "        \tgenerator_optimizer=self.stage1_generator_optimizer,\n",
    "        \tdiscriminator_optimizer=self.stage1_discriminator_optimizer,\n",
    "        \tgenerator=self.stage1_generator,\n",
    "        \tdiscriminator=self.stage1_discriminator)\n",
    "\n",
    "  def visualize_stage1(self):\n",
    "\t  \"\"\"Running Tensorboard visualizations.\n",
    "\t\t\"\"\"\n",
    "\t  tb = TensorBoard(log_dir=\"logs/\".format(time.time()))\n",
    "\t  tb.set_model(self.stage1_generator)\n",
    "\t  tb.set_model(self.stage1_discriminator)\n",
    "\t  tb.set_model(self.ca_network)\n",
    "\t  tb.set_model(self.embedding_compressor)\n",
    "\n",
    "  def train_stage1(self):\n",
    "\t  \"\"\"Trains the stage1 StackGAN.\n",
    "    \"\"\"\n",
    "\t  x_train, y_train, train_embeds = load_data(filename_path=StackGanStage1.filename_path_train, class_id_path=StackGanStage1.class_id_path_train,\n",
    "      dataset_path=StackGanStage1.dataset_path, embeddings_path=StackGanStage1.embeddings_path_train, size=(64, 64))\n",
    "\n",
    "\t  x_test, y_test, test_embeds = load_data(filename_path=StackGanStage1.filename_path_test, class_id_path=StackGanStage1.class_id_path_test, \n",
    "      dataset_path=StackGanStage1.dataset_path, embeddings_path=StackGanStage1.embeddings_path_test, size=(64, 64))\n",
    "\n",
    "\t  real = np.ones((self.batch_size, 1), dtype='float') * 0.9\n",
    "\t  fake = np.zeros((self.batch_size, 1), dtype='float') * 0.1\n",
    "\n",
    "\t  for epoch in range(self.epochs):\n",
    "\t\t  print(f'Epoch: {epoch}')\n",
    "\n",
    "\t\t  gen_loss = []\n",
    "\t\t  dis_loss = []\n",
    "\n",
    "\t\t  num_batches = int(x_train.shape[0] / self.batch_size)\n",
    "\n",
    "\t\t  for i in range(num_batches):\n",
    "\n",
    "\t\t    latent_space = np.random.normal(0, 1, size=(self.batch_size, self.z_dim))\n",
    "\t\t    embedding_text = train_embeds[i * self.batch_size:(i + 1) * self.batch_size]\n",
    "\t\t    compressed_embedding = self.embedding_compressor.predict_on_batch(embedding_text)\n",
    "\t\t    compressed_embedding = np.reshape(compressed_embedding, (-1, 1, 1, 128))\n",
    "\t\t    compressed_embedding = np.tile(compressed_embedding, (1, 4, 4, 1))\n",
    "\n",
    "\t\t    image_batch = x_train[i * self.batch_size:(i+1) * self.batch_size]\n",
    "\t\t    image_batch = (image_batch - 127.5) / 127.5\n",
    "\n",
    "\t\t    gen_images, _ = self.stage1_generator.predict([embedding_text, latent_space])\n",
    "\n",
    "\t\t    discriminator_loss = self.stage1_discriminator.train_on_batch([image_batch, compressed_embedding], \n",
    "\t\t\t\t\tnp.reshape(real, (self.batch_size, 1)))\n",
    "\n",
    "\t\t    discriminator_loss_gen = self.stage1_discriminator.train_on_batch([gen_images, compressed_embedding],\n",
    "\t\t\t\t\tnp.reshape(fake, (self.batch_size, 1)))\n",
    "\n",
    "\t\t    discriminator_loss_wrong = self.stage1_discriminator.train_on_batch([gen_images[: self.batch_size-1], compressed_embedding[1:]], \n",
    "\t\t\t\t\tnp.reshape(fake[1:], (self.batch_size-1, 1)))\n",
    "\n",
    "\t\t    # Discriminator loss\n",
    "\t\t    d_loss = 0.5 * np.add(discriminator_loss, 0.5 * np.add(discriminator_loss_gen, discriminator_loss_wrong))\n",
    "\t\t    dis_loss.append(d_loss)\n",
    "\n",
    "\t\t    print(f'Discriminator Loss: {d_loss}')\n",
    "\n",
    "\t\t    # Generator loss\n",
    "\t\t    g_loss = self.stage1_adversarial.train_on_batch([embedding_text, latent_space, compressed_embedding],\n",
    "\t\t\t\t\t[K.ones((self.batch_size, 1)) * 0.9, K.ones((self.batch_size, 256)) * 0.9])\n",
    "\n",
    "\t\t    print(f'Generator Loss: {g_loss}')\n",
    "\t\t    gen_loss.append(g_loss)\n",
    "\n",
    "\t\t    if epoch % 5 == 0:\n",
    "\t\t\t\t    latent_space = np.random.normal(0, 1, size=(self.batch_size, self.z_dim))\n",
    "\t\t\t\t    embedding_batch = test_embeds[0 : self.batch_size]\n",
    "\t\t\t\t    gen_images, _ = self.stage1_generator.predict_on_batch([embedding_batch, latent_space])\n",
    "\n",
    "\t\t\t\t    for i, image in enumerate(gen_images[:10]):\n",
    "\t\t\t\t        save_image(image, f'test/gen_1_{epoch}_{i}')\n",
    "\n",
    "\t\t    if epoch % 25 == 0:\n",
    "\t\t      self.stage1_generator.save_weights('weights/stage1_gen.h5')\n",
    "\t\t      self.stage1_discriminator.save_weights(\"weights/stage1_disc.h5\")\n",
    "\t\t      self.ca_network.save_weights('weights/stage1_ca.h5')\n",
    "\t\t      self.embedding_compressor.save_weights('weights/stage1_embco.h5')\n",
    "\t\t      self.stage1_adversarial.save_weights('weights/stage1_adv.h5')      \n",
    "\n",
    "\t  self.stage1_generator.save_weights('weights/stage1_gen.h5')\n",
    "\t  self.stage1_discriminator.save_weights(\"weights/stage1_disc.h5\")\n"
   ]
  },
  {
   "cell_type": "code",
   "execution_count": null,
   "metadata": {
    "colab": {
     "base_uri": "https://localhost:8080/"
    },
    "id": "WUDlLFK0xFdV",
    "outputId": "3aec9e0e-cff9-4742-a2d3-ce4161be794e",
    "scrolled": true,
    "tags": []
   },
   "outputs": [
    {
     "name": "stdout",
     "output_type": "stream",
     "text": [
      "Generator Loss: [0.34689196944236755, 0.3445568084716797, 0.0011675840942189097]\n",
      "2/2 [==============================] - 0s 16ms/step\n",
      "Discriminator Loss: 0.16721034577858518\n",
      "Generator Loss: [0.3330877125263214, 0.33111700415611267, 0.0009853534866124392]\n",
      "2/2 [==============================] - 0s 18ms/step\n",
      "Discriminator Loss: 0.1643047828820272\n",
      "Generator Loss: [0.32858261466026306, 0.32644474506378174, 0.0010689407354220748]\n",
      "2/2 [==============================] - 0s 15ms/step\n",
      "Discriminator Loss: 0.16448607121401437\n",
      "Generator Loss: [0.33131614327430725, 0.32853537797927856, 0.0013903887011110783]\n",
      "2/2 [==============================] - 0s 15ms/step\n",
      "Discriminator Loss: 0.16362930030481948\n",
      "Generator Loss: [0.3318607807159424, 0.3291829228401184, 0.0013389221858233213]\n",
      "2/2 [==============================] - 0s 15ms/step\n",
      "Discriminator Loss: 0.16356134990473947\n",
      "Generator Loss: [0.33617669343948364, 0.3326166272163391, 0.0017800278728827834]\n",
      "2/2 [==============================] - 0s 15ms/step\n",
      "Discriminator Loss: 0.1632985854321305\n",
      "Generator Loss: [0.33573663234710693, 0.3327975273132324, 0.001469555776566267]\n",
      "2/2 [==============================] - 0s 17ms/step\n",
      "Discriminator Loss: 0.16331455534964334\n",
      "Generator Loss: [0.32869425415992737, 0.32584816217422485, 0.0014230498345568776]\n",
      "2/2 [==============================] - 0s 16ms/step\n",
      "Discriminator Loss: 0.1634480877128226\n",
      "Generator Loss: [0.3361024558544159, 0.3319282531738281, 0.0020870999433100224]\n",
      "2/2 [==============================] - 0s 16ms/step\n",
      "Discriminator Loss: 0.1648195379407298\n",
      "Generator Loss: [0.3463318347930908, 0.3425135910511017, 0.001909121172502637]\n",
      "2/2 [==============================] - 0s 16ms/step\n",
      "Discriminator Loss: 0.16870985356308665\n",
      "Generator Loss: [0.34521031379699707, 0.34183984994888306, 0.001685235882177949]\n",
      "2/2 [==============================] - 0s 16ms/step\n",
      "Discriminator Loss: 0.17058654861648392\n",
      "Generator Loss: [0.36926156282424927, 0.36610350012779236, 0.001579031115397811]\n",
      "2/2 [==============================] - 0s 15ms/step\n",
      "Discriminator Loss: 0.18206491034788996\n",
      "Generator Loss: [0.33126547932624817, 0.32762253284454346, 0.0018214692827314138]\n",
      "2/2 [==============================] - 0s 15ms/step\n",
      "Discriminator Loss: 0.16429457462618302\n",
      "Generator Loss: [0.333363801240921, 0.32996001839637756, 0.001701894449070096]\n",
      "2/2 [==============================] - 0s 15ms/step\n",
      "Discriminator Loss: 0.1669508927093375\n",
      "Generator Loss: [0.3472834825515747, 0.34408050775527954, 0.0016014801803976297]\n",
      "2/2 [==============================] - 0s 15ms/step\n",
      "Discriminator Loss: 0.1756814746549935\n",
      "Generator Loss: [0.3520713150501251, 0.34896767139434814, 0.0015518188010901213]\n",
      "2/2 [==============================] - 0s 15ms/step\n",
      "Discriminator Loss: 0.16405949147701904\n",
      "Generator Loss: [0.3288242816925049, 0.32628464698791504, 0.0012698164209723473]\n",
      "2/2 [==============================] - 0s 17ms/step\n",
      "Discriminator Loss: 0.16388616069434647\n",
      "Generator Loss: [0.35083475708961487, 0.3485561013221741, 0.0011393243912607431]\n",
      "2/2 [==============================] - 0s 16ms/step\n",
      "Discriminator Loss: 0.16554536152807486\n",
      "Generator Loss: [0.3572196662425995, 0.35493841767311096, 0.0011406296398490667]\n",
      "2/2 [==============================] - 0s 15ms/step\n",
      "Discriminator Loss: 0.16760505467846087\n",
      "Generator Loss: [0.34226155281066895, 0.3393363356590271, 0.001462604384869337]\n",
      "2/2 [==============================] - 0s 16ms/step\n",
      "Discriminator Loss: 0.16717724772388465\n",
      "Generator Loss: [0.33446311950683594, 0.33203402161598206, 0.0012145438231527805]\n",
      "2/2 [==============================] - 0s 16ms/step\n",
      "Discriminator Loss: 0.16635647341536242\n",
      "Generator Loss: [0.37871813774108887, 0.3767569661140442, 0.0009805788286030293]\n",
      "2/2 [==============================] - 0s 16ms/step\n",
      "Discriminator Loss: 0.1654815739384503\n",
      "Generator Loss: [0.3336666226387024, 0.3314474821090698, 0.0011095646768808365]\n",
      "2/2 [==============================] - 0s 15ms/step\n",
      "Discriminator Loss: 0.16594977884051332\n",
      "Generator Loss: [0.3641773760318756, 0.3618149757385254, 0.0011812003795057535]\n",
      "2/2 [==============================] - 0s 16ms/step\n",
      "Discriminator Loss: 0.16683969435871404\n",
      "Generator Loss: [0.3370293974876404, 0.3347720503807068, 0.0011286777444183826]\n",
      "2/2 [==============================] - 0s 17ms/step\n",
      "Discriminator Loss: 0.16618691697658505\n",
      "Generator Loss: [0.4013892114162445, 0.3990154266357422, 0.001186888082884252]\n",
      "2/2 [==============================] - 0s 15ms/step\n",
      "Discriminator Loss: 0.1641466349692564\n",
      "Generator Loss: [0.3362410366535187, 0.33354952931404114, 0.0013457535533234477]\n",
      "2/2 [==============================] - 0s 15ms/step\n",
      "Discriminator Loss: 0.16358525846044358\n",
      "Generator Loss: [0.3321893811225891, 0.329359769821167, 0.0014148049522191286]\n",
      "2/2 [==============================] - 0s 15ms/step\n",
      "Discriminator Loss: 0.1644614388478658\n",
      "Generator Loss: [0.3521920144557953, 0.3489084243774414, 0.0016418013256043196]\n",
      "2/2 [==============================] - 0s 15ms/step\n",
      "Discriminator Loss: 0.16430114491868153\n",
      "Generator Loss: [0.33234909176826477, 0.32940447330474854, 0.0014723024796694517]\n",
      "2/2 [==============================] - 0s 17ms/step\n",
      "Discriminator Loss: 0.16445631918031722\n",
      "Generator Loss: [0.3290783166885376, 0.3261108994483948, 0.0014837136259302497]\n",
      "2/2 [==============================] - 0s 15ms/step\n",
      "Discriminator Loss: 0.16499481374194147\n",
      "Generator Loss: [0.3477611541748047, 0.3450417220592499, 0.0013597117504104972]\n",
      "2/2 [==============================] - 0s 15ms/step\n",
      "Discriminator Loss: 0.16651753061887575\n",
      "Generator Loss: [0.3290785253047943, 0.3263934850692749, 0.0013425247743725777]\n",
      "2/2 [==============================] - 0s 15ms/step\n",
      "Discriminator Loss: 0.16386864483047248\n",
      "Generator Loss: [0.33856499195098877, 0.3362930119037628, 0.0011359903728589416]\n",
      "2/2 [==============================] - 0s 15ms/step\n",
      "Discriminator Loss: 0.16322307620794163\n",
      "Generator Loss: [0.329170286655426, 0.3266005218029022, 0.001284885685890913]\n",
      "2/2 [==============================] - 0s 15ms/step\n",
      "Discriminator Loss: 0.16342184538552829\n",
      "Generator Loss: [0.329402357339859, 0.32729125022888184, 0.0010555526241660118]\n",
      "2/2 [==============================] - 0s 15ms/step\n",
      "Discriminator Loss: 0.16500696208959198\n",
      "Generator Loss: [0.3615640103816986, 0.35903245210647583, 0.0012657733168452978]\n",
      "2/2 [==============================] - 0s 15ms/step\n",
      "Discriminator Loss: 0.16823236016534793\n",
      "Generator Loss: [0.3307622969150543, 0.32802799344062805, 0.0013671447522938251]\n",
      "2/2 [==============================] - 0s 15ms/step\n",
      "Discriminator Loss: 0.16372564510174925\n",
      "Generator Loss: [0.3310535252094269, 0.32841628789901733, 0.0013186137657612562]\n",
      "2/2 [==============================] - 0s 15ms/step\n",
      "Discriminator Loss: 0.16344117167636796\n",
      "Generator Loss: [0.3358899652957916, 0.33351650834083557, 0.0011867261491715908]\n",
      "2/2 [==============================] - 0s 15ms/step\n",
      "Discriminator Loss: 0.1635724090574513\n",
      "Generator Loss: [0.3305031359195709, 0.32826927304267883, 0.0011169284116476774]\n",
      "2/2 [==============================] - 0s 15ms/step\n",
      "Discriminator Loss: 0.16477568783375318\n",
      "Generator Loss: [0.3357883095741272, 0.3331543207168579, 0.0013170004822313786]\n",
      "2/2 [==============================] - 0s 15ms/step\n",
      "Discriminator Loss: 0.16377659739191586\n",
      "Generator Loss: [0.3288588523864746, 0.3262737989425659, 0.0012925283517688513]\n",
      "2/2 [==============================] - 0s 15ms/step\n",
      "Discriminator Loss: 0.16416754382225918\n",
      "Generator Loss: [0.3288291394710541, 0.3262045085430145, 0.00131231767591089]\n",
      "2/2 [==============================] - 0s 16ms/step\n",
      "Discriminator Loss: 0.1632661916755751\n",
      "Generator Loss: [0.3288918435573578, 0.3257243037223816, 0.0015837730607017875]\n",
      "2/2 [==============================] - 0s 16ms/step\n",
      "Discriminator Loss: 0.16302107744513705\n",
      "Generator Loss: [0.3310178518295288, 0.3278084397315979, 0.0016047011595219374]\n",
      "2/2 [==============================] - 0s 15ms/step\n",
      "Discriminator Loss: 0.16297883114475553\n",
      "Generator Loss: [0.33173325657844543, 0.32902780175209045, 0.0013527300907298923]\n",
      "2/2 [==============================] - 0s 16ms/step\n",
      "Discriminator Loss: 0.16294052918192392\n",
      "Generator Loss: [0.33591631054878235, 0.3328273892402649, 0.0015444679884240031]\n",
      "2/2 [==============================] - 0s 15ms/step\n",
      "Discriminator Loss: 0.1635422261970234\n",
      "Generator Loss: [0.3283040523529053, 0.3258523643016815, 0.0012258427450433373]\n",
      "2/2 [==============================] - 0s 15ms/step\n",
      "Discriminator Loss: 0.1652429092064267\n",
      "Generator Loss: [0.34476980566978455, 0.342586874961853, 0.001091464189812541]\n",
      "2/2 [==============================] - 0s 15ms/step\n",
      "Discriminator Loss: 0.16781244546564267\n",
      "Generator Loss: [0.3286851644515991, 0.32615211606025696, 0.001266529900021851]\n",
      "2/2 [==============================] - 0s 15ms/step\n",
      "Discriminator Loss: 0.18038455010218968\n",
      "Generator Loss: [0.32960569858551025, 0.3275676369667053, 0.0010190295288339257]\n",
      "2/2 [==============================] - 0s 15ms/step\n",
      "Discriminator Loss: 0.1654595065688227\n",
      "Generator Loss: [0.32849323749542236, 0.3265537917613983, 0.0009697247296571732]\n",
      "2/2 [==============================] - 0s 16ms/step\n",
      "Discriminator Loss: 0.16618700555682153\n",
      "Generator Loss: [0.3310279846191406, 0.3288596272468567, 0.0010841756593436003]\n",
      "2/2 [==============================] - 0s 15ms/step\n",
      "Discriminator Loss: 0.17187895911411033\n",
      "Generator Loss: [0.34121182560920715, 0.33890098333358765, 0.0011554246302694082]\n",
      "Epoch: 8\n",
      "2/2 [==============================] - 0s 15ms/step\n",
      "Discriminator Loss: 0.16654123320768122\n",
      "Generator Loss: [0.33538079261779785, 0.33206021785736084, 0.0016602837713435292]\n",
      "2/2 [==============================] - 0s 16ms/step\n",
      "Discriminator Loss: 0.1689118118265469\n",
      "Generator Loss: [0.33433642983436584, 0.33070269227027893, 0.0018168657552450895]\n",
      "2/2 [==============================] - 0s 15ms/step\n",
      "Discriminator Loss: 0.18092984390204947\n",
      "Generator Loss: [0.3345930874347687, 0.3314613699913025, 0.00156586361117661]\n",
      "2/2 [==============================] - 0s 16ms/step\n",
      "Discriminator Loss: 0.16469082915659783\n",
      "Generator Loss: [0.3309151828289032, 0.32773637771606445, 0.0015893983654677868]\n",
      "2/2 [==============================] - 0s 15ms/step\n",
      "Discriminator Loss: 0.16799944572358072\n",
      "Generator Loss: [0.3295486867427826, 0.32665154337882996, 0.001448577968403697]\n",
      "2/2 [==============================] - 0s 15ms/step\n",
      "Discriminator Loss: 0.18160213239434597\n",
      "Generator Loss: [0.3474130928516388, 0.34445416927337646, 0.0014794613234698772]\n",
      "2/2 [==============================] - 0s 16ms/step\n",
      "Discriminator Loss: 0.17067184401093982\n",
      "Generator Loss: [0.42108574509620667, 0.4185922145843506, 0.0012467645574361086]\n",
      "2/2 [==============================] - 0s 16ms/step\n",
      "Discriminator Loss: 0.17137643573005334\n",
      "Generator Loss: [0.33009573817253113, 0.3267472982406616, 0.0016742146108299494]\n",
      "2/2 [==============================] - 0s 15ms/step\n",
      "Discriminator Loss: 0.1645592191102878\n",
      "Generator Loss: [0.33879250288009644, 0.3347052335739136, 0.002043633023276925]\n",
      "2/2 [==============================] - 0s 16ms/step\n",
      "Discriminator Loss: 0.1641143556116731\n",
      "Generator Loss: [0.3342040479183197, 0.3309764862060547, 0.0016137808561325073]\n",
      "2/2 [==============================] - 0s 16ms/step\n",
      "Discriminator Loss: 0.16654452449529344\n",
      "Generator Loss: [0.33371540904045105, 0.3310680389404297, 0.0013236859813332558]\n",
      "2/2 [==============================] - 0s 15ms/step\n",
      "Discriminator Loss: 0.1780919370603442\n",
      "Generator Loss: [0.3543192446231842, 0.35174715518951416, 0.001286044018343091]\n",
      "2/2 [==============================] - 0s 15ms/step\n",
      "Discriminator Loss: 0.16420550832845038\n",
      "Generator Loss: [0.3292929232120514, 0.3268168568611145, 0.001238031778484583]\n",
      "2/2 [==============================] - 0s 15ms/step\n",
      "Discriminator Loss: 0.16614632225719106\n",
      "Generator Loss: [0.3519560396671295, 0.3500736951828003, 0.0009411762002855539]\n",
      "2/2 [==============================] - 0s 15ms/step\n",
      "Discriminator Loss: 0.16945187523538152\n",
      "Generator Loss: [0.3304101228713989, 0.3260524272918701, 0.002178844530135393]\n",
      "2/2 [==============================] - 0s 15ms/step\n",
      "Discriminator Loss: 0.16505203856650041\n",
      "Generator Loss: [0.3724427819252014, 0.36849865317344666, 0.0019720604177564383]\n",
      "2/2 [==============================] - 0s 15ms/step\n",
      "Discriminator Loss: 0.16744053214324595\n",
      "Generator Loss: [0.33547133207321167, 0.3321751654148102, 0.0016480803024023771]\n",
      "2/2 [==============================] - 0s 16ms/step\n",
      "Discriminator Loss: 0.16754227733326843\n",
      "Generator Loss: [0.3421213924884796, 0.3396804928779602, 0.0012204496888443828]\n",
      "2/2 [==============================] - 0s 15ms/step\n",
      "Discriminator Loss: 0.16500118311250844\n",
      "Generator Loss: [0.3309158980846405, 0.32819029688835144, 0.00136279477737844]\n",
      "2/2 [==============================] - 0s 15ms/step\n",
      "Discriminator Loss: 0.16451961093980572\n",
      "Generator Loss: [0.3630390465259552, 0.36002016067504883, 0.001509438967332244]\n",
      "2/2 [==============================] - 0s 16ms/step\n",
      "Discriminator Loss: 0.16968144815473352\n",
      "Generator Loss: [0.383612722158432, 0.3813653290271759, 0.0011237036669626832]\n",
      "2/2 [==============================] - 0s 15ms/step\n",
      "Discriminator Loss: 0.1784333520081418\n",
      "Generator Loss: [0.3352808952331543, 0.33294427394866943, 0.0011683120392262936]\n",
      "2/2 [==============================] - 0s 15ms/step\n",
      "Discriminator Loss: 0.16913911014307814\n",
      "Generator Loss: [0.32910823822021484, 0.32617443799972534, 0.0014668985968455672]\n",
      "2/2 [==============================] - 0s 16ms/step\n",
      "Discriminator Loss: 0.1793873326641915\n",
      "Generator Loss: [0.3299209475517273, 0.32629385590553284, 0.0018135462887585163]\n",
      "2/2 [==============================] - 0s 16ms/step\n",
      "Discriminator Loss: 0.1651352628764471\n",
      "Generator Loss: [0.3722880482673645, 0.36808276176452637, 0.002102639526128769]\n",
      "2/2 [==============================] - 0s 15ms/step\n",
      "Discriminator Loss: 0.173253691100399\n",
      "Generator Loss: [0.35478347539901733, 0.3517591953277588, 0.0015121453907340765]\n",
      "2/2 [==============================] - 0s 16ms/step\n",
      "Discriminator Loss: 0.19044936619138753\n",
      "Generator Loss: [0.3806720972061157, 0.37776270508766174, 0.001454695826396346]\n",
      "2/2 [==============================] - 0s 16ms/step\n",
      "Discriminator Loss: 0.17402397900877986\n",
      "Generator Loss: [0.3933291733264923, 0.39064866304397583, 0.001340255606919527]\n",
      "2/2 [==============================] - 0s 15ms/step\n",
      "Discriminator Loss: 0.18000259946347796\n",
      "Generator Loss: [0.3486872613430023, 0.3461906611919403, 0.001248302636668086]\n",
      "2/2 [==============================] - 0s 15ms/step\n",
      "Discriminator Loss: 0.18617656415881356\n",
      "Generator Loss: [0.3447566032409668, 0.34218043088912964, 0.0012880846625193954]\n",
      "2/2 [==============================] - 0s 16ms/step\n",
      "Discriminator Loss: 0.16582260542782024\n",
      "Generator Loss: [0.35106194019317627, 0.3484208583831787, 0.0013205340364947915]\n",
      "2/2 [==============================] - 0s 15ms/step\n",
      "Discriminator Loss: 0.1651192591416475\n",
      "Generator Loss: [0.32973822951316833, 0.3269067704677582, 0.001415733713656664]\n",
      "2/2 [==============================] - 0s 15ms/step\n",
      "Discriminator Loss: 0.16555527465425257\n",
      "Generator Loss: [0.32926419377326965, 0.3266336917877197, 0.0013152464525774121]\n",
      "2/2 [==============================] - 0s 15ms/step\n",
      "Discriminator Loss: 0.16453012375313847\n",
      "Generator Loss: [0.33463719487190247, 0.33146587014198303, 0.0015856551472097635]\n",
      "2/2 [==============================] - 0s 16ms/step\n",
      "Discriminator Loss: 0.1639978253224399\n",
      "Generator Loss: [0.3318031132221222, 0.32848477363586426, 0.0016591630410403013]\n",
      "2/2 [==============================] - 0s 16ms/step\n",
      "Discriminator Loss: 0.16402561363247514\n",
      "Generator Loss: [0.329812228679657, 0.32640570402145386, 0.0017032634932547808]\n",
      "2/2 [==============================] - 0s 15ms/step\n",
      "Discriminator Loss: 0.16340454724104347\n",
      "Generator Loss: [0.3325296938419342, 0.32940369844436646, 0.0015630022389814258]\n",
      "2/2 [==============================] - 0s 16ms/step\n",
      "Discriminator Loss: 0.16427136603124382\n",
      "Generator Loss: [0.35108259320259094, 0.34800946712493896, 0.001536559546366334]\n",
      "2/2 [==============================] - 0s 15ms/step\n",
      "Discriminator Loss: 0.1644281076387415\n",
      "Generator Loss: [0.3445199728012085, 0.34148383140563965, 0.001518072560429573]\n",
      "2/2 [==============================] - 0s 15ms/step\n",
      "Discriminator Loss: 0.16648454270330149\n",
      "Generator Loss: [0.35767239332199097, 0.35494691133499146, 0.001362742856144905]\n",
      "2/2 [==============================] - 0s 15ms/step\n",
      "Discriminator Loss: 0.17002023433087743\n",
      "Generator Loss: [0.439659059047699, 0.43675410747528076, 0.0014524746220558882]\n",
      "2/2 [==============================] - 0s 15ms/step\n",
      "Discriminator Loss: 0.18578954360782518\n",
      "Generator Loss: [0.33538952469825745, 0.33295899629592896, 0.0012152597773820162]\n",
      "2/2 [==============================] - 0s 15ms/step\n",
      "Discriminator Loss: 0.16752991184330313\n",
      "Generator Loss: [0.33173978328704834, 0.3285217583179474, 0.0016090061981230974]\n",
      "2/2 [==============================] - 0s 15ms/step\n",
      "Discriminator Loss: 0.16722431008292915\n",
      "Generator Loss: [0.4034588038921356, 0.4005581736564636, 0.0014503091806545854]\n",
      "2/2 [==============================] - 0s 15ms/step\n",
      "Discriminator Loss: 0.17510547640995355\n",
      "Generator Loss: [0.3561631441116333, 0.35324913263320923, 0.0014569999184459448]\n",
      "2/2 [==============================] - 0s 15ms/step\n",
      "Discriminator Loss: 0.17116344128953642\n",
      "Generator Loss: [0.36586993932724, 0.3630405068397522, 0.0014147148467600346]\n",
      "2/2 [==============================] - 0s 16ms/step\n",
      "Discriminator Loss: 0.16440546499507036\n",
      "Generator Loss: [0.33810967206954956, 0.3353211283683777, 0.0013942660298198462]\n",
      "2/2 [==============================] - 0s 15ms/step\n",
      "Discriminator Loss: 0.16543025476130424\n",
      "Generator Loss: [0.38103950023651123, 0.3782176375389099, 0.0014109238982200623]\n",
      "2/2 [==============================] - 0s 15ms/step\n",
      "Discriminator Loss: 0.17153301942562393\n",
      "Generator Loss: [0.3380824327468872, 0.334882915019989, 0.0015997526934370399]\n",
      "2/2 [==============================] - 0s 15ms/step\n",
      "Discriminator Loss: 0.16645090697375053\n",
      "Generator Loss: [0.3509325087070465, 0.34839925169944763, 0.0012666259426623583]\n",
      "2/2 [==============================] - 0s 15ms/step\n",
      "Discriminator Loss: 0.1680133896904863\n",
      "Generator Loss: [0.34172576665878296, 0.33928942680358887, 0.001218166435137391]\n",
      "2/2 [==============================] - 0s 15ms/step\n",
      "Discriminator Loss: 0.1677031395956874\n",
      "Generator Loss: [0.3972472548484802, 0.39517033100128174, 0.0010384635534137487]\n",
      "2/2 [==============================] - 0s 15ms/step\n",
      "Discriminator Loss: 0.17601389808442036\n",
      "Generator Loss: [0.3375941812992096, 0.3349645435810089, 0.0013148161815479398]\n",
      "2/2 [==============================] - 0s 15ms/step\n",
      "Discriminator Loss: 0.16449689296314318\n",
      "Generator Loss: [0.3503298759460449, 0.3477386236190796, 0.0012956229038536549]\n",
      "2/2 [==============================] - 0s 15ms/step\n",
      "Discriminator Loss: 0.16603394973208196\n",
      "Generator Loss: [0.3597336709499359, 0.35683923959732056, 0.0014472120674327016]\n",
      "2/2 [==============================] - 0s 15ms/step\n",
      "Discriminator Loss: 0.1714743003158219\n",
      "Generator Loss: [0.3546401560306549, 0.35215067863464355, 0.001244737533852458]\n",
      "2/2 [==============================] - 0s 15ms/step\n",
      "Discriminator Loss: 0.16628468480303127\n",
      "Generator Loss: [0.3401750326156616, 0.3371686637401581, 0.0015031802468001842]\n",
      "2/2 [==============================] - 0s 16ms/step\n",
      "Discriminator Loss: 0.17009479435364483\n",
      "Generator Loss: [0.33352378010749817, 0.33080625534057617, 0.0013587572611868382]\n",
      "2/2 [==============================] - 0s 15ms/step\n",
      "Discriminator Loss: 0.1648602355417097\n",
      "Generator Loss: [0.35956400632858276, 0.35710209608078003, 0.001230949885211885]\n",
      "2/2 [==============================] - 0s 16ms/step\n",
      "Discriminator Loss: 0.1682428763556345\n",
      "Generator Loss: [0.3359774649143219, 0.3330147862434387, 0.001481338869780302]\n",
      "2/2 [==============================] - 0s 15ms/step\n",
      "Discriminator Loss: 0.16812235009297183\n",
      "Generator Loss: [0.38821879029273987, 0.38598841428756714, 0.0011151873040944338]\n",
      "2/2 [==============================] - 0s 16ms/step\n",
      "Discriminator Loss: 0.1682827011718473\n",
      "Generator Loss: [0.34324753284454346, 0.34107133746147156, 0.0010880957124754786]\n",
      "2/2 [==============================] - 0s 15ms/step\n",
      "Discriminator Loss: 0.16661269650558097\n",
      "Generator Loss: [0.34468281269073486, 0.34230560064315796, 0.0011886033462360501]\n",
      "2/2 [==============================] - 0s 15ms/step\n",
      "Discriminator Loss: 0.16444206161031616\n",
      "Generator Loss: [0.33151426911354065, 0.3291310667991638, 0.001191594055853784]\n",
      "2/2 [==============================] - 0s 15ms/step\n",
      "Discriminator Loss: 0.16496134515728045\n",
      "Generator Loss: [0.35118919610977173, 0.3474596440792084, 0.0018647783435881138]\n",
      "2/2 [==============================] - 0s 15ms/step\n",
      "Discriminator Loss: 0.17014554622073774\n",
      "Generator Loss: [0.34814533591270447, 0.3458464443683624, 0.0011494469363242388]\n",
      "2/2 [==============================] - 0s 15ms/step\n",
      "Discriminator Loss: 0.17139373453937878\n",
      "Generator Loss: [0.3509322702884674, 0.34911954402923584, 0.0009063681354746222]\n",
      "2/2 [==============================] - 0s 15ms/step\n",
      "Discriminator Loss: 0.17690665416012052\n",
      "Generator Loss: [0.34677258133888245, 0.34405291080474854, 0.0013598401565104723]\n",
      "2/2 [==============================] - 0s 15ms/step\n",
      "Discriminator Loss: 0.16533954985061428\n",
      "Generator Loss: [0.33244025707244873, 0.329159677028656, 0.001640290254727006]\n",
      "2/2 [==============================] - 0s 15ms/step\n",
      "Discriminator Loss: 0.16432932381394494\n",
      "Generator Loss: [0.3319076895713806, 0.3289107382297516, 0.001498478464782238]\n",
      "2/2 [==============================] - 0s 15ms/step\n",
      "Discriminator Loss: 0.1648027685987472\n",
      "Generator Loss: [0.3565281331539154, 0.35366761684417725, 0.0014302532654255629]\n",
      "2/2 [==============================] - 0s 15ms/step\n",
      "Discriminator Loss: 0.16629798179383215\n",
      "Generator Loss: [0.3289947509765625, 0.3266822099685669, 0.0011562735307961702]\n",
      "2/2 [==============================] - 0s 15ms/step\n",
      "Discriminator Loss: 0.16352834442659514\n",
      "Generator Loss: [0.3528089225292206, 0.35065001249313354, 0.001079450361430645]\n",
      "2/2 [==============================] - 0s 15ms/step\n",
      "Discriminator Loss: 0.16366463482700055\n",
      "Generator Loss: [0.32793983817100525, 0.32609155774116516, 0.0009241366060450673]\n",
      "2/2 [==============================] - 0s 15ms/step\n",
      "Discriminator Loss: 0.16351235925776564\n",
      "Generator Loss: [0.3535832464694977, 0.35137975215911865, 0.0011017491342499852]\n",
      "2/2 [==============================] - 0s 15ms/step\n",
      "Discriminator Loss: 0.1630987396929413\n",
      "Generator Loss: [0.3278368413448334, 0.32604217529296875, 0.0008973268559202552]\n",
      "2/2 [==============================] - 0s 15ms/step\n",
      "Discriminator Loss: 0.16291337949405715\n",
      "Generator Loss: [0.33566102385520935, 0.3335750102996826, 0.001043009920977056]\n",
      "2/2 [==============================] - 0s 15ms/step\n",
      "Discriminator Loss: 0.16343894491365063\n",
      "Generator Loss: [0.3281104266643524, 0.3260664641857147, 0.001021978328935802]\n",
      "2/2 [==============================] - 0s 15ms/step\n",
      "Discriminator Loss: 0.16343080575438762\n",
      "Generator Loss: [0.3707568347454071, 0.3687806725502014, 0.0009880817960947752]\n",
      "2/2 [==============================] - 0s 15ms/step\n",
      "Discriminator Loss: 0.16566636767674936\n",
      "Generator Loss: [0.343097448348999, 0.3412426710128784, 0.000927390472497791]\n",
      "2/2 [==============================] - 0s 15ms/step\n",
      "Discriminator Loss: 0.16823755147197517\n",
      "Generator Loss: [0.3720754384994507, 0.369989275932312, 0.0010430820984765887]\n",
      "2/2 [==============================] - 0s 15ms/step\n",
      "Discriminator Loss: 0.16960286024550442\n",
      "Generator Loss: [0.4253612458705902, 0.4234474003314972, 0.0009569297544658184]\n",
      "2/2 [==============================] - 0s 16ms/step\n",
      "Discriminator Loss: 0.17545359098707536\n",
      "Generator Loss: [0.44511517882347107, 0.4431617558002472, 0.0009767045266926289]\n",
      "2/2 [==============================] - 0s 15ms/step\n",
      "Discriminator Loss: 0.16733570221325067\n",
      "Generator Loss: [0.4163197875022888, 0.4142710566520691, 0.0010243679862469435]\n",
      "2/2 [==============================] - 0s 16ms/step\n",
      "Discriminator Loss: 0.18111698200027604\n",
      "Generator Loss: [0.440219521522522, 0.4384955167770386, 0.000862007262185216]\n",
      "2/2 [==============================] - 0s 17ms/step\n",
      "Discriminator Loss: 0.21270777407698915\n",
      "Generator Loss: [0.3359772861003876, 0.3340858817100525, 0.0009457005653530359]\n",
      "2/2 [==============================] - 0s 15ms/step\n",
      "Discriminator Loss: 0.19164518063189462\n",
      "Generator Loss: [0.33341726660728455, 0.33093196153640747, 0.0012426536995917559]\n",
      "2/2 [==============================] - 0s 15ms/step\n",
      "Discriminator Loss: 0.1671000897331396\n",
      "Generator Loss: [0.32883065938949585, 0.326421320438385, 0.0012046750634908676]\n",
      "2/2 [==============================] - 0s 15ms/step\n",
      "Discriminator Loss: 0.18014481504360447\n",
      "Generator Loss: [0.3493277430534363, 0.34619373083114624, 0.0015670054126530886]\n",
      "2/2 [==============================] - 0s 16ms/step\n",
      "Discriminator Loss: 0.21906324116207543\n",
      "Generator Loss: [0.6008859872817993, 0.5983574390411377, 0.0012642866931855679]\n",
      "2/2 [==============================] - 0s 15ms/step\n",
      "Discriminator Loss: 0.1992400382005144\n",
      "Generator Loss: [0.5245125889778137, 0.5220311880111694, 0.0012407053727656603]\n",
      "2/2 [==============================] - 0s 15ms/step\n",
      "Discriminator Loss: 0.20629232205828885\n",
      "Generator Loss: [0.35810181498527527, 0.3545665740966797, 0.001767616020515561]\n",
      "2/2 [==============================] - 0s 16ms/step\n",
      "Discriminator Loss: 0.1696813661037595\n",
      "Generator Loss: [0.48344147205352783, 0.4801284074783325, 0.0016565325204283]\n",
      "2/2 [==============================] - 0s 15ms/step\n",
      "Discriminator Loss: 0.16883946843336162\n",
      "Generator Loss: [0.5898046493530273, 0.5868469476699829, 0.0014788387343287468]\n",
      "2/2 [==============================] - 0s 16ms/step\n",
      "Discriminator Loss: 0.1704224468776374\n",
      "Generator Loss: [0.32950901985168457, 0.3267844319343567, 0.0013622981496155262]\n",
      "2/2 [==============================] - 0s 15ms/step\n",
      "Discriminator Loss: 0.1737145503825559\n",
      "Generator Loss: [0.5765804648399353, 0.5733126997947693, 0.0016338926507160068]\n",
      "2/2 [==============================] - 0s 15ms/step\n",
      "Discriminator Loss: 0.1645143100686255\n",
      "Generator Loss: [0.37111467123031616, 0.3680640459060669, 0.0015253154560923576]\n",
      "2/2 [==============================] - 0s 15ms/step\n",
      "Discriminator Loss: 0.1653526455957035\n",
      "Generator Loss: [0.46478164196014404, 0.46190589666366577, 0.0014378746272996068]\n",
      "2/2 [==============================] - 0s 15ms/step\n",
      "Discriminator Loss: 0.1673555578890955\n",
      "Generator Loss: [0.37564337253570557, 0.37283533811569214, 0.0014040111564099789]\n",
      "2/2 [==============================] - 0s 15ms/step\n",
      "Discriminator Loss: 0.1679505844635969\n",
      "Generator Loss: [0.32869669795036316, 0.32639339566230774, 0.0011516548693180084]\n",
      "2/2 [==============================] - 0s 15ms/step\n",
      "Discriminator Loss: 0.1707029881545168\n",
      "Generator Loss: [0.5794463753700256, 0.5774149894714355, 0.001015685498714447]\n",
      "2/2 [==============================] - 0s 15ms/step\n",
      "Discriminator Loss: 0.171544019229259\n",
      "Generator Loss: [0.3611450493335724, 0.3590935170650482, 0.0010257619433104992]\n",
      "2/2 [==============================] - 0s 15ms/step\n",
      "Discriminator Loss: 0.16831346615072107\n",
      "Generator Loss: [0.328950971364975, 0.32630449533462524, 0.0013232443016022444]\n",
      "2/2 [==============================] - 0s 15ms/step\n",
      "Discriminator Loss: 0.1684205347301031\n",
      "Generator Loss: [0.38553130626678467, 0.38334670662879944, 0.0010923072695732117]\n",
      "2/2 [==============================] - 0s 15ms/step\n",
      "Discriminator Loss: 0.17503701034002006\n",
      "Generator Loss: [0.46602490544319153, 0.46427327394485474, 0.0008758167386986315]\n",
      "2/2 [==============================] - 0s 15ms/step\n",
      "Discriminator Loss: 0.16523298245101614\n",
      "Generator Loss: [0.3289932608604431, 0.326999694108963, 0.0009967894293367863]\n",
      "2/2 [==============================] - 0s 15ms/step\n",
      "Discriminator Loss: 0.16686512809246778\n",
      "Generator Loss: [0.34632188081741333, 0.3441823124885559, 0.0010697771795094013]\n",
      "2/2 [==============================] - 0s 15ms/step\n",
      "Discriminator Loss: 0.1705100285471417\n",
      "Generator Loss: [0.32831674814224243, 0.3262560963630676, 0.0010303216986358166]\n",
      "2/2 [==============================] - 0s 15ms/step\n",
      "Discriminator Loss: 0.17666365961940755\n",
      "Generator Loss: [0.37466296553611755, 0.372514009475708, 0.0010744724422693253]\n",
      "2/2 [==============================] - 0s 15ms/step\n",
      "Discriminator Loss: 0.16501719544066873\n",
      "Generator Loss: [0.3412926495075226, 0.33885738253593445, 0.001217635115608573]\n",
      "2/2 [==============================] - 0s 15ms/step\n",
      "Discriminator Loss: 0.1639950064372897\n",
      "Generator Loss: [0.32837116718292236, 0.3258260488510132, 0.0012725616106763482]\n",
      "2/2 [==============================] - 0s 16ms/step\n",
      "Discriminator Loss: 0.16729451256105676\n",
      "Generator Loss: [0.33596423268318176, 0.3329336643218994, 0.0015152806881815195]\n",
      "2/2 [==============================] - 0s 16ms/step\n",
      "Discriminator Loss: 0.17265650756507966\n",
      "Generator Loss: [0.3429013192653656, 0.34026283025741577, 0.001319242175668478]\n",
      "2/2 [==============================] - 0s 15ms/step\n",
      "Discriminator Loss: 0.16757014792710834\n",
      "Generator Loss: [0.33572977781295776, 0.3330684304237366, 0.0013306743931025267]\n",
      "2/2 [==============================] - 0s 15ms/step\n",
      "Discriminator Loss: 0.1710608350849725\n",
      "Generator Loss: [0.3464379906654358, 0.3439596891403198, 0.0012391468044370413]\n",
      "2/2 [==============================] - 0s 15ms/step\n",
      "Discriminator Loss: 0.17474359110565274\n",
      "Generator Loss: [0.356706827878952, 0.35430699586868286, 0.0011999154230579734]\n",
      "2/2 [==============================] - 0s 15ms/step\n",
      "Discriminator Loss: 0.20019128894819005\n",
      "Generator Loss: [0.32882454991340637, 0.32676178216934204, 0.0010313820093870163]\n",
      "2/2 [==============================] - 0s 15ms/step\n",
      "Discriminator Loss: 0.18401424686317114\n",
      "Generator Loss: [0.3343174457550049, 0.3320349454879761, 0.001141248270869255]\n",
      "2/2 [==============================] - 0s 15ms/step\n",
      "Discriminator Loss: 0.16844980547739397\n",
      "Generator Loss: [0.3340419828891754, 0.33214646577835083, 0.0009477578569203615]\n",
      "2/2 [==============================] - 0s 16ms/step\n",
      "Discriminator Loss: 0.17821657978925032\n",
      "Generator Loss: [0.32861512899398804, 0.3263137638568878, 0.0011506816372275352]\n",
      "2/2 [==============================] - 0s 15ms/step\n",
      "Discriminator Loss: 0.16704464296344668\n",
      "Generator Loss: [0.3283906579017639, 0.3259246349334717, 0.0012330107856541872]\n",
      "2/2 [==============================] - 0s 15ms/step\n",
      "Discriminator Loss: 0.1645425844571946\n",
      "Generator Loss: [0.3296026587486267, 0.3272126317024231, 0.001195012591779232]\n",
      "2/2 [==============================] - 0s 15ms/step\n",
      "Discriminator Loss: 0.16518767700017634\n",
      "Generator Loss: [0.339758038520813, 0.3376295566558838, 0.0010642360430210829]\n",
      "2/2 [==============================] - 0s 15ms/step\n",
      "Discriminator Loss: 0.16480431999025313\n",
      "Generator Loss: [0.328329473733902, 0.32633304595947266, 0.0009982195915654302]\n",
      "2/2 [==============================] - 0s 15ms/step\n",
      "Discriminator Loss: 0.16405295146432763\n",
      "Generator Loss: [0.32965418696403503, 0.3272745609283447, 0.0011898103402927518]\n",
      "2/2 [==============================] - 0s 15ms/step\n",
      "Discriminator Loss: 0.16327945980401637\n",
      "Generator Loss: [0.3293513059616089, 0.32701829075813293, 0.0011665041092783213]\n",
      "2/2 [==============================] - 0s 15ms/step\n",
      "Discriminator Loss: 0.16489734790593502\n",
      "Generator Loss: [0.3289366364479065, 0.3265603184700012, 0.001188161550089717]\n",
      "2/2 [==============================] - 0s 15ms/step\n",
      "Discriminator Loss: 0.17089984378526424\n",
      "Generator Loss: [0.3332749307155609, 0.33038991689682007, 0.0014425020199269056]\n",
      "2/2 [==============================] - 0s 15ms/step\n",
      "Discriminator Loss: 0.16514838548482658\n",
      "Generator Loss: [0.33145949244499207, 0.3285350799560547, 0.0014622006565332413]\n",
      "2/2 [==============================] - 0s 15ms/step\n",
      "Discriminator Loss: 0.1652723545889785\n",
      "Generator Loss: [0.3509291112422943, 0.34854650497436523, 0.001191309536807239]\n",
      "2/2 [==============================] - 0s 15ms/step\n",
      "Discriminator Loss: 0.16344627539638168\n",
      "Generator Loss: [0.33354634046554565, 0.3307347893714905, 0.0014057697262614965]\n",
      "2/2 [==============================] - 0s 14ms/step\n",
      "Discriminator Loss: 0.16395492095534792\n",
      "Generator Loss: [0.32879501581192017, 0.326610267162323, 0.0010923768859356642]\n",
      "2/2 [==============================] - 0s 15ms/step\n",
      "Discriminator Loss: 0.16352699317212682\n",
      "Generator Loss: [0.3322661221027374, 0.330324649810791, 0.0009707407443784177]\n",
      "2/2 [==============================] - 0s 15ms/step\n",
      "Discriminator Loss: 0.1643755769746349\n",
      "Generator Loss: [0.33132657408714294, 0.3290567100048065, 0.0011349334381520748]\n",
      "2/2 [==============================] - 0s 15ms/step\n",
      "Discriminator Loss: 0.16721615435108106\n",
      "Generator Loss: [0.3287225663661957, 0.3269065022468567, 0.0009080279269255698]\n",
      "2/2 [==============================] - 0s 15ms/step\n",
      "Discriminator Loss: 0.17796543770555218\n",
      "Generator Loss: [0.3321601450443268, 0.3304215371608734, 0.0008693070849403739]\n",
      "2/2 [==============================] - 0s 15ms/step\n",
      "Discriminator Loss: 0.165336628586374\n",
      "Generator Loss: [0.34636110067367554, 0.34441351890563965, 0.0009737927466630936]\n",
      "2/2 [==============================] - 0s 15ms/step\n",
      "Discriminator Loss: 0.16713601384344656\n",
      "Generator Loss: [0.3278142213821411, 0.32572853565216064, 0.0010428433306515217]\n",
      "Epoch: 9\n",
      "2/2 [==============================] - 0s 15ms/step\n",
      "Discriminator Loss: 0.17346088199246879\n",
      "Generator Loss: [0.3293415606021881, 0.32647496461868286, 0.00143329706043005]\n",
      "2/2 [==============================] - 0s 15ms/step\n",
      "Discriminator Loss: 0.16405017422857782\n",
      "Generator Loss: [0.33711951971054077, 0.3339877724647522, 0.0015658694319427013]\n",
      "2/2 [==============================] - 0s 15ms/step\n",
      "Discriminator Loss: 0.16619729440753872\n",
      "Generator Loss: [0.3474560081958771, 0.3446080684661865, 0.0014239680022001266]\n",
      "2/2 [==============================] - 0s 15ms/step\n",
      "Discriminator Loss: 0.16798412765365356\n",
      "Generator Loss: [0.3664599359035492, 0.36362358927726746, 0.0014181789010763168]\n",
      "2/2 [==============================] - 0s 15ms/step\n",
      "Discriminator Loss: 0.16891238875177805\n",
      "Generator Loss: [0.40448862314224243, 0.40192243456840515, 0.0012830880004912615]\n",
      "2/2 [==============================] - 0s 16ms/step\n",
      "Discriminator Loss: 0.17615019696336276\n",
      "Generator Loss: [0.3292817175388336, 0.3266525864601135, 0.0013145589036867023]\n",
      "2/2 [==============================] - 0s 16ms/step\n",
      "Discriminator Loss: 0.177977960048338\n",
      "Generator Loss: [0.3439483642578125, 0.34177011251449585, 0.001089127967134118]\n",
      "2/2 [==============================] - 0s 14ms/step\n",
      "Discriminator Loss: 0.16628069044236327\n",
      "Generator Loss: [0.3322685956954956, 0.3291756808757782, 0.0015464554307982326]\n",
      "2/2 [==============================] - 0s 15ms/step\n",
      "Discriminator Loss: 0.1662439206511408\n",
      "Generator Loss: [0.3428998589515686, 0.33915579319000244, 0.0018720263615250587]\n",
      "2/2 [==============================] - 0s 15ms/step\n",
      "Discriminator Loss: 0.17139271610176365\n",
      "Generator Loss: [0.3290804922580719, 0.32607293128967285, 0.001503785140812397]\n",
      "2/2 [==============================] - 0s 15ms/step\n",
      "Discriminator Loss: 0.16461949552558508\n",
      "Generator Loss: [0.32885047793388367, 0.32654452323913574, 0.001152983051724732]\n",
      "2/2 [==============================] - 0s 16ms/step\n",
      "Discriminator Loss: 0.1639165457781928\n",
      "Generator Loss: [0.3425176441669464, 0.3402796685695648, 0.0011189815122634172]\n",
      "2/2 [==============================] - 0s 15ms/step\n",
      "Discriminator Loss: 0.1632922416420115\n",
      "Generator Loss: [0.3354146480560303, 0.3331941068172455, 0.00111026456579566]\n",
      "2/2 [==============================] - 0s 15ms/step\n",
      "Discriminator Loss: 0.1635074349833303\n",
      "Generator Loss: [0.33222541213035583, 0.33049893379211426, 0.0008632458630017936]\n",
      "2/2 [==============================] - 0s 15ms/step\n",
      "Discriminator Loss: 0.16476848898309981\n",
      "Generator Loss: [0.33403873443603516, 0.33016619086265564, 0.0019362751627340913]\n",
      "2/2 [==============================] - 0s 16ms/step\n",
      "Discriminator Loss: 0.16960439381182368\n",
      "Generator Loss: [0.3386155366897583, 0.33517420291900635, 0.0017206675838679075]\n",
      "2/2 [==============================] - 0s 14ms/step\n",
      "Discriminator Loss: 0.1688822769701801\n",
      "Generator Loss: [0.32882773876190186, 0.3259774148464203, 0.0014251613756641746]\n",
      "2/2 [==============================] - 0s 15ms/step\n",
      "Discriminator Loss: 0.1793859696886102\n",
      "Generator Loss: [0.3289545476436615, 0.32685399055480957, 0.0010502733057364821]\n",
      "2/2 [==============================] - 0s 15ms/step\n",
      "Discriminator Loss: 0.16426024391967076\n",
      "Generator Loss: [0.33656516671180725, 0.33422285318374634, 0.00117115315515548]\n",
      "2/2 [==============================] - 0s 15ms/step\n",
      "Discriminator Loss: 0.16570592376592685\n",
      "Generator Loss: [0.34774550795555115, 0.34517714381217957, 0.0012841878924518824]\n",
      "2/2 [==============================] - 0s 15ms/step\n",
      "Discriminator Loss: 0.1668502236398126\n",
      "Generator Loss: [0.3409408926963806, 0.3389551639556885, 0.000992866000160575]\n",
      "2/2 [==============================] - 0s 15ms/step\n",
      "Discriminator Loss: 0.16597895416703068\n",
      "Generator Loss: [0.3295232653617859, 0.32748937606811523, 0.0010169377783313394]\n",
      "2/2 [==============================] - 0s 15ms/step\n",
      "Discriminator Loss: 0.16517144172530607\n",
      "Generator Loss: [0.3506237268447876, 0.3480808734893799, 0.0012714250478893518]\n",
      "2/2 [==============================] - 0s 15ms/step\n",
      "Discriminator Loss: 0.1674613909749496\n",
      "Generator Loss: [0.3354038894176483, 0.33214524388313293, 0.0016293182270601392]\n",
      "2/2 [==============================] - 0s 15ms/step\n",
      "Discriminator Loss: 0.17821149517294543\n",
      "Generator Loss: [0.33590567111968994, 0.3322877883911133, 0.0018089432269334793]\n",
      "2/2 [==============================] - 0s 15ms/step\n",
      "Discriminator Loss: 0.16424077465035225\n",
      "Generator Loss: [0.3298221826553345, 0.3272363245487213, 0.0012929269578307867]\n",
      "2/2 [==============================] - 0s 15ms/step\n",
      "Discriminator Loss: 0.1648358530637779\n",
      "Generator Loss: [0.33911827206611633, 0.3365580439567566, 0.0012801112607121468]\n",
      "2/2 [==============================] - 0s 15ms/step\n",
      "Discriminator Loss: 0.16701152340510816\n",
      "Generator Loss: [0.3290095031261444, 0.3265370726585388, 0.0012362212873995304]\n",
      "2/2 [==============================] - 0s 15ms/step\n",
      "Discriminator Loss: 0.16458699532267929\n",
      "Generator Loss: [0.3351878523826599, 0.3329269587993622, 0.0011304449290037155]\n",
      "2/2 [==============================] - 0s 15ms/step\n",
      "Discriminator Loss: 0.1663515201530572\n",
      "Generator Loss: [0.3730216920375824, 0.37073907256126404, 0.001141312182880938]\n",
      "2/2 [==============================] - 0s 15ms/step\n",
      "Discriminator Loss: 0.1697826684012398\n",
      "Generator Loss: [0.3772217035293579, 0.3748598098754883, 0.0011809528805315495]\n",
      "2/2 [==============================] - 0s 15ms/step\n",
      "Discriminator Loss: 0.17899102516457788\n",
      "Generator Loss: [0.33660393953323364, 0.33401310443878174, 0.001295415684580803]\n",
      "2/2 [==============================] - 0s 15ms/step\n",
      "Discriminator Loss: 0.1656817985831367\n",
      "Generator Loss: [0.3292801082134247, 0.3269057273864746, 0.0011871933238580823]\n",
      "2/2 [==============================] - 0s 15ms/step\n",
      "Discriminator Loss: 0.16699300825700902\n",
      "Generator Loss: [0.34810370206832886, 0.3452640175819397, 0.0014198387507349253]\n",
      "2/2 [==============================] - 0s 15ms/step\n",
      "Discriminator Loss: 0.1644017693661226\n",
      "Generator Loss: [0.32888269424438477, 0.3259492516517639, 0.0014667254872620106]\n",
      "2/2 [==============================] - 0s 15ms/step\n",
      "Discriminator Loss: 0.16538014256957467\n",
      "Generator Loss: [0.3290535807609558, 0.32610058784484863, 0.001476489007472992]\n",
      "2/2 [==============================] - 0s 15ms/step\n",
      "Discriminator Loss: 0.16317861906782127\n",
      "Generator Loss: [0.3285197615623474, 0.3257952332496643, 0.0013622576370835304]\n",
      "2/2 [==============================] - 0s 15ms/step\n",
      "Discriminator Loss: 0.1632302777577479\n",
      "Generator Loss: [0.3284052908420563, 0.325687438249588, 0.0013589323498308659]\n",
      "2/2 [==============================] - 0s 15ms/step\n",
      "Discriminator Loss: 0.1632412768813083\n",
      "Generator Loss: [0.3285803198814392, 0.32589811086654663, 0.0013411070685833693]\n",
      "2/2 [==============================] - 0s 15ms/step\n",
      "Discriminator Loss: 0.16440831611134854\n",
      "Generator Loss: [0.3314538300037384, 0.32910260558128357, 0.0011756154708564281]\n",
      "2/2 [==============================] - 0s 15ms/step\n",
      "Discriminator Loss: 0.16511702774687365\n",
      "Generator Loss: [0.32889023423194885, 0.32637444138526917, 0.0012578910682350397]\n",
      "2/2 [==============================] - 0s 15ms/step\n",
      "Discriminator Loss: 0.16921621633605355\n",
      "Generator Loss: [0.32996073365211487, 0.32784903049468994, 0.001055845059454441]\n",
      "2/2 [==============================] - 0s 15ms/step\n",
      "Discriminator Loss: 0.16553251734762853\n",
      "Generator Loss: [0.34429770708084106, 0.3414522409439087, 0.0014227315550670028]\n",
      "2/2 [==============================] - 0s 15ms/step\n",
      "Discriminator Loss: 0.1686473812990812\n",
      "Generator Loss: [0.34929195046424866, 0.3467382788658142, 0.0012768422020599246]\n",
      "2/2 [==============================] - 0s 15ms/step\n",
      "Discriminator Loss: 0.16821881997361743\n",
      "Generator Loss: [0.36359310150146484, 0.3610050678253174, 0.0012940231245011091]\n",
      "2/2 [==============================] - 0s 15ms/step\n",
      "Discriminator Loss: 0.16982086332654944\n",
      "Generator Loss: [0.3307414650917053, 0.32825803756713867, 0.00124171725474298]\n",
      "2/2 [==============================] - 0s 15ms/step\n",
      "Discriminator Loss: 0.1666663172072731\n",
      "Generator Loss: [0.32813629508018494, 0.32567983865737915, 0.0012282225070521235]\n",
      "2/2 [==============================] - 0s 15ms/step\n",
      "Discriminator Loss: 0.17460228163690772\n",
      "Generator Loss: [0.32843443751335144, 0.32588720321655273, 0.0012736221542581916]\n",
      "2/2 [==============================] - 0s 15ms/step\n",
      "Discriminator Loss: 0.1635871873158976\n",
      "Generator Loss: [0.3316207230091095, 0.3287634253501892, 0.0014286526711657643]\n",
      "2/2 [==============================] - 0s 16ms/step\n",
      "Discriminator Loss: 0.16585179185040033\n",
      "Generator Loss: [0.34323158860206604, 0.34098711609840393, 0.001122241374105215]\n",
      "2/2 [==============================] - 0s 15ms/step\n",
      "Discriminator Loss: 0.1732519837169093\n",
      "Generator Loss: [0.32956501841545105, 0.3274316191673279, 0.0010667045135051012]\n",
      "2/2 [==============================] - 0s 15ms/step\n",
      "Discriminator Loss: 0.163488931140364\n",
      "Generator Loss: [0.3284688889980316, 0.3267081081867218, 0.0008803918026387691]\n",
      "2/2 [==============================] - 0s 15ms/step\n",
      "Discriminator Loss: 0.16395447806712582\n",
      "Generator Loss: [0.3294675946235657, 0.32717764377593994, 0.0011449747253209352]\n",
      "2/2 [==============================] - 0s 16ms/step\n",
      "Discriminator Loss: 0.1647195972877853\n",
      "Generator Loss: [0.3306645452976227, 0.3284595012664795, 0.0011025207350030541]\n",
      "2/2 [==============================] - 0s 16ms/step\n",
      "Discriminator Loss: 0.16971096221550397\n",
      "Generator Loss: [0.32830554246902466, 0.3257973790168762, 0.0012540871975943446]\n",
      "2/2 [==============================] - 0s 15ms/step\n",
      "Discriminator Loss: 0.16635800315634697\n",
      "Generator Loss: [0.3321501910686493, 0.32994788885116577, 0.0011011459864675999]\n",
      "2/2 [==============================] - 0s 15ms/step\n",
      "Discriminator Loss: 0.17522609674472278\n",
      "Generator Loss: [0.3527825176715851, 0.35008904337882996, 0.001346731442026794]\n",
      "2/2 [==============================] - 0s 15ms/step\n",
      "Discriminator Loss: 0.16782723295079904\n",
      "Generator Loss: [0.34452319145202637, 0.3421401381492615, 0.0011915217619389296]\n",
      "2/2 [==============================] - 0s 15ms/step\n",
      "Discriminator Loss: 0.17244193797205298\n",
      "Generator Loss: [0.3644401431083679, 0.3622799813747406, 0.0010800821473821998]\n",
      "2/2 [==============================] - 0s 15ms/step\n",
      "Discriminator Loss: 0.17412051123301353\n",
      "Generator Loss: [0.3855098485946655, 0.3829006552696228, 0.00130460353102535]\n",
      "2/2 [==============================] - 0s 15ms/step\n",
      "Discriminator Loss: 0.19715510500122946\n",
      "Generator Loss: [0.3311464786529541, 0.3292596936225891, 0.000943397986702621]\n",
      "2/2 [==============================] - 0s 15ms/step\n",
      "Discriminator Loss: 0.16871780978567585\n",
      "Generator Loss: [0.3408302068710327, 0.3390228748321533, 0.0009036604315042496]\n",
      "2/2 [==============================] - 0s 15ms/step\n",
      "Discriminator Loss: 0.16679425800066383\n",
      "Generator Loss: [0.3336750566959381, 0.33157604932785034, 0.0010494999587535858]\n",
      "2/2 [==============================] - 0s 15ms/step\n",
      "Discriminator Loss: 0.16466970373994627\n",
      "Generator Loss: [0.3281368315219879, 0.32601025700569153, 0.001063286093994975]\n",
      "2/2 [==============================] - 0s 15ms/step\n",
      "Discriminator Loss: 0.16469252432329995\n",
      "Generator Loss: [0.35270753502845764, 0.34954988956451416, 0.0015788235468789935]\n",
      "2/2 [==============================] - 0s 15ms/step\n",
      "Discriminator Loss: 0.16570454201109897\n",
      "Generator Loss: [0.3615882396697998, 0.35958659648895264, 0.0010008253157138824]\n",
      "2/2 [==============================] - 0s 15ms/step\n",
      "Discriminator Loss: 0.1684067962953577\n",
      "Generator Loss: [0.33524852991104126, 0.3336259722709656, 0.0008112718351185322]\n",
      "2/2 [==============================] - 0s 15ms/step\n",
      "Discriminator Loss: 0.16735177429859505\n",
      "Generator Loss: [0.34163063764572144, 0.3392859399318695, 0.0011723435018211603]\n",
      "2/2 [==============================] - 0s 15ms/step\n",
      "Discriminator Loss: 0.1734233449196836\n",
      "Generator Loss: [0.3475361466407776, 0.34484052658081055, 0.0013478095643222332]\n",
      "2/2 [==============================] - 0s 15ms/step\n",
      "Discriminator Loss: 0.16871641001228\n",
      "Generator Loss: [0.3543027341365814, 0.35177868604660034, 0.001262021018192172]\n",
      "2/2 [==============================] - 0s 15ms/step\n",
      "Discriminator Loss: 0.1740107802406783\n",
      "Generator Loss: [0.3301157057285309, 0.32759785652160645, 0.0012589262332767248]\n",
      "2/2 [==============================] - 0s 15ms/step\n",
      "Discriminator Loss: 0.16857074059771548\n",
      "Generator Loss: [0.3286275267601013, 0.3266594409942627, 0.0009840379934757948]\n",
      "2/2 [==============================] - 0s 15ms/step\n",
      "Discriminator Loss: 0.18010761424329758\n",
      "Generator Loss: [0.33505430817604065, 0.33319541811943054, 0.0009294395567849278]\n",
      "2/2 [==============================] - 0s 15ms/step\n",
      "Discriminator Loss: 0.16344005875316725\n",
      "Generator Loss: [0.3279688358306885, 0.32632124423980713, 0.000823790964204818]\n",
      "2/2 [==============================] - 0s 15ms/step\n",
      "Discriminator Loss: 0.16324002426108564\n",
      "Generator Loss: [0.32799169421195984, 0.3260330557823181, 0.0009793196804821491]\n",
      "2/2 [==============================] - 0s 15ms/step\n",
      "Discriminator Loss: 0.1630569602784817\n",
      "Generator Loss: [0.32972049713134766, 0.32812005281448364, 0.0008002266986295581]\n",
      "2/2 [==============================] - 0s 15ms/step\n",
      "Discriminator Loss: 0.16304092795144243\n",
      "Generator Loss: [0.3275297284126282, 0.32567498087882996, 0.0009273748146370053]\n",
      "2/2 [==============================] - 0s 15ms/step\n",
      "Discriminator Loss: 0.1630000903751352\n",
      "Generator Loss: [0.3295545279979706, 0.3277060091495514, 0.000924256513826549]\n",
      "2/2 [==============================] - 0s 15ms/step\n",
      "Discriminator Loss: 0.16287424542520057\n",
      "Generator Loss: [0.3278631865978241, 0.3261028528213501, 0.0008801691001281142]\n",
      "2/2 [==============================] - 0s 15ms/step\n",
      "Discriminator Loss: 0.16396876519229409\n",
      "Generator Loss: [0.33954063057899475, 0.3378754258155823, 0.0008326078532263637]\n",
      "2/2 [==============================] - 0s 15ms/step\n",
      "Discriminator Loss: 0.16595913126502637\n",
      "Generator Loss: [0.33365070819854736, 0.33177649974823, 0.0009371048654429615]\n",
      "2/2 [==============================] - 0s 15ms/step\n",
      "Discriminator Loss: 0.16449374634953529\n",
      "Generator Loss: [0.3630734980106354, 0.3613649606704712, 0.000854261452332139]\n",
      "2/2 [==============================] - 0s 15ms/step\n",
      "Discriminator Loss: 0.16812406979590833\n",
      "Generator Loss: [0.3603505492210388, 0.3586076498031616, 0.0008714461582712829]\n",
      "2/2 [==============================] - 0s 15ms/step\n",
      "Discriminator Loss: 0.16780281020305665\n",
      "Generator Loss: [0.3362025320529938, 0.33441537618637085, 0.0008935781661421061]\n",
      "2/2 [==============================] - 0s 15ms/step\n",
      "Discriminator Loss: 0.16551053114881142\n",
      "Generator Loss: [0.34398141503334045, 0.342474102973938, 0.0007536591729149222]\n",
      "2/2 [==============================] - 0s 15ms/step\n",
      "Discriminator Loss: 0.16578561339497355\n",
      "Generator Loss: [0.34395137429237366, 0.34230226278305054, 0.0008245490025728941]\n",
      "2/2 [==============================] - 0s 15ms/step\n",
      "Discriminator Loss: 0.1676520534865631\n",
      "Generator Loss: [0.3282485008239746, 0.3260817527770996, 0.001083381474018097]\n",
      "2/2 [==============================] - 0s 15ms/step\n",
      "Discriminator Loss: 0.16372798747374873\n",
      "Generator Loss: [0.34013333916664124, 0.33803731203079224, 0.0010480115888640285]\n",
      "2/2 [==============================] - 0s 15ms/step\n",
      "Discriminator Loss: 0.16387972434858966\n",
      "Generator Loss: [0.3367047607898712, 0.333981454372406, 0.0013616509968414903]\n",
      "2/2 [==============================] - 0s 15ms/step\n",
      "Discriminator Loss: 0.16464444525206545\n",
      "Generator Loss: [0.32984769344329834, 0.3276415467262268, 0.0011030698660761118]\n",
      "2/2 [==============================] - 0s 15ms/step\n",
      "Discriminator Loss: 0.16556803626235705\n",
      "Generator Loss: [0.32847869396209717, 0.32635068893432617, 0.0010639959946274757]\n",
      "2/2 [==============================] - 0s 15ms/step\n",
      "Discriminator Loss: 0.16411808885550272\n",
      "Generator Loss: [0.33804434537887573, 0.33494237065315247, 0.0015509926015511155]\n",
      "2/2 [==============================] - 0s 15ms/step\n",
      "Discriminator Loss: 0.1637204474347982\n",
      "Generator Loss: [0.3313581049442291, 0.32844436168670654, 0.0014568704646080732]\n",
      "2/2 [==============================] - 0s 15ms/step\n",
      "Discriminator Loss: 0.16292606916613295\n",
      "Generator Loss: [0.3286112844944, 0.32598036527633667, 0.0013154668267816305]\n",
      "2/2 [==============================] - 0s 15ms/step\n",
      "Discriminator Loss: 0.1630249025261037\n",
      "Generator Loss: [0.32880958914756775, 0.3265335261821747, 0.0011380339274182916]\n",
      "2/2 [==============================] - 0s 15ms/step\n",
      "Discriminator Loss: 0.16607480124662288\n",
      "Generator Loss: [0.3698650598526001, 0.36705130338668823, 0.0014068740420043468]\n",
      "2/2 [==============================] - 0s 15ms/step\n",
      "Discriminator Loss: 0.172314786901552\n",
      "Generator Loss: [0.38585469126701355, 0.3832143247127533, 0.0013201897963881493]\n",
      "2/2 [==============================] - 0s 15ms/step\n",
      "Discriminator Loss: 0.18268299263490917\n",
      "Generator Loss: [0.5782760977745056, 0.5758254528045654, 0.0012253266759216785]\n",
      "2/2 [==============================] - 0s 15ms/step\n",
      "Discriminator Loss: 0.19596321233984781\n",
      "Generator Loss: [0.3431212604045868, 0.34071773290634155, 0.0012017566477879882]\n",
      "2/2 [==============================] - 0s 15ms/step\n",
      "Discriminator Loss: 0.17046458603908832\n",
      "Generator Loss: [0.3470451831817627, 0.3450925350189209, 0.0009763221605680883]\n",
      "2/2 [==============================] - 0s 15ms/step\n",
      "Discriminator Loss: 0.1639829053037829\n",
      "Generator Loss: [0.35200169682502747, 0.3502993583679199, 0.0008511716732755303]\n",
      "2/2 [==============================] - 0s 15ms/step\n",
      "Discriminator Loss: 0.16486782405081613\n",
      "Generator Loss: [0.3280181586742401, 0.32628506422042847, 0.0008665542118251324]\n",
      "2/2 [==============================] - 0s 15ms/step\n",
      "Discriminator Loss: 0.16515267143631718\n",
      "Generator Loss: [0.33213621377944946, 0.32987838983535767, 0.0011289137182757258]\n",
      "2/2 [==============================] - 0s 15ms/step\n",
      "Discriminator Loss: 0.1642640662831809\n",
      "Generator Loss: [0.3278588652610779, 0.3259669542312622, 0.000945955456700176]\n",
      "2/2 [==============================] - 0s 15ms/step\n",
      "Discriminator Loss: 0.16332933157332263\n",
      "Generator Loss: [0.3272286653518677, 0.32574060559272766, 0.0007440332556143403]\n",
      "2/2 [==============================] - 0s 15ms/step\n",
      "Discriminator Loss: 0.16446798353217673\n",
      "Generator Loss: [0.328906774520874, 0.32721179723739624, 0.000847493764013052]\n",
      "2/2 [==============================] - 0s 15ms/step\n",
      "Discriminator Loss: 0.16538780072778536\n",
      "Generator Loss: [0.327388197183609, 0.3255625367164612, 0.0009128302917815745]\n",
      "2/2 [==============================] - 0s 15ms/step\n",
      "Discriminator Loss: 0.1703317136118585\n",
      "Generator Loss: [0.33054202795028687, 0.3288169801235199, 0.0008625263581052423]\n",
      "2/2 [==============================] - 0s 15ms/step\n",
      "Discriminator Loss: 0.16525368640907345\n",
      "Generator Loss: [0.3284110426902771, 0.32662343978881836, 0.0008938071550801396]\n",
      "2/2 [==============================] - 0s 15ms/step\n",
      "Discriminator Loss: 0.16640242468292854\n",
      "Generator Loss: [0.36784812808036804, 0.36578071117401123, 0.0010337119456380606]\n",
      "2/2 [==============================] - 0s 15ms/step\n",
      "Discriminator Loss: 0.1668379052536011\n",
      "Generator Loss: [0.3363679051399231, 0.33418601751327515, 0.001090943580493331]\n",
      "2/2 [==============================] - 0s 15ms/step\n",
      "Discriminator Loss: 0.16729177045817778\n",
      "Generator Loss: [0.32823121547698975, 0.32563430070877075, 0.001298450049944222]\n",
      "2/2 [==============================] - 0s 15ms/step\n",
      "Discriminator Loss: 0.16562101878980684\n",
      "Generator Loss: [0.33031025528907776, 0.32803022861480713, 0.0011400091461837292]\n",
      "2/2 [==============================] - 0s 15ms/step\n",
      "Discriminator Loss: 0.16979187772585647\n",
      "Generator Loss: [0.3286854326725006, 0.32638639211654663, 0.0011495163198560476]\n",
      "2/2 [==============================] - 0s 15ms/step\n",
      "Discriminator Loss: 0.16336011186785981\n",
      "Generator Loss: [0.32772913575172424, 0.3255996108055115, 0.0010647689923644066]\n",
      "2/2 [==============================] - 0s 15ms/step\n",
      "Discriminator Loss: 0.1639454353589258\n",
      "Generator Loss: [0.3345170319080353, 0.3324350118637085, 0.0010410146787762642]\n",
      "2/2 [==============================] - 0s 15ms/step\n",
      "Discriminator Loss: 0.16464080046080198\n",
      "Generator Loss: [0.33043164014816284, 0.32868269085884094, 0.0008744710357859731]\n",
      "2/2 [==============================] - 0s 15ms/step\n",
      "Discriminator Loss: 0.16769732536135962\n",
      "Generator Loss: [0.3281950354576111, 0.32621386647224426, 0.0009905777405947447]\n",
      "2/2 [==============================] - 0s 15ms/step\n",
      "Discriminator Loss: 0.1639867558108108\n",
      "Generator Loss: [0.3312360346317291, 0.3295847177505493, 0.0008256597211584449]\n",
      "2/2 [==============================] - 0s 15ms/step\n",
      "Discriminator Loss: 0.16391249144032827\n",
      "Generator Loss: [0.36681973934173584, 0.3648253083229065, 0.00099721469450742]\n",
      "2/2 [==============================] - 0s 15ms/step\n",
      "Discriminator Loss: 0.16411832847370533\n",
      "Generator Loss: [0.3332560062408447, 0.3311222195625305, 0.0010668932227417827]\n",
      "2/2 [==============================] - 0s 15ms/step\n",
      "Discriminator Loss: 0.16582669977651676\n",
      "Generator Loss: [0.3297293186187744, 0.32766568660736084, 0.0010318218264728785]\n",
      "2/2 [==============================] - 0s 15ms/step\n",
      "Discriminator Loss: 0.16545687009687526\n",
      "Generator Loss: [0.32881486415863037, 0.32699769735336304, 0.0009085877682082355]\n",
      "2/2 [==============================] - 0s 15ms/step\n",
      "Discriminator Loss: 0.16498805597029786\n",
      "Generator Loss: [0.3290988802909851, 0.3273766338825226, 0.0008611204102635384]\n",
      "2/2 [==============================] - 0s 15ms/step\n",
      "Discriminator Loss: 0.16481022446282623\n",
      "Generator Loss: [0.3279663324356079, 0.3259000778198242, 0.0010331283556297421]\n",
      "2/2 [==============================] - 0s 15ms/step\n",
      "Discriminator Loss: 0.16464595429170004\n",
      "Generator Loss: [0.3281206786632538, 0.32609879970550537, 0.0010109420400112867]\n",
      "2/2 [==============================] - 0s 15ms/step\n",
      "Discriminator Loss: 0.1643017652115759\n",
      "Generator Loss: [0.32839441299438477, 0.32635360956192017, 0.0010204038117080927]\n",
      "2/2 [==============================] - 0s 15ms/step\n",
      "Discriminator Loss: 0.16506979924770349\n",
      "Generator Loss: [0.3280378580093384, 0.32563912868499756, 0.0011993689695373178]\n",
      "2/2 [==============================] - 0s 15ms/step\n",
      "Discriminator Loss: 0.1635676957415626\n",
      "Generator Loss: [0.3302682936191559, 0.3277928829193115, 0.001237702090293169]\n",
      "2/2 [==============================] - 0s 15ms/step\n",
      "Discriminator Loss: 0.1633353531992725\n",
      "Generator Loss: [0.3331490159034729, 0.3311583995819092, 0.0009953011758625507]\n",
      "2/2 [==============================] - 0s 15ms/step\n",
      "Discriminator Loss: 0.1636907965307728\n",
      "Generator Loss: [0.3585459589958191, 0.3561568260192871, 0.0011945610167458653]\n",
      "2/2 [==============================] - 0s 15ms/step\n",
      "Discriminator Loss: 0.16523630265828615\n",
      "Generator Loss: [0.3280174732208252, 0.326170951128006, 0.0009232669253833592]\n",
      "2/2 [==============================] - 0s 15ms/step\n",
      "Discriminator Loss: 0.1655557044211946\n",
      "Generator Loss: [0.3428061902523041, 0.34115904569625854, 0.0008235779823735356]\n",
      "2/2 [==============================] - 0s 15ms/step\n",
      "Discriminator Loss: 0.17126222776118993\n",
      "Generator Loss: [0.328386127948761, 0.32645469903945923, 0.0009657152695581317]\n",
      "2/2 [==============================] - 0s 16ms/step\n",
      "Discriminator Loss: 0.16390347617789303\n",
      "Generator Loss: [0.3306247591972351, 0.32906588912010193, 0.000779434572905302]\n",
      "2/2 [==============================] - 0s 15ms/step\n",
      "Discriminator Loss: 0.164069985930837\n",
      "Generator Loss: [0.3274843096733093, 0.3260173201560974, 0.000733500812202692]\n",
      "2/2 [==============================] - 0s 15ms/step\n",
      "Discriminator Loss: 0.1629991008653633\n",
      "Generator Loss: [0.33184441924095154, 0.33019089698791504, 0.0008267592638731003]\n",
      "2/2 [==============================] - 0s 15ms/step\n",
      "Discriminator Loss: 0.16327731780580734\n",
      "Generator Loss: [0.32834383845329285, 0.3265441656112671, 0.0008998437551781535]\n",
      "Epoch: 10\n",
      "2/2 [==============================] - 0s 15ms/step\n",
      "Discriminator Loss: 0.1650824344501416\n"
     ]
    },
    {
     "name": "stderr",
     "output_type": "stream",
     "text": [
      "WARNING:matplotlib.image:Clipping input data to the valid range for imshow with RGB data ([0..1] for floats or [0..255] for integers).\n",
      "WARNING:matplotlib.image:Clipping input data to the valid range for imshow with RGB data ([0..1] for floats or [0..255] for integers).\n"
     ]
    },
    {
     "name": "stdout",
     "output_type": "stream",
     "text": [
      "Generator Loss: [0.349570631980896, 0.3471940755844116, 0.0011882728431373835]\n"
     ]
    },
    {
     "name": "stderr",
     "output_type": "stream",
     "text": [
      "WARNING:matplotlib.image:Clipping input data to the valid range for imshow with RGB data ([0..1] for floats or [0..255] for integers).\n",
      "WARNING:matplotlib.image:Clipping input data to the valid range for imshow with RGB data ([0..1] for floats or [0..255] for integers).\n",
      "WARNING:matplotlib.image:Clipping input data to the valid range for imshow with RGB data ([0..1] for floats or [0..255] for integers).\n",
      "WARNING:matplotlib.image:Clipping input data to the valid range for imshow with RGB data ([0..1] for floats or [0..255] for integers).\n",
      "WARNING:matplotlib.image:Clipping input data to the valid range for imshow with RGB data ([0..1] for floats or [0..255] for integers).\n",
      "WARNING:matplotlib.image:Clipping input data to the valid range for imshow with RGB data ([0..1] for floats or [0..255] for integers).\n",
      "WARNING:matplotlib.image:Clipping input data to the valid range for imshow with RGB data ([0..1] for floats or [0..255] for integers).\n",
      "WARNING:matplotlib.image:Clipping input data to the valid range for imshow with RGB data ([0..1] for floats or [0..255] for integers).\n"
     ]
    },
    {
     "name": "stdout",
     "output_type": "stream",
     "text": [
      "2/2 [==============================] - 0s 15ms/step\n",
      "Discriminator Loss: 0.16782294503082085\n"
     ]
    },
    {
     "name": "stderr",
     "output_type": "stream",
     "text": [
      "WARNING:matplotlib.image:Clipping input data to the valid range for imshow with RGB data ([0..1] for floats or [0..255] for integers).\n",
      "WARNING:matplotlib.image:Clipping input data to the valid range for imshow with RGB data ([0..1] for floats or [0..255] for integers).\n"
     ]
    },
    {
     "name": "stdout",
     "output_type": "stream",
     "text": [
      "Generator Loss: [0.32981517910957336, 0.3272801637649536, 0.001267510000616312]\n"
     ]
    },
    {
     "name": "stderr",
     "output_type": "stream",
     "text": [
      "WARNING:matplotlib.image:Clipping input data to the valid range for imshow with RGB data ([0..1] for floats or [0..255] for integers).\n",
      "WARNING:matplotlib.image:Clipping input data to the valid range for imshow with RGB data ([0..1] for floats or [0..255] for integers).\n",
      "WARNING:matplotlib.image:Clipping input data to the valid range for imshow with RGB data ([0..1] for floats or [0..255] for integers).\n",
      "WARNING:matplotlib.image:Clipping input data to the valid range for imshow with RGB data ([0..1] for floats or [0..255] for integers).\n",
      "WARNING:matplotlib.image:Clipping input data to the valid range for imshow with RGB data ([0..1] for floats or [0..255] for integers).\n",
      "WARNING:matplotlib.image:Clipping input data to the valid range for imshow with RGB data ([0..1] for floats or [0..255] for integers).\n",
      "WARNING:matplotlib.image:Clipping input data to the valid range for imshow with RGB data ([0..1] for floats or [0..255] for integers).\n",
      "WARNING:matplotlib.image:Clipping input data to the valid range for imshow with RGB data ([0..1] for floats or [0..255] for integers).\n"
     ]
    },
    {
     "name": "stdout",
     "output_type": "stream",
     "text": [
      "2/2 [==============================] - 0s 15ms/step\n",
      "Discriminator Loss: 0.1699772397050765\n"
     ]
    },
    {
     "name": "stderr",
     "output_type": "stream",
     "text": [
      "WARNING:matplotlib.image:Clipping input data to the valid range for imshow with RGB data ([0..1] for floats or [0..255] for integers).\n",
      "WARNING:matplotlib.image:Clipping input data to the valid range for imshow with RGB data ([0..1] for floats or [0..255] for integers).\n"
     ]
    },
    {
     "name": "stdout",
     "output_type": "stream",
     "text": [
      "Generator Loss: [0.32890400290489197, 0.32656970620155334, 0.0011671483516693115]\n"
     ]
    },
    {
     "name": "stderr",
     "output_type": "stream",
     "text": [
      "WARNING:matplotlib.image:Clipping input data to the valid range for imshow with RGB data ([0..1] for floats or [0..255] for integers).\n",
      "WARNING:matplotlib.image:Clipping input data to the valid range for imshow with RGB data ([0..1] for floats or [0..255] for integers).\n",
      "WARNING:matplotlib.image:Clipping input data to the valid range for imshow with RGB data ([0..1] for floats or [0..255] for integers).\n",
      "WARNING:matplotlib.image:Clipping input data to the valid range for imshow with RGB data ([0..1] for floats or [0..255] for integers).\n",
      "WARNING:matplotlib.image:Clipping input data to the valid range for imshow with RGB data ([0..1] for floats or [0..255] for integers).\n",
      "WARNING:matplotlib.image:Clipping input data to the valid range for imshow with RGB data ([0..1] for floats or [0..255] for integers).\n",
      "WARNING:matplotlib.image:Clipping input data to the valid range for imshow with RGB data ([0..1] for floats or [0..255] for integers).\n",
      "WARNING:matplotlib.image:Clipping input data to the valid range for imshow with RGB data ([0..1] for floats or [0..255] for integers).\n"
     ]
    },
    {
     "name": "stdout",
     "output_type": "stream",
     "text": [
      "2/2 [==============================] - 0s 15ms/step\n",
      "Discriminator Loss: 0.18600664493897057\n"
     ]
    },
    {
     "name": "stderr",
     "output_type": "stream",
     "text": [
      "WARNING:matplotlib.image:Clipping input data to the valid range for imshow with RGB data ([0..1] for floats or [0..255] for integers).\n",
      "WARNING:matplotlib.image:Clipping input data to the valid range for imshow with RGB data ([0..1] for floats or [0..255] for integers).\n"
     ]
    },
    {
     "name": "stdout",
     "output_type": "stream",
     "text": [
      "Generator Loss: [0.32875779271125793, 0.3264427185058594, 0.0011575422249734402]\n"
     ]
    },
    {
     "name": "stderr",
     "output_type": "stream",
     "text": [
      "WARNING:matplotlib.image:Clipping input data to the valid range for imshow with RGB data ([0..1] for floats or [0..255] for integers).\n",
      "WARNING:matplotlib.image:Clipping input data to the valid range for imshow with RGB data ([0..1] for floats or [0..255] for integers).\n",
      "WARNING:matplotlib.image:Clipping input data to the valid range for imshow with RGB data ([0..1] for floats or [0..255] for integers).\n",
      "WARNING:matplotlib.image:Clipping input data to the valid range for imshow with RGB data ([0..1] for floats or [0..255] for integers).\n",
      "WARNING:matplotlib.image:Clipping input data to the valid range for imshow with RGB data ([0..1] for floats or [0..255] for integers).\n",
      "WARNING:matplotlib.image:Clipping input data to the valid range for imshow with RGB data ([0..1] for floats or [0..255] for integers).\n",
      "WARNING:matplotlib.image:Clipping input data to the valid range for imshow with RGB data ([0..1] for floats or [0..255] for integers).\n",
      "WARNING:matplotlib.image:Clipping input data to the valid range for imshow with RGB data ([0..1] for floats or [0..255] for integers).\n"
     ]
    },
    {
     "name": "stdout",
     "output_type": "stream",
     "text": [
      "2/2 [==============================] - 0s 15ms/step\n",
      "Discriminator Loss: 0.16845972325006642\n"
     ]
    },
    {
     "name": "stderr",
     "output_type": "stream",
     "text": [
      "WARNING:matplotlib.image:Clipping input data to the valid range for imshow with RGB data ([0..1] for floats or [0..255] for integers).\n",
      "WARNING:matplotlib.image:Clipping input data to the valid range for imshow with RGB data ([0..1] for floats or [0..255] for integers).\n"
     ]
    },
    {
     "name": "stdout",
     "output_type": "stream",
     "text": [
      "Generator Loss: [0.3404940366744995, 0.33841314911842346, 0.0010404482018202543]\n"
     ]
    },
    {
     "name": "stderr",
     "output_type": "stream",
     "text": [
      "WARNING:matplotlib.image:Clipping input data to the valid range for imshow with RGB data ([0..1] for floats or [0..255] for integers).\n",
      "WARNING:matplotlib.image:Clipping input data to the valid range for imshow with RGB data ([0..1] for floats or [0..255] for integers).\n",
      "WARNING:matplotlib.image:Clipping input data to the valid range for imshow with RGB data ([0..1] for floats or [0..255] for integers).\n",
      "WARNING:matplotlib.image:Clipping input data to the valid range for imshow with RGB data ([0..1] for floats or [0..255] for integers).\n",
      "WARNING:matplotlib.image:Clipping input data to the valid range for imshow with RGB data ([0..1] for floats or [0..255] for integers).\n",
      "WARNING:matplotlib.image:Clipping input data to the valid range for imshow with RGB data ([0..1] for floats or [0..255] for integers).\n",
      "WARNING:matplotlib.image:Clipping input data to the valid range for imshow with RGB data ([0..1] for floats or [0..255] for integers).\n",
      "WARNING:matplotlib.image:Clipping input data to the valid range for imshow with RGB data ([0..1] for floats or [0..255] for integers).\n"
     ]
    },
    {
     "name": "stdout",
     "output_type": "stream",
     "text": [
      "2/2 [==============================] - 0s 15ms/step\n",
      "Discriminator Loss: 0.16679122864638884\n"
     ]
    },
    {
     "name": "stderr",
     "output_type": "stream",
     "text": [
      "WARNING:matplotlib.image:Clipping input data to the valid range for imshow with RGB data ([0..1] for floats or [0..255] for integers).\n",
      "WARNING:matplotlib.image:Clipping input data to the valid range for imshow with RGB data ([0..1] for floats or [0..255] for integers).\n"
     ]
    },
    {
     "name": "stdout",
     "output_type": "stream",
     "text": [
      "Generator Loss: [0.33168163895606995, 0.329505980014801, 0.0010878229513764381]\n"
     ]
    },
    {
     "name": "stderr",
     "output_type": "stream",
     "text": [
      "WARNING:matplotlib.image:Clipping input data to the valid range for imshow with RGB data ([0..1] for floats or [0..255] for integers).\n",
      "WARNING:matplotlib.image:Clipping input data to the valid range for imshow with RGB data ([0..1] for floats or [0..255] for integers).\n",
      "WARNING:matplotlib.image:Clipping input data to the valid range for imshow with RGB data ([0..1] for floats or [0..255] for integers).\n",
      "WARNING:matplotlib.image:Clipping input data to the valid range for imshow with RGB data ([0..1] for floats or [0..255] for integers).\n",
      "WARNING:matplotlib.image:Clipping input data to the valid range for imshow with RGB data ([0..1] for floats or [0..255] for integers).\n",
      "WARNING:matplotlib.image:Clipping input data to the valid range for imshow with RGB data ([0..1] for floats or [0..255] for integers).\n",
      "WARNING:matplotlib.image:Clipping input data to the valid range for imshow with RGB data ([0..1] for floats or [0..255] for integers).\n",
      "WARNING:matplotlib.image:Clipping input data to the valid range for imshow with RGB data ([0..1] for floats or [0..255] for integers).\n"
     ]
    },
    {
     "name": "stdout",
     "output_type": "stream",
     "text": [
      "2/2 [==============================] - 0s 15ms/step\n",
      "Discriminator Loss: 0.16498785443639008\n"
     ]
    },
    {
     "name": "stderr",
     "output_type": "stream",
     "text": [
      "WARNING:matplotlib.image:Clipping input data to the valid range for imshow with RGB data ([0..1] for floats or [0..255] for integers).\n",
      "WARNING:matplotlib.image:Clipping input data to the valid range for imshow with RGB data ([0..1] for floats or [0..255] for integers).\n"
     ]
    },
    {
     "name": "stdout",
     "output_type": "stream",
     "text": [
      "Generator Loss: [0.32930752635002136, 0.32752904295921326, 0.0008892389596439898]\n"
     ]
    },
    {
     "name": "stderr",
     "output_type": "stream",
     "text": [
      "WARNING:matplotlib.image:Clipping input data to the valid range for imshow with RGB data ([0..1] for floats or [0..255] for integers).\n",
      "WARNING:matplotlib.image:Clipping input data to the valid range for imshow with RGB data ([0..1] for floats or [0..255] for integers).\n",
      "WARNING:matplotlib.image:Clipping input data to the valid range for imshow with RGB data ([0..1] for floats or [0..255] for integers).\n",
      "WARNING:matplotlib.image:Clipping input data to the valid range for imshow with RGB data ([0..1] for floats or [0..255] for integers).\n",
      "WARNING:matplotlib.image:Clipping input data to the valid range for imshow with RGB data ([0..1] for floats or [0..255] for integers).\n",
      "WARNING:matplotlib.image:Clipping input data to the valid range for imshow with RGB data ([0..1] for floats or [0..255] for integers).\n",
      "WARNING:matplotlib.image:Clipping input data to the valid range for imshow with RGB data ([0..1] for floats or [0..255] for integers).\n",
      "WARNING:matplotlib.image:Clipping input data to the valid range for imshow with RGB data ([0..1] for floats or [0..255] for integers).\n"
     ]
    },
    {
     "name": "stdout",
     "output_type": "stream",
     "text": [
      "2/2 [==============================] - 0s 15ms/step\n",
      "Discriminator Loss: 0.16331208209453507\n"
     ]
    },
    {
     "name": "stderr",
     "output_type": "stream",
     "text": [
      "WARNING:matplotlib.image:Clipping input data to the valid range for imshow with RGB data ([0..1] for floats or [0..255] for integers).\n",
      "WARNING:matplotlib.image:Clipping input data to the valid range for imshow with RGB data ([0..1] for floats or [0..255] for integers).\n"
     ]
    },
    {
     "name": "stdout",
     "output_type": "stream",
     "text": [
      "Generator Loss: [0.3292350769042969, 0.32655516266822815, 0.0013399519957602024]\n"
     ]
    },
    {
     "name": "stderr",
     "output_type": "stream",
     "text": [
      "WARNING:matplotlib.image:Clipping input data to the valid range for imshow with RGB data ([0..1] for floats or [0..255] for integers).\n",
      "WARNING:matplotlib.image:Clipping input data to the valid range for imshow with RGB data ([0..1] for floats or [0..255] for integers).\n",
      "WARNING:matplotlib.image:Clipping input data to the valid range for imshow with RGB data ([0..1] for floats or [0..255] for integers).\n",
      "WARNING:matplotlib.image:Clipping input data to the valid range for imshow with RGB data ([0..1] for floats or [0..255] for integers).\n",
      "WARNING:matplotlib.image:Clipping input data to the valid range for imshow with RGB data ([0..1] for floats or [0..255] for integers).\n",
      "WARNING:matplotlib.image:Clipping input data to the valid range for imshow with RGB data ([0..1] for floats or [0..255] for integers).\n",
      "WARNING:matplotlib.image:Clipping input data to the valid range for imshow with RGB data ([0..1] for floats or [0..255] for integers).\n",
      "WARNING:matplotlib.image:Clipping input data to the valid range for imshow with RGB data ([0..1] for floats or [0..255] for integers).\n"
     ]
    },
    {
     "name": "stdout",
     "output_type": "stream",
     "text": [
      "2/2 [==============================] - 0s 15ms/step\n",
      "Discriminator Loss: 0.16680414535221644\n"
     ]
    },
    {
     "name": "stderr",
     "output_type": "stream",
     "text": [
      "WARNING:matplotlib.image:Clipping input data to the valid range for imshow with RGB data ([0..1] for floats or [0..255] for integers).\n",
      "WARNING:matplotlib.image:Clipping input data to the valid range for imshow with RGB data ([0..1] for floats or [0..255] for integers).\n"
     ]
    },
    {
     "name": "stdout",
     "output_type": "stream",
     "text": [
      "Generator Loss: [0.33617326617240906, 0.3329398036003113, 0.0016167263966053724]\n"
     ]
    },
    {
     "name": "stderr",
     "output_type": "stream",
     "text": [
      "WARNING:matplotlib.image:Clipping input data to the valid range for imshow with RGB data ([0..1] for floats or [0..255] for integers).\n",
      "WARNING:matplotlib.image:Clipping input data to the valid range for imshow with RGB data ([0..1] for floats or [0..255] for integers).\n",
      "WARNING:matplotlib.image:Clipping input data to the valid range for imshow with RGB data ([0..1] for floats or [0..255] for integers).\n",
      "WARNING:matplotlib.image:Clipping input data to the valid range for imshow with RGB data ([0..1] for floats or [0..255] for integers).\n",
      "WARNING:matplotlib.image:Clipping input data to the valid range for imshow with RGB data ([0..1] for floats or [0..255] for integers).\n",
      "WARNING:matplotlib.image:Clipping input data to the valid range for imshow with RGB data ([0..1] for floats or [0..255] for integers).\n",
      "WARNING:matplotlib.image:Clipping input data to the valid range for imshow with RGB data ([0..1] for floats or [0..255] for integers).\n",
      "WARNING:matplotlib.image:Clipping input data to the valid range for imshow with RGB data ([0..1] for floats or [0..255] for integers).\n"
     ]
    },
    {
     "name": "stdout",
     "output_type": "stream",
     "text": [
      "2/2 [==============================] - 0s 15ms/step\n",
      "Discriminator Loss: 0.17808512269334642\n"
     ]
    },
    {
     "name": "stderr",
     "output_type": "stream",
     "text": [
      "WARNING:matplotlib.image:Clipping input data to the valid range for imshow with RGB data ([0..1] for floats or [0..255] for integers).\n",
      "WARNING:matplotlib.image:Clipping input data to the valid range for imshow with RGB data ([0..1] for floats or [0..255] for integers).\n"
     ]
    },
    {
     "name": "stdout",
     "output_type": "stream",
     "text": [
      "Generator Loss: [0.3309853971004486, 0.32845598459243774, 0.0012647053226828575]\n"
     ]
    },
    {
     "name": "stderr",
     "output_type": "stream",
     "text": [
      "WARNING:matplotlib.image:Clipping input data to the valid range for imshow with RGB data ([0..1] for floats or [0..255] for integers).\n",
      "WARNING:matplotlib.image:Clipping input data to the valid range for imshow with RGB data ([0..1] for floats or [0..255] for integers).\n",
      "WARNING:matplotlib.image:Clipping input data to the valid range for imshow with RGB data ([0..1] for floats or [0..255] for integers).\n",
      "WARNING:matplotlib.image:Clipping input data to the valid range for imshow with RGB data ([0..1] for floats or [0..255] for integers).\n",
      "WARNING:matplotlib.image:Clipping input data to the valid range for imshow with RGB data ([0..1] for floats or [0..255] for integers).\n",
      "WARNING:matplotlib.image:Clipping input data to the valid range for imshow with RGB data ([0..1] for floats or [0..255] for integers).\n",
      "WARNING:matplotlib.image:Clipping input data to the valid range for imshow with RGB data ([0..1] for floats or [0..255] for integers).\n",
      "WARNING:matplotlib.image:Clipping input data to the valid range for imshow with RGB data ([0..1] for floats or [0..255] for integers).\n"
     ]
    },
    {
     "name": "stdout",
     "output_type": "stream",
     "text": [
      "2/2 [==============================] - 0s 16ms/step\n",
      "Discriminator Loss: 0.16829663959458685\n"
     ]
    },
    {
     "name": "stderr",
     "output_type": "stream",
     "text": [
      "WARNING:matplotlib.image:Clipping input data to the valid range for imshow with RGB data ([0..1] for floats or [0..255] for integers).\n",
      "WARNING:matplotlib.image:Clipping input data to the valid range for imshow with RGB data ([0..1] for floats or [0..255] for integers).\n"
     ]
    },
    {
     "name": "stdout",
     "output_type": "stream",
     "text": [
      "Generator Loss: [0.32821816205978394, 0.32625433802604675, 0.0009819114347919822]\n"
     ]
    },
    {
     "name": "stderr",
     "output_type": "stream",
     "text": [
      "WARNING:matplotlib.image:Clipping input data to the valid range for imshow with RGB data ([0..1] for floats or [0..255] for integers).\n",
      "WARNING:matplotlib.image:Clipping input data to the valid range for imshow with RGB data ([0..1] for floats or [0..255] for integers).\n",
      "WARNING:matplotlib.image:Clipping input data to the valid range for imshow with RGB data ([0..1] for floats or [0..255] for integers).\n",
      "WARNING:matplotlib.image:Clipping input data to the valid range for imshow with RGB data ([0..1] for floats or [0..255] for integers).\n",
      "WARNING:matplotlib.image:Clipping input data to the valid range for imshow with RGB data ([0..1] for floats or [0..255] for integers).\n",
      "WARNING:matplotlib.image:Clipping input data to the valid range for imshow with RGB data ([0..1] for floats or [0..255] for integers).\n",
      "WARNING:matplotlib.image:Clipping input data to the valid range for imshow with RGB data ([0..1] for floats or [0..255] for integers).\n",
      "WARNING:matplotlib.image:Clipping input data to the valid range for imshow with RGB data ([0..1] for floats or [0..255] for integers).\n"
     ]
    },
    {
     "name": "stdout",
     "output_type": "stream",
     "text": [
      "2/2 [==============================] - 0s 14ms/step\n",
      "Discriminator Loss: 0.16551147451718862\n"
     ]
    },
    {
     "name": "stderr",
     "output_type": "stream",
     "text": [
      "WARNING:matplotlib.image:Clipping input data to the valid range for imshow with RGB data ([0..1] for floats or [0..255] for integers).\n",
      "WARNING:matplotlib.image:Clipping input data to the valid range for imshow with RGB data ([0..1] for floats or [0..255] for integers).\n"
     ]
    },
    {
     "name": "stdout",
     "output_type": "stream",
     "text": [
      "Generator Loss: [0.33114850521087646, 0.3292493224143982, 0.0009495978592894971]\n"
     ]
    },
    {
     "name": "stderr",
     "output_type": "stream",
     "text": [
      "WARNING:matplotlib.image:Clipping input data to the valid range for imshow with RGB data ([0..1] for floats or [0..255] for integers).\n",
      "WARNING:matplotlib.image:Clipping input data to the valid range for imshow with RGB data ([0..1] for floats or [0..255] for integers).\n",
      "WARNING:matplotlib.image:Clipping input data to the valid range for imshow with RGB data ([0..1] for floats or [0..255] for integers).\n",
      "WARNING:matplotlib.image:Clipping input data to the valid range for imshow with RGB data ([0..1] for floats or [0..255] for integers).\n",
      "WARNING:matplotlib.image:Clipping input data to the valid range for imshow with RGB data ([0..1] for floats or [0..255] for integers).\n",
      "WARNING:matplotlib.image:Clipping input data to the valid range for imshow with RGB data ([0..1] for floats or [0..255] for integers).\n",
      "WARNING:matplotlib.image:Clipping input data to the valid range for imshow with RGB data ([0..1] for floats or [0..255] for integers).\n",
      "WARNING:matplotlib.image:Clipping input data to the valid range for imshow with RGB data ([0..1] for floats or [0..255] for integers).\n"
     ]
    },
    {
     "name": "stdout",
     "output_type": "stream",
     "text": [
      "2/2 [==============================] - 0s 15ms/step\n",
      "Discriminator Loss: 0.16583868222130604\n"
     ]
    },
    {
     "name": "stderr",
     "output_type": "stream",
     "text": [
      "WARNING:matplotlib.image:Clipping input data to the valid range for imshow with RGB data ([0..1] for floats or [0..255] for integers).\n",
      "WARNING:matplotlib.image:Clipping input data to the valid range for imshow with RGB data ([0..1] for floats or [0..255] for integers).\n"
     ]
    },
    {
     "name": "stdout",
     "output_type": "stream",
     "text": [
      "Generator Loss: [0.33827465772628784, 0.33640432357788086, 0.0009351635235361755]\n"
     ]
    },
    {
     "name": "stderr",
     "output_type": "stream",
     "text": [
      "WARNING:matplotlib.image:Clipping input data to the valid range for imshow with RGB data ([0..1] for floats or [0..255] for integers).\n",
      "WARNING:matplotlib.image:Clipping input data to the valid range for imshow with RGB data ([0..1] for floats or [0..255] for integers).\n",
      "WARNING:matplotlib.image:Clipping input data to the valid range for imshow with RGB data ([0..1] for floats or [0..255] for integers).\n",
      "WARNING:matplotlib.image:Clipping input data to the valid range for imshow with RGB data ([0..1] for floats or [0..255] for integers).\n",
      "WARNING:matplotlib.image:Clipping input data to the valid range for imshow with RGB data ([0..1] for floats or [0..255] for integers).\n",
      "WARNING:matplotlib.image:Clipping input data to the valid range for imshow with RGB data ([0..1] for floats or [0..255] for integers).\n",
      "WARNING:matplotlib.image:Clipping input data to the valid range for imshow with RGB data ([0..1] for floats or [0..255] for integers).\n",
      "WARNING:matplotlib.image:Clipping input data to the valid range for imshow with RGB data ([0..1] for floats or [0..255] for integers).\n"
     ]
    },
    {
     "name": "stdout",
     "output_type": "stream",
     "text": [
      "2/2 [==============================] - 0s 15ms/step\n",
      "Discriminator Loss: 0.16553107474192075\n"
     ]
    },
    {
     "name": "stderr",
     "output_type": "stream",
     "text": [
      "WARNING:matplotlib.image:Clipping input data to the valid range for imshow with RGB data ([0..1] for floats or [0..255] for integers).\n",
      "WARNING:matplotlib.image:Clipping input data to the valid range for imshow with RGB data ([0..1] for floats or [0..255] for integers).\n"
     ]
    },
    {
     "name": "stdout",
     "output_type": "stream",
     "text": [
      "Generator Loss: [0.3271615207195282, 0.32571643590927124, 0.0007225432200357318]\n"
     ]
    },
    {
     "name": "stderr",
     "output_type": "stream",
     "text": [
      "WARNING:matplotlib.image:Clipping input data to the valid range for imshow with RGB data ([0..1] for floats or [0..255] for integers).\n",
      "WARNING:matplotlib.image:Clipping input data to the valid range for imshow with RGB data ([0..1] for floats or [0..255] for integers).\n",
      "WARNING:matplotlib.image:Clipping input data to the valid range for imshow with RGB data ([0..1] for floats or [0..255] for integers).\n",
      "WARNING:matplotlib.image:Clipping input data to the valid range for imshow with RGB data ([0..1] for floats or [0..255] for integers).\n",
      "WARNING:matplotlib.image:Clipping input data to the valid range for imshow with RGB data ([0..1] for floats or [0..255] for integers).\n",
      "WARNING:matplotlib.image:Clipping input data to the valid range for imshow with RGB data ([0..1] for floats or [0..255] for integers).\n",
      "WARNING:matplotlib.image:Clipping input data to the valid range for imshow with RGB data ([0..1] for floats or [0..255] for integers).\n",
      "WARNING:matplotlib.image:Clipping input data to the valid range for imshow with RGB data ([0..1] for floats or [0..255] for integers).\n"
     ]
    },
    {
     "name": "stdout",
     "output_type": "stream",
     "text": [
      "2/2 [==============================] - 0s 15ms/step\n",
      "Discriminator Loss: 0.16884309674634324\n"
     ]
    },
    {
     "name": "stderr",
     "output_type": "stream",
     "text": [
      "WARNING:matplotlib.image:Clipping input data to the valid range for imshow with RGB data ([0..1] for floats or [0..255] for integers).\n",
      "WARNING:matplotlib.image:Clipping input data to the valid range for imshow with RGB data ([0..1] for floats or [0..255] for integers).\n"
     ]
    },
    {
     "name": "stdout",
     "output_type": "stream",
     "text": [
      "Generator Loss: [0.3588038682937622, 0.35563355684280396, 0.0015851580537855625]\n"
     ]
    },
    {
     "name": "stderr",
     "output_type": "stream",
     "text": [
      "WARNING:matplotlib.image:Clipping input data to the valid range for imshow with RGB data ([0..1] for floats or [0..255] for integers).\n",
      "WARNING:matplotlib.image:Clipping input data to the valid range for imshow with RGB data ([0..1] for floats or [0..255] for integers).\n",
      "WARNING:matplotlib.image:Clipping input data to the valid range for imshow with RGB data ([0..1] for floats or [0..255] for integers).\n",
      "WARNING:matplotlib.image:Clipping input data to the valid range for imshow with RGB data ([0..1] for floats or [0..255] for integers).\n",
      "WARNING:matplotlib.image:Clipping input data to the valid range for imshow with RGB data ([0..1] for floats or [0..255] for integers).\n",
      "WARNING:matplotlib.image:Clipping input data to the valid range for imshow with RGB data ([0..1] for floats or [0..255] for integers).\n",
      "WARNING:matplotlib.image:Clipping input data to the valid range for imshow with RGB data ([0..1] for floats or [0..255] for integers).\n",
      "WARNING:matplotlib.image:Clipping input data to the valid range for imshow with RGB data ([0..1] for floats or [0..255] for integers).\n"
     ]
    },
    {
     "name": "stdout",
     "output_type": "stream",
     "text": [
      "2/2 [==============================] - 0s 15ms/step\n",
      "Discriminator Loss: 0.1686988127821678\n"
     ]
    },
    {
     "name": "stderr",
     "output_type": "stream",
     "text": [
      "WARNING:matplotlib.image:Clipping input data to the valid range for imshow with RGB data ([0..1] for floats or [0..255] for integers).\n",
      "WARNING:matplotlib.image:Clipping input data to the valid range for imshow with RGB data ([0..1] for floats or [0..255] for integers).\n"
     ]
    },
    {
     "name": "stdout",
     "output_type": "stream",
     "text": [
      "Generator Loss: [0.33960872888565063, 0.3367953598499298, 0.0014066861476749182]\n"
     ]
    },
    {
     "name": "stderr",
     "output_type": "stream",
     "text": [
      "WARNING:matplotlib.image:Clipping input data to the valid range for imshow with RGB data ([0..1] for floats or [0..255] for integers).\n",
      "WARNING:matplotlib.image:Clipping input data to the valid range for imshow with RGB data ([0..1] for floats or [0..255] for integers).\n",
      "WARNING:matplotlib.image:Clipping input data to the valid range for imshow with RGB data ([0..1] for floats or [0..255] for integers).\n",
      "WARNING:matplotlib.image:Clipping input data to the valid range for imshow with RGB data ([0..1] for floats or [0..255] for integers).\n",
      "WARNING:matplotlib.image:Clipping input data to the valid range for imshow with RGB data ([0..1] for floats or [0..255] for integers).\n",
      "WARNING:matplotlib.image:Clipping input data to the valid range for imshow with RGB data ([0..1] for floats or [0..255] for integers).\n",
      "WARNING:matplotlib.image:Clipping input data to the valid range for imshow with RGB data ([0..1] for floats or [0..255] for integers).\n",
      "WARNING:matplotlib.image:Clipping input data to the valid range for imshow with RGB data ([0..1] for floats or [0..255] for integers).\n"
     ]
    },
    {
     "name": "stdout",
     "output_type": "stream",
     "text": [
      "2/2 [==============================] - 0s 14ms/step\n",
      "Discriminator Loss: 0.18504910694554155\n"
     ]
    },
    {
     "name": "stderr",
     "output_type": "stream",
     "text": [
      "WARNING:matplotlib.image:Clipping input data to the valid range for imshow with RGB data ([0..1] for floats or [0..255] for integers).\n",
      "WARNING:matplotlib.image:Clipping input data to the valid range for imshow with RGB data ([0..1] for floats or [0..255] for integers).\n"
     ]
    },
    {
     "name": "stdout",
     "output_type": "stream",
     "text": [
      "Generator Loss: [0.3951444923877716, 0.3928047716617584, 0.0011698566377162933]\n"
     ]
    },
    {
     "name": "stderr",
     "output_type": "stream",
     "text": [
      "WARNING:matplotlib.image:Clipping input data to the valid range for imshow with RGB data ([0..1] for floats or [0..255] for integers).\n",
      "WARNING:matplotlib.image:Clipping input data to the valid range for imshow with RGB data ([0..1] for floats or [0..255] for integers).\n",
      "WARNING:matplotlib.image:Clipping input data to the valid range for imshow with RGB data ([0..1] for floats or [0..255] for integers).\n",
      "WARNING:matplotlib.image:Clipping input data to the valid range for imshow with RGB data ([0..1] for floats or [0..255] for integers).\n",
      "WARNING:matplotlib.image:Clipping input data to the valid range for imshow with RGB data ([0..1] for floats or [0..255] for integers).\n",
      "WARNING:matplotlib.image:Clipping input data to the valid range for imshow with RGB data ([0..1] for floats or [0..255] for integers).\n",
      "WARNING:matplotlib.image:Clipping input data to the valid range for imshow with RGB data ([0..1] for floats or [0..255] for integers).\n",
      "WARNING:matplotlib.image:Clipping input data to the valid range for imshow with RGB data ([0..1] for floats or [0..255] for integers).\n"
     ]
    },
    {
     "name": "stdout",
     "output_type": "stream",
     "text": [
      "2/2 [==============================] - 0s 15ms/step\n",
      "Discriminator Loss: 0.1880569755153374\n"
     ]
    },
    {
     "name": "stderr",
     "output_type": "stream",
     "text": [
      "WARNING:matplotlib.image:Clipping input data to the valid range for imshow with RGB data ([0..1] for floats or [0..255] for integers).\n",
      "WARNING:matplotlib.image:Clipping input data to the valid range for imshow with RGB data ([0..1] for floats or [0..255] for integers).\n"
     ]
    },
    {
     "name": "stdout",
     "output_type": "stream",
     "text": [
      "Generator Loss: [0.44827884435653687, 0.4465698003768921, 0.0008545215241611004]\n"
     ]
    },
    {
     "name": "stderr",
     "output_type": "stream",
     "text": [
      "WARNING:matplotlib.image:Clipping input data to the valid range for imshow with RGB data ([0..1] for floats or [0..255] for integers).\n",
      "WARNING:matplotlib.image:Clipping input data to the valid range for imshow with RGB data ([0..1] for floats or [0..255] for integers).\n",
      "WARNING:matplotlib.image:Clipping input data to the valid range for imshow with RGB data ([0..1] for floats or [0..255] for integers).\n",
      "WARNING:matplotlib.image:Clipping input data to the valid range for imshow with RGB data ([0..1] for floats or [0..255] for integers).\n",
      "WARNING:matplotlib.image:Clipping input data to the valid range for imshow with RGB data ([0..1] for floats or [0..255] for integers).\n",
      "WARNING:matplotlib.image:Clipping input data to the valid range for imshow with RGB data ([0..1] for floats or [0..255] for integers).\n",
      "WARNING:matplotlib.image:Clipping input data to the valid range for imshow with RGB data ([0..1] for floats or [0..255] for integers).\n",
      "WARNING:matplotlib.image:Clipping input data to the valid range for imshow with RGB data ([0..1] for floats or [0..255] for integers).\n"
     ]
    },
    {
     "name": "stdout",
     "output_type": "stream",
     "text": [
      "2/2 [==============================] - 0s 15ms/step\n",
      "Discriminator Loss: 0.23559399645364465\n"
     ]
    },
    {
     "name": "stderr",
     "output_type": "stream",
     "text": [
      "WARNING:matplotlib.image:Clipping input data to the valid range for imshow with RGB data ([0..1] for floats or [0..255] for integers).\n",
      "WARNING:matplotlib.image:Clipping input data to the valid range for imshow with RGB data ([0..1] for floats or [0..255] for integers).\n"
     ]
    },
    {
     "name": "stdout",
     "output_type": "stream",
     "text": [
      "Generator Loss: [0.340821236371994, 0.33888399600982666, 0.0009686269331723452]\n"
     ]
    },
    {
     "name": "stderr",
     "output_type": "stream",
     "text": [
      "WARNING:matplotlib.image:Clipping input data to the valid range for imshow with RGB data ([0..1] for floats or [0..255] for integers).\n",
      "WARNING:matplotlib.image:Clipping input data to the valid range for imshow with RGB data ([0..1] for floats or [0..255] for integers).\n",
      "WARNING:matplotlib.image:Clipping input data to the valid range for imshow with RGB data ([0..1] for floats or [0..255] for integers).\n",
      "WARNING:matplotlib.image:Clipping input data to the valid range for imshow with RGB data ([0..1] for floats or [0..255] for integers).\n",
      "WARNING:matplotlib.image:Clipping input data to the valid range for imshow with RGB data ([0..1] for floats or [0..255] for integers).\n",
      "WARNING:matplotlib.image:Clipping input data to the valid range for imshow with RGB data ([0..1] for floats or [0..255] for integers).\n",
      "WARNING:matplotlib.image:Clipping input data to the valid range for imshow with RGB data ([0..1] for floats or [0..255] for integers).\n",
      "WARNING:matplotlib.image:Clipping input data to the valid range for imshow with RGB data ([0..1] for floats or [0..255] for integers).\n"
     ]
    },
    {
     "name": "stdout",
     "output_type": "stream",
     "text": [
      "2/2 [==============================] - 0s 15ms/step\n",
      "Discriminator Loss: 0.16345601806460763\n"
     ]
    },
    {
     "name": "stderr",
     "output_type": "stream",
     "text": [
      "WARNING:matplotlib.image:Clipping input data to the valid range for imshow with RGB data ([0..1] for floats or [0..255] for integers).\n",
      "WARNING:matplotlib.image:Clipping input data to the valid range for imshow with RGB data ([0..1] for floats or [0..255] for integers).\n"
     ]
    },
    {
     "name": "stdout",
     "output_type": "stream",
     "text": [
      "Generator Loss: [0.36196795105934143, 0.359857976436615, 0.00105498475022614]\n"
     ]
    },
    {
     "name": "stderr",
     "output_type": "stream",
     "text": [
      "WARNING:matplotlib.image:Clipping input data to the valid range for imshow with RGB data ([0..1] for floats or [0..255] for integers).\n",
      "WARNING:matplotlib.image:Clipping input data to the valid range for imshow with RGB data ([0..1] for floats or [0..255] for integers).\n",
      "WARNING:matplotlib.image:Clipping input data to the valid range for imshow with RGB data ([0..1] for floats or [0..255] for integers).\n",
      "WARNING:matplotlib.image:Clipping input data to the valid range for imshow with RGB data ([0..1] for floats or [0..255] for integers).\n",
      "WARNING:matplotlib.image:Clipping input data to the valid range for imshow with RGB data ([0..1] for floats or [0..255] for integers).\n",
      "WARNING:matplotlib.image:Clipping input data to the valid range for imshow with RGB data ([0..1] for floats or [0..255] for integers).\n",
      "WARNING:matplotlib.image:Clipping input data to the valid range for imshow with RGB data ([0..1] for floats or [0..255] for integers).\n",
      "WARNING:matplotlib.image:Clipping input data to the valid range for imshow with RGB data ([0..1] for floats or [0..255] for integers).\n"
     ]
    },
    {
     "name": "stdout",
     "output_type": "stream",
     "text": [
      "2/2 [==============================] - 0s 15ms/step\n",
      "Discriminator Loss: 0.16908421897733206\n"
     ]
    },
    {
     "name": "stderr",
     "output_type": "stream",
     "text": [
      "WARNING:matplotlib.image:Clipping input data to the valid range for imshow with RGB data ([0..1] for floats or [0..255] for integers).\n"
     ]
    },
    {
     "name": "stdout",
     "output_type": "stream",
     "text": [
      "Generator Loss: [0.33362486958503723, 0.33193784952163696, 0.0008435111958533525]\n"
     ]
    },
    {
     "name": "stderr",
     "output_type": "stream",
     "text": [
      "WARNING:matplotlib.image:Clipping input data to the valid range for imshow with RGB data ([0..1] for floats or [0..255] for integers).\n",
      "WARNING:matplotlib.image:Clipping input data to the valid range for imshow with RGB data ([0..1] for floats or [0..255] for integers).\n",
      "WARNING:matplotlib.image:Clipping input data to the valid range for imshow with RGB data ([0..1] for floats or [0..255] for integers).\n",
      "WARNING:matplotlib.image:Clipping input data to the valid range for imshow with RGB data ([0..1] for floats or [0..255] for integers).\n",
      "WARNING:matplotlib.image:Clipping input data to the valid range for imshow with RGB data ([0..1] for floats or [0..255] for integers).\n",
      "WARNING:matplotlib.image:Clipping input data to the valid range for imshow with RGB data ([0..1] for floats or [0..255] for integers).\n",
      "WARNING:matplotlib.image:Clipping input data to the valid range for imshow with RGB data ([0..1] for floats or [0..255] for integers).\n",
      "WARNING:matplotlib.image:Clipping input data to the valid range for imshow with RGB data ([0..1] for floats or [0..255] for integers).\n",
      "WARNING:matplotlib.image:Clipping input data to the valid range for imshow with RGB data ([0..1] for floats or [0..255] for integers).\n"
     ]
    },
    {
     "name": "stdout",
     "output_type": "stream",
     "text": [
      "2/2 [==============================] - 0s 17ms/step\n",
      "Discriminator Loss: 0.1802650562076451\n"
     ]
    },
    {
     "name": "stderr",
     "output_type": "stream",
     "text": [
      "WARNING:matplotlib.image:Clipping input data to the valid range for imshow with RGB data ([0..1] for floats or [0..255] for integers).\n",
      "WARNING:matplotlib.image:Clipping input data to the valid range for imshow with RGB data ([0..1] for floats or [0..255] for integers).\n"
     ]
    },
    {
     "name": "stdout",
     "output_type": "stream",
     "text": [
      "Generator Loss: [0.33074572682380676, 0.3290255665779114, 0.0008600751752965152]\n"
     ]
    },
    {
     "name": "stderr",
     "output_type": "stream",
     "text": [
      "WARNING:matplotlib.image:Clipping input data to the valid range for imshow with RGB data ([0..1] for floats or [0..255] for integers).\n",
      "WARNING:matplotlib.image:Clipping input data to the valid range for imshow with RGB data ([0..1] for floats or [0..255] for integers).\n",
      "WARNING:matplotlib.image:Clipping input data to the valid range for imshow with RGB data ([0..1] for floats or [0..255] for integers).\n",
      "WARNING:matplotlib.image:Clipping input data to the valid range for imshow with RGB data ([0..1] for floats or [0..255] for integers).\n",
      "WARNING:matplotlib.image:Clipping input data to the valid range for imshow with RGB data ([0..1] for floats or [0..255] for integers).\n",
      "WARNING:matplotlib.image:Clipping input data to the valid range for imshow with RGB data ([0..1] for floats or [0..255] for integers).\n",
      "WARNING:matplotlib.image:Clipping input data to the valid range for imshow with RGB data ([0..1] for floats or [0..255] for integers).\n",
      "WARNING:matplotlib.image:Clipping input data to the valid range for imshow with RGB data ([0..1] for floats or [0..255] for integers).\n"
     ]
    },
    {
     "name": "stdout",
     "output_type": "stream",
     "text": [
      "2/2 [==============================] - 0s 15ms/step\n",
      "Discriminator Loss: 0.16391936307718424\n"
     ]
    },
    {
     "name": "stderr",
     "output_type": "stream",
     "text": [
      "WARNING:matplotlib.image:Clipping input data to the valid range for imshow with RGB data ([0..1] for floats or [0..255] for integers).\n",
      "WARNING:matplotlib.image:Clipping input data to the valid range for imshow with RGB data ([0..1] for floats or [0..255] for integers).\n"
     ]
    },
    {
     "name": "stdout",
     "output_type": "stream",
     "text": [
      "Generator Loss: [0.327721506357193, 0.3255583643913269, 0.0010815657442435622]\n"
     ]
    },
    {
     "name": "stderr",
     "output_type": "stream",
     "text": [
      "WARNING:matplotlib.image:Clipping input data to the valid range for imshow with RGB data ([0..1] for floats or [0..255] for integers).\n",
      "WARNING:matplotlib.image:Clipping input data to the valid range for imshow with RGB data ([0..1] for floats or [0..255] for integers).\n",
      "WARNING:matplotlib.image:Clipping input data to the valid range for imshow with RGB data ([0..1] for floats or [0..255] for integers).\n",
      "WARNING:matplotlib.image:Clipping input data to the valid range for imshow with RGB data ([0..1] for floats or [0..255] for integers).\n",
      "WARNING:matplotlib.image:Clipping input data to the valid range for imshow with RGB data ([0..1] for floats or [0..255] for integers).\n",
      "WARNING:matplotlib.image:Clipping input data to the valid range for imshow with RGB data ([0..1] for floats or [0..255] for integers).\n",
      "WARNING:matplotlib.image:Clipping input data to the valid range for imshow with RGB data ([0..1] for floats or [0..255] for integers).\n",
      "WARNING:matplotlib.image:Clipping input data to the valid range for imshow with RGB data ([0..1] for floats or [0..255] for integers).\n"
     ]
    },
    {
     "name": "stdout",
     "output_type": "stream",
     "text": [
      "2/2 [==============================] - 0s 15ms/step\n",
      "Discriminator Loss: 0.163363995774489\n"
     ]
    },
    {
     "name": "stderr",
     "output_type": "stream",
     "text": [
      "WARNING:matplotlib.image:Clipping input data to the valid range for imshow with RGB data ([0..1] for floats or [0..255] for integers).\n",
      "WARNING:matplotlib.image:Clipping input data to the valid range for imshow with RGB data ([0..1] for floats or [0..255] for integers).\n"
     ]
    },
    {
     "name": "stdout",
     "output_type": "stream",
     "text": [
      "Generator Loss: [0.32857567071914673, 0.32583487033843994, 0.0013703987933695316]\n"
     ]
    },
    {
     "name": "stderr",
     "output_type": "stream",
     "text": [
      "WARNING:matplotlib.image:Clipping input data to the valid range for imshow with RGB data ([0..1] for floats or [0..255] for integers).\n",
      "WARNING:matplotlib.image:Clipping input data to the valid range for imshow with RGB data ([0..1] for floats or [0..255] for integers).\n",
      "WARNING:matplotlib.image:Clipping input data to the valid range for imshow with RGB data ([0..1] for floats or [0..255] for integers).\n",
      "WARNING:matplotlib.image:Clipping input data to the valid range for imshow with RGB data ([0..1] for floats or [0..255] for integers).\n",
      "WARNING:matplotlib.image:Clipping input data to the valid range for imshow with RGB data ([0..1] for floats or [0..255] for integers).\n",
      "WARNING:matplotlib.image:Clipping input data to the valid range for imshow with RGB data ([0..1] for floats or [0..255] for integers).\n",
      "WARNING:matplotlib.image:Clipping input data to the valid range for imshow with RGB data ([0..1] for floats or [0..255] for integers).\n",
      "WARNING:matplotlib.image:Clipping input data to the valid range for imshow with RGB data ([0..1] for floats or [0..255] for integers).\n"
     ]
    },
    {
     "name": "stdout",
     "output_type": "stream",
     "text": [
      "2/2 [==============================] - 0s 14ms/step\n",
      "Discriminator Loss: 0.16717188506299863\n"
     ]
    },
    {
     "name": "stderr",
     "output_type": "stream",
     "text": [
      "WARNING:matplotlib.image:Clipping input data to the valid range for imshow with RGB data ([0..1] for floats or [0..255] for integers).\n",
      "WARNING:matplotlib.image:Clipping input data to the valid range for imshow with RGB data ([0..1] for floats or [0..255] for integers).\n"
     ]
    },
    {
     "name": "stdout",
     "output_type": "stream",
     "text": [
      "Generator Loss: [0.38204097747802734, 0.3790574073791504, 0.0014917822554707527]\n"
     ]
    },
    {
     "name": "stderr",
     "output_type": "stream",
     "text": [
      "WARNING:matplotlib.image:Clipping input data to the valid range for imshow with RGB data ([0..1] for floats or [0..255] for integers).\n",
      "WARNING:matplotlib.image:Clipping input data to the valid range for imshow with RGB data ([0..1] for floats or [0..255] for integers).\n",
      "WARNING:matplotlib.image:Clipping input data to the valid range for imshow with RGB data ([0..1] for floats or [0..255] for integers).\n",
      "WARNING:matplotlib.image:Clipping input data to the valid range for imshow with RGB data ([0..1] for floats or [0..255] for integers).\n",
      "WARNING:matplotlib.image:Clipping input data to the valid range for imshow with RGB data ([0..1] for floats or [0..255] for integers).\n",
      "WARNING:matplotlib.image:Clipping input data to the valid range for imshow with RGB data ([0..1] for floats or [0..255] for integers).\n",
      "WARNING:matplotlib.image:Clipping input data to the valid range for imshow with RGB data ([0..1] for floats or [0..255] for integers).\n",
      "WARNING:matplotlib.image:Clipping input data to the valid range for imshow with RGB data ([0..1] for floats or [0..255] for integers).\n"
     ]
    },
    {
     "name": "stdout",
     "output_type": "stream",
     "text": [
      "2/2 [==============================] - 0s 15ms/step\n",
      "Discriminator Loss: 0.18047613905218896\n"
     ]
    },
    {
     "name": "stderr",
     "output_type": "stream",
     "text": [
      "WARNING:matplotlib.image:Clipping input data to the valid range for imshow with RGB data ([0..1] for floats or [0..255] for integers).\n",
      "WARNING:matplotlib.image:Clipping input data to the valid range for imshow with RGB data ([0..1] for floats or [0..255] for integers).\n"
     ]
    },
    {
     "name": "stdout",
     "output_type": "stream",
     "text": [
      "Generator Loss: [0.3567337989807129, 0.35457515716552734, 0.0010793162509799004]\n"
     ]
    },
    {
     "name": "stderr",
     "output_type": "stream",
     "text": [
      "WARNING:matplotlib.image:Clipping input data to the valid range for imshow with RGB data ([0..1] for floats or [0..255] for integers).\n",
      "WARNING:matplotlib.image:Clipping input data to the valid range for imshow with RGB data ([0..1] for floats or [0..255] for integers).\n",
      "WARNING:matplotlib.image:Clipping input data to the valid range for imshow with RGB data ([0..1] for floats or [0..255] for integers).\n",
      "WARNING:matplotlib.image:Clipping input data to the valid range for imshow with RGB data ([0..1] for floats or [0..255] for integers).\n",
      "WARNING:matplotlib.image:Clipping input data to the valid range for imshow with RGB data ([0..1] for floats or [0..255] for integers).\n",
      "WARNING:matplotlib.image:Clipping input data to the valid range for imshow with RGB data ([0..1] for floats or [0..255] for integers).\n",
      "WARNING:matplotlib.image:Clipping input data to the valid range for imshow with RGB data ([0..1] for floats or [0..255] for integers).\n",
      "WARNING:matplotlib.image:Clipping input data to the valid range for imshow with RGB data ([0..1] for floats or [0..255] for integers).\n"
     ]
    },
    {
     "name": "stdout",
     "output_type": "stream",
     "text": [
      "2/2 [==============================] - 0s 16ms/step\n",
      "Discriminator Loss: 0.17883850710188653\n"
     ]
    },
    {
     "name": "stderr",
     "output_type": "stream",
     "text": [
      "WARNING:matplotlib.image:Clipping input data to the valid range for imshow with RGB data ([0..1] for floats or [0..255] for integers).\n",
      "WARNING:matplotlib.image:Clipping input data to the valid range for imshow with RGB data ([0..1] for floats or [0..255] for integers).\n"
     ]
    },
    {
     "name": "stdout",
     "output_type": "stream",
     "text": [
      "Generator Loss: [0.40229085087776184, 0.40018385648727417, 0.001053491374477744]\n"
     ]
    },
    {
     "name": "stderr",
     "output_type": "stream",
     "text": [
      "WARNING:matplotlib.image:Clipping input data to the valid range for imshow with RGB data ([0..1] for floats or [0..255] for integers).\n",
      "WARNING:matplotlib.image:Clipping input data to the valid range for imshow with RGB data ([0..1] for floats or [0..255] for integers).\n",
      "WARNING:matplotlib.image:Clipping input data to the valid range for imshow with RGB data ([0..1] for floats or [0..255] for integers).\n",
      "WARNING:matplotlib.image:Clipping input data to the valid range for imshow with RGB data ([0..1] for floats or [0..255] for integers).\n",
      "WARNING:matplotlib.image:Clipping input data to the valid range for imshow with RGB data ([0..1] for floats or [0..255] for integers).\n",
      "WARNING:matplotlib.image:Clipping input data to the valid range for imshow with RGB data ([0..1] for floats or [0..255] for integers).\n",
      "WARNING:matplotlib.image:Clipping input data to the valid range for imshow with RGB data ([0..1] for floats or [0..255] for integers).\n",
      "WARNING:matplotlib.image:Clipping input data to the valid range for imshow with RGB data ([0..1] for floats or [0..255] for integers).\n"
     ]
    },
    {
     "name": "stdout",
     "output_type": "stream",
     "text": [
      "2/2 [==============================] - 0s 15ms/step\n",
      "Discriminator Loss: 0.17005273809627397\n"
     ]
    },
    {
     "name": "stderr",
     "output_type": "stream",
     "text": [
      "WARNING:matplotlib.image:Clipping input data to the valid range for imshow with RGB data ([0..1] for floats or [0..255] for integers).\n",
      "WARNING:matplotlib.image:Clipping input data to the valid range for imshow with RGB data ([0..1] for floats or [0..255] for integers).\n"
     ]
    },
    {
     "name": "stdout",
     "output_type": "stream",
     "text": [
      "Generator Loss: [0.32866430282592773, 0.32651767134666443, 0.0010733201634138823]\n"
     ]
    },
    {
     "name": "stderr",
     "output_type": "stream",
     "text": [
      "WARNING:matplotlib.image:Clipping input data to the valid range for imshow with RGB data ([0..1] for floats or [0..255] for integers).\n",
      "WARNING:matplotlib.image:Clipping input data to the valid range for imshow with RGB data ([0..1] for floats or [0..255] for integers).\n",
      "WARNING:matplotlib.image:Clipping input data to the valid range for imshow with RGB data ([0..1] for floats or [0..255] for integers).\n",
      "WARNING:matplotlib.image:Clipping input data to the valid range for imshow with RGB data ([0..1] for floats or [0..255] for integers).\n",
      "WARNING:matplotlib.image:Clipping input data to the valid range for imshow with RGB data ([0..1] for floats or [0..255] for integers).\n",
      "WARNING:matplotlib.image:Clipping input data to the valid range for imshow with RGB data ([0..1] for floats or [0..255] for integers).\n",
      "WARNING:matplotlib.image:Clipping input data to the valid range for imshow with RGB data ([0..1] for floats or [0..255] for integers).\n",
      "WARNING:matplotlib.image:Clipping input data to the valid range for imshow with RGB data ([0..1] for floats or [0..255] for integers).\n"
     ]
    },
    {
     "name": "stdout",
     "output_type": "stream",
     "text": [
      "2/2 [==============================] - 0s 15ms/step\n",
      "Discriminator Loss: 0.167172594985459\n"
     ]
    },
    {
     "name": "stderr",
     "output_type": "stream",
     "text": [
      "WARNING:matplotlib.image:Clipping input data to the valid range for imshow with RGB data ([0..1] for floats or [0..255] for integers).\n",
      "WARNING:matplotlib.image:Clipping input data to the valid range for imshow with RGB data ([0..1] for floats or [0..255] for integers).\n"
     ]
    },
    {
     "name": "stdout",
     "output_type": "stream",
     "text": [
      "Generator Loss: [0.6137602925300598, 0.6118025779724121, 0.000978859607130289]\n"
     ]
    },
    {
     "name": "stderr",
     "output_type": "stream",
     "text": [
      "WARNING:matplotlib.image:Clipping input data to the valid range for imshow with RGB data ([0..1] for floats or [0..255] for integers).\n",
      "WARNING:matplotlib.image:Clipping input data to the valid range for imshow with RGB data ([0..1] for floats or [0..255] for integers).\n",
      "WARNING:matplotlib.image:Clipping input data to the valid range for imshow with RGB data ([0..1] for floats or [0..255] for integers).\n",
      "WARNING:matplotlib.image:Clipping input data to the valid range for imshow with RGB data ([0..1] for floats or [0..255] for integers).\n",
      "WARNING:matplotlib.image:Clipping input data to the valid range for imshow with RGB data ([0..1] for floats or [0..255] for integers).\n",
      "WARNING:matplotlib.image:Clipping input data to the valid range for imshow with RGB data ([0..1] for floats or [0..255] for integers).\n",
      "WARNING:matplotlib.image:Clipping input data to the valid range for imshow with RGB data ([0..1] for floats or [0..255] for integers).\n",
      "WARNING:matplotlib.image:Clipping input data to the valid range for imshow with RGB data ([0..1] for floats or [0..255] for integers).\n"
     ]
    },
    {
     "name": "stdout",
     "output_type": "stream",
     "text": [
      "2/2 [==============================] - 0s 15ms/step\n",
      "Discriminator Loss: 0.1662841953723273\n"
     ]
    },
    {
     "name": "stderr",
     "output_type": "stream",
     "text": [
      "WARNING:matplotlib.image:Clipping input data to the valid range for imshow with RGB data ([0..1] for floats or [0..255] for integers).\n",
      "WARNING:matplotlib.image:Clipping input data to the valid range for imshow with RGB data ([0..1] for floats or [0..255] for integers).\n"
     ]
    },
    {
     "name": "stdout",
     "output_type": "stream",
     "text": [
      "Generator Loss: [0.4335481524467468, 0.431615948677063, 0.000966096471529454]\n"
     ]
    },
    {
     "name": "stderr",
     "output_type": "stream",
     "text": [
      "WARNING:matplotlib.image:Clipping input data to the valid range for imshow with RGB data ([0..1] for floats or [0..255] for integers).\n",
      "WARNING:matplotlib.image:Clipping input data to the valid range for imshow with RGB data ([0..1] for floats or [0..255] for integers).\n",
      "WARNING:matplotlib.image:Clipping input data to the valid range for imshow with RGB data ([0..1] for floats or [0..255] for integers).\n",
      "WARNING:matplotlib.image:Clipping input data to the valid range for imshow with RGB data ([0..1] for floats or [0..255] for integers).\n",
      "WARNING:matplotlib.image:Clipping input data to the valid range for imshow with RGB data ([0..1] for floats or [0..255] for integers).\n",
      "WARNING:matplotlib.image:Clipping input data to the valid range for imshow with RGB data ([0..1] for floats or [0..255] for integers).\n",
      "WARNING:matplotlib.image:Clipping input data to the valid range for imshow with RGB data ([0..1] for floats or [0..255] for integers).\n",
      "WARNING:matplotlib.image:Clipping input data to the valid range for imshow with RGB data ([0..1] for floats or [0..255] for integers).\n"
     ]
    },
    {
     "name": "stdout",
     "output_type": "stream",
     "text": [
      "2/2 [==============================] - 0s 15ms/step\n",
      "Discriminator Loss: 0.17488791206687893\n"
     ]
    },
    {
     "name": "stderr",
     "output_type": "stream",
     "text": [
      "WARNING:matplotlib.image:Clipping input data to the valid range for imshow with RGB data ([0..1] for floats or [0..255] for integers).\n",
      "WARNING:matplotlib.image:Clipping input data to the valid range for imshow with RGB data ([0..1] for floats or [0..255] for integers).\n"
     ]
    },
    {
     "name": "stdout",
     "output_type": "stream",
     "text": [
      "Generator Loss: [0.4234292209148407, 0.4214141368865967, 0.001007536193355918]\n"
     ]
    },
    {
     "name": "stderr",
     "output_type": "stream",
     "text": [
      "WARNING:matplotlib.image:Clipping input data to the valid range for imshow with RGB data ([0..1] for floats or [0..255] for integers).\n",
      "WARNING:matplotlib.image:Clipping input data to the valid range for imshow with RGB data ([0..1] for floats or [0..255] for integers).\n",
      "WARNING:matplotlib.image:Clipping input data to the valid range for imshow with RGB data ([0..1] for floats or [0..255] for integers).\n",
      "WARNING:matplotlib.image:Clipping input data to the valid range for imshow with RGB data ([0..1] for floats or [0..255] for integers).\n",
      "WARNING:matplotlib.image:Clipping input data to the valid range for imshow with RGB data ([0..1] for floats or [0..255] for integers).\n",
      "WARNING:matplotlib.image:Clipping input data to the valid range for imshow with RGB data ([0..1] for floats or [0..255] for integers).\n",
      "WARNING:matplotlib.image:Clipping input data to the valid range for imshow with RGB data ([0..1] for floats or [0..255] for integers).\n",
      "WARNING:matplotlib.image:Clipping input data to the valid range for imshow with RGB data ([0..1] for floats or [0..255] for integers).\n"
     ]
    },
    {
     "name": "stdout",
     "output_type": "stream",
     "text": [
      "2/2 [==============================] - 0s 15ms/step\n",
      "Discriminator Loss: 0.16671724437082958\n"
     ]
    },
    {
     "name": "stderr",
     "output_type": "stream",
     "text": [
      "WARNING:matplotlib.image:Clipping input data to the valid range for imshow with RGB data ([0..1] for floats or [0..255] for integers).\n",
      "WARNING:matplotlib.image:Clipping input data to the valid range for imshow with RGB data ([0..1] for floats or [0..255] for integers).\n"
     ]
    },
    {
     "name": "stdout",
     "output_type": "stream",
     "text": [
      "Generator Loss: [0.32868170738220215, 0.32639580965042114, 0.0011429502628743649]\n"
     ]
    },
    {
     "name": "stderr",
     "output_type": "stream",
     "text": [
      "WARNING:matplotlib.image:Clipping input data to the valid range for imshow with RGB data ([0..1] for floats or [0..255] for integers).\n",
      "WARNING:matplotlib.image:Clipping input data to the valid range for imshow with RGB data ([0..1] for floats or [0..255] for integers).\n",
      "WARNING:matplotlib.image:Clipping input data to the valid range for imshow with RGB data ([0..1] for floats or [0..255] for integers).\n",
      "WARNING:matplotlib.image:Clipping input data to the valid range for imshow with RGB data ([0..1] for floats or [0..255] for integers).\n",
      "WARNING:matplotlib.image:Clipping input data to the valid range for imshow with RGB data ([0..1] for floats or [0..255] for integers).\n",
      "WARNING:matplotlib.image:Clipping input data to the valid range for imshow with RGB data ([0..1] for floats or [0..255] for integers).\n",
      "WARNING:matplotlib.image:Clipping input data to the valid range for imshow with RGB data ([0..1] for floats or [0..255] for integers).\n",
      "WARNING:matplotlib.image:Clipping input data to the valid range for imshow with RGB data ([0..1] for floats or [0..255] for integers).\n"
     ]
    },
    {
     "name": "stdout",
     "output_type": "stream",
     "text": [
      "2/2 [==============================] - 0s 15ms/step\n",
      "Discriminator Loss: 0.16865230096891537\n"
     ]
    },
    {
     "name": "stderr",
     "output_type": "stream",
     "text": [
      "WARNING:matplotlib.image:Clipping input data to the valid range for imshow with RGB data ([0..1] for floats or [0..255] for integers).\n",
      "WARNING:matplotlib.image:Clipping input data to the valid range for imshow with RGB data ([0..1] for floats or [0..255] for integers).\n"
     ]
    },
    {
     "name": "stdout",
     "output_type": "stream",
     "text": [
      "Generator Loss: [0.33856263756752014, 0.33646637201309204, 0.0010481354547664523]\n"
     ]
    },
    {
     "name": "stderr",
     "output_type": "stream",
     "text": [
      "WARNING:matplotlib.image:Clipping input data to the valid range for imshow with RGB data ([0..1] for floats or [0..255] for integers).\n",
      "WARNING:matplotlib.image:Clipping input data to the valid range for imshow with RGB data ([0..1] for floats or [0..255] for integers).\n",
      "WARNING:matplotlib.image:Clipping input data to the valid range for imshow with RGB data ([0..1] for floats or [0..255] for integers).\n",
      "WARNING:matplotlib.image:Clipping input data to the valid range for imshow with RGB data ([0..1] for floats or [0..255] for integers).\n",
      "WARNING:matplotlib.image:Clipping input data to the valid range for imshow with RGB data ([0..1] for floats or [0..255] for integers).\n",
      "WARNING:matplotlib.image:Clipping input data to the valid range for imshow with RGB data ([0..1] for floats or [0..255] for integers).\n",
      "WARNING:matplotlib.image:Clipping input data to the valid range for imshow with RGB data ([0..1] for floats or [0..255] for integers).\n",
      "WARNING:matplotlib.image:Clipping input data to the valid range for imshow with RGB data ([0..1] for floats or [0..255] for integers).\n"
     ]
    },
    {
     "name": "stdout",
     "output_type": "stream",
     "text": [
      "2/2 [==============================] - 0s 16ms/step\n",
      "Discriminator Loss: 0.1675433806522051\n"
     ]
    },
    {
     "name": "stderr",
     "output_type": "stream",
     "text": [
      "WARNING:matplotlib.image:Clipping input data to the valid range for imshow with RGB data ([0..1] for floats or [0..255] for integers).\n",
      "WARNING:matplotlib.image:Clipping input data to the valid range for imshow with RGB data ([0..1] for floats or [0..255] for integers).\n"
     ]
    },
    {
     "name": "stdout",
     "output_type": "stream",
     "text": [
      "Generator Loss: [0.3357126712799072, 0.3332224190235138, 0.0012451321817934513]\n"
     ]
    },
    {
     "name": "stderr",
     "output_type": "stream",
     "text": [
      "WARNING:matplotlib.image:Clipping input data to the valid range for imshow with RGB data ([0..1] for floats or [0..255] for integers).\n",
      "WARNING:matplotlib.image:Clipping input data to the valid range for imshow with RGB data ([0..1] for floats or [0..255] for integers).\n",
      "WARNING:matplotlib.image:Clipping input data to the valid range for imshow with RGB data ([0..1] for floats or [0..255] for integers).\n",
      "WARNING:matplotlib.image:Clipping input data to the valid range for imshow with RGB data ([0..1] for floats or [0..255] for integers).\n",
      "WARNING:matplotlib.image:Clipping input data to the valid range for imshow with RGB data ([0..1] for floats or [0..255] for integers).\n",
      "WARNING:matplotlib.image:Clipping input data to the valid range for imshow with RGB data ([0..1] for floats or [0..255] for integers).\n",
      "WARNING:matplotlib.image:Clipping input data to the valid range for imshow with RGB data ([0..1] for floats or [0..255] for integers).\n",
      "WARNING:matplotlib.image:Clipping input data to the valid range for imshow with RGB data ([0..1] for floats or [0..255] for integers).\n"
     ]
    },
    {
     "name": "stdout",
     "output_type": "stream",
     "text": [
      "2/2 [==============================] - 0s 15ms/step\n",
      "Discriminator Loss: 0.1750022378473659\n"
     ]
    },
    {
     "name": "stderr",
     "output_type": "stream",
     "text": [
      "WARNING:matplotlib.image:Clipping input data to the valid range for imshow with RGB data ([0..1] for floats or [0..255] for integers).\n"
     ]
    },
    {
     "name": "stdout",
     "output_type": "stream",
     "text": [
      "Generator Loss: [0.3605329692363739, 0.3580000400543213, 0.0012664573732763529]\n"
     ]
    },
    {
     "name": "stderr",
     "output_type": "stream",
     "text": [
      "WARNING:matplotlib.image:Clipping input data to the valid range for imshow with RGB data ([0..1] for floats or [0..255] for integers).\n",
      "WARNING:matplotlib.image:Clipping input data to the valid range for imshow with RGB data ([0..1] for floats or [0..255] for integers).\n",
      "WARNING:matplotlib.image:Clipping input data to the valid range for imshow with RGB data ([0..1] for floats or [0..255] for integers).\n",
      "WARNING:matplotlib.image:Clipping input data to the valid range for imshow with RGB data ([0..1] for floats or [0..255] for integers).\n",
      "WARNING:matplotlib.image:Clipping input data to the valid range for imshow with RGB data ([0..1] for floats or [0..255] for integers).\n",
      "WARNING:matplotlib.image:Clipping input data to the valid range for imshow with RGB data ([0..1] for floats or [0..255] for integers).\n",
      "WARNING:matplotlib.image:Clipping input data to the valid range for imshow with RGB data ([0..1] for floats or [0..255] for integers).\n",
      "WARNING:matplotlib.image:Clipping input data to the valid range for imshow with RGB data ([0..1] for floats or [0..255] for integers).\n",
      "WARNING:matplotlib.image:Clipping input data to the valid range for imshow with RGB data ([0..1] for floats or [0..255] for integers).\n"
     ]
    },
    {
     "name": "stdout",
     "output_type": "stream",
     "text": [
      "2/2 [==============================] - 0s 15ms/step\n",
      "Discriminator Loss: 0.16620773186878068\n"
     ]
    },
    {
     "name": "stderr",
     "output_type": "stream",
     "text": [
      "WARNING:matplotlib.image:Clipping input data to the valid range for imshow with RGB data ([0..1] for floats or [0..255] for integers).\n",
      "WARNING:matplotlib.image:Clipping input data to the valid range for imshow with RGB data ([0..1] for floats or [0..255] for integers).\n"
     ]
    },
    {
     "name": "stdout",
     "output_type": "stream",
     "text": [
      "Generator Loss: [0.33129143714904785, 0.3287670612335205, 0.0012621944770216942]\n"
     ]
    },
    {
     "name": "stderr",
     "output_type": "stream",
     "text": [
      "WARNING:matplotlib.image:Clipping input data to the valid range for imshow with RGB data ([0..1] for floats or [0..255] for integers).\n",
      "WARNING:matplotlib.image:Clipping input data to the valid range for imshow with RGB data ([0..1] for floats or [0..255] for integers).\n",
      "WARNING:matplotlib.image:Clipping input data to the valid range for imshow with RGB data ([0..1] for floats or [0..255] for integers).\n",
      "WARNING:matplotlib.image:Clipping input data to the valid range for imshow with RGB data ([0..1] for floats or [0..255] for integers).\n",
      "WARNING:matplotlib.image:Clipping input data to the valid range for imshow with RGB data ([0..1] for floats or [0..255] for integers).\n",
      "WARNING:matplotlib.image:Clipping input data to the valid range for imshow with RGB data ([0..1] for floats or [0..255] for integers).\n",
      "WARNING:matplotlib.image:Clipping input data to the valid range for imshow with RGB data ([0..1] for floats or [0..255] for integers).\n",
      "WARNING:matplotlib.image:Clipping input data to the valid range for imshow with RGB data ([0..1] for floats or [0..255] for integers).\n"
     ]
    },
    {
     "name": "stdout",
     "output_type": "stream",
     "text": [
      "2/2 [==============================] - 0s 15ms/step\n",
      "Discriminator Loss: 0.16723675170942442\n"
     ]
    },
    {
     "name": "stderr",
     "output_type": "stream",
     "text": [
      "WARNING:matplotlib.image:Clipping input data to the valid range for imshow with RGB data ([0..1] for floats or [0..255] for integers).\n",
      "WARNING:matplotlib.image:Clipping input data to the valid range for imshow with RGB data ([0..1] for floats or [0..255] for integers).\n"
     ]
    },
    {
     "name": "stdout",
     "output_type": "stream",
     "text": [
      "Generator Loss: [0.4086776077747345, 0.4063156247138977, 0.0011809919960796833]\n"
     ]
    },
    {
     "name": "stderr",
     "output_type": "stream",
     "text": [
      "WARNING:matplotlib.image:Clipping input data to the valid range for imshow with RGB data ([0..1] for floats or [0..255] for integers).\n",
      "WARNING:matplotlib.image:Clipping input data to the valid range for imshow with RGB data ([0..1] for floats or [0..255] for integers).\n",
      "WARNING:matplotlib.image:Clipping input data to the valid range for imshow with RGB data ([0..1] for floats or [0..255] for integers).\n",
      "WARNING:matplotlib.image:Clipping input data to the valid range for imshow with RGB data ([0..1] for floats or [0..255] for integers).\n",
      "WARNING:matplotlib.image:Clipping input data to the valid range for imshow with RGB data ([0..1] for floats or [0..255] for integers).\n",
      "WARNING:matplotlib.image:Clipping input data to the valid range for imshow with RGB data ([0..1] for floats or [0..255] for integers).\n",
      "WARNING:matplotlib.image:Clipping input data to the valid range for imshow with RGB data ([0..1] for floats or [0..255] for integers).\n",
      "WARNING:matplotlib.image:Clipping input data to the valid range for imshow with RGB data ([0..1] for floats or [0..255] for integers).\n"
     ]
    },
    {
     "name": "stdout",
     "output_type": "stream",
     "text": [
      "2/2 [==============================] - 0s 14ms/step\n",
      "Discriminator Loss: 0.16806060721864924\n"
     ]
    },
    {
     "name": "stderr",
     "output_type": "stream",
     "text": [
      "WARNING:matplotlib.image:Clipping input data to the valid range for imshow with RGB data ([0..1] for floats or [0..255] for integers).\n",
      "WARNING:matplotlib.image:Clipping input data to the valid range for imshow with RGB data ([0..1] for floats or [0..255] for integers).\n"
     ]
    },
    {
     "name": "stdout",
     "output_type": "stream",
     "text": [
      "Generator Loss: [0.3324609696865082, 0.3301434814929962, 0.0011587449116632342]\n"
     ]
    },
    {
     "name": "stderr",
     "output_type": "stream",
     "text": [
      "WARNING:matplotlib.image:Clipping input data to the valid range for imshow with RGB data ([0..1] for floats or [0..255] for integers).\n",
      "WARNING:matplotlib.image:Clipping input data to the valid range for imshow with RGB data ([0..1] for floats or [0..255] for integers).\n",
      "WARNING:matplotlib.image:Clipping input data to the valid range for imshow with RGB data ([0..1] for floats or [0..255] for integers).\n",
      "WARNING:matplotlib.image:Clipping input data to the valid range for imshow with RGB data ([0..1] for floats or [0..255] for integers).\n",
      "WARNING:matplotlib.image:Clipping input data to the valid range for imshow with RGB data ([0..1] for floats or [0..255] for integers).\n",
      "WARNING:matplotlib.image:Clipping input data to the valid range for imshow with RGB data ([0..1] for floats or [0..255] for integers).\n",
      "WARNING:matplotlib.image:Clipping input data to the valid range for imshow with RGB data ([0..1] for floats or [0..255] for integers).\n",
      "WARNING:matplotlib.image:Clipping input data to the valid range for imshow with RGB data ([0..1] for floats or [0..255] for integers).\n"
     ]
    },
    {
     "name": "stdout",
     "output_type": "stream",
     "text": [
      "2/2 [==============================] - 0s 14ms/step\n",
      "Discriminator Loss: 0.17790284450893523\n"
     ]
    },
    {
     "name": "stderr",
     "output_type": "stream",
     "text": [
      "WARNING:matplotlib.image:Clipping input data to the valid range for imshow with RGB data ([0..1] for floats or [0..255] for integers).\n",
      "WARNING:matplotlib.image:Clipping input data to the valid range for imshow with RGB data ([0..1] for floats or [0..255] for integers).\n"
     ]
    },
    {
     "name": "stdout",
     "output_type": "stream",
     "text": [
      "Generator Loss: [0.3385346829891205, 0.3362070620059967, 0.0011638079304248095]\n"
     ]
    },
    {
     "name": "stderr",
     "output_type": "stream",
     "text": [
      "WARNING:matplotlib.image:Clipping input data to the valid range for imshow with RGB data ([0..1] for floats or [0..255] for integers).\n",
      "WARNING:matplotlib.image:Clipping input data to the valid range for imshow with RGB data ([0..1] for floats or [0..255] for integers).\n",
      "WARNING:matplotlib.image:Clipping input data to the valid range for imshow with RGB data ([0..1] for floats or [0..255] for integers).\n",
      "WARNING:matplotlib.image:Clipping input data to the valid range for imshow with RGB data ([0..1] for floats or [0..255] for integers).\n",
      "WARNING:matplotlib.image:Clipping input data to the valid range for imshow with RGB data ([0..1] for floats or [0..255] for integers).\n",
      "WARNING:matplotlib.image:Clipping input data to the valid range for imshow with RGB data ([0..1] for floats or [0..255] for integers).\n",
      "WARNING:matplotlib.image:Clipping input data to the valid range for imshow with RGB data ([0..1] for floats or [0..255] for integers).\n",
      "WARNING:matplotlib.image:Clipping input data to the valid range for imshow with RGB data ([0..1] for floats or [0..255] for integers).\n"
     ]
    },
    {
     "name": "stdout",
     "output_type": "stream",
     "text": [
      "2/2 [==============================] - 0s 15ms/step\n",
      "Discriminator Loss: 0.17094234473188408\n"
     ]
    },
    {
     "name": "stderr",
     "output_type": "stream",
     "text": [
      "WARNING:matplotlib.image:Clipping input data to the valid range for imshow with RGB data ([0..1] for floats or [0..255] for integers).\n"
     ]
    },
    {
     "name": "stdout",
     "output_type": "stream",
     "text": [
      "Generator Loss: [0.33608147501945496, 0.3340541422367096, 0.0010136717464774847]\n"
     ]
    },
    {
     "name": "stderr",
     "output_type": "stream",
     "text": [
      "WARNING:matplotlib.image:Clipping input data to the valid range for imshow with RGB data ([0..1] for floats or [0..255] for integers).\n",
      "WARNING:matplotlib.image:Clipping input data to the valid range for imshow with RGB data ([0..1] for floats or [0..255] for integers).\n",
      "WARNING:matplotlib.image:Clipping input data to the valid range for imshow with RGB data ([0..1] for floats or [0..255] for integers).\n",
      "WARNING:matplotlib.image:Clipping input data to the valid range for imshow with RGB data ([0..1] for floats or [0..255] for integers).\n",
      "WARNING:matplotlib.image:Clipping input data to the valid range for imshow with RGB data ([0..1] for floats or [0..255] for integers).\n",
      "WARNING:matplotlib.image:Clipping input data to the valid range for imshow with RGB data ([0..1] for floats or [0..255] for integers).\n",
      "WARNING:matplotlib.image:Clipping input data to the valid range for imshow with RGB data ([0..1] for floats or [0..255] for integers).\n",
      "WARNING:matplotlib.image:Clipping input data to the valid range for imshow with RGB data ([0..1] for floats or [0..255] for integers).\n",
      "WARNING:matplotlib.image:Clipping input data to the valid range for imshow with RGB data ([0..1] for floats or [0..255] for integers).\n"
     ]
    },
    {
     "name": "stdout",
     "output_type": "stream",
     "text": [
      "2/2 [==============================] - 0s 14ms/step\n",
      "Discriminator Loss: 0.183657104133772\n"
     ]
    },
    {
     "name": "stderr",
     "output_type": "stream",
     "text": [
      "WARNING:matplotlib.image:Clipping input data to the valid range for imshow with RGB data ([0..1] for floats or [0..255] for integers).\n",
      "WARNING:matplotlib.image:Clipping input data to the valid range for imshow with RGB data ([0..1] for floats or [0..255] for integers).\n"
     ]
    },
    {
     "name": "stdout",
     "output_type": "stream",
     "text": [
      "Generator Loss: [0.47825464606285095, 0.47605133056640625, 0.0011016508797183633]\n"
     ]
    },
    {
     "name": "stderr",
     "output_type": "stream",
     "text": [
      "WARNING:matplotlib.image:Clipping input data to the valid range for imshow with RGB data ([0..1] for floats or [0..255] for integers).\n",
      "WARNING:matplotlib.image:Clipping input data to the valid range for imshow with RGB data ([0..1] for floats or [0..255] for integers).\n",
      "WARNING:matplotlib.image:Clipping input data to the valid range for imshow with RGB data ([0..1] for floats or [0..255] for integers).\n",
      "WARNING:matplotlib.image:Clipping input data to the valid range for imshow with RGB data ([0..1] for floats or [0..255] for integers).\n",
      "WARNING:matplotlib.image:Clipping input data to the valid range for imshow with RGB data ([0..1] for floats or [0..255] for integers).\n",
      "WARNING:matplotlib.image:Clipping input data to the valid range for imshow with RGB data ([0..1] for floats or [0..255] for integers).\n",
      "WARNING:matplotlib.image:Clipping input data to the valid range for imshow with RGB data ([0..1] for floats or [0..255] for integers).\n",
      "WARNING:matplotlib.image:Clipping input data to the valid range for imshow with RGB data ([0..1] for floats or [0..255] for integers).\n"
     ]
    },
    {
     "name": "stdout",
     "output_type": "stream",
     "text": [
      "2/2 [==============================] - 0s 15ms/step\n",
      "Discriminator Loss: 0.16791165394261043\n"
     ]
    },
    {
     "name": "stderr",
     "output_type": "stream",
     "text": [
      "WARNING:matplotlib.image:Clipping input data to the valid range for imshow with RGB data ([0..1] for floats or [0..255] for integers).\n",
      "WARNING:matplotlib.image:Clipping input data to the valid range for imshow with RGB data ([0..1] for floats or [0..255] for integers).\n"
     ]
    },
    {
     "name": "stdout",
     "output_type": "stream",
     "text": [
      "Generator Loss: [0.3288414180278778, 0.32698678970336914, 0.0009273100877180696]\n"
     ]
    },
    {
     "name": "stderr",
     "output_type": "stream",
     "text": [
      "WARNING:matplotlib.image:Clipping input data to the valid range for imshow with RGB data ([0..1] for floats or [0..255] for integers).\n",
      "WARNING:matplotlib.image:Clipping input data to the valid range for imshow with RGB data ([0..1] for floats or [0..255] for integers).\n",
      "WARNING:matplotlib.image:Clipping input data to the valid range for imshow with RGB data ([0..1] for floats or [0..255] for integers).\n",
      "WARNING:matplotlib.image:Clipping input data to the valid range for imshow with RGB data ([0..1] for floats or [0..255] for integers).\n",
      "WARNING:matplotlib.image:Clipping input data to the valid range for imshow with RGB data ([0..1] for floats or [0..255] for integers).\n",
      "WARNING:matplotlib.image:Clipping input data to the valid range for imshow with RGB data ([0..1] for floats or [0..255] for integers).\n",
      "WARNING:matplotlib.image:Clipping input data to the valid range for imshow with RGB data ([0..1] for floats or [0..255] for integers).\n",
      "WARNING:matplotlib.image:Clipping input data to the valid range for imshow with RGB data ([0..1] for floats or [0..255] for integers).\n"
     ]
    },
    {
     "name": "stdout",
     "output_type": "stream",
     "text": [
      "2/2 [==============================] - 0s 14ms/step\n",
      "Discriminator Loss: 0.1699952299659344\n"
     ]
    },
    {
     "name": "stderr",
     "output_type": "stream",
     "text": [
      "WARNING:matplotlib.image:Clipping input data to the valid range for imshow with RGB data ([0..1] for floats or [0..255] for integers).\n",
      "WARNING:matplotlib.image:Clipping input data to the valid range for imshow with RGB data ([0..1] for floats or [0..255] for integers).\n"
     ]
    },
    {
     "name": "stdout",
     "output_type": "stream",
     "text": [
      "Generator Loss: [0.32964861392974854, 0.327084481716156, 0.001282065873965621]\n"
     ]
    },
    {
     "name": "stderr",
     "output_type": "stream",
     "text": [
      "WARNING:matplotlib.image:Clipping input data to the valid range for imshow with RGB data ([0..1] for floats or [0..255] for integers).\n",
      "WARNING:matplotlib.image:Clipping input data to the valid range for imshow with RGB data ([0..1] for floats or [0..255] for integers).\n",
      "WARNING:matplotlib.image:Clipping input data to the valid range for imshow with RGB data ([0..1] for floats or [0..255] for integers).\n",
      "WARNING:matplotlib.image:Clipping input data to the valid range for imshow with RGB data ([0..1] for floats or [0..255] for integers).\n",
      "WARNING:matplotlib.image:Clipping input data to the valid range for imshow with RGB data ([0..1] for floats or [0..255] for integers).\n",
      "WARNING:matplotlib.image:Clipping input data to the valid range for imshow with RGB data ([0..1] for floats or [0..255] for integers).\n",
      "WARNING:matplotlib.image:Clipping input data to the valid range for imshow with RGB data ([0..1] for floats or [0..255] for integers).\n",
      "WARNING:matplotlib.image:Clipping input data to the valid range for imshow with RGB data ([0..1] for floats or [0..255] for integers).\n"
     ]
    },
    {
     "name": "stdout",
     "output_type": "stream",
     "text": [
      "2/2 [==============================] - 0s 14ms/step\n",
      "Discriminator Loss: 0.1676368082553381\n"
     ]
    },
    {
     "name": "stderr",
     "output_type": "stream",
     "text": [
      "WARNING:matplotlib.image:Clipping input data to the valid range for imshow with RGB data ([0..1] for floats or [0..255] for integers).\n"
     ]
    },
    {
     "name": "stdout",
     "output_type": "stream",
     "text": [
      "Generator Loss: [0.35142379999160767, 0.34917861223220825, 0.0011225922498852015]\n"
     ]
    },
    {
     "name": "stderr",
     "output_type": "stream",
     "text": [
      "WARNING:matplotlib.image:Clipping input data to the valid range for imshow with RGB data ([0..1] for floats or [0..255] for integers).\n",
      "WARNING:matplotlib.image:Clipping input data to the valid range for imshow with RGB data ([0..1] for floats or [0..255] for integers).\n",
      "WARNING:matplotlib.image:Clipping input data to the valid range for imshow with RGB data ([0..1] for floats or [0..255] for integers).\n",
      "WARNING:matplotlib.image:Clipping input data to the valid range for imshow with RGB data ([0..1] for floats or [0..255] for integers).\n",
      "WARNING:matplotlib.image:Clipping input data to the valid range for imshow with RGB data ([0..1] for floats or [0..255] for integers).\n",
      "WARNING:matplotlib.image:Clipping input data to the valid range for imshow with RGB data ([0..1] for floats or [0..255] for integers).\n",
      "WARNING:matplotlib.image:Clipping input data to the valid range for imshow with RGB data ([0..1] for floats or [0..255] for integers).\n",
      "WARNING:matplotlib.image:Clipping input data to the valid range for imshow with RGB data ([0..1] for floats or [0..255] for integers).\n",
      "WARNING:matplotlib.image:Clipping input data to the valid range for imshow with RGB data ([0..1] for floats or [0..255] for integers).\n"
     ]
    },
    {
     "name": "stdout",
     "output_type": "stream",
     "text": [
      "2/2 [==============================] - 0s 17ms/step\n",
      "Discriminator Loss: 0.18279491207795218\n"
     ]
    },
    {
     "name": "stderr",
     "output_type": "stream",
     "text": [
      "WARNING:matplotlib.image:Clipping input data to the valid range for imshow with RGB data ([0..1] for floats or [0..255] for integers).\n"
     ]
    },
    {
     "name": "stdout",
     "output_type": "stream",
     "text": [
      "Generator Loss: [0.45124751329421997, 0.4489346146583557, 0.0011564460583031178]\n"
     ]
    },
    {
     "name": "stderr",
     "output_type": "stream",
     "text": [
      "WARNING:matplotlib.image:Clipping input data to the valid range for imshow with RGB data ([0..1] for floats or [0..255] for integers).\n",
      "WARNING:matplotlib.image:Clipping input data to the valid range for imshow with RGB data ([0..1] for floats or [0..255] for integers).\n",
      "WARNING:matplotlib.image:Clipping input data to the valid range for imshow with RGB data ([0..1] for floats or [0..255] for integers).\n",
      "WARNING:matplotlib.image:Clipping input data to the valid range for imshow with RGB data ([0..1] for floats or [0..255] for integers).\n",
      "WARNING:matplotlib.image:Clipping input data to the valid range for imshow with RGB data ([0..1] for floats or [0..255] for integers).\n",
      "WARNING:matplotlib.image:Clipping input data to the valid range for imshow with RGB data ([0..1] for floats or [0..255] for integers).\n",
      "WARNING:matplotlib.image:Clipping input data to the valid range for imshow with RGB data ([0..1] for floats or [0..255] for integers).\n",
      "WARNING:matplotlib.image:Clipping input data to the valid range for imshow with RGB data ([0..1] for floats or [0..255] for integers).\n",
      "WARNING:matplotlib.image:Clipping input data to the valid range for imshow with RGB data ([0..1] for floats or [0..255] for integers).\n"
     ]
    },
    {
     "name": "stdout",
     "output_type": "stream",
     "text": [
      "2/2 [==============================] - 0s 15ms/step\n",
      "Discriminator Loss: 0.1822815996947611\n"
     ]
    },
    {
     "name": "stderr",
     "output_type": "stream",
     "text": [
      "WARNING:matplotlib.image:Clipping input data to the valid range for imshow with RGB data ([0..1] for floats or [0..255] for integers).\n",
      "WARNING:matplotlib.image:Clipping input data to the valid range for imshow with RGB data ([0..1] for floats or [0..255] for integers).\n"
     ]
    },
    {
     "name": "stdout",
     "output_type": "stream",
     "text": [
      "Generator Loss: [0.3702956438064575, 0.3680974245071411, 0.0010991133749485016]\n"
     ]
    },
    {
     "name": "stderr",
     "output_type": "stream",
     "text": [
      "WARNING:matplotlib.image:Clipping input data to the valid range for imshow with RGB data ([0..1] for floats or [0..255] for integers).\n",
      "WARNING:matplotlib.image:Clipping input data to the valid range for imshow with RGB data ([0..1] for floats or [0..255] for integers).\n",
      "WARNING:matplotlib.image:Clipping input data to the valid range for imshow with RGB data ([0..1] for floats or [0..255] for integers).\n",
      "WARNING:matplotlib.image:Clipping input data to the valid range for imshow with RGB data ([0..1] for floats or [0..255] for integers).\n",
      "WARNING:matplotlib.image:Clipping input data to the valid range for imshow with RGB data ([0..1] for floats or [0..255] for integers).\n",
      "WARNING:matplotlib.image:Clipping input data to the valid range for imshow with RGB data ([0..1] for floats or [0..255] for integers).\n",
      "WARNING:matplotlib.image:Clipping input data to the valid range for imshow with RGB data ([0..1] for floats or [0..255] for integers).\n",
      "WARNING:matplotlib.image:Clipping input data to the valid range for imshow with RGB data ([0..1] for floats or [0..255] for integers).\n"
     ]
    },
    {
     "name": "stdout",
     "output_type": "stream",
     "text": [
      "2/2 [==============================] - 0s 15ms/step\n",
      "Discriminator Loss: 0.16425416101628798\n"
     ]
    },
    {
     "name": "stderr",
     "output_type": "stream",
     "text": [
      "WARNING:matplotlib.image:Clipping input data to the valid range for imshow with RGB data ([0..1] for floats or [0..255] for integers).\n",
      "WARNING:matplotlib.image:Clipping input data to the valid range for imshow with RGB data ([0..1] for floats or [0..255] for integers).\n"
     ]
    },
    {
     "name": "stdout",
     "output_type": "stream",
     "text": [
      "Generator Loss: [0.38869592547416687, 0.3865468502044678, 0.0010745381005108356]\n"
     ]
    },
    {
     "name": "stderr",
     "output_type": "stream",
     "text": [
      "WARNING:matplotlib.image:Clipping input data to the valid range for imshow with RGB data ([0..1] for floats or [0..255] for integers).\n",
      "WARNING:matplotlib.image:Clipping input data to the valid range for imshow with RGB data ([0..1] for floats or [0..255] for integers).\n",
      "WARNING:matplotlib.image:Clipping input data to the valid range for imshow with RGB data ([0..1] for floats or [0..255] for integers).\n",
      "WARNING:matplotlib.image:Clipping input data to the valid range for imshow with RGB data ([0..1] for floats or [0..255] for integers).\n",
      "WARNING:matplotlib.image:Clipping input data to the valid range for imshow with RGB data ([0..1] for floats or [0..255] for integers).\n",
      "WARNING:matplotlib.image:Clipping input data to the valid range for imshow with RGB data ([0..1] for floats or [0..255] for integers).\n",
      "WARNING:matplotlib.image:Clipping input data to the valid range for imshow with RGB data ([0..1] for floats or [0..255] for integers).\n",
      "WARNING:matplotlib.image:Clipping input data to the valid range for imshow with RGB data ([0..1] for floats or [0..255] for integers).\n"
     ]
    },
    {
     "name": "stdout",
     "output_type": "stream",
     "text": [
      "2/2 [==============================] - 0s 15ms/step\n",
      "Discriminator Loss: 0.16714221453548816\n"
     ]
    },
    {
     "name": "stderr",
     "output_type": "stream",
     "text": [
      "WARNING:matplotlib.image:Clipping input data to the valid range for imshow with RGB data ([0..1] for floats or [0..255] for integers).\n",
      "WARNING:matplotlib.image:Clipping input data to the valid range for imshow with RGB data ([0..1] for floats or [0..255] for integers).\n"
     ]
    },
    {
     "name": "stdout",
     "output_type": "stream",
     "text": [
      "Generator Loss: [0.33197176456451416, 0.32971566915512085, 0.0011280494509264827]\n"
     ]
    },
    {
     "name": "stderr",
     "output_type": "stream",
     "text": [
      "WARNING:matplotlib.image:Clipping input data to the valid range for imshow with RGB data ([0..1] for floats or [0..255] for integers).\n",
      "WARNING:matplotlib.image:Clipping input data to the valid range for imshow with RGB data ([0..1] for floats or [0..255] for integers).\n",
      "WARNING:matplotlib.image:Clipping input data to the valid range for imshow with RGB data ([0..1] for floats or [0..255] for integers).\n",
      "WARNING:matplotlib.image:Clipping input data to the valid range for imshow with RGB data ([0..1] for floats or [0..255] for integers).\n",
      "WARNING:matplotlib.image:Clipping input data to the valid range for imshow with RGB data ([0..1] for floats or [0..255] for integers).\n",
      "WARNING:matplotlib.image:Clipping input data to the valid range for imshow with RGB data ([0..1] for floats or [0..255] for integers).\n",
      "WARNING:matplotlib.image:Clipping input data to the valid range for imshow with RGB data ([0..1] for floats or [0..255] for integers).\n",
      "WARNING:matplotlib.image:Clipping input data to the valid range for imshow with RGB data ([0..1] for floats or [0..255] for integers).\n"
     ]
    },
    {
     "name": "stdout",
     "output_type": "stream",
     "text": [
      "2/2 [==============================] - 0s 15ms/step\n",
      "Discriminator Loss: 0.16870891696453327\n"
     ]
    },
    {
     "name": "stderr",
     "output_type": "stream",
     "text": [
      "WARNING:matplotlib.image:Clipping input data to the valid range for imshow with RGB data ([0..1] for floats or [0..255] for integers).\n",
      "WARNING:matplotlib.image:Clipping input data to the valid range for imshow with RGB data ([0..1] for floats or [0..255] for integers).\n"
     ]
    },
    {
     "name": "stdout",
     "output_type": "stream",
     "text": [
      "Generator Loss: [0.3416307866573334, 0.3390541076660156, 0.001288343919441104]\n"
     ]
    },
    {
     "name": "stderr",
     "output_type": "stream",
     "text": [
      "WARNING:matplotlib.image:Clipping input data to the valid range for imshow with RGB data ([0..1] for floats or [0..255] for integers).\n",
      "WARNING:matplotlib.image:Clipping input data to the valid range for imshow with RGB data ([0..1] for floats or [0..255] for integers).\n",
      "WARNING:matplotlib.image:Clipping input data to the valid range for imshow with RGB data ([0..1] for floats or [0..255] for integers).\n",
      "WARNING:matplotlib.image:Clipping input data to the valid range for imshow with RGB data ([0..1] for floats or [0..255] for integers).\n",
      "WARNING:matplotlib.image:Clipping input data to the valid range for imshow with RGB data ([0..1] for floats or [0..255] for integers).\n",
      "WARNING:matplotlib.image:Clipping input data to the valid range for imshow with RGB data ([0..1] for floats or [0..255] for integers).\n",
      "WARNING:matplotlib.image:Clipping input data to the valid range for imshow with RGB data ([0..1] for floats or [0..255] for integers).\n",
      "WARNING:matplotlib.image:Clipping input data to the valid range for imshow with RGB data ([0..1] for floats or [0..255] for integers).\n"
     ]
    },
    {
     "name": "stdout",
     "output_type": "stream",
     "text": [
      "2/2 [==============================] - 0s 14ms/step\n",
      "Discriminator Loss: 0.16632556264084997\n"
     ]
    },
    {
     "name": "stderr",
     "output_type": "stream",
     "text": [
      "WARNING:matplotlib.image:Clipping input data to the valid range for imshow with RGB data ([0..1] for floats or [0..255] for integers).\n",
      "WARNING:matplotlib.image:Clipping input data to the valid range for imshow with RGB data ([0..1] for floats or [0..255] for integers).\n"
     ]
    },
    {
     "name": "stdout",
     "output_type": "stream",
     "text": [
      "Generator Loss: [0.3580024838447571, 0.3560272753238678, 0.0009876105468720198]\n"
     ]
    },
    {
     "name": "stderr",
     "output_type": "stream",
     "text": [
      "WARNING:matplotlib.image:Clipping input data to the valid range for imshow with RGB data ([0..1] for floats or [0..255] for integers).\n",
      "WARNING:matplotlib.image:Clipping input data to the valid range for imshow with RGB data ([0..1] for floats or [0..255] for integers).\n",
      "WARNING:matplotlib.image:Clipping input data to the valid range for imshow with RGB data ([0..1] for floats or [0..255] for integers).\n",
      "WARNING:matplotlib.image:Clipping input data to the valid range for imshow with RGB data ([0..1] for floats or [0..255] for integers).\n",
      "WARNING:matplotlib.image:Clipping input data to the valid range for imshow with RGB data ([0..1] for floats or [0..255] for integers).\n",
      "WARNING:matplotlib.image:Clipping input data to the valid range for imshow with RGB data ([0..1] for floats or [0..255] for integers).\n",
      "WARNING:matplotlib.image:Clipping input data to the valid range for imshow with RGB data ([0..1] for floats or [0..255] for integers).\n",
      "WARNING:matplotlib.image:Clipping input data to the valid range for imshow with RGB data ([0..1] for floats or [0..255] for integers).\n"
     ]
    },
    {
     "name": "stdout",
     "output_type": "stream",
     "text": [
      "2/2 [==============================] - 0s 14ms/step\n",
      "Discriminator Loss: 0.17509101399127758\n"
     ]
    },
    {
     "name": "stderr",
     "output_type": "stream",
     "text": [
      "WARNING:matplotlib.image:Clipping input data to the valid range for imshow with RGB data ([0..1] for floats or [0..255] for integers).\n",
      "WARNING:matplotlib.image:Clipping input data to the valid range for imshow with RGB data ([0..1] for floats or [0..255] for integers).\n"
     ]
    },
    {
     "name": "stdout",
     "output_type": "stream",
     "text": [
      "Generator Loss: [0.3284602761268616, 0.3265739977359772, 0.000943132909014821]\n"
     ]
    },
    {
     "name": "stderr",
     "output_type": "stream",
     "text": [
      "WARNING:matplotlib.image:Clipping input data to the valid range for imshow with RGB data ([0..1] for floats or [0..255] for integers).\n",
      "WARNING:matplotlib.image:Clipping input data to the valid range for imshow with RGB data ([0..1] for floats or [0..255] for integers).\n",
      "WARNING:matplotlib.image:Clipping input data to the valid range for imshow with RGB data ([0..1] for floats or [0..255] for integers).\n",
      "WARNING:matplotlib.image:Clipping input data to the valid range for imshow with RGB data ([0..1] for floats or [0..255] for integers).\n",
      "WARNING:matplotlib.image:Clipping input data to the valid range for imshow with RGB data ([0..1] for floats or [0..255] for integers).\n",
      "WARNING:matplotlib.image:Clipping input data to the valid range for imshow with RGB data ([0..1] for floats or [0..255] for integers).\n",
      "WARNING:matplotlib.image:Clipping input data to the valid range for imshow with RGB data ([0..1] for floats or [0..255] for integers).\n",
      "WARNING:matplotlib.image:Clipping input data to the valid range for imshow with RGB data ([0..1] for floats or [0..255] for integers).\n"
     ]
    },
    {
     "name": "stdout",
     "output_type": "stream",
     "text": [
      "2/2 [==============================] - 0s 15ms/step\n",
      "Discriminator Loss: 0.1634475983005359\n"
     ]
    },
    {
     "name": "stderr",
     "output_type": "stream",
     "text": [
      "WARNING:matplotlib.image:Clipping input data to the valid range for imshow with RGB data ([0..1] for floats or [0..255] for integers).\n",
      "WARNING:matplotlib.image:Clipping input data to the valid range for imshow with RGB data ([0..1] for floats or [0..255] for integers).\n"
     ]
    },
    {
     "name": "stdout",
     "output_type": "stream",
     "text": [
      "Generator Loss: [0.3279673755168915, 0.32644614577293396, 0.000760617374908179]\n"
     ]
    },
    {
     "name": "stderr",
     "output_type": "stream",
     "text": [
      "WARNING:matplotlib.image:Clipping input data to the valid range for imshow with RGB data ([0..1] for floats or [0..255] for integers).\n",
      "WARNING:matplotlib.image:Clipping input data to the valid range for imshow with RGB data ([0..1] for floats or [0..255] for integers).\n",
      "WARNING:matplotlib.image:Clipping input data to the valid range for imshow with RGB data ([0..1] for floats or [0..255] for integers).\n",
      "WARNING:matplotlib.image:Clipping input data to the valid range for imshow with RGB data ([0..1] for floats or [0..255] for integers).\n",
      "WARNING:matplotlib.image:Clipping input data to the valid range for imshow with RGB data ([0..1] for floats or [0..255] for integers).\n",
      "WARNING:matplotlib.image:Clipping input data to the valid range for imshow with RGB data ([0..1] for floats or [0..255] for integers).\n",
      "WARNING:matplotlib.image:Clipping input data to the valid range for imshow with RGB data ([0..1] for floats or [0..255] for integers).\n",
      "WARNING:matplotlib.image:Clipping input data to the valid range for imshow with RGB data ([0..1] for floats or [0..255] for integers).\n"
     ]
    },
    {
     "name": "stdout",
     "output_type": "stream",
     "text": [
      "2/2 [==============================] - 0s 14ms/step\n",
      "Discriminator Loss: 0.1643428481115734\n"
     ]
    },
    {
     "name": "stderr",
     "output_type": "stream",
     "text": [
      "WARNING:matplotlib.image:Clipping input data to the valid range for imshow with RGB data ([0..1] for floats or [0..255] for integers).\n",
      "WARNING:matplotlib.image:Clipping input data to the valid range for imshow with RGB data ([0..1] for floats or [0..255] for integers).\n"
     ]
    },
    {
     "name": "stdout",
     "output_type": "stream",
     "text": [
      "Generator Loss: [0.32983872294425964, 0.3278132677078247, 0.0010127285495400429]\n"
     ]
    },
    {
     "name": "stderr",
     "output_type": "stream",
     "text": [
      "WARNING:matplotlib.image:Clipping input data to the valid range for imshow with RGB data ([0..1] for floats or [0..255] for integers).\n",
      "WARNING:matplotlib.image:Clipping input data to the valid range for imshow with RGB data ([0..1] for floats or [0..255] for integers).\n",
      "WARNING:matplotlib.image:Clipping input data to the valid range for imshow with RGB data ([0..1] for floats or [0..255] for integers).\n",
      "WARNING:matplotlib.image:Clipping input data to the valid range for imshow with RGB data ([0..1] for floats or [0..255] for integers).\n",
      "WARNING:matplotlib.image:Clipping input data to the valid range for imshow with RGB data ([0..1] for floats or [0..255] for integers).\n",
      "WARNING:matplotlib.image:Clipping input data to the valid range for imshow with RGB data ([0..1] for floats or [0..255] for integers).\n",
      "WARNING:matplotlib.image:Clipping input data to the valid range for imshow with RGB data ([0..1] for floats or [0..255] for integers).\n",
      "WARNING:matplotlib.image:Clipping input data to the valid range for imshow with RGB data ([0..1] for floats or [0..255] for integers).\n"
     ]
    },
    {
     "name": "stdout",
     "output_type": "stream",
     "text": [
      "2/2 [==============================] - 0s 14ms/step\n",
      "Discriminator Loss: 0.1638206550533141\n"
     ]
    },
    {
     "name": "stderr",
     "output_type": "stream",
     "text": [
      "WARNING:matplotlib.image:Clipping input data to the valid range for imshow with RGB data ([0..1] for floats or [0..255] for integers).\n",
      "WARNING:matplotlib.image:Clipping input data to the valid range for imshow with RGB data ([0..1] for floats or [0..255] for integers).\n"
     ]
    },
    {
     "name": "stdout",
     "output_type": "stream",
     "text": [
      "Generator Loss: [0.3350582718849182, 0.3331434428691864, 0.000957409618422389]\n"
     ]
    },
    {
     "name": "stderr",
     "output_type": "stream",
     "text": [
      "WARNING:matplotlib.image:Clipping input data to the valid range for imshow with RGB data ([0..1] for floats or [0..255] for integers).\n",
      "WARNING:matplotlib.image:Clipping input data to the valid range for imshow with RGB data ([0..1] for floats or [0..255] for integers).\n",
      "WARNING:matplotlib.image:Clipping input data to the valid range for imshow with RGB data ([0..1] for floats or [0..255] for integers).\n",
      "WARNING:matplotlib.image:Clipping input data to the valid range for imshow with RGB data ([0..1] for floats or [0..255] for integers).\n",
      "WARNING:matplotlib.image:Clipping input data to the valid range for imshow with RGB data ([0..1] for floats or [0..255] for integers).\n",
      "WARNING:matplotlib.image:Clipping input data to the valid range for imshow with RGB data ([0..1] for floats or [0..255] for integers).\n",
      "WARNING:matplotlib.image:Clipping input data to the valid range for imshow with RGB data ([0..1] for floats or [0..255] for integers).\n",
      "WARNING:matplotlib.image:Clipping input data to the valid range for imshow with RGB data ([0..1] for floats or [0..255] for integers).\n"
     ]
    },
    {
     "name": "stdout",
     "output_type": "stream",
     "text": [
      "2/2 [==============================] - 0s 14ms/step\n",
      "Discriminator Loss: 0.1650939573883079\n"
     ]
    },
    {
     "name": "stderr",
     "output_type": "stream",
     "text": [
      "WARNING:matplotlib.image:Clipping input data to the valid range for imshow with RGB data ([0..1] for floats or [0..255] for integers).\n",
      "WARNING:matplotlib.image:Clipping input data to the valid range for imshow with RGB data ([0..1] for floats or [0..255] for integers).\n"
     ]
    },
    {
     "name": "stdout",
     "output_type": "stream",
     "text": [
      "Generator Loss: [0.3349127173423767, 0.3327100872993469, 0.0011013124603778124]\n"
     ]
    },
    {
     "name": "stderr",
     "output_type": "stream",
     "text": [
      "WARNING:matplotlib.image:Clipping input data to the valid range for imshow with RGB data ([0..1] for floats or [0..255] for integers).\n",
      "WARNING:matplotlib.image:Clipping input data to the valid range for imshow with RGB data ([0..1] for floats or [0..255] for integers).\n",
      "WARNING:matplotlib.image:Clipping input data to the valid range for imshow with RGB data ([0..1] for floats or [0..255] for integers).\n",
      "WARNING:matplotlib.image:Clipping input data to the valid range for imshow with RGB data ([0..1] for floats or [0..255] for integers).\n",
      "WARNING:matplotlib.image:Clipping input data to the valid range for imshow with RGB data ([0..1] for floats or [0..255] for integers).\n",
      "WARNING:matplotlib.image:Clipping input data to the valid range for imshow with RGB data ([0..1] for floats or [0..255] for integers).\n",
      "WARNING:matplotlib.image:Clipping input data to the valid range for imshow with RGB data ([0..1] for floats or [0..255] for integers).\n",
      "WARNING:matplotlib.image:Clipping input data to the valid range for imshow with RGB data ([0..1] for floats or [0..255] for integers).\n"
     ]
    },
    {
     "name": "stdout",
     "output_type": "stream",
     "text": [
      "2/2 [==============================] - 0s 15ms/step\n",
      "Discriminator Loss: 0.16656488342596276\n"
     ]
    },
    {
     "name": "stderr",
     "output_type": "stream",
     "text": [
      "WARNING:matplotlib.image:Clipping input data to the valid range for imshow with RGB data ([0..1] for floats or [0..255] for integers).\n",
      "WARNING:matplotlib.image:Clipping input data to the valid range for imshow with RGB data ([0..1] for floats or [0..255] for integers).\n"
     ]
    },
    {
     "name": "stdout",
     "output_type": "stream",
     "text": [
      "Generator Loss: [0.4681478440761566, 0.4661793112754822, 0.0009842619765549898]\n"
     ]
    },
    {
     "name": "stderr",
     "output_type": "stream",
     "text": [
      "WARNING:matplotlib.image:Clipping input data to the valid range for imshow with RGB data ([0..1] for floats or [0..255] for integers).\n",
      "WARNING:matplotlib.image:Clipping input data to the valid range for imshow with RGB data ([0..1] for floats or [0..255] for integers).\n",
      "WARNING:matplotlib.image:Clipping input data to the valid range for imshow with RGB data ([0..1] for floats or [0..255] for integers).\n",
      "WARNING:matplotlib.image:Clipping input data to the valid range for imshow with RGB data ([0..1] for floats or [0..255] for integers).\n",
      "WARNING:matplotlib.image:Clipping input data to the valid range for imshow with RGB data ([0..1] for floats or [0..255] for integers).\n",
      "WARNING:matplotlib.image:Clipping input data to the valid range for imshow with RGB data ([0..1] for floats or [0..255] for integers).\n",
      "WARNING:matplotlib.image:Clipping input data to the valid range for imshow with RGB data ([0..1] for floats or [0..255] for integers).\n",
      "WARNING:matplotlib.image:Clipping input data to the valid range for imshow with RGB data ([0..1] for floats or [0..255] for integers).\n"
     ]
    },
    {
     "name": "stdout",
     "output_type": "stream",
     "text": [
      "2/2 [==============================] - 0s 16ms/step\n",
      "Discriminator Loss: 0.1711461480778098"
     ]
    },
    {
     "name": "stderr",
     "output_type": "stream",
     "text": [
      "WARNING:matplotlib.image:Clipping input data to the valid range for imshow with RGB data ([0..1] for floats or [0..255] for integers).\n"
     ]
    },
    {
     "name": "stdout",
     "output_type": "stream",
     "text": [
      "\n",
      "Generator Loss: [0.328888863325119, 0.326418936252594, 0.001234964351169765]\n"
     ]
    },
    {
     "name": "stderr",
     "output_type": "stream",
     "text": [
      "WARNING:matplotlib.image:Clipping input data to the valid range for imshow with RGB data ([0..1] for floats or [0..255] for integers).\n",
      "WARNING:matplotlib.image:Clipping input data to the valid range for imshow with RGB data ([0..1] for floats or [0..255] for integers).\n",
      "WARNING:matplotlib.image:Clipping input data to the valid range for imshow with RGB data ([0..1] for floats or [0..255] for integers).\n",
      "WARNING:matplotlib.image:Clipping input data to the valid range for imshow with RGB data ([0..1] for floats or [0..255] for integers).\n",
      "WARNING:matplotlib.image:Clipping input data to the valid range for imshow with RGB data ([0..1] for floats or [0..255] for integers).\n",
      "WARNING:matplotlib.image:Clipping input data to the valid range for imshow with RGB data ([0..1] for floats or [0..255] for integers).\n",
      "WARNING:matplotlib.image:Clipping input data to the valid range for imshow with RGB data ([0..1] for floats or [0..255] for integers).\n",
      "WARNING:matplotlib.image:Clipping input data to the valid range for imshow with RGB data ([0..1] for floats or [0..255] for integers).\n",
      "WARNING:matplotlib.image:Clipping input data to the valid range for imshow with RGB data ([0..1] for floats or [0..255] for integers).\n"
     ]
    },
    {
     "name": "stdout",
     "output_type": "stream",
     "text": [
      "2/2 [==============================] - 0s 15ms/step\n",
      "Discriminator Loss: 0.17541944434447032\n"
     ]
    },
    {
     "name": "stderr",
     "output_type": "stream",
     "text": [
      "WARNING:matplotlib.image:Clipping input data to the valid range for imshow with RGB data ([0..1] for floats or [0..255] for integers).\n",
      "WARNING:matplotlib.image:Clipping input data to the valid range for imshow with RGB data ([0..1] for floats or [0..255] for integers).\n"
     ]
    },
    {
     "name": "stdout",
     "output_type": "stream",
     "text": [
      "Generator Loss: [0.3532147705554962, 0.35107874870300293, 0.0010680126724764705]\n"
     ]
    },
    {
     "name": "stderr",
     "output_type": "stream",
     "text": [
      "WARNING:matplotlib.image:Clipping input data to the valid range for imshow with RGB data ([0..1] for floats or [0..255] for integers).\n",
      "WARNING:matplotlib.image:Clipping input data to the valid range for imshow with RGB data ([0..1] for floats or [0..255] for integers).\n",
      "WARNING:matplotlib.image:Clipping input data to the valid range for imshow with RGB data ([0..1] for floats or [0..255] for integers).\n",
      "WARNING:matplotlib.image:Clipping input data to the valid range for imshow with RGB data ([0..1] for floats or [0..255] for integers).\n",
      "WARNING:matplotlib.image:Clipping input data to the valid range for imshow with RGB data ([0..1] for floats or [0..255] for integers).\n",
      "WARNING:matplotlib.image:Clipping input data to the valid range for imshow with RGB data ([0..1] for floats or [0..255] for integers).\n",
      "WARNING:matplotlib.image:Clipping input data to the valid range for imshow with RGB data ([0..1] for floats or [0..255] for integers).\n",
      "WARNING:matplotlib.image:Clipping input data to the valid range for imshow with RGB data ([0..1] for floats or [0..255] for integers).\n"
     ]
    },
    {
     "name": "stdout",
     "output_type": "stream",
     "text": [
      "2/2 [==============================] - 0s 14ms/step\n",
      "Discriminator Loss: 0.19315669859815898\n"
     ]
    },
    {
     "name": "stderr",
     "output_type": "stream",
     "text": [
      "WARNING:matplotlib.image:Clipping input data to the valid range for imshow with RGB data ([0..1] for floats or [0..255] for integers).\n",
      "WARNING:matplotlib.image:Clipping input data to the valid range for imshow with RGB data ([0..1] for floats or [0..255] for integers).\n"
     ]
    },
    {
     "name": "stdout",
     "output_type": "stream",
     "text": [
      "Generator Loss: [0.33105525374412537, 0.3291296362876892, 0.0009628133848309517]\n"
     ]
    },
    {
     "name": "stderr",
     "output_type": "stream",
     "text": [
      "WARNING:matplotlib.image:Clipping input data to the valid range for imshow with RGB data ([0..1] for floats or [0..255] for integers).\n",
      "WARNING:matplotlib.image:Clipping input data to the valid range for imshow with RGB data ([0..1] for floats or [0..255] for integers).\n",
      "WARNING:matplotlib.image:Clipping input data to the valid range for imshow with RGB data ([0..1] for floats or [0..255] for integers).\n",
      "WARNING:matplotlib.image:Clipping input data to the valid range for imshow with RGB data ([0..1] for floats or [0..255] for integers).\n",
      "WARNING:matplotlib.image:Clipping input data to the valid range for imshow with RGB data ([0..1] for floats or [0..255] for integers).\n",
      "WARNING:matplotlib.image:Clipping input data to the valid range for imshow with RGB data ([0..1] for floats or [0..255] for integers).\n",
      "WARNING:matplotlib.image:Clipping input data to the valid range for imshow with RGB data ([0..1] for floats or [0..255] for integers).\n",
      "WARNING:matplotlib.image:Clipping input data to the valid range for imshow with RGB data ([0..1] for floats or [0..255] for integers).\n"
     ]
    },
    {
     "name": "stdout",
     "output_type": "stream",
     "text": [
      "2/2 [==============================] - 0s 14ms/step\n",
      "Discriminator Loss: 0.1690988003720122\n"
     ]
    },
    {
     "name": "stderr",
     "output_type": "stream",
     "text": [
      "WARNING:matplotlib.image:Clipping input data to the valid range for imshow with RGB data ([0..1] for floats or [0..255] for integers).\n",
      "WARNING:matplotlib.image:Clipping input data to the valid range for imshow with RGB data ([0..1] for floats or [0..255] for integers).\n"
     ]
    },
    {
     "name": "stdout",
     "output_type": "stream",
     "text": [
      "Generator Loss: [0.339456707239151, 0.3371143341064453, 0.001171188778243959]\n"
     ]
    },
    {
     "name": "stderr",
     "output_type": "stream",
     "text": [
      "WARNING:matplotlib.image:Clipping input data to the valid range for imshow with RGB data ([0..1] for floats or [0..255] for integers).\n",
      "WARNING:matplotlib.image:Clipping input data to the valid range for imshow with RGB data ([0..1] for floats or [0..255] for integers).\n",
      "WARNING:matplotlib.image:Clipping input data to the valid range for imshow with RGB data ([0..1] for floats or [0..255] for integers).\n",
      "WARNING:matplotlib.image:Clipping input data to the valid range for imshow with RGB data ([0..1] for floats or [0..255] for integers).\n",
      "WARNING:matplotlib.image:Clipping input data to the valid range for imshow with RGB data ([0..1] for floats or [0..255] for integers).\n",
      "WARNING:matplotlib.image:Clipping input data to the valid range for imshow with RGB data ([0..1] for floats or [0..255] for integers).\n",
      "WARNING:matplotlib.image:Clipping input data to the valid range for imshow with RGB data ([0..1] for floats or [0..255] for integers).\n",
      "WARNING:matplotlib.image:Clipping input data to the valid range for imshow with RGB data ([0..1] for floats or [0..255] for integers).\n"
     ]
    },
    {
     "name": "stdout",
     "output_type": "stream",
     "text": [
      "2/2 [==============================] - 0s 14ms/step\n",
      "Discriminator Loss: 0.17045024776052742\n"
     ]
    },
    {
     "name": "stderr",
     "output_type": "stream",
     "text": [
      "WARNING:matplotlib.image:Clipping input data to the valid range for imshow with RGB data ([0..1] for floats or [0..255] for integers).\n",
      "WARNING:matplotlib.image:Clipping input data to the valid range for imshow with RGB data ([0..1] for floats or [0..255] for integers).\n"
     ]
    },
    {
     "name": "stdout",
     "output_type": "stream",
     "text": [
      "Generator Loss: [0.3275028467178345, 0.3258702754974365, 0.0008162871235981584]\n"
     ]
    },
    {
     "name": "stderr",
     "output_type": "stream",
     "text": [
      "WARNING:matplotlib.image:Clipping input data to the valid range for imshow with RGB data ([0..1] for floats or [0..255] for integers).\n",
      "WARNING:matplotlib.image:Clipping input data to the valid range for imshow with RGB data ([0..1] for floats or [0..255] for integers).\n",
      "WARNING:matplotlib.image:Clipping input data to the valid range for imshow with RGB data ([0..1] for floats or [0..255] for integers).\n",
      "WARNING:matplotlib.image:Clipping input data to the valid range for imshow with RGB data ([0..1] for floats or [0..255] for integers).\n",
      "WARNING:matplotlib.image:Clipping input data to the valid range for imshow with RGB data ([0..1] for floats or [0..255] for integers).\n",
      "WARNING:matplotlib.image:Clipping input data to the valid range for imshow with RGB data ([0..1] for floats or [0..255] for integers).\n",
      "WARNING:matplotlib.image:Clipping input data to the valid range for imshow with RGB data ([0..1] for floats or [0..255] for integers).\n",
      "WARNING:matplotlib.image:Clipping input data to the valid range for imshow with RGB data ([0..1] for floats or [0..255] for integers).\n"
     ]
    },
    {
     "name": "stdout",
     "output_type": "stream",
     "text": [
      "2/2 [==============================] - 0s 15ms/step\n",
      "Discriminator Loss: 0.18158754778050934\n"
     ]
    },
    {
     "name": "stderr",
     "output_type": "stream",
     "text": [
      "WARNING:matplotlib.image:Clipping input data to the valid range for imshow with RGB data ([0..1] for floats or [0..255] for integers).\n",
      "WARNING:matplotlib.image:Clipping input data to the valid range for imshow with RGB data ([0..1] for floats or [0..255] for integers).\n"
     ]
    },
    {
     "name": "stdout",
     "output_type": "stream",
     "text": [
      "Generator Loss: [0.35333552956581116, 0.3517950177192688, 0.0007702523143962026]\n"
     ]
    },
    {
     "name": "stderr",
     "output_type": "stream",
     "text": [
      "WARNING:matplotlib.image:Clipping input data to the valid range for imshow with RGB data ([0..1] for floats or [0..255] for integers).\n",
      "WARNING:matplotlib.image:Clipping input data to the valid range for imshow with RGB data ([0..1] for floats or [0..255] for integers).\n",
      "WARNING:matplotlib.image:Clipping input data to the valid range for imshow with RGB data ([0..1] for floats or [0..255] for integers).\n",
      "WARNING:matplotlib.image:Clipping input data to the valid range for imshow with RGB data ([0..1] for floats or [0..255] for integers).\n",
      "WARNING:matplotlib.image:Clipping input data to the valid range for imshow with RGB data ([0..1] for floats or [0..255] for integers).\n",
      "WARNING:matplotlib.image:Clipping input data to the valid range for imshow with RGB data ([0..1] for floats or [0..255] for integers).\n",
      "WARNING:matplotlib.image:Clipping input data to the valid range for imshow with RGB data ([0..1] for floats or [0..255] for integers).\n",
      "WARNING:matplotlib.image:Clipping input data to the valid range for imshow with RGB data ([0..1] for floats or [0..255] for integers).\n"
     ]
    },
    {
     "name": "stdout",
     "output_type": "stream",
     "text": [
      "2/2 [==============================] - 0s 14ms/step\n",
      "Discriminator Loss: 0.16750206128739364\n"
     ]
    },
    {
     "name": "stderr",
     "output_type": "stream",
     "text": [
      "WARNING:matplotlib.image:Clipping input data to the valid range for imshow with RGB data ([0..1] for floats or [0..255] for integers).\n",
      "WARNING:matplotlib.image:Clipping input data to the valid range for imshow with RGB data ([0..1] for floats or [0..255] for integers).\n"
     ]
    },
    {
     "name": "stdout",
     "output_type": "stream",
     "text": [
      "Generator Loss: [0.32770222425460815, 0.32586944103240967, 0.0009163885843008757]\n"
     ]
    },
    {
     "name": "stderr",
     "output_type": "stream",
     "text": [
      "WARNING:matplotlib.image:Clipping input data to the valid range for imshow with RGB data ([0..1] for floats or [0..255] for integers).\n",
      "WARNING:matplotlib.image:Clipping input data to the valid range for imshow with RGB data ([0..1] for floats or [0..255] for integers).\n",
      "WARNING:matplotlib.image:Clipping input data to the valid range for imshow with RGB data ([0..1] for floats or [0..255] for integers).\n",
      "WARNING:matplotlib.image:Clipping input data to the valid range for imshow with RGB data ([0..1] for floats or [0..255] for integers).\n",
      "WARNING:matplotlib.image:Clipping input data to the valid range for imshow with RGB data ([0..1] for floats or [0..255] for integers).\n",
      "WARNING:matplotlib.image:Clipping input data to the valid range for imshow with RGB data ([0..1] for floats or [0..255] for integers).\n",
      "WARNING:matplotlib.image:Clipping input data to the valid range for imshow with RGB data ([0..1] for floats or [0..255] for integers).\n",
      "WARNING:matplotlib.image:Clipping input data to the valid range for imshow with RGB data ([0..1] for floats or [0..255] for integers).\n"
     ]
    },
    {
     "name": "stdout",
     "output_type": "stream",
     "text": [
      "2/2 [==============================] - 0s 14ms/step\n",
      "Discriminator Loss: 0.1716197830287456\n"
     ]
    },
    {
     "name": "stderr",
     "output_type": "stream",
     "text": [
      "WARNING:matplotlib.image:Clipping input data to the valid range for imshow with RGB data ([0..1] for floats or [0..255] for integers).\n",
      "WARNING:matplotlib.image:Clipping input data to the valid range for imshow with RGB data ([0..1] for floats or [0..255] for integers).\n"
     ]
    },
    {
     "name": "stdout",
     "output_type": "stream",
     "text": [
      "Generator Loss: [0.3627641201019287, 0.36083322763442993, 0.0009654398891143501]\n"
     ]
    },
    {
     "name": "stderr",
     "output_type": "stream",
     "text": [
      "WARNING:matplotlib.image:Clipping input data to the valid range for imshow with RGB data ([0..1] for floats or [0..255] for integers).\n",
      "WARNING:matplotlib.image:Clipping input data to the valid range for imshow with RGB data ([0..1] for floats or [0..255] for integers).\n",
      "WARNING:matplotlib.image:Clipping input data to the valid range for imshow with RGB data ([0..1] for floats or [0..255] for integers).\n",
      "WARNING:matplotlib.image:Clipping input data to the valid range for imshow with RGB data ([0..1] for floats or [0..255] for integers).\n",
      "WARNING:matplotlib.image:Clipping input data to the valid range for imshow with RGB data ([0..1] for floats or [0..255] for integers).\n",
      "WARNING:matplotlib.image:Clipping input data to the valid range for imshow with RGB data ([0..1] for floats or [0..255] for integers).\n",
      "WARNING:matplotlib.image:Clipping input data to the valid range for imshow with RGB data ([0..1] for floats or [0..255] for integers).\n",
      "WARNING:matplotlib.image:Clipping input data to the valid range for imshow with RGB data ([0..1] for floats or [0..255] for integers).\n"
     ]
    },
    {
     "name": "stdout",
     "output_type": "stream",
     "text": [
      "2/2 [==============================] - 0s 15ms/step\n",
      "Discriminator Loss: 0.19107032186491324\n"
     ]
    },
    {
     "name": "stderr",
     "output_type": "stream",
     "text": [
      "WARNING:matplotlib.image:Clipping input data to the valid range for imshow with RGB data ([0..1] for floats or [0..255] for integers).\n",
      "WARNING:matplotlib.image:Clipping input data to the valid range for imshow with RGB data ([0..1] for floats or [0..255] for integers).\n"
     ]
    },
    {
     "name": "stdout",
     "output_type": "stream",
     "text": [
      "Generator Loss: [0.3288339078426361, 0.32601726055145264, 0.0014083182904869318]\n"
     ]
    },
    {
     "name": "stderr",
     "output_type": "stream",
     "text": [
      "WARNING:matplotlib.image:Clipping input data to the valid range for imshow with RGB data ([0..1] for floats or [0..255] for integers).\n",
      "WARNING:matplotlib.image:Clipping input data to the valid range for imshow with RGB data ([0..1] for floats or [0..255] for integers).\n",
      "WARNING:matplotlib.image:Clipping input data to the valid range for imshow with RGB data ([0..1] for floats or [0..255] for integers).\n",
      "WARNING:matplotlib.image:Clipping input data to the valid range for imshow with RGB data ([0..1] for floats or [0..255] for integers).\n",
      "WARNING:matplotlib.image:Clipping input data to the valid range for imshow with RGB data ([0..1] for floats or [0..255] for integers).\n",
      "WARNING:matplotlib.image:Clipping input data to the valid range for imshow with RGB data ([0..1] for floats or [0..255] for integers).\n",
      "WARNING:matplotlib.image:Clipping input data to the valid range for imshow with RGB data ([0..1] for floats or [0..255] for integers).\n",
      "WARNING:matplotlib.image:Clipping input data to the valid range for imshow with RGB data ([0..1] for floats or [0..255] for integers).\n"
     ]
    },
    {
     "name": "stdout",
     "output_type": "stream",
     "text": [
      "2/2 [==============================] - 0s 15ms/step\n",
      "Discriminator Loss: 0.16713285901914787\n"
     ]
    },
    {
     "name": "stderr",
     "output_type": "stream",
     "text": [
      "WARNING:matplotlib.image:Clipping input data to the valid range for imshow with RGB data ([0..1] for floats or [0..255] for integers).\n",
      "WARNING:matplotlib.image:Clipping input data to the valid range for imshow with RGB data ([0..1] for floats or [0..255] for integers).\n"
     ]
    },
    {
     "name": "stdout",
     "output_type": "stream",
     "text": [
      "Generator Loss: [0.3279878497123718, 0.32620978355407715, 0.0008890348835848272]\n"
     ]
    },
    {
     "name": "stderr",
     "output_type": "stream",
     "text": [
      "WARNING:matplotlib.image:Clipping input data to the valid range for imshow with RGB data ([0..1] for floats or [0..255] for integers).\n",
      "WARNING:matplotlib.image:Clipping input data to the valid range for imshow with RGB data ([0..1] for floats or [0..255] for integers).\n",
      "WARNING:matplotlib.image:Clipping input data to the valid range for imshow with RGB data ([0..1] for floats or [0..255] for integers).\n",
      "WARNING:matplotlib.image:Clipping input data to the valid range for imshow with RGB data ([0..1] for floats or [0..255] for integers).\n",
      "WARNING:matplotlib.image:Clipping input data to the valid range for imshow with RGB data ([0..1] for floats or [0..255] for integers).\n",
      "WARNING:matplotlib.image:Clipping input data to the valid range for imshow with RGB data ([0..1] for floats or [0..255] for integers).\n",
      "WARNING:matplotlib.image:Clipping input data to the valid range for imshow with RGB data ([0..1] for floats or [0..255] for integers).\n",
      "WARNING:matplotlib.image:Clipping input data to the valid range for imshow with RGB data ([0..1] for floats or [0..255] for integers).\n"
     ]
    },
    {
     "name": "stdout",
     "output_type": "stream",
     "text": [
      "2/2 [==============================] - 0s 15ms/step\n",
      "Discriminator Loss: 0.16773653461859794\n"
     ]
    },
    {
     "name": "stderr",
     "output_type": "stream",
     "text": [
      "WARNING:matplotlib.image:Clipping input data to the valid range for imshow with RGB data ([0..1] for floats or [0..255] for integers).\n",
      "WARNING:matplotlib.image:Clipping input data to the valid range for imshow with RGB data ([0..1] for floats or [0..255] for integers).\n"
     ]
    },
    {
     "name": "stdout",
     "output_type": "stream",
     "text": [
      "Generator Loss: [0.32914188504219055, 0.3276864290237427, 0.000727728649508208]\n"
     ]
    },
    {
     "name": "stderr",
     "output_type": "stream",
     "text": [
      "WARNING:matplotlib.image:Clipping input data to the valid range for imshow with RGB data ([0..1] for floats or [0..255] for integers).\n",
      "WARNING:matplotlib.image:Clipping input data to the valid range for imshow with RGB data ([0..1] for floats or [0..255] for integers).\n",
      "WARNING:matplotlib.image:Clipping input data to the valid range for imshow with RGB data ([0..1] for floats or [0..255] for integers).\n",
      "WARNING:matplotlib.image:Clipping input data to the valid range for imshow with RGB data ([0..1] for floats or [0..255] for integers).\n",
      "WARNING:matplotlib.image:Clipping input data to the valid range for imshow with RGB data ([0..1] for floats or [0..255] for integers).\n",
      "WARNING:matplotlib.image:Clipping input data to the valid range for imshow with RGB data ([0..1] for floats or [0..255] for integers).\n",
      "WARNING:matplotlib.image:Clipping input data to the valid range for imshow with RGB data ([0..1] for floats or [0..255] for integers).\n",
      "WARNING:matplotlib.image:Clipping input data to the valid range for imshow with RGB data ([0..1] for floats or [0..255] for integers).\n"
     ]
    },
    {
     "name": "stdout",
     "output_type": "stream",
     "text": [
      "2/2 [==============================] - 0s 15ms/step\n",
      "Discriminator Loss: 0.169735772667309\n"
     ]
    },
    {
     "name": "stderr",
     "output_type": "stream",
     "text": [
      "WARNING:matplotlib.image:Clipping input data to the valid range for imshow with RGB data ([0..1] for floats or [0..255] for integers).\n",
      "WARNING:matplotlib.image:Clipping input data to the valid range for imshow with RGB data ([0..1] for floats or [0..255] for integers).\n"
     ]
    },
    {
     "name": "stdout",
     "output_type": "stream",
     "text": [
      "Generator Loss: [0.3396962881088257, 0.3376564085483551, 0.0010199418757110834]\n"
     ]
    },
    {
     "name": "stderr",
     "output_type": "stream",
     "text": [
      "WARNING:matplotlib.image:Clipping input data to the valid range for imshow with RGB data ([0..1] for floats or [0..255] for integers).\n",
      "WARNING:matplotlib.image:Clipping input data to the valid range for imshow with RGB data ([0..1] for floats or [0..255] for integers).\n",
      "WARNING:matplotlib.image:Clipping input data to the valid range for imshow with RGB data ([0..1] for floats or [0..255] for integers).\n",
      "WARNING:matplotlib.image:Clipping input data to the valid range for imshow with RGB data ([0..1] for floats or [0..255] for integers).\n",
      "WARNING:matplotlib.image:Clipping input data to the valid range for imshow with RGB data ([0..1] for floats or [0..255] for integers).\n",
      "WARNING:matplotlib.image:Clipping input data to the valid range for imshow with RGB data ([0..1] for floats or [0..255] for integers).\n",
      "WARNING:matplotlib.image:Clipping input data to the valid range for imshow with RGB data ([0..1] for floats or [0..255] for integers).\n",
      "WARNING:matplotlib.image:Clipping input data to the valid range for imshow with RGB data ([0..1] for floats or [0..255] for integers).\n"
     ]
    },
    {
     "name": "stdout",
     "output_type": "stream",
     "text": [
      "2/2 [==============================] - 0s 14ms/step\n",
      "Discriminator Loss: 0.16586772568462038\n"
     ]
    },
    {
     "name": "stderr",
     "output_type": "stream",
     "text": [
      "WARNING:matplotlib.image:Clipping input data to the valid range for imshow with RGB data ([0..1] for floats or [0..255] for integers).\n",
      "WARNING:matplotlib.image:Clipping input data to the valid range for imshow with RGB data ([0..1] for floats or [0..255] for integers).\n"
     ]
    },
    {
     "name": "stdout",
     "output_type": "stream",
     "text": [
      "Generator Loss: [0.3303203582763672, 0.3280467092990875, 0.0011368240229785442]\n"
     ]
    },
    {
     "name": "stderr",
     "output_type": "stream",
     "text": [
      "WARNING:matplotlib.image:Clipping input data to the valid range for imshow with RGB data ([0..1] for floats or [0..255] for integers).\n",
      "WARNING:matplotlib.image:Clipping input data to the valid range for imshow with RGB data ([0..1] for floats or [0..255] for integers).\n",
      "WARNING:matplotlib.image:Clipping input data to the valid range for imshow with RGB data ([0..1] for floats or [0..255] for integers).\n",
      "WARNING:matplotlib.image:Clipping input data to the valid range for imshow with RGB data ([0..1] for floats or [0..255] for integers).\n",
      "WARNING:matplotlib.image:Clipping input data to the valid range for imshow with RGB data ([0..1] for floats or [0..255] for integers).\n",
      "WARNING:matplotlib.image:Clipping input data to the valid range for imshow with RGB data ([0..1] for floats or [0..255] for integers).\n",
      "WARNING:matplotlib.image:Clipping input data to the valid range for imshow with RGB data ([0..1] for floats or [0..255] for integers).\n",
      "WARNING:matplotlib.image:Clipping input data to the valid range for imshow with RGB data ([0..1] for floats or [0..255] for integers).\n"
     ]
    },
    {
     "name": "stdout",
     "output_type": "stream",
     "text": [
      "2/2 [==============================] - 0s 14ms/step\n",
      "Discriminator Loss: 0.1732151413543761\n"
     ]
    },
    {
     "name": "stderr",
     "output_type": "stream",
     "text": [
      "WARNING:matplotlib.image:Clipping input data to the valid range for imshow with RGB data ([0..1] for floats or [0..255] for integers).\n",
      "WARNING:matplotlib.image:Clipping input data to the valid range for imshow with RGB data ([0..1] for floats or [0..255] for integers).\n"
     ]
    },
    {
     "name": "stdout",
     "output_type": "stream",
     "text": [
      "Generator Loss: [0.3519201874732971, 0.3497545123100281, 0.001082835253328085]\n"
     ]
    },
    {
     "name": "stderr",
     "output_type": "stream",
     "text": [
      "WARNING:matplotlib.image:Clipping input data to the valid range for imshow with RGB data ([0..1] for floats or [0..255] for integers).\n",
      "WARNING:matplotlib.image:Clipping input data to the valid range for imshow with RGB data ([0..1] for floats or [0..255] for integers).\n",
      "WARNING:matplotlib.image:Clipping input data to the valid range for imshow with RGB data ([0..1] for floats or [0..255] for integers).\n",
      "WARNING:matplotlib.image:Clipping input data to the valid range for imshow with RGB data ([0..1] for floats or [0..255] for integers).\n",
      "WARNING:matplotlib.image:Clipping input data to the valid range for imshow with RGB data ([0..1] for floats or [0..255] for integers).\n",
      "WARNING:matplotlib.image:Clipping input data to the valid range for imshow with RGB data ([0..1] for floats or [0..255] for integers).\n",
      "WARNING:matplotlib.image:Clipping input data to the valid range for imshow with RGB data ([0..1] for floats or [0..255] for integers).\n",
      "WARNING:matplotlib.image:Clipping input data to the valid range for imshow with RGB data ([0..1] for floats or [0..255] for integers).\n"
     ]
    },
    {
     "name": "stdout",
     "output_type": "stream",
     "text": [
      "2/2 [==============================] - 0s 15ms/step\n",
      "Discriminator Loss: 0.17862261558320824\n"
     ]
    },
    {
     "name": "stderr",
     "output_type": "stream",
     "text": [
      "WARNING:matplotlib.image:Clipping input data to the valid range for imshow with RGB data ([0..1] for floats or [0..255] for integers).\n",
      "WARNING:matplotlib.image:Clipping input data to the valid range for imshow with RGB data ([0..1] for floats or [0..255] for integers).\n"
     ]
    },
    {
     "name": "stdout",
     "output_type": "stream",
     "text": [
      "Generator Loss: [0.35845470428466797, 0.356209933757782, 0.001122383284382522]\n"
     ]
    },
    {
     "name": "stderr",
     "output_type": "stream",
     "text": [
      "WARNING:matplotlib.image:Clipping input data to the valid range for imshow with RGB data ([0..1] for floats or [0..255] for integers).\n",
      "WARNING:matplotlib.image:Clipping input data to the valid range for imshow with RGB data ([0..1] for floats or [0..255] for integers).\n",
      "WARNING:matplotlib.image:Clipping input data to the valid range for imshow with RGB data ([0..1] for floats or [0..255] for integers).\n",
      "WARNING:matplotlib.image:Clipping input data to the valid range for imshow with RGB data ([0..1] for floats or [0..255] for integers).\n",
      "WARNING:matplotlib.image:Clipping input data to the valid range for imshow with RGB data ([0..1] for floats or [0..255] for integers).\n",
      "WARNING:matplotlib.image:Clipping input data to the valid range for imshow with RGB data ([0..1] for floats or [0..255] for integers).\n",
      "WARNING:matplotlib.image:Clipping input data to the valid range for imshow with RGB data ([0..1] for floats or [0..255] for integers).\n",
      "WARNING:matplotlib.image:Clipping input data to the valid range for imshow with RGB data ([0..1] for floats or [0..255] for integers).\n"
     ]
    },
    {
     "name": "stdout",
     "output_type": "stream",
     "text": [
      "2/2 [==============================] - 0s 15ms/step\n",
      "Discriminator Loss: 0.19566898835546453\n"
     ]
    },
    {
     "name": "stderr",
     "output_type": "stream",
     "text": [
      "WARNING:matplotlib.image:Clipping input data to the valid range for imshow with RGB data ([0..1] for floats or [0..255] for integers).\n",
      "WARNING:matplotlib.image:Clipping input data to the valid range for imshow with RGB data ([0..1] for floats or [0..255] for integers).\n"
     ]
    },
    {
     "name": "stdout",
     "output_type": "stream",
     "text": [
      "Generator Loss: [0.3510192036628723, 0.34929633140563965, 0.0008614416001364589]\n"
     ]
    },
    {
     "name": "stderr",
     "output_type": "stream",
     "text": [
      "WARNING:matplotlib.image:Clipping input data to the valid range for imshow with RGB data ([0..1] for floats or [0..255] for integers).\n",
      "WARNING:matplotlib.image:Clipping input data to the valid range for imshow with RGB data ([0..1] for floats or [0..255] for integers).\n",
      "WARNING:matplotlib.image:Clipping input data to the valid range for imshow with RGB data ([0..1] for floats or [0..255] for integers).\n",
      "WARNING:matplotlib.image:Clipping input data to the valid range for imshow with RGB data ([0..1] for floats or [0..255] for integers).\n",
      "WARNING:matplotlib.image:Clipping input data to the valid range for imshow with RGB data ([0..1] for floats or [0..255] for integers).\n",
      "WARNING:matplotlib.image:Clipping input data to the valid range for imshow with RGB data ([0..1] for floats or [0..255] for integers).\n",
      "WARNING:matplotlib.image:Clipping input data to the valid range for imshow with RGB data ([0..1] for floats or [0..255] for integers).\n",
      "WARNING:matplotlib.image:Clipping input data to the valid range for imshow with RGB data ([0..1] for floats or [0..255] for integers).\n"
     ]
    },
    {
     "name": "stdout",
     "output_type": "stream",
     "text": [
      "2/2 [==============================] - 0s 15ms/step\n",
      "Discriminator Loss: 0.17352400694380776\n"
     ]
    },
    {
     "name": "stderr",
     "output_type": "stream",
     "text": [
      "WARNING:matplotlib.image:Clipping input data to the valid range for imshow with RGB data ([0..1] for floats or [0..255] for integers).\n",
      "WARNING:matplotlib.image:Clipping input data to the valid range for imshow with RGB data ([0..1] for floats or [0..255] for integers).\n"
     ]
    },
    {
     "name": "stdout",
     "output_type": "stream",
     "text": [
      "Generator Loss: [0.3737642467021942, 0.3721340000629425, 0.0008151269285008311]\n"
     ]
    },
    {
     "name": "stderr",
     "output_type": "stream",
     "text": [
      "WARNING:matplotlib.image:Clipping input data to the valid range for imshow with RGB data ([0..1] for floats or [0..255] for integers).\n",
      "WARNING:matplotlib.image:Clipping input data to the valid range for imshow with RGB data ([0..1] for floats or [0..255] for integers).\n",
      "WARNING:matplotlib.image:Clipping input data to the valid range for imshow with RGB data ([0..1] for floats or [0..255] for integers).\n",
      "WARNING:matplotlib.image:Clipping input data to the valid range for imshow with RGB data ([0..1] for floats or [0..255] for integers).\n",
      "WARNING:matplotlib.image:Clipping input data to the valid range for imshow with RGB data ([0..1] for floats or [0..255] for integers).\n",
      "WARNING:matplotlib.image:Clipping input data to the valid range for imshow with RGB data ([0..1] for floats or [0..255] for integers).\n",
      "WARNING:matplotlib.image:Clipping input data to the valid range for imshow with RGB data ([0..1] for floats or [0..255] for integers).\n",
      "WARNING:matplotlib.image:Clipping input data to the valid range for imshow with RGB data ([0..1] for floats or [0..255] for integers).\n"
     ]
    },
    {
     "name": "stdout",
     "output_type": "stream",
     "text": [
      "2/2 [==============================] - 0s 14ms/step\n",
      "Discriminator Loss: 0.18302850691634376\n"
     ]
    },
    {
     "name": "stderr",
     "output_type": "stream",
     "text": [
      "WARNING:matplotlib.image:Clipping input data to the valid range for imshow with RGB data ([0..1] for floats or [0..255] for integers).\n",
      "WARNING:matplotlib.image:Clipping input data to the valid range for imshow with RGB data ([0..1] for floats or [0..255] for integers).\n"
     ]
    },
    {
     "name": "stdout",
     "output_type": "stream",
     "text": [
      "Generator Loss: [0.3763836622238159, 0.3749007284641266, 0.0007414601277559996]\n"
     ]
    },
    {
     "name": "stderr",
     "output_type": "stream",
     "text": [
      "WARNING:matplotlib.image:Clipping input data to the valid range for imshow with RGB data ([0..1] for floats or [0..255] for integers).\n",
      "WARNING:matplotlib.image:Clipping input data to the valid range for imshow with RGB data ([0..1] for floats or [0..255] for integers).\n",
      "WARNING:matplotlib.image:Clipping input data to the valid range for imshow with RGB data ([0..1] for floats or [0..255] for integers).\n",
      "WARNING:matplotlib.image:Clipping input data to the valid range for imshow with RGB data ([0..1] for floats or [0..255] for integers).\n",
      "WARNING:matplotlib.image:Clipping input data to the valid range for imshow with RGB data ([0..1] for floats or [0..255] for integers).\n",
      "WARNING:matplotlib.image:Clipping input data to the valid range for imshow with RGB data ([0..1] for floats or [0..255] for integers).\n",
      "WARNING:matplotlib.image:Clipping input data to the valid range for imshow with RGB data ([0..1] for floats or [0..255] for integers).\n",
      "WARNING:matplotlib.image:Clipping input data to the valid range for imshow with RGB data ([0..1] for floats or [0..255] for integers).\n"
     ]
    },
    {
     "name": "stdout",
     "output_type": "stream",
     "text": [
      "2/2 [==============================] - 0s 14ms/step\n",
      "Discriminator Loss: 0.18840650508172985\n"
     ]
    },
    {
     "name": "stderr",
     "output_type": "stream",
     "text": [
      "WARNING:matplotlib.image:Clipping input data to the valid range for imshow with RGB data ([0..1] for floats or [0..255] for integers).\n",
      "WARNING:matplotlib.image:Clipping input data to the valid range for imshow with RGB data ([0..1] for floats or [0..255] for integers).\n"
     ]
    },
    {
     "name": "stdout",
     "output_type": "stream",
     "text": [
      "Generator Loss: [0.33370354771614075, 0.3319414258003235, 0.0008810547878965735]\n"
     ]
    },
    {
     "name": "stderr",
     "output_type": "stream",
     "text": [
      "WARNING:matplotlib.image:Clipping input data to the valid range for imshow with RGB data ([0..1] for floats or [0..255] for integers).\n",
      "WARNING:matplotlib.image:Clipping input data to the valid range for imshow with RGB data ([0..1] for floats or [0..255] for integers).\n",
      "WARNING:matplotlib.image:Clipping input data to the valid range for imshow with RGB data ([0..1] for floats or [0..255] for integers).\n",
      "WARNING:matplotlib.image:Clipping input data to the valid range for imshow with RGB data ([0..1] for floats or [0..255] for integers).\n",
      "WARNING:matplotlib.image:Clipping input data to the valid range for imshow with RGB data ([0..1] for floats or [0..255] for integers).\n",
      "WARNING:matplotlib.image:Clipping input data to the valid range for imshow with RGB data ([0..1] for floats or [0..255] for integers).\n",
      "WARNING:matplotlib.image:Clipping input data to the valid range for imshow with RGB data ([0..1] for floats or [0..255] for integers).\n",
      "WARNING:matplotlib.image:Clipping input data to the valid range for imshow with RGB data ([0..1] for floats or [0..255] for integers).\n"
     ]
    },
    {
     "name": "stdout",
     "output_type": "stream",
     "text": [
      "2/2 [==============================] - 0s 14ms/step\n",
      "Discriminator Loss: 0.17297730775953823\n"
     ]
    },
    {
     "name": "stderr",
     "output_type": "stream",
     "text": [
      "WARNING:matplotlib.image:Clipping input data to the valid range for imshow with RGB data ([0..1] for floats or [0..255] for integers).\n",
      "WARNING:matplotlib.image:Clipping input data to the valid range for imshow with RGB data ([0..1] for floats or [0..255] for integers).\n"
     ]
    },
    {
     "name": "stdout",
     "output_type": "stream",
     "text": [
      "Generator Loss: [0.33565881848335266, 0.3342251181602478, 0.0007168569136410952]\n"
     ]
    },
    {
     "name": "stderr",
     "output_type": "stream",
     "text": [
      "WARNING:matplotlib.image:Clipping input data to the valid range for imshow with RGB data ([0..1] for floats or [0..255] for integers).\n",
      "WARNING:matplotlib.image:Clipping input data to the valid range for imshow with RGB data ([0..1] for floats or [0..255] for integers).\n",
      "WARNING:matplotlib.image:Clipping input data to the valid range for imshow with RGB data ([0..1] for floats or [0..255] for integers).\n",
      "WARNING:matplotlib.image:Clipping input data to the valid range for imshow with RGB data ([0..1] for floats or [0..255] for integers).\n",
      "WARNING:matplotlib.image:Clipping input data to the valid range for imshow with RGB data ([0..1] for floats or [0..255] for integers).\n",
      "WARNING:matplotlib.image:Clipping input data to the valid range for imshow with RGB data ([0..1] for floats or [0..255] for integers).\n",
      "WARNING:matplotlib.image:Clipping input data to the valid range for imshow with RGB data ([0..1] for floats or [0..255] for integers).\n",
      "WARNING:matplotlib.image:Clipping input data to the valid range for imshow with RGB data ([0..1] for floats or [0..255] for integers).\n"
     ]
    },
    {
     "name": "stdout",
     "output_type": "stream",
     "text": [
      "2/2 [==============================] - 0s 14ms/step\n",
      "Discriminator Loss: 0.16519515958907505\n"
     ]
    },
    {
     "name": "stderr",
     "output_type": "stream",
     "text": [
      "WARNING:matplotlib.image:Clipping input data to the valid range for imshow with RGB data ([0..1] for floats or [0..255] for integers).\n",
      "WARNING:matplotlib.image:Clipping input data to the valid range for imshow with RGB data ([0..1] for floats or [0..255] for integers).\n"
     ]
    },
    {
     "name": "stdout",
     "output_type": "stream",
     "text": [
      "Generator Loss: [0.34063720703125, 0.33896583318710327, 0.0008356900652870536]\n"
     ]
    },
    {
     "name": "stderr",
     "output_type": "stream",
     "text": [
      "WARNING:matplotlib.image:Clipping input data to the valid range for imshow with RGB data ([0..1] for floats or [0..255] for integers).\n",
      "WARNING:matplotlib.image:Clipping input data to the valid range for imshow with RGB data ([0..1] for floats or [0..255] for integers).\n",
      "WARNING:matplotlib.image:Clipping input data to the valid range for imshow with RGB data ([0..1] for floats or [0..255] for integers).\n",
      "WARNING:matplotlib.image:Clipping input data to the valid range for imshow with RGB data ([0..1] for floats or [0..255] for integers).\n",
      "WARNING:matplotlib.image:Clipping input data to the valid range for imshow with RGB data ([0..1] for floats or [0..255] for integers).\n",
      "WARNING:matplotlib.image:Clipping input data to the valid range for imshow with RGB data ([0..1] for floats or [0..255] for integers).\n",
      "WARNING:matplotlib.image:Clipping input data to the valid range for imshow with RGB data ([0..1] for floats or [0..255] for integers).\n",
      "WARNING:matplotlib.image:Clipping input data to the valid range for imshow with RGB data ([0..1] for floats or [0..255] for integers).\n"
     ]
    },
    {
     "name": "stdout",
     "output_type": "stream",
     "text": [
      "2/2 [==============================] - 0s 15ms/step\n",
      "Discriminator Loss: 0.16648905567308248\n"
     ]
    },
    {
     "name": "stderr",
     "output_type": "stream",
     "text": [
      "WARNING:matplotlib.image:Clipping input data to the valid range for imshow with RGB data ([0..1] for floats or [0..255] for integers).\n",
      "WARNING:matplotlib.image:Clipping input data to the valid range for imshow with RGB data ([0..1] for floats or [0..255] for integers).\n"
     ]
    },
    {
     "name": "stdout",
     "output_type": "stream",
     "text": [
      "Generator Loss: [0.337488055229187, 0.3358268141746521, 0.0008306150557473302]\n"
     ]
    },
    {
     "name": "stderr",
     "output_type": "stream",
     "text": [
      "WARNING:matplotlib.image:Clipping input data to the valid range for imshow with RGB data ([0..1] for floats or [0..255] for integers).\n",
      "WARNING:matplotlib.image:Clipping input data to the valid range for imshow with RGB data ([0..1] for floats or [0..255] for integers).\n",
      "WARNING:matplotlib.image:Clipping input data to the valid range for imshow with RGB data ([0..1] for floats or [0..255] for integers).\n",
      "WARNING:matplotlib.image:Clipping input data to the valid range for imshow with RGB data ([0..1] for floats or [0..255] for integers).\n",
      "WARNING:matplotlib.image:Clipping input data to the valid range for imshow with RGB data ([0..1] for floats or [0..255] for integers).\n",
      "WARNING:matplotlib.image:Clipping input data to the valid range for imshow with RGB data ([0..1] for floats or [0..255] for integers).\n",
      "WARNING:matplotlib.image:Clipping input data to the valid range for imshow with RGB data ([0..1] for floats or [0..255] for integers).\n",
      "WARNING:matplotlib.image:Clipping input data to the valid range for imshow with RGB data ([0..1] for floats or [0..255] for integers).\n"
     ]
    },
    {
     "name": "stdout",
     "output_type": "stream",
     "text": [
      "2/2 [==============================] - 0s 14ms/step\n",
      "Discriminator Loss: 0.16738515588804148\n"
     ]
    },
    {
     "name": "stderr",
     "output_type": "stream",
     "text": [
      "WARNING:matplotlib.image:Clipping input data to the valid range for imshow with RGB data ([0..1] for floats or [0..255] for integers).\n",
      "WARNING:matplotlib.image:Clipping input data to the valid range for imshow with RGB data ([0..1] for floats or [0..255] for integers).\n"
     ]
    },
    {
     "name": "stdout",
     "output_type": "stream",
     "text": [
      "Generator Loss: [0.33138740062713623, 0.3297920227050781, 0.0007976944325491786]\n"
     ]
    },
    {
     "name": "stderr",
     "output_type": "stream",
     "text": [
      "WARNING:matplotlib.image:Clipping input data to the valid range for imshow with RGB data ([0..1] for floats or [0..255] for integers).\n",
      "WARNING:matplotlib.image:Clipping input data to the valid range for imshow with RGB data ([0..1] for floats or [0..255] for integers).\n",
      "WARNING:matplotlib.image:Clipping input data to the valid range for imshow with RGB data ([0..1] for floats or [0..255] for integers).\n",
      "WARNING:matplotlib.image:Clipping input data to the valid range for imshow with RGB data ([0..1] for floats or [0..255] for integers).\n",
      "WARNING:matplotlib.image:Clipping input data to the valid range for imshow with RGB data ([0..1] for floats or [0..255] for integers).\n",
      "WARNING:matplotlib.image:Clipping input data to the valid range for imshow with RGB data ([0..1] for floats or [0..255] for integers).\n",
      "WARNING:matplotlib.image:Clipping input data to the valid range for imshow with RGB data ([0..1] for floats or [0..255] for integers).\n",
      "WARNING:matplotlib.image:Clipping input data to the valid range for imshow with RGB data ([0..1] for floats or [0..255] for integers).\n"
     ]
    },
    {
     "name": "stdout",
     "output_type": "stream",
     "text": [
      "2/2 [==============================] - 0s 14ms/step\n",
      "Discriminator Loss: 0.17498804914021093\n"
     ]
    },
    {
     "name": "stderr",
     "output_type": "stream",
     "text": [
      "WARNING:matplotlib.image:Clipping input data to the valid range for imshow with RGB data ([0..1] for floats or [0..255] for integers).\n",
      "WARNING:matplotlib.image:Clipping input data to the valid range for imshow with RGB data ([0..1] for floats or [0..255] for integers).\n"
     ]
    },
    {
     "name": "stdout",
     "output_type": "stream",
     "text": [
      "Generator Loss: [0.3348241448402405, 0.3332856297492981, 0.0007692547515034676]\n"
     ]
    },
    {
     "name": "stderr",
     "output_type": "stream",
     "text": [
      "WARNING:matplotlib.image:Clipping input data to the valid range for imshow with RGB data ([0..1] for floats or [0..255] for integers).\n",
      "WARNING:matplotlib.image:Clipping input data to the valid range for imshow with RGB data ([0..1] for floats or [0..255] for integers).\n",
      "WARNING:matplotlib.image:Clipping input data to the valid range for imshow with RGB data ([0..1] for floats or [0..255] for integers).\n",
      "WARNING:matplotlib.image:Clipping input data to the valid range for imshow with RGB data ([0..1] for floats or [0..255] for integers).\n",
      "WARNING:matplotlib.image:Clipping input data to the valid range for imshow with RGB data ([0..1] for floats or [0..255] for integers).\n",
      "WARNING:matplotlib.image:Clipping input data to the valid range for imshow with RGB data ([0..1] for floats or [0..255] for integers).\n",
      "WARNING:matplotlib.image:Clipping input data to the valid range for imshow with RGB data ([0..1] for floats or [0..255] for integers).\n",
      "WARNING:matplotlib.image:Clipping input data to the valid range for imshow with RGB data ([0..1] for floats or [0..255] for integers).\n"
     ]
    },
    {
     "name": "stdout",
     "output_type": "stream",
     "text": [
      "2/2 [==============================] - 0s 14ms/step\n",
      "Discriminator Loss: 0.16449279285188823\n"
     ]
    },
    {
     "name": "stderr",
     "output_type": "stream",
     "text": [
      "WARNING:matplotlib.image:Clipping input data to the valid range for imshow with RGB data ([0..1] for floats or [0..255] for integers).\n",
      "WARNING:matplotlib.image:Clipping input data to the valid range for imshow with RGB data ([0..1] for floats or [0..255] for integers).\n"
     ]
    },
    {
     "name": "stdout",
     "output_type": "stream",
     "text": [
      "Generator Loss: [0.3307141065597534, 0.3289868235588074, 0.0008636402199044824]\n"
     ]
    },
    {
     "name": "stderr",
     "output_type": "stream",
     "text": [
      "WARNING:matplotlib.image:Clipping input data to the valid range for imshow with RGB data ([0..1] for floats or [0..255] for integers).\n",
      "WARNING:matplotlib.image:Clipping input data to the valid range for imshow with RGB data ([0..1] for floats or [0..255] for integers).\n",
      "WARNING:matplotlib.image:Clipping input data to the valid range for imshow with RGB data ([0..1] for floats or [0..255] for integers).\n",
      "WARNING:matplotlib.image:Clipping input data to the valid range for imshow with RGB data ([0..1] for floats or [0..255] for integers).\n",
      "WARNING:matplotlib.image:Clipping input data to the valid range for imshow with RGB data ([0..1] for floats or [0..255] for integers).\n",
      "WARNING:matplotlib.image:Clipping input data to the valid range for imshow with RGB data ([0..1] for floats or [0..255] for integers).\n",
      "WARNING:matplotlib.image:Clipping input data to the valid range for imshow with RGB data ([0..1] for floats or [0..255] for integers).\n",
      "WARNING:matplotlib.image:Clipping input data to the valid range for imshow with RGB data ([0..1] for floats or [0..255] for integers).\n"
     ]
    },
    {
     "name": "stdout",
     "output_type": "stream",
     "text": [
      "2/2 [==============================] - 0s 14ms/step\n",
      "Discriminator Loss: 0.16572536900639534\n"
     ]
    },
    {
     "name": "stderr",
     "output_type": "stream",
     "text": [
      "WARNING:matplotlib.image:Clipping input data to the valid range for imshow with RGB data ([0..1] for floats or [0..255] for integers).\n",
      "WARNING:matplotlib.image:Clipping input data to the valid range for imshow with RGB data ([0..1] for floats or [0..255] for integers).\n"
     ]
    },
    {
     "name": "stdout",
     "output_type": "stream",
     "text": [
      "Generator Loss: [0.32839787006378174, 0.3268481194972992, 0.0007748737698420882]\n"
     ]
    },
    {
     "name": "stderr",
     "output_type": "stream",
     "text": [
      "WARNING:matplotlib.image:Clipping input data to the valid range for imshow with RGB data ([0..1] for floats or [0..255] for integers).\n",
      "WARNING:matplotlib.image:Clipping input data to the valid range for imshow with RGB data ([0..1] for floats or [0..255] for integers).\n",
      "WARNING:matplotlib.image:Clipping input data to the valid range for imshow with RGB data ([0..1] for floats or [0..255] for integers).\n",
      "WARNING:matplotlib.image:Clipping input data to the valid range for imshow with RGB data ([0..1] for floats or [0..255] for integers).\n",
      "WARNING:matplotlib.image:Clipping input data to the valid range for imshow with RGB data ([0..1] for floats or [0..255] for integers).\n",
      "WARNING:matplotlib.image:Clipping input data to the valid range for imshow with RGB data ([0..1] for floats or [0..255] for integers).\n",
      "WARNING:matplotlib.image:Clipping input data to the valid range for imshow with RGB data ([0..1] for floats or [0..255] for integers).\n",
      "WARNING:matplotlib.image:Clipping input data to the valid range for imshow with RGB data ([0..1] for floats or [0..255] for integers).\n"
     ]
    },
    {
     "name": "stdout",
     "output_type": "stream",
     "text": [
      "2/2 [==============================] - 0s 15ms/step\n",
      "Discriminator Loss: 0.1689552678135442\n"
     ]
    },
    {
     "name": "stderr",
     "output_type": "stream",
     "text": [
      "WARNING:matplotlib.image:Clipping input data to the valid range for imshow with RGB data ([0..1] for floats or [0..255] for integers).\n",
      "WARNING:matplotlib.image:Clipping input data to the valid range for imshow with RGB data ([0..1] for floats or [0..255] for integers).\n"
     ]
    },
    {
     "name": "stdout",
     "output_type": "stream",
     "text": [
      "Generator Loss: [0.3295048475265503, 0.3279215097427368, 0.0007916648173704743]\n"
     ]
    },
    {
     "name": "stderr",
     "output_type": "stream",
     "text": [
      "WARNING:matplotlib.image:Clipping input data to the valid range for imshow with RGB data ([0..1] for floats or [0..255] for integers).\n",
      "WARNING:matplotlib.image:Clipping input data to the valid range for imshow with RGB data ([0..1] for floats or [0..255] for integers).\n",
      "WARNING:matplotlib.image:Clipping input data to the valid range for imshow with RGB data ([0..1] for floats or [0..255] for integers).\n",
      "WARNING:matplotlib.image:Clipping input data to the valid range for imshow with RGB data ([0..1] for floats or [0..255] for integers).\n",
      "WARNING:matplotlib.image:Clipping input data to the valid range for imshow with RGB data ([0..1] for floats or [0..255] for integers).\n",
      "WARNING:matplotlib.image:Clipping input data to the valid range for imshow with RGB data ([0..1] for floats or [0..255] for integers).\n",
      "WARNING:matplotlib.image:Clipping input data to the valid range for imshow with RGB data ([0..1] for floats or [0..255] for integers).\n",
      "WARNING:matplotlib.image:Clipping input data to the valid range for imshow with RGB data ([0..1] for floats or [0..255] for integers).\n"
     ]
    },
    {
     "name": "stdout",
     "output_type": "stream",
     "text": [
      "2/2 [==============================] - 0s 15ms/step\n",
      "Discriminator Loss: 0.16463232636397152\n"
     ]
    },
    {
     "name": "stderr",
     "output_type": "stream",
     "text": [
      "WARNING:matplotlib.image:Clipping input data to the valid range for imshow with RGB data ([0..1] for floats or [0..255] for integers).\n",
      "WARNING:matplotlib.image:Clipping input data to the valid range for imshow with RGB data ([0..1] for floats or [0..255] for integers).\n"
     ]
    },
    {
     "name": "stdout",
     "output_type": "stream",
     "text": [
      "Generator Loss: [0.32943522930145264, 0.32781749963760376, 0.0008088629110716283]\n"
     ]
    },
    {
     "name": "stderr",
     "output_type": "stream",
     "text": [
      "WARNING:matplotlib.image:Clipping input data to the valid range for imshow with RGB data ([0..1] for floats or [0..255] for integers).\n",
      "WARNING:matplotlib.image:Clipping input data to the valid range for imshow with RGB data ([0..1] for floats or [0..255] for integers).\n",
      "WARNING:matplotlib.image:Clipping input data to the valid range for imshow with RGB data ([0..1] for floats or [0..255] for integers).\n",
      "WARNING:matplotlib.image:Clipping input data to the valid range for imshow with RGB data ([0..1] for floats or [0..255] for integers).\n",
      "WARNING:matplotlib.image:Clipping input data to the valid range for imshow with RGB data ([0..1] for floats or [0..255] for integers).\n",
      "WARNING:matplotlib.image:Clipping input data to the valid range for imshow with RGB data ([0..1] for floats or [0..255] for integers).\n",
      "WARNING:matplotlib.image:Clipping input data to the valid range for imshow with RGB data ([0..1] for floats or [0..255] for integers).\n",
      "WARNING:matplotlib.image:Clipping input data to the valid range for imshow with RGB data ([0..1] for floats or [0..255] for integers).\n"
     ]
    },
    {
     "name": "stdout",
     "output_type": "stream",
     "text": [
      "2/2 [==============================] - 0s 15ms/step\n",
      "Discriminator Loss: 0.16403884067017316\n"
     ]
    },
    {
     "name": "stderr",
     "output_type": "stream",
     "text": [
      "WARNING:matplotlib.image:Clipping input data to the valid range for imshow with RGB data ([0..1] for floats or [0..255] for integers).\n",
      "WARNING:matplotlib.image:Clipping input data to the valid range for imshow with RGB data ([0..1] for floats or [0..255] for integers).\n"
     ]
    },
    {
     "name": "stdout",
     "output_type": "stream",
     "text": [
      "Generator Loss: [0.3364451825618744, 0.33508703112602234, 0.0006790811894461513]\n"
     ]
    },
    {
     "name": "stderr",
     "output_type": "stream",
     "text": [
      "WARNING:matplotlib.image:Clipping input data to the valid range for imshow with RGB data ([0..1] for floats or [0..255] for integers).\n",
      "WARNING:matplotlib.image:Clipping input data to the valid range for imshow with RGB data ([0..1] for floats or [0..255] for integers).\n",
      "WARNING:matplotlib.image:Clipping input data to the valid range for imshow with RGB data ([0..1] for floats or [0..255] for integers).\n",
      "WARNING:matplotlib.image:Clipping input data to the valid range for imshow with RGB data ([0..1] for floats or [0..255] for integers).\n",
      "WARNING:matplotlib.image:Clipping input data to the valid range for imshow with RGB data ([0..1] for floats or [0..255] for integers).\n",
      "WARNING:matplotlib.image:Clipping input data to the valid range for imshow with RGB data ([0..1] for floats or [0..255] for integers).\n",
      "WARNING:matplotlib.image:Clipping input data to the valid range for imshow with RGB data ([0..1] for floats or [0..255] for integers).\n",
      "WARNING:matplotlib.image:Clipping input data to the valid range for imshow with RGB data ([0..1] for floats or [0..255] for integers).\n"
     ]
    },
    {
     "name": "stdout",
     "output_type": "stream",
     "text": [
      "2/2 [==============================] - 0s 15ms/step\n",
      "Discriminator Loss: 0.1651581399087263\n"
     ]
    },
    {
     "name": "stderr",
     "output_type": "stream",
     "text": [
      "WARNING:matplotlib.image:Clipping input data to the valid range for imshow with RGB data ([0..1] for floats or [0..255] for integers).\n",
      "WARNING:matplotlib.image:Clipping input data to the valid range for imshow with RGB data ([0..1] for floats or [0..255] for integers).\n"
     ]
    },
    {
     "name": "stdout",
     "output_type": "stream",
     "text": [
      "Generator Loss: [0.32736364006996155, 0.32588422298431396, 0.0007397111039608717]\n"
     ]
    },
    {
     "name": "stderr",
     "output_type": "stream",
     "text": [
      "WARNING:matplotlib.image:Clipping input data to the valid range for imshow with RGB data ([0..1] for floats or [0..255] for integers).\n",
      "WARNING:matplotlib.image:Clipping input data to the valid range for imshow with RGB data ([0..1] for floats or [0..255] for integers).\n",
      "WARNING:matplotlib.image:Clipping input data to the valid range for imshow with RGB data ([0..1] for floats or [0..255] for integers).\n",
      "WARNING:matplotlib.image:Clipping input data to the valid range for imshow with RGB data ([0..1] for floats or [0..255] for integers).\n",
      "WARNING:matplotlib.image:Clipping input data to the valid range for imshow with RGB data ([0..1] for floats or [0..255] for integers).\n",
      "WARNING:matplotlib.image:Clipping input data to the valid range for imshow with RGB data ([0..1] for floats or [0..255] for integers).\n",
      "WARNING:matplotlib.image:Clipping input data to the valid range for imshow with RGB data ([0..1] for floats or [0..255] for integers).\n",
      "WARNING:matplotlib.image:Clipping input data to the valid range for imshow with RGB data ([0..1] for floats or [0..255] for integers).\n"
     ]
    },
    {
     "name": "stdout",
     "output_type": "stream",
     "text": [
      "2/2 [==============================] - 0s 15ms/step\n",
      "Discriminator Loss: 0.16463007718448353\n"
     ]
    },
    {
     "name": "stderr",
     "output_type": "stream",
     "text": [
      "WARNING:matplotlib.image:Clipping input data to the valid range for imshow with RGB data ([0..1] for floats or [0..255] for integers).\n",
      "WARNING:matplotlib.image:Clipping input data to the valid range for imshow with RGB data ([0..1] for floats or [0..255] for integers).\n"
     ]
    },
    {
     "name": "stdout",
     "output_type": "stream",
     "text": [
      "Generator Loss: [0.3284435570240021, 0.3265082538127899, 0.0009676589397713542]\n"
     ]
    },
    {
     "name": "stderr",
     "output_type": "stream",
     "text": [
      "WARNING:matplotlib.image:Clipping input data to the valid range for imshow with RGB data ([0..1] for floats or [0..255] for integers).\n",
      "WARNING:matplotlib.image:Clipping input data to the valid range for imshow with RGB data ([0..1] for floats or [0..255] for integers).\n",
      "WARNING:matplotlib.image:Clipping input data to the valid range for imshow with RGB data ([0..1] for floats or [0..255] for integers).\n",
      "WARNING:matplotlib.image:Clipping input data to the valid range for imshow with RGB data ([0..1] for floats or [0..255] for integers).\n",
      "WARNING:matplotlib.image:Clipping input data to the valid range for imshow with RGB data ([0..1] for floats or [0..255] for integers).\n",
      "WARNING:matplotlib.image:Clipping input data to the valid range for imshow with RGB data ([0..1] for floats or [0..255] for integers).\n",
      "WARNING:matplotlib.image:Clipping input data to the valid range for imshow with RGB data ([0..1] for floats or [0..255] for integers).\n",
      "WARNING:matplotlib.image:Clipping input data to the valid range for imshow with RGB data ([0..1] for floats or [0..255] for integers).\n"
     ]
    },
    {
     "name": "stdout",
     "output_type": "stream",
     "text": [
      "2/2 [==============================] - 0s 14ms/step\n",
      "Discriminator Loss: 0.16865374949520628\n"
     ]
    },
    {
     "name": "stderr",
     "output_type": "stream",
     "text": [
      "WARNING:matplotlib.image:Clipping input data to the valid range for imshow with RGB data ([0..1] for floats or [0..255] for integers).\n",
      "WARNING:matplotlib.image:Clipping input data to the valid range for imshow with RGB data ([0..1] for floats or [0..255] for integers).\n"
     ]
    },
    {
     "name": "stdout",
     "output_type": "stream",
     "text": [
      "Generator Loss: [0.3280424475669861, 0.3261411190032959, 0.0009506630594842136]\n"
     ]
    },
    {
     "name": "stderr",
     "output_type": "stream",
     "text": [
      "WARNING:matplotlib.image:Clipping input data to the valid range for imshow with RGB data ([0..1] for floats or [0..255] for integers).\n",
      "WARNING:matplotlib.image:Clipping input data to the valid range for imshow with RGB data ([0..1] for floats or [0..255] for integers).\n",
      "WARNING:matplotlib.image:Clipping input data to the valid range for imshow with RGB data ([0..1] for floats or [0..255] for integers).\n",
      "WARNING:matplotlib.image:Clipping input data to the valid range for imshow with RGB data ([0..1] for floats or [0..255] for integers).\n",
      "WARNING:matplotlib.image:Clipping input data to the valid range for imshow with RGB data ([0..1] for floats or [0..255] for integers).\n",
      "WARNING:matplotlib.image:Clipping input data to the valid range for imshow with RGB data ([0..1] for floats or [0..255] for integers).\n",
      "WARNING:matplotlib.image:Clipping input data to the valid range for imshow with RGB data ([0..1] for floats or [0..255] for integers).\n",
      "WARNING:matplotlib.image:Clipping input data to the valid range for imshow with RGB data ([0..1] for floats or [0..255] for integers).\n"
     ]
    },
    {
     "name": "stdout",
     "output_type": "stream",
     "text": [
      "2/2 [==============================] - 0s 15ms/step\n",
      "Discriminator Loss: 0.16447857771800045\n"
     ]
    },
    {
     "name": "stderr",
     "output_type": "stream",
     "text": [
      "WARNING:matplotlib.image:Clipping input data to the valid range for imshow with RGB data ([0..1] for floats or [0..255] for integers).\n",
      "WARNING:matplotlib.image:Clipping input data to the valid range for imshow with RGB data ([0..1] for floats or [0..255] for integers).\n"
     ]
    },
    {
     "name": "stdout",
     "output_type": "stream",
     "text": [
      "Generator Loss: [0.32800722122192383, 0.3255643844604492, 0.0012214126763865352]\n"
     ]
    },
    {
     "name": "stderr",
     "output_type": "stream",
     "text": [
      "WARNING:matplotlib.image:Clipping input data to the valid range for imshow with RGB data ([0..1] for floats or [0..255] for integers).\n",
      "WARNING:matplotlib.image:Clipping input data to the valid range for imshow with RGB data ([0..1] for floats or [0..255] for integers).\n",
      "WARNING:matplotlib.image:Clipping input data to the valid range for imshow with RGB data ([0..1] for floats or [0..255] for integers).\n",
      "WARNING:matplotlib.image:Clipping input data to the valid range for imshow with RGB data ([0..1] for floats or [0..255] for integers).\n",
      "WARNING:matplotlib.image:Clipping input data to the valid range for imshow with RGB data ([0..1] for floats or [0..255] for integers).\n",
      "WARNING:matplotlib.image:Clipping input data to the valid range for imshow with RGB data ([0..1] for floats or [0..255] for integers).\n",
      "WARNING:matplotlib.image:Clipping input data to the valid range for imshow with RGB data ([0..1] for floats or [0..255] for integers).\n",
      "WARNING:matplotlib.image:Clipping input data to the valid range for imshow with RGB data ([0..1] for floats or [0..255] for integers).\n"
     ]
    },
    {
     "name": "stdout",
     "output_type": "stream",
     "text": [
      "2/2 [==============================] - 0s 15ms/step\n",
      "Discriminator Loss: 0.16665287296075348\n"
     ]
    },
    {
     "name": "stderr",
     "output_type": "stream",
     "text": [
      "WARNING:matplotlib.image:Clipping input data to the valid range for imshow with RGB data ([0..1] for floats or [0..255] for integers).\n",
      "WARNING:matplotlib.image:Clipping input data to the valid range for imshow with RGB data ([0..1] for floats or [0..255] for integers).\n"
     ]
    },
    {
     "name": "stdout",
     "output_type": "stream",
     "text": [
      "Generator Loss: [0.33401426672935486, 0.3320516347885132, 0.0009813089855015278]\n"
     ]
    },
    {
     "name": "stderr",
     "output_type": "stream",
     "text": [
      "WARNING:matplotlib.image:Clipping input data to the valid range for imshow with RGB data ([0..1] for floats or [0..255] for integers).\n",
      "WARNING:matplotlib.image:Clipping input data to the valid range for imshow with RGB data ([0..1] for floats or [0..255] for integers).\n",
      "WARNING:matplotlib.image:Clipping input data to the valid range for imshow with RGB data ([0..1] for floats or [0..255] for integers).\n",
      "WARNING:matplotlib.image:Clipping input data to the valid range for imshow with RGB data ([0..1] for floats or [0..255] for integers).\n",
      "WARNING:matplotlib.image:Clipping input data to the valid range for imshow with RGB data ([0..1] for floats or [0..255] for integers).\n",
      "WARNING:matplotlib.image:Clipping input data to the valid range for imshow with RGB data ([0..1] for floats or [0..255] for integers).\n",
      "WARNING:matplotlib.image:Clipping input data to the valid range for imshow with RGB data ([0..1] for floats or [0..255] for integers).\n",
      "WARNING:matplotlib.image:Clipping input data to the valid range for imshow with RGB data ([0..1] for floats or [0..255] for integers).\n"
     ]
    },
    {
     "name": "stdout",
     "output_type": "stream",
     "text": [
      "2/2 [==============================] - 0s 15ms/step\n",
      "Discriminator Loss: 0.1656033219114761\n"
     ]
    },
    {
     "name": "stderr",
     "output_type": "stream",
     "text": [
      "WARNING:matplotlib.image:Clipping input data to the valid range for imshow with RGB data ([0..1] for floats or [0..255] for integers).\n",
      "WARNING:matplotlib.image:Clipping input data to the valid range for imshow with RGB data ([0..1] for floats or [0..255] for integers).\n"
     ]
    },
    {
     "name": "stdout",
     "output_type": "stream",
     "text": [
      "Generator Loss: [0.32801908254623413, 0.32613077759742737, 0.0009441527654416859]\n"
     ]
    },
    {
     "name": "stderr",
     "output_type": "stream",
     "text": [
      "WARNING:matplotlib.image:Clipping input data to the valid range for imshow with RGB data ([0..1] for floats or [0..255] for integers).\n",
      "WARNING:matplotlib.image:Clipping input data to the valid range for imshow with RGB data ([0..1] for floats or [0..255] for integers).\n",
      "WARNING:matplotlib.image:Clipping input data to the valid range for imshow with RGB data ([0..1] for floats or [0..255] for integers).\n",
      "WARNING:matplotlib.image:Clipping input data to the valid range for imshow with RGB data ([0..1] for floats or [0..255] for integers).\n",
      "WARNING:matplotlib.image:Clipping input data to the valid range for imshow with RGB data ([0..1] for floats or [0..255] for integers).\n",
      "WARNING:matplotlib.image:Clipping input data to the valid range for imshow with RGB data ([0..1] for floats or [0..255] for integers).\n",
      "WARNING:matplotlib.image:Clipping input data to the valid range for imshow with RGB data ([0..1] for floats or [0..255] for integers).\n",
      "WARNING:matplotlib.image:Clipping input data to the valid range for imshow with RGB data ([0..1] for floats or [0..255] for integers).\n"
     ]
    },
    {
     "name": "stdout",
     "output_type": "stream",
     "text": [
      "2/2 [==============================] - 0s 15ms/step\n",
      "Discriminator Loss: 0.1698079564883983\n"
     ]
    },
    {
     "name": "stderr",
     "output_type": "stream",
     "text": [
      "WARNING:matplotlib.image:Clipping input data to the valid range for imshow with RGB data ([0..1] for floats or [0..255] for integers).\n",
      "WARNING:matplotlib.image:Clipping input data to the valid range for imshow with RGB data ([0..1] for floats or [0..255] for integers).\n"
     ]
    },
    {
     "name": "stdout",
     "output_type": "stream",
     "text": [
      "Generator Loss: [0.3293520212173462, 0.32669341564178467, 0.001329303253442049]\n"
     ]
    },
    {
     "name": "stderr",
     "output_type": "stream",
     "text": [
      "WARNING:matplotlib.image:Clipping input data to the valid range for imshow with RGB data ([0..1] for floats or [0..255] for integers).\n",
      "WARNING:matplotlib.image:Clipping input data to the valid range for imshow with RGB data ([0..1] for floats or [0..255] for integers).\n",
      "WARNING:matplotlib.image:Clipping input data to the valid range for imshow with RGB data ([0..1] for floats or [0..255] for integers).\n",
      "WARNING:matplotlib.image:Clipping input data to the valid range for imshow with RGB data ([0..1] for floats or [0..255] for integers).\n",
      "WARNING:matplotlib.image:Clipping input data to the valid range for imshow with RGB data ([0..1] for floats or [0..255] for integers).\n",
      "WARNING:matplotlib.image:Clipping input data to the valid range for imshow with RGB data ([0..1] for floats or [0..255] for integers).\n",
      "WARNING:matplotlib.image:Clipping input data to the valid range for imshow with RGB data ([0..1] for floats or [0..255] for integers).\n",
      "WARNING:matplotlib.image:Clipping input data to the valid range for imshow with RGB data ([0..1] for floats or [0..255] for integers).\n"
     ]
    },
    {
     "name": "stdout",
     "output_type": "stream",
     "text": [
      "2/2 [==============================] - 0s 15ms/step\n",
      "Discriminator Loss: 0.16692921517096693\n"
     ]
    },
    {
     "name": "stderr",
     "output_type": "stream",
     "text": [
      "WARNING:matplotlib.image:Clipping input data to the valid range for imshow with RGB data ([0..1] for floats or [0..255] for integers).\n",
      "WARNING:matplotlib.image:Clipping input data to the valid range for imshow with RGB data ([0..1] for floats or [0..255] for integers).\n"
     ]
    },
    {
     "name": "stdout",
     "output_type": "stream",
     "text": [
      "Generator Loss: [0.3372160792350769, 0.3346555233001709, 0.001280277967453003]\n"
     ]
    },
    {
     "name": "stderr",
     "output_type": "stream",
     "text": [
      "WARNING:matplotlib.image:Clipping input data to the valid range for imshow with RGB data ([0..1] for floats or [0..255] for integers).\n",
      "WARNING:matplotlib.image:Clipping input data to the valid range for imshow with RGB data ([0..1] for floats or [0..255] for integers).\n",
      "WARNING:matplotlib.image:Clipping input data to the valid range for imshow with RGB data ([0..1] for floats or [0..255] for integers).\n",
      "WARNING:matplotlib.image:Clipping input data to the valid range for imshow with RGB data ([0..1] for floats or [0..255] for integers).\n",
      "WARNING:matplotlib.image:Clipping input data to the valid range for imshow with RGB data ([0..1] for floats or [0..255] for integers).\n",
      "WARNING:matplotlib.image:Clipping input data to the valid range for imshow with RGB data ([0..1] for floats or [0..255] for integers).\n",
      "WARNING:matplotlib.image:Clipping input data to the valid range for imshow with RGB data ([0..1] for floats or [0..255] for integers).\n",
      "WARNING:matplotlib.image:Clipping input data to the valid range for imshow with RGB data ([0..1] for floats or [0..255] for integers).\n"
     ]
    },
    {
     "name": "stdout",
     "output_type": "stream",
     "text": [
      "2/2 [==============================] - 0s 14ms/step\n",
      "Discriminator Loss: 0.17160852990934927\n"
     ]
    },
    {
     "name": "stderr",
     "output_type": "stream",
     "text": [
      "WARNING:matplotlib.image:Clipping input data to the valid range for imshow with RGB data ([0..1] for floats or [0..255] for integers).\n",
      "WARNING:matplotlib.image:Clipping input data to the valid range for imshow with RGB data ([0..1] for floats or [0..255] for integers).\n"
     ]
    },
    {
     "name": "stdout",
     "output_type": "stream",
     "text": [
      "Generator Loss: [0.33069393038749695, 0.3283679783344269, 0.0011629746295511723]\n"
     ]
    },
    {
     "name": "stderr",
     "output_type": "stream",
     "text": [
      "WARNING:matplotlib.image:Clipping input data to the valid range for imshow with RGB data ([0..1] for floats or [0..255] for integers).\n",
      "WARNING:matplotlib.image:Clipping input data to the valid range for imshow with RGB data ([0..1] for floats or [0..255] for integers).\n",
      "WARNING:matplotlib.image:Clipping input data to the valid range for imshow with RGB data ([0..1] for floats or [0..255] for integers).\n",
      "WARNING:matplotlib.image:Clipping input data to the valid range for imshow with RGB data ([0..1] for floats or [0..255] for integers).\n",
      "WARNING:matplotlib.image:Clipping input data to the valid range for imshow with RGB data ([0..1] for floats or [0..255] for integers).\n",
      "WARNING:matplotlib.image:Clipping input data to the valid range for imshow with RGB data ([0..1] for floats or [0..255] for integers).\n",
      "WARNING:matplotlib.image:Clipping input data to the valid range for imshow with RGB data ([0..1] for floats or [0..255] for integers).\n",
      "WARNING:matplotlib.image:Clipping input data to the valid range for imshow with RGB data ([0..1] for floats or [0..255] for integers).\n"
     ]
    },
    {
     "name": "stdout",
     "output_type": "stream",
     "text": [
      "2/2 [==============================] - 0s 15ms/step\n",
      "Discriminator Loss: 0.16637303049196817\n"
     ]
    },
    {
     "name": "stderr",
     "output_type": "stream",
     "text": [
      "WARNING:matplotlib.image:Clipping input data to the valid range for imshow with RGB data ([0..1] for floats or [0..255] for integers).\n",
      "WARNING:matplotlib.image:Clipping input data to the valid range for imshow with RGB data ([0..1] for floats or [0..255] for integers).\n"
     ]
    },
    {
     "name": "stdout",
     "output_type": "stream",
     "text": [
      "Generator Loss: [0.33190637826919556, 0.3299211859703064, 0.0009926013881340623]\n"
     ]
    },
    {
     "name": "stderr",
     "output_type": "stream",
     "text": [
      "WARNING:matplotlib.image:Clipping input data to the valid range for imshow with RGB data ([0..1] for floats or [0..255] for integers).\n",
      "WARNING:matplotlib.image:Clipping input data to the valid range for imshow with RGB data ([0..1] for floats or [0..255] for integers).\n",
      "WARNING:matplotlib.image:Clipping input data to the valid range for imshow with RGB data ([0..1] for floats or [0..255] for integers).\n",
      "WARNING:matplotlib.image:Clipping input data to the valid range for imshow with RGB data ([0..1] for floats or [0..255] for integers).\n",
      "WARNING:matplotlib.image:Clipping input data to the valid range for imshow with RGB data ([0..1] for floats or [0..255] for integers).\n",
      "WARNING:matplotlib.image:Clipping input data to the valid range for imshow with RGB data ([0..1] for floats or [0..255] for integers).\n",
      "WARNING:matplotlib.image:Clipping input data to the valid range for imshow with RGB data ([0..1] for floats or [0..255] for integers).\n",
      "WARNING:matplotlib.image:Clipping input data to the valid range for imshow with RGB data ([0..1] for floats or [0..255] for integers).\n"
     ]
    },
    {
     "name": "stdout",
     "output_type": "stream",
     "text": [
      "2/2 [==============================] - 0s 16ms/step\n",
      "Discriminator Loss: 0.16724687425005413\n"
     ]
    },
    {
     "name": "stderr",
     "output_type": "stream",
     "text": [
      "WARNING:matplotlib.image:Clipping input data to the valid range for imshow with RGB data ([0..1] for floats or [0..255] for integers).\n",
      "WARNING:matplotlib.image:Clipping input data to the valid range for imshow with RGB data ([0..1] for floats or [0..255] for integers).\n"
     ]
    },
    {
     "name": "stdout",
     "output_type": "stream",
     "text": [
      "Generator Loss: [0.328888475894928, 0.32640960812568665, 0.0012394317891448736]\n"
     ]
    },
    {
     "name": "stderr",
     "output_type": "stream",
     "text": [
      "WARNING:matplotlib.image:Clipping input data to the valid range for imshow with RGB data ([0..1] for floats or [0..255] for integers).\n",
      "WARNING:matplotlib.image:Clipping input data to the valid range for imshow with RGB data ([0..1] for floats or [0..255] for integers).\n",
      "WARNING:matplotlib.image:Clipping input data to the valid range for imshow with RGB data ([0..1] for floats or [0..255] for integers).\n",
      "WARNING:matplotlib.image:Clipping input data to the valid range for imshow with RGB data ([0..1] for floats or [0..255] for integers).\n",
      "WARNING:matplotlib.image:Clipping input data to the valid range for imshow with RGB data ([0..1] for floats or [0..255] for integers).\n",
      "WARNING:matplotlib.image:Clipping input data to the valid range for imshow with RGB data ([0..1] for floats or [0..255] for integers).\n",
      "WARNING:matplotlib.image:Clipping input data to the valid range for imshow with RGB data ([0..1] for floats or [0..255] for integers).\n",
      "WARNING:matplotlib.image:Clipping input data to the valid range for imshow with RGB data ([0..1] for floats or [0..255] for integers).\n"
     ]
    },
    {
     "name": "stdout",
     "output_type": "stream",
     "text": [
      "2/2 [==============================] - 0s 15ms/step\n",
      "Discriminator Loss: 0.16485022523033876\n"
     ]
    },
    {
     "name": "stderr",
     "output_type": "stream",
     "text": [
      "WARNING:matplotlib.image:Clipping input data to the valid range for imshow with RGB data ([0..1] for floats or [0..255] for integers).\n",
      "WARNING:matplotlib.image:Clipping input data to the valid range for imshow with RGB data ([0..1] for floats or [0..255] for integers).\n"
     ]
    },
    {
     "name": "stdout",
     "output_type": "stream",
     "text": [
      "Generator Loss: [0.3293684124946594, 0.3270271420478821, 0.0011706424411386251]\n"
     ]
    },
    {
     "name": "stderr",
     "output_type": "stream",
     "text": [
      "WARNING:matplotlib.image:Clipping input data to the valid range for imshow with RGB data ([0..1] for floats or [0..255] for integers).\n",
      "WARNING:matplotlib.image:Clipping input data to the valid range for imshow with RGB data ([0..1] for floats or [0..255] for integers).\n",
      "WARNING:matplotlib.image:Clipping input data to the valid range for imshow with RGB data ([0..1] for floats or [0..255] for integers).\n",
      "WARNING:matplotlib.image:Clipping input data to the valid range for imshow with RGB data ([0..1] for floats or [0..255] for integers).\n",
      "WARNING:matplotlib.image:Clipping input data to the valid range for imshow with RGB data ([0..1] for floats or [0..255] for integers).\n",
      "WARNING:matplotlib.image:Clipping input data to the valid range for imshow with RGB data ([0..1] for floats or [0..255] for integers).\n",
      "WARNING:matplotlib.image:Clipping input data to the valid range for imshow with RGB data ([0..1] for floats or [0..255] for integers).\n",
      "WARNING:matplotlib.image:Clipping input data to the valid range for imshow with RGB data ([0..1] for floats or [0..255] for integers).\n"
     ]
    },
    {
     "name": "stdout",
     "output_type": "stream",
     "text": [
      "2/2 [==============================] - 0s 15ms/step\n",
      "Discriminator Loss: 0.16756926527028781\n"
     ]
    },
    {
     "name": "stderr",
     "output_type": "stream",
     "text": [
      "WARNING:matplotlib.image:Clipping input data to the valid range for imshow with RGB data ([0..1] for floats or [0..255] for integers).\n",
      "WARNING:matplotlib.image:Clipping input data to the valid range for imshow with RGB data ([0..1] for floats or [0..255] for integers).\n"
     ]
    },
    {
     "name": "stdout",
     "output_type": "stream",
     "text": [
      "Generator Loss: [0.3280171751976013, 0.3258439898490906, 0.001086593372747302]\n"
     ]
    },
    {
     "name": "stderr",
     "output_type": "stream",
     "text": [
      "WARNING:matplotlib.image:Clipping input data to the valid range for imshow with RGB data ([0..1] for floats or [0..255] for integers).\n",
      "WARNING:matplotlib.image:Clipping input data to the valid range for imshow with RGB data ([0..1] for floats or [0..255] for integers).\n",
      "WARNING:matplotlib.image:Clipping input data to the valid range for imshow with RGB data ([0..1] for floats or [0..255] for integers).\n",
      "WARNING:matplotlib.image:Clipping input data to the valid range for imshow with RGB data ([0..1] for floats or [0..255] for integers).\n",
      "WARNING:matplotlib.image:Clipping input data to the valid range for imshow with RGB data ([0..1] for floats or [0..255] for integers).\n",
      "WARNING:matplotlib.image:Clipping input data to the valid range for imshow with RGB data ([0..1] for floats or [0..255] for integers).\n",
      "WARNING:matplotlib.image:Clipping input data to the valid range for imshow with RGB data ([0..1] for floats or [0..255] for integers).\n",
      "WARNING:matplotlib.image:Clipping input data to the valid range for imshow with RGB data ([0..1] for floats or [0..255] for integers).\n"
     ]
    },
    {
     "name": "stdout",
     "output_type": "stream",
     "text": [
      "2/2 [==============================] - 0s 15ms/step\n",
      "Discriminator Loss: 0.1642353895474571\n"
     ]
    },
    {
     "name": "stderr",
     "output_type": "stream",
     "text": [
      "WARNING:matplotlib.image:Clipping input data to the valid range for imshow with RGB data ([0..1] for floats or [0..255] for integers).\n",
      "WARNING:matplotlib.image:Clipping input data to the valid range for imshow with RGB data ([0..1] for floats or [0..255] for integers).\n"
     ]
    },
    {
     "name": "stdout",
     "output_type": "stream",
     "text": [
      "Generator Loss: [0.33348557353019714, 0.33132755756378174, 0.001079007750377059]\n"
     ]
    },
    {
     "name": "stderr",
     "output_type": "stream",
     "text": [
      "WARNING:matplotlib.image:Clipping input data to the valid range for imshow with RGB data ([0..1] for floats or [0..255] for integers).\n",
      "WARNING:matplotlib.image:Clipping input data to the valid range for imshow with RGB data ([0..1] for floats or [0..255] for integers).\n",
      "WARNING:matplotlib.image:Clipping input data to the valid range for imshow with RGB data ([0..1] for floats or [0..255] for integers).\n",
      "WARNING:matplotlib.image:Clipping input data to the valid range for imshow with RGB data ([0..1] for floats or [0..255] for integers).\n",
      "WARNING:matplotlib.image:Clipping input data to the valid range for imshow with RGB data ([0..1] for floats or [0..255] for integers).\n",
      "WARNING:matplotlib.image:Clipping input data to the valid range for imshow with RGB data ([0..1] for floats or [0..255] for integers).\n",
      "WARNING:matplotlib.image:Clipping input data to the valid range for imshow with RGB data ([0..1] for floats or [0..255] for integers).\n",
      "WARNING:matplotlib.image:Clipping input data to the valid range for imshow with RGB data ([0..1] for floats or [0..255] for integers).\n"
     ]
    },
    {
     "name": "stdout",
     "output_type": "stream",
     "text": [
      "2/2 [==============================] - 0s 14ms/step\n",
      "Discriminator Loss: 0.16514167845434713\n"
     ]
    },
    {
     "name": "stderr",
     "output_type": "stream",
     "text": [
      "WARNING:matplotlib.image:Clipping input data to the valid range for imshow with RGB data ([0..1] for floats or [0..255] for integers).\n",
      "WARNING:matplotlib.image:Clipping input data to the valid range for imshow with RGB data ([0..1] for floats or [0..255] for integers).\n"
     ]
    },
    {
     "name": "stdout",
     "output_type": "stream",
     "text": [
      "Generator Loss: [0.33848658204078674, 0.3367270231246948, 0.0008797834161669016]\n"
     ]
    },
    {
     "name": "stderr",
     "output_type": "stream",
     "text": [
      "WARNING:matplotlib.image:Clipping input data to the valid range for imshow with RGB data ([0..1] for floats or [0..255] for integers).\n",
      "WARNING:matplotlib.image:Clipping input data to the valid range for imshow with RGB data ([0..1] for floats or [0..255] for integers).\n",
      "WARNING:matplotlib.image:Clipping input data to the valid range for imshow with RGB data ([0..1] for floats or [0..255] for integers).\n",
      "WARNING:matplotlib.image:Clipping input data to the valid range for imshow with RGB data ([0..1] for floats or [0..255] for integers).\n",
      "WARNING:matplotlib.image:Clipping input data to the valid range for imshow with RGB data ([0..1] for floats or [0..255] for integers).\n",
      "WARNING:matplotlib.image:Clipping input data to the valid range for imshow with RGB data ([0..1] for floats or [0..255] for integers).\n",
      "WARNING:matplotlib.image:Clipping input data to the valid range for imshow with RGB data ([0..1] for floats or [0..255] for integers).\n",
      "WARNING:matplotlib.image:Clipping input data to the valid range for imshow with RGB data ([0..1] for floats or [0..255] for integers).\n"
     ]
    },
    {
     "name": "stdout",
     "output_type": "stream",
     "text": [
      "2/2 [==============================] - 0s 14ms/step\n",
      "Discriminator Loss: 0.167165158168757\n"
     ]
    },
    {
     "name": "stderr",
     "output_type": "stream",
     "text": [
      "WARNING:matplotlib.image:Clipping input data to the valid range for imshow with RGB data ([0..1] for floats or [0..255] for integers).\n",
      "WARNING:matplotlib.image:Clipping input data to the valid range for imshow with RGB data ([0..1] for floats or [0..255] for integers).\n"
     ]
    },
    {
     "name": "stdout",
     "output_type": "stream",
     "text": [
      "Generator Loss: [0.3418460190296173, 0.34033286571502686, 0.0007565838168375194]\n"
     ]
    },
    {
     "name": "stderr",
     "output_type": "stream",
     "text": [
      "WARNING:matplotlib.image:Clipping input data to the valid range for imshow with RGB data ([0..1] for floats or [0..255] for integers).\n",
      "WARNING:matplotlib.image:Clipping input data to the valid range for imshow with RGB data ([0..1] for floats or [0..255] for integers).\n",
      "WARNING:matplotlib.image:Clipping input data to the valid range for imshow with RGB data ([0..1] for floats or [0..255] for integers).\n",
      "WARNING:matplotlib.image:Clipping input data to the valid range for imshow with RGB data ([0..1] for floats or [0..255] for integers).\n",
      "WARNING:matplotlib.image:Clipping input data to the valid range for imshow with RGB data ([0..1] for floats or [0..255] for integers).\n",
      "WARNING:matplotlib.image:Clipping input data to the valid range for imshow with RGB data ([0..1] for floats or [0..255] for integers).\n",
      "WARNING:matplotlib.image:Clipping input data to the valid range for imshow with RGB data ([0..1] for floats or [0..255] for integers).\n",
      "WARNING:matplotlib.image:Clipping input data to the valid range for imshow with RGB data ([0..1] for floats or [0..255] for integers).\n"
     ]
    },
    {
     "name": "stdout",
     "output_type": "stream",
     "text": [
      "2/2 [==============================] - 0s 14ms/step\n",
      "Discriminator Loss: 0.17128264840914653\n"
     ]
    },
    {
     "name": "stderr",
     "output_type": "stream",
     "text": [
      "WARNING:matplotlib.image:Clipping input data to the valid range for imshow with RGB data ([0..1] for floats or [0..255] for integers).\n",
      "WARNING:matplotlib.image:Clipping input data to the valid range for imshow with RGB data ([0..1] for floats or [0..255] for integers).\n"
     ]
    },
    {
     "name": "stdout",
     "output_type": "stream",
     "text": [
      "Generator Loss: [0.3365499973297119, 0.33498552441596985, 0.0007822381448931992]\n"
     ]
    },
    {
     "name": "stderr",
     "output_type": "stream",
     "text": [
      "WARNING:matplotlib.image:Clipping input data to the valid range for imshow with RGB data ([0..1] for floats or [0..255] for integers).\n",
      "WARNING:matplotlib.image:Clipping input data to the valid range for imshow with RGB data ([0..1] for floats or [0..255] for integers).\n",
      "WARNING:matplotlib.image:Clipping input data to the valid range for imshow with RGB data ([0..1] for floats or [0..255] for integers).\n",
      "WARNING:matplotlib.image:Clipping input data to the valid range for imshow with RGB data ([0..1] for floats or [0..255] for integers).\n",
      "WARNING:matplotlib.image:Clipping input data to the valid range for imshow with RGB data ([0..1] for floats or [0..255] for integers).\n",
      "WARNING:matplotlib.image:Clipping input data to the valid range for imshow with RGB data ([0..1] for floats or [0..255] for integers).\n",
      "WARNING:matplotlib.image:Clipping input data to the valid range for imshow with RGB data ([0..1] for floats or [0..255] for integers).\n",
      "WARNING:matplotlib.image:Clipping input data to the valid range for imshow with RGB data ([0..1] for floats or [0..255] for integers).\n"
     ]
    },
    {
     "name": "stdout",
     "output_type": "stream",
     "text": [
      "2/2 [==============================] - 0s 14ms/step\n",
      "Discriminator Loss: 0.16433508991451617\n"
     ]
    },
    {
     "name": "stderr",
     "output_type": "stream",
     "text": [
      "WARNING:matplotlib.image:Clipping input data to the valid range for imshow with RGB data ([0..1] for floats or [0..255] for integers).\n",
      "WARNING:matplotlib.image:Clipping input data to the valid range for imshow with RGB data ([0..1] for floats or [0..255] for integers).\n"
     ]
    },
    {
     "name": "stdout",
     "output_type": "stream",
     "text": [
      "Generator Loss: [0.330282598733902, 0.3282490670681, 0.0010167695581912994]\n"
     ]
    },
    {
     "name": "stderr",
     "output_type": "stream",
     "text": [
      "WARNING:matplotlib.image:Clipping input data to the valid range for imshow with RGB data ([0..1] for floats or [0..255] for integers).\n",
      "WARNING:matplotlib.image:Clipping input data to the valid range for imshow with RGB data ([0..1] for floats or [0..255] for integers).\n",
      "WARNING:matplotlib.image:Clipping input data to the valid range for imshow with RGB data ([0..1] for floats or [0..255] for integers).\n",
      "WARNING:matplotlib.image:Clipping input data to the valid range for imshow with RGB data ([0..1] for floats or [0..255] for integers).\n",
      "WARNING:matplotlib.image:Clipping input data to the valid range for imshow with RGB data ([0..1] for floats or [0..255] for integers).\n",
      "WARNING:matplotlib.image:Clipping input data to the valid range for imshow with RGB data ([0..1] for floats or [0..255] for integers).\n",
      "WARNING:matplotlib.image:Clipping input data to the valid range for imshow with RGB data ([0..1] for floats or [0..255] for integers).\n",
      "WARNING:matplotlib.image:Clipping input data to the valid range for imshow with RGB data ([0..1] for floats or [0..255] for integers).\n"
     ]
    },
    {
     "name": "stdout",
     "output_type": "stream",
     "text": [
      "2/2 [==============================] - 0s 15ms/step\n",
      "Discriminator Loss: 0.16528202613244503\n"
     ]
    },
    {
     "name": "stderr",
     "output_type": "stream",
     "text": [
      "WARNING:matplotlib.image:Clipping input data to the valid range for imshow with RGB data ([0..1] for floats or [0..255] for integers).\n",
      "WARNING:matplotlib.image:Clipping input data to the valid range for imshow with RGB data ([0..1] for floats or [0..255] for integers).\n"
     ]
    },
    {
     "name": "stdout",
     "output_type": "stream",
     "text": [
      "Generator Loss: [0.32750311493873596, 0.32581034302711487, 0.0008463849080726504]\n"
     ]
    },
    {
     "name": "stderr",
     "output_type": "stream",
     "text": [
      "WARNING:matplotlib.image:Clipping input data to the valid range for imshow with RGB data ([0..1] for floats or [0..255] for integers).\n",
      "WARNING:matplotlib.image:Clipping input data to the valid range for imshow with RGB data ([0..1] for floats or [0..255] for integers).\n",
      "WARNING:matplotlib.image:Clipping input data to the valid range for imshow with RGB data ([0..1] for floats or [0..255] for integers).\n",
      "WARNING:matplotlib.image:Clipping input data to the valid range for imshow with RGB data ([0..1] for floats or [0..255] for integers).\n",
      "WARNING:matplotlib.image:Clipping input data to the valid range for imshow with RGB data ([0..1] for floats or [0..255] for integers).\n",
      "WARNING:matplotlib.image:Clipping input data to the valid range for imshow with RGB data ([0..1] for floats or [0..255] for integers).\n",
      "WARNING:matplotlib.image:Clipping input data to the valid range for imshow with RGB data ([0..1] for floats or [0..255] for integers).\n",
      "WARNING:matplotlib.image:Clipping input data to the valid range for imshow with RGB data ([0..1] for floats or [0..255] for integers).\n"
     ]
    },
    {
     "name": "stdout",
     "output_type": "stream",
     "text": [
      "2/2 [==============================] - 0s 15ms/step\n",
      "Discriminator Loss: 0.1672878661111099\n"
     ]
    },
    {
     "name": "stderr",
     "output_type": "stream",
     "text": [
      "WARNING:matplotlib.image:Clipping input data to the valid range for imshow with RGB data ([0..1] for floats or [0..255] for integers).\n",
      "WARNING:matplotlib.image:Clipping input data to the valid range for imshow with RGB data ([0..1] for floats or [0..255] for integers).\n"
     ]
    },
    {
     "name": "stdout",
     "output_type": "stream",
     "text": [
      "Generator Loss: [0.3269176781177521, 0.32558882236480713, 0.0006644277600571513]\n"
     ]
    },
    {
     "name": "stderr",
     "output_type": "stream",
     "text": [
      "WARNING:matplotlib.image:Clipping input data to the valid range for imshow with RGB data ([0..1] for floats or [0..255] for integers).\n",
      "WARNING:matplotlib.image:Clipping input data to the valid range for imshow with RGB data ([0..1] for floats or [0..255] for integers).\n",
      "WARNING:matplotlib.image:Clipping input data to the valid range for imshow with RGB data ([0..1] for floats or [0..255] for integers).\n",
      "WARNING:matplotlib.image:Clipping input data to the valid range for imshow with RGB data ([0..1] for floats or [0..255] for integers).\n",
      "WARNING:matplotlib.image:Clipping input data to the valid range for imshow with RGB data ([0..1] for floats or [0..255] for integers).\n",
      "WARNING:matplotlib.image:Clipping input data to the valid range for imshow with RGB data ([0..1] for floats or [0..255] for integers).\n",
      "WARNING:matplotlib.image:Clipping input data to the valid range for imshow with RGB data ([0..1] for floats or [0..255] for integers).\n",
      "WARNING:matplotlib.image:Clipping input data to the valid range for imshow with RGB data ([0..1] for floats or [0..255] for integers).\n"
     ]
    },
    {
     "name": "stdout",
     "output_type": "stream",
     "text": [
      "2/2 [==============================] - 0s 16ms/step\n",
      "Discriminator Loss: 0.16333226361598463\n"
     ]
    },
    {
     "name": "stderr",
     "output_type": "stream",
     "text": [
      "WARNING:matplotlib.image:Clipping input data to the valid range for imshow with RGB data ([0..1] for floats or [0..255] for integers).\n",
      "WARNING:matplotlib.image:Clipping input data to the valid range for imshow with RGB data ([0..1] for floats or [0..255] for integers).\n"
     ]
    },
    {
     "name": "stdout",
     "output_type": "stream",
     "text": [
      "Generator Loss: [0.32952365279197693, 0.328016996383667, 0.000753330416046083]\n"
     ]
    },
    {
     "name": "stderr",
     "output_type": "stream",
     "text": [
      "WARNING:matplotlib.image:Clipping input data to the valid range for imshow with RGB data ([0..1] for floats or [0..255] for integers).\n",
      "WARNING:matplotlib.image:Clipping input data to the valid range for imshow with RGB data ([0..1] for floats or [0..255] for integers).\n",
      "WARNING:matplotlib.image:Clipping input data to the valid range for imshow with RGB data ([0..1] for floats or [0..255] for integers).\n",
      "WARNING:matplotlib.image:Clipping input data to the valid range for imshow with RGB data ([0..1] for floats or [0..255] for integers).\n",
      "WARNING:matplotlib.image:Clipping input data to the valid range for imshow with RGB data ([0..1] for floats or [0..255] for integers).\n",
      "WARNING:matplotlib.image:Clipping input data to the valid range for imshow with RGB data ([0..1] for floats or [0..255] for integers).\n",
      "WARNING:matplotlib.image:Clipping input data to the valid range for imshow with RGB data ([0..1] for floats or [0..255] for integers).\n",
      "WARNING:matplotlib.image:Clipping input data to the valid range for imshow with RGB data ([0..1] for floats or [0..255] for integers).\n"
     ]
    },
    {
     "name": "stdout",
     "output_type": "stream",
     "text": [
      "2/2 [==============================] - 0s 14ms/step\n",
      "Discriminator Loss: 0.1630746024421228\n"
     ]
    },
    {
     "name": "stderr",
     "output_type": "stream",
     "text": [
      "WARNING:matplotlib.image:Clipping input data to the valid range for imshow with RGB data ([0..1] for floats or [0..255] for integers).\n",
      "WARNING:matplotlib.image:Clipping input data to the valid range for imshow with RGB data ([0..1] for floats or [0..255] for integers).\n"
     ]
    },
    {
     "name": "stdout",
     "output_type": "stream",
     "text": [
      "Generator Loss: [0.32777607440948486, 0.32615309953689575, 0.000811489881016314]\n"
     ]
    },
    {
     "name": "stderr",
     "output_type": "stream",
     "text": [
      "WARNING:matplotlib.image:Clipping input data to the valid range for imshow with RGB data ([0..1] for floats or [0..255] for integers).\n",
      "WARNING:matplotlib.image:Clipping input data to the valid range for imshow with RGB data ([0..1] for floats or [0..255] for integers).\n",
      "WARNING:matplotlib.image:Clipping input data to the valid range for imshow with RGB data ([0..1] for floats or [0..255] for integers).\n",
      "WARNING:matplotlib.image:Clipping input data to the valid range for imshow with RGB data ([0..1] for floats or [0..255] for integers).\n",
      "WARNING:matplotlib.image:Clipping input data to the valid range for imshow with RGB data ([0..1] for floats or [0..255] for integers).\n",
      "WARNING:matplotlib.image:Clipping input data to the valid range for imshow with RGB data ([0..1] for floats or [0..255] for integers).\n",
      "WARNING:matplotlib.image:Clipping input data to the valid range for imshow with RGB data ([0..1] for floats or [0..255] for integers).\n",
      "WARNING:matplotlib.image:Clipping input data to the valid range for imshow with RGB data ([0..1] for floats or [0..255] for integers).\n"
     ]
    },
    {
     "name": "stdout",
     "output_type": "stream",
     "text": [
      "2/2 [==============================] - 0s 15ms/step\n",
      "Discriminator Loss: 0.163377859793286\n"
     ]
    },
    {
     "name": "stderr",
     "output_type": "stream",
     "text": [
      "WARNING:matplotlib.image:Clipping input data to the valid range for imshow with RGB data ([0..1] for floats or [0..255] for integers).\n"
     ]
    },
    {
     "name": "stdout",
     "output_type": "stream",
     "text": [
      "Generator Loss: [0.327444851398468, 0.3259052634239197, 0.0007697881665080786]\n"
     ]
    },
    {
     "name": "stderr",
     "output_type": "stream",
     "text": [
      "WARNING:matplotlib.image:Clipping input data to the valid range for imshow with RGB data ([0..1] for floats or [0..255] for integers).\n",
      "WARNING:matplotlib.image:Clipping input data to the valid range for imshow with RGB data ([0..1] for floats or [0..255] for integers).\n",
      "WARNING:matplotlib.image:Clipping input data to the valid range for imshow with RGB data ([0..1] for floats or [0..255] for integers).\n",
      "WARNING:matplotlib.image:Clipping input data to the valid range for imshow with RGB data ([0..1] for floats or [0..255] for integers).\n",
      "WARNING:matplotlib.image:Clipping input data to the valid range for imshow with RGB data ([0..1] for floats or [0..255] for integers).\n",
      "WARNING:matplotlib.image:Clipping input data to the valid range for imshow with RGB data ([0..1] for floats or [0..255] for integers).\n",
      "WARNING:matplotlib.image:Clipping input data to the valid range for imshow with RGB data ([0..1] for floats or [0..255] for integers).\n",
      "WARNING:matplotlib.image:Clipping input data to the valid range for imshow with RGB data ([0..1] for floats or [0..255] for integers).\n",
      "WARNING:matplotlib.image:Clipping input data to the valid range for imshow with RGB data ([0..1] for floats or [0..255] for integers).\n"
     ]
    },
    {
     "name": "stdout",
     "output_type": "stream",
     "text": [
      "2/2 [==============================] - 0s 14ms/step\n",
      "Discriminator Loss: 0.16309196262091064\n"
     ]
    },
    {
     "name": "stderr",
     "output_type": "stream",
     "text": [
      "WARNING:matplotlib.image:Clipping input data to the valid range for imshow with RGB data ([0..1] for floats or [0..255] for integers).\n",
      "WARNING:matplotlib.image:Clipping input data to the valid range for imshow with RGB data ([0..1] for floats or [0..255] for integers).\n"
     ]
    },
    {
     "name": "stdout",
     "output_type": "stream",
     "text": [
      "Generator Loss: [0.3339134156703949, 0.33233028650283813, 0.0007915657479315996]\n"
     ]
    },
    {
     "name": "stderr",
     "output_type": "stream",
     "text": [
      "WARNING:matplotlib.image:Clipping input data to the valid range for imshow with RGB data ([0..1] for floats or [0..255] for integers).\n",
      "WARNING:matplotlib.image:Clipping input data to the valid range for imshow with RGB data ([0..1] for floats or [0..255] for integers).\n",
      "WARNING:matplotlib.image:Clipping input data to the valid range for imshow with RGB data ([0..1] for floats or [0..255] for integers).\n",
      "WARNING:matplotlib.image:Clipping input data to the valid range for imshow with RGB data ([0..1] for floats or [0..255] for integers).\n",
      "WARNING:matplotlib.image:Clipping input data to the valid range for imshow with RGB data ([0..1] for floats or [0..255] for integers).\n",
      "WARNING:matplotlib.image:Clipping input data to the valid range for imshow with RGB data ([0..1] for floats or [0..255] for integers).\n",
      "WARNING:matplotlib.image:Clipping input data to the valid range for imshow with RGB data ([0..1] for floats or [0..255] for integers).\n",
      "WARNING:matplotlib.image:Clipping input data to the valid range for imshow with RGB data ([0..1] for floats or [0..255] for integers).\n"
     ]
    },
    {
     "name": "stdout",
     "output_type": "stream",
     "text": [
      "2/2 [==============================] - 0s 14ms/step\n",
      "Discriminator Loss: 0.16331331969536222\n"
     ]
    },
    {
     "name": "stderr",
     "output_type": "stream",
     "text": [
      "WARNING:matplotlib.image:Clipping input data to the valid range for imshow with RGB data ([0..1] for floats or [0..255] for integers).\n",
      "WARNING:matplotlib.image:Clipping input data to the valid range for imshow with RGB data ([0..1] for floats or [0..255] for integers).\n"
     ]
    },
    {
     "name": "stdout",
     "output_type": "stream",
     "text": [
      "Generator Loss: [0.327687531709671, 0.3258465826511383, 0.0009204679518006742]\n"
     ]
    },
    {
     "name": "stderr",
     "output_type": "stream",
     "text": [
      "WARNING:matplotlib.image:Clipping input data to the valid range for imshow with RGB data ([0..1] for floats or [0..255] for integers).\n",
      "WARNING:matplotlib.image:Clipping input data to the valid range for imshow with RGB data ([0..1] for floats or [0..255] for integers).\n",
      "WARNING:matplotlib.image:Clipping input data to the valid range for imshow with RGB data ([0..1] for floats or [0..255] for integers).\n",
      "WARNING:matplotlib.image:Clipping input data to the valid range for imshow with RGB data ([0..1] for floats or [0..255] for integers).\n",
      "WARNING:matplotlib.image:Clipping input data to the valid range for imshow with RGB data ([0..1] for floats or [0..255] for integers).\n",
      "WARNING:matplotlib.image:Clipping input data to the valid range for imshow with RGB data ([0..1] for floats or [0..255] for integers).\n",
      "WARNING:matplotlib.image:Clipping input data to the valid range for imshow with RGB data ([0..1] for floats or [0..255] for integers).\n",
      "WARNING:matplotlib.image:Clipping input data to the valid range for imshow with RGB data ([0..1] for floats or [0..255] for integers).\n"
     ]
    },
    {
     "name": "stdout",
     "output_type": "stream",
     "text": [
      "2/2 [==============================] - 0s 15ms/step\n",
      "Discriminator Loss: 0.1640526213591329\n"
     ]
    },
    {
     "name": "stderr",
     "output_type": "stream",
     "text": [
      "WARNING:matplotlib.image:Clipping input data to the valid range for imshow with RGB data ([0..1] for floats or [0..255] for integers).\n",
      "WARNING:matplotlib.image:Clipping input data to the valid range for imshow with RGB data ([0..1] for floats or [0..255] for integers).\n"
     ]
    },
    {
     "name": "stdout",
     "output_type": "stream",
     "text": [
      "Generator Loss: [0.3315715789794922, 0.3296159505844116, 0.0009778074454516172]\n"
     ]
    },
    {
     "name": "stderr",
     "output_type": "stream",
     "text": [
      "WARNING:matplotlib.image:Clipping input data to the valid range for imshow with RGB data ([0..1] for floats or [0..255] for integers).\n",
      "WARNING:matplotlib.image:Clipping input data to the valid range for imshow with RGB data ([0..1] for floats or [0..255] for integers).\n",
      "WARNING:matplotlib.image:Clipping input data to the valid range for imshow with RGB data ([0..1] for floats or [0..255] for integers).\n",
      "WARNING:matplotlib.image:Clipping input data to the valid range for imshow with RGB data ([0..1] for floats or [0..255] for integers).\n",
      "WARNING:matplotlib.image:Clipping input data to the valid range for imshow with RGB data ([0..1] for floats or [0..255] for integers).\n",
      "WARNING:matplotlib.image:Clipping input data to the valid range for imshow with RGB data ([0..1] for floats or [0..255] for integers).\n",
      "WARNING:matplotlib.image:Clipping input data to the valid range for imshow with RGB data ([0..1] for floats or [0..255] for integers).\n",
      "WARNING:matplotlib.image:Clipping input data to the valid range for imshow with RGB data ([0..1] for floats or [0..255] for integers).\n"
     ]
    },
    {
     "name": "stdout",
     "output_type": "stream",
     "text": [
      "2/2 [==============================] - 0s 15ms/step\n",
      "Discriminator Loss: 0.16616034508297162\n"
     ]
    },
    {
     "name": "stderr",
     "output_type": "stream",
     "text": [
      "WARNING:matplotlib.image:Clipping input data to the valid range for imshow with RGB data ([0..1] for floats or [0..255] for integers).\n",
      "WARNING:matplotlib.image:Clipping input data to the valid range for imshow with RGB data ([0..1] for floats or [0..255] for integers).\n"
     ]
    },
    {
     "name": "stdout",
     "output_type": "stream",
     "text": [
      "Generator Loss: [0.3393208086490631, 0.336974561214447, 0.0011731258127838373]\n"
     ]
    },
    {
     "name": "stderr",
     "output_type": "stream",
     "text": [
      "WARNING:matplotlib.image:Clipping input data to the valid range for imshow with RGB data ([0..1] for floats or [0..255] for integers).\n",
      "WARNING:matplotlib.image:Clipping input data to the valid range for imshow with RGB data ([0..1] for floats or [0..255] for integers).\n",
      "WARNING:matplotlib.image:Clipping input data to the valid range for imshow with RGB data ([0..1] for floats or [0..255] for integers).\n",
      "WARNING:matplotlib.image:Clipping input data to the valid range for imshow with RGB data ([0..1] for floats or [0..255] for integers).\n",
      "WARNING:matplotlib.image:Clipping input data to the valid range for imshow with RGB data ([0..1] for floats or [0..255] for integers).\n",
      "WARNING:matplotlib.image:Clipping input data to the valid range for imshow with RGB data ([0..1] for floats or [0..255] for integers).\n",
      "WARNING:matplotlib.image:Clipping input data to the valid range for imshow with RGB data ([0..1] for floats or [0..255] for integers).\n",
      "WARNING:matplotlib.image:Clipping input data to the valid range for imshow with RGB data ([0..1] for floats or [0..255] for integers).\n"
     ]
    },
    {
     "name": "stdout",
     "output_type": "stream",
     "text": [
      "2/2 [==============================] - 0s 14ms/step\n",
      "Discriminator Loss: 0.17326680873566147\n"
     ]
    },
    {
     "name": "stderr",
     "output_type": "stream",
     "text": [
      "WARNING:matplotlib.image:Clipping input data to the valid range for imshow with RGB data ([0..1] for floats or [0..255] for integers).\n",
      "WARNING:matplotlib.image:Clipping input data to the valid range for imshow with RGB data ([0..1] for floats or [0..255] for integers).\n"
     ]
    },
    {
     "name": "stdout",
     "output_type": "stream",
     "text": [
      "Generator Loss: [0.32881975173950195, 0.32677197456359863, 0.0010238959221169353]\n"
     ]
    },
    {
     "name": "stderr",
     "output_type": "stream",
     "text": [
      "WARNING:matplotlib.image:Clipping input data to the valid range for imshow with RGB data ([0..1] for floats or [0..255] for integers).\n",
      "WARNING:matplotlib.image:Clipping input data to the valid range for imshow with RGB data ([0..1] for floats or [0..255] for integers).\n",
      "WARNING:matplotlib.image:Clipping input data to the valid range for imshow with RGB data ([0..1] for floats or [0..255] for integers).\n",
      "WARNING:matplotlib.image:Clipping input data to the valid range for imshow with RGB data ([0..1] for floats or [0..255] for integers).\n",
      "WARNING:matplotlib.image:Clipping input data to the valid range for imshow with RGB data ([0..1] for floats or [0..255] for integers).\n",
      "WARNING:matplotlib.image:Clipping input data to the valid range for imshow with RGB data ([0..1] for floats or [0..255] for integers).\n",
      "WARNING:matplotlib.image:Clipping input data to the valid range for imshow with RGB data ([0..1] for floats or [0..255] for integers).\n",
      "WARNING:matplotlib.image:Clipping input data to the valid range for imshow with RGB data ([0..1] for floats or [0..255] for integers).\n"
     ]
    },
    {
     "name": "stdout",
     "output_type": "stream",
     "text": [
      "2/2 [==============================] - 0s 15ms/step\n",
      "Discriminator Loss: 0.16561215991077916\n"
     ]
    },
    {
     "name": "stderr",
     "output_type": "stream",
     "text": [
      "WARNING:matplotlib.image:Clipping input data to the valid range for imshow with RGB data ([0..1] for floats or [0..255] for integers).\n",
      "WARNING:matplotlib.image:Clipping input data to the valid range for imshow with RGB data ([0..1] for floats or [0..255] for integers).\n"
     ]
    },
    {
     "name": "stdout",
     "output_type": "stream",
     "text": [
      "Generator Loss: [0.3367987871170044, 0.33471956849098206, 0.0010396105935797095]\n"
     ]
    },
    {
     "name": "stderr",
     "output_type": "stream",
     "text": [
      "WARNING:matplotlib.image:Clipping input data to the valid range for imshow with RGB data ([0..1] for floats or [0..255] for integers).\n",
      "WARNING:matplotlib.image:Clipping input data to the valid range for imshow with RGB data ([0..1] for floats or [0..255] for integers).\n",
      "WARNING:matplotlib.image:Clipping input data to the valid range for imshow with RGB data ([0..1] for floats or [0..255] for integers).\n",
      "WARNING:matplotlib.image:Clipping input data to the valid range for imshow with RGB data ([0..1] for floats or [0..255] for integers).\n",
      "WARNING:matplotlib.image:Clipping input data to the valid range for imshow with RGB data ([0..1] for floats or [0..255] for integers).\n",
      "WARNING:matplotlib.image:Clipping input data to the valid range for imshow with RGB data ([0..1] for floats or [0..255] for integers).\n",
      "WARNING:matplotlib.image:Clipping input data to the valid range for imshow with RGB data ([0..1] for floats or [0..255] for integers).\n",
      "WARNING:matplotlib.image:Clipping input data to the valid range for imshow with RGB data ([0..1] for floats or [0..255] for integers).\n"
     ]
    },
    {
     "name": "stdout",
     "output_type": "stream",
     "text": [
      "2/2 [==============================] - 0s 14ms/step\n",
      "Discriminator Loss: 0.16546477580982355\n"
     ]
    },
    {
     "name": "stderr",
     "output_type": "stream",
     "text": [
      "WARNING:matplotlib.image:Clipping input data to the valid range for imshow with RGB data ([0..1] for floats or [0..255] for integers).\n",
      "WARNING:matplotlib.image:Clipping input data to the valid range for imshow with RGB data ([0..1] for floats or [0..255] for integers).\n"
     ]
    },
    {
     "name": "stdout",
     "output_type": "stream",
     "text": [
      "Generator Loss: [0.3294481337070465, 0.32753872871398926, 0.0009546979563310742]\n"
     ]
    },
    {
     "name": "stderr",
     "output_type": "stream",
     "text": [
      "WARNING:matplotlib.image:Clipping input data to the valid range for imshow with RGB data ([0..1] for floats or [0..255] for integers).\n",
      "WARNING:matplotlib.image:Clipping input data to the valid range for imshow with RGB data ([0..1] for floats or [0..255] for integers).\n",
      "WARNING:matplotlib.image:Clipping input data to the valid range for imshow with RGB data ([0..1] for floats or [0..255] for integers).\n",
      "WARNING:matplotlib.image:Clipping input data to the valid range for imshow with RGB data ([0..1] for floats or [0..255] for integers).\n",
      "WARNING:matplotlib.image:Clipping input data to the valid range for imshow with RGB data ([0..1] for floats or [0..255] for integers).\n",
      "WARNING:matplotlib.image:Clipping input data to the valid range for imshow with RGB data ([0..1] for floats or [0..255] for integers).\n",
      "WARNING:matplotlib.image:Clipping input data to the valid range for imshow with RGB data ([0..1] for floats or [0..255] for integers).\n",
      "WARNING:matplotlib.image:Clipping input data to the valid range for imshow with RGB data ([0..1] for floats or [0..255] for integers).\n"
     ]
    },
    {
     "name": "stdout",
     "output_type": "stream",
     "text": [
      "2/2 [==============================] - 0s 14ms/step\n",
      "Discriminator Loss: 0.16449417629166874\n"
     ]
    },
    {
     "name": "stderr",
     "output_type": "stream",
     "text": [
      "WARNING:matplotlib.image:Clipping input data to the valid range for imshow with RGB data ([0..1] for floats or [0..255] for integers).\n",
      "WARNING:matplotlib.image:Clipping input data to the valid range for imshow with RGB data ([0..1] for floats or [0..255] for integers).\n"
     ]
    },
    {
     "name": "stdout",
     "output_type": "stream",
     "text": [
      "Generator Loss: [0.32970130443573, 0.327822208404541, 0.0009395420202054083]\n"
     ]
    },
    {
     "name": "stderr",
     "output_type": "stream",
     "text": [
      "WARNING:matplotlib.image:Clipping input data to the valid range for imshow with RGB data ([0..1] for floats or [0..255] for integers).\n",
      "WARNING:matplotlib.image:Clipping input data to the valid range for imshow with RGB data ([0..1] for floats or [0..255] for integers).\n",
      "WARNING:matplotlib.image:Clipping input data to the valid range for imshow with RGB data ([0..1] for floats or [0..255] for integers).\n",
      "WARNING:matplotlib.image:Clipping input data to the valid range for imshow with RGB data ([0..1] for floats or [0..255] for integers).\n",
      "WARNING:matplotlib.image:Clipping input data to the valid range for imshow with RGB data ([0..1] for floats or [0..255] for integers).\n",
      "WARNING:matplotlib.image:Clipping input data to the valid range for imshow with RGB data ([0..1] for floats or [0..255] for integers).\n",
      "WARNING:matplotlib.image:Clipping input data to the valid range for imshow with RGB data ([0..1] for floats or [0..255] for integers).\n",
      "WARNING:matplotlib.image:Clipping input data to the valid range for imshow with RGB data ([0..1] for floats or [0..255] for integers).\n"
     ]
    },
    {
     "name": "stdout",
     "output_type": "stream",
     "text": [
      "2/2 [==============================] - 0s 14ms/step\n",
      "Discriminator Loss: 0.16384411305671165\n"
     ]
    },
    {
     "name": "stderr",
     "output_type": "stream",
     "text": [
      "WARNING:matplotlib.image:Clipping input data to the valid range for imshow with RGB data ([0..1] for floats or [0..255] for integers).\n",
      "WARNING:matplotlib.image:Clipping input data to the valid range for imshow with RGB data ([0..1] for floats or [0..255] for integers).\n"
     ]
    },
    {
     "name": "stdout",
     "output_type": "stream",
     "text": [
      "Generator Loss: [0.32742470502853394, 0.32586199045181274, 0.0007813568226993084]\n"
     ]
    },
    {
     "name": "stderr",
     "output_type": "stream",
     "text": [
      "WARNING:matplotlib.image:Clipping input data to the valid range for imshow with RGB data ([0..1] for floats or [0..255] for integers).\n",
      "WARNING:matplotlib.image:Clipping input data to the valid range for imshow with RGB data ([0..1] for floats or [0..255] for integers).\n",
      "WARNING:matplotlib.image:Clipping input data to the valid range for imshow with RGB data ([0..1] for floats or [0..255] for integers).\n",
      "WARNING:matplotlib.image:Clipping input data to the valid range for imshow with RGB data ([0..1] for floats or [0..255] for integers).\n",
      "WARNING:matplotlib.image:Clipping input data to the valid range for imshow with RGB data ([0..1] for floats or [0..255] for integers).\n",
      "WARNING:matplotlib.image:Clipping input data to the valid range for imshow with RGB data ([0..1] for floats or [0..255] for integers).\n",
      "WARNING:matplotlib.image:Clipping input data to the valid range for imshow with RGB data ([0..1] for floats or [0..255] for integers).\n",
      "WARNING:matplotlib.image:Clipping input data to the valid range for imshow with RGB data ([0..1] for floats or [0..255] for integers).\n"
     ]
    },
    {
     "name": "stdout",
     "output_type": "stream",
     "text": [
      "2/2 [==============================] - 0s 15ms/step\n",
      "Discriminator Loss: 0.16494346872900678\n"
     ]
    },
    {
     "name": "stderr",
     "output_type": "stream",
     "text": [
      "WARNING:matplotlib.image:Clipping input data to the valid range for imshow with RGB data ([0..1] for floats or [0..255] for integers).\n",
      "WARNING:matplotlib.image:Clipping input data to the valid range for imshow with RGB data ([0..1] for floats or [0..255] for integers).\n"
     ]
    },
    {
     "name": "stdout",
     "output_type": "stream",
     "text": [
      "Generator Loss: [0.3282647728919983, 0.3264898955821991, 0.0008874352788552642]\n"
     ]
    },
    {
     "name": "stderr",
     "output_type": "stream",
     "text": [
      "WARNING:matplotlib.image:Clipping input data to the valid range for imshow with RGB data ([0..1] for floats or [0..255] for integers).\n",
      "WARNING:matplotlib.image:Clipping input data to the valid range for imshow with RGB data ([0..1] for floats or [0..255] for integers).\n",
      "WARNING:matplotlib.image:Clipping input data to the valid range for imshow with RGB data ([0..1] for floats or [0..255] for integers).\n",
      "WARNING:matplotlib.image:Clipping input data to the valid range for imshow with RGB data ([0..1] for floats or [0..255] for integers).\n",
      "WARNING:matplotlib.image:Clipping input data to the valid range for imshow with RGB data ([0..1] for floats or [0..255] for integers).\n",
      "WARNING:matplotlib.image:Clipping input data to the valid range for imshow with RGB data ([0..1] for floats or [0..255] for integers).\n",
      "WARNING:matplotlib.image:Clipping input data to the valid range for imshow with RGB data ([0..1] for floats or [0..255] for integers).\n",
      "WARNING:matplotlib.image:Clipping input data to the valid range for imshow with RGB data ([0..1] for floats or [0..255] for integers).\n"
     ]
    },
    {
     "name": "stdout",
     "output_type": "stream",
     "text": [
      "2/2 [==============================] - 0s 15ms/step\n",
      "Discriminator Loss: 0.16327388569027335\n"
     ]
    },
    {
     "name": "stderr",
     "output_type": "stream",
     "text": [
      "WARNING:matplotlib.image:Clipping input data to the valid range for imshow with RGB data ([0..1] for floats or [0..255] for integers).\n"
     ]
    },
    {
     "name": "stdout",
     "output_type": "stream",
     "text": [
      "Generator Loss: [0.3271483778953552, 0.32566267251968384, 0.0007428543176501989]\n"
     ]
    },
    {
     "name": "stderr",
     "output_type": "stream",
     "text": [
      "WARNING:matplotlib.image:Clipping input data to the valid range for imshow with RGB data ([0..1] for floats or [0..255] for integers).\n",
      "WARNING:matplotlib.image:Clipping input data to the valid range for imshow with RGB data ([0..1] for floats or [0..255] for integers).\n",
      "WARNING:matplotlib.image:Clipping input data to the valid range for imshow with RGB data ([0..1] for floats or [0..255] for integers).\n",
      "WARNING:matplotlib.image:Clipping input data to the valid range for imshow with RGB data ([0..1] for floats or [0..255] for integers).\n",
      "WARNING:matplotlib.image:Clipping input data to the valid range for imshow with RGB data ([0..1] for floats or [0..255] for integers).\n",
      "WARNING:matplotlib.image:Clipping input data to the valid range for imshow with RGB data ([0..1] for floats or [0..255] for integers).\n",
      "WARNING:matplotlib.image:Clipping input data to the valid range for imshow with RGB data ([0..1] for floats or [0..255] for integers).\n",
      "WARNING:matplotlib.image:Clipping input data to the valid range for imshow with RGB data ([0..1] for floats or [0..255] for integers).\n",
      "WARNING:matplotlib.image:Clipping input data to the valid range for imshow with RGB data ([0..1] for floats or [0..255] for integers).\n"
     ]
    },
    {
     "name": "stdout",
     "output_type": "stream",
     "text": [
      "2/2 [==============================] - 0s 15ms/step\n",
      "Discriminator Loss: 0.1636407354756102\n"
     ]
    },
    {
     "name": "stderr",
     "output_type": "stream",
     "text": [
      "WARNING:matplotlib.image:Clipping input data to the valid range for imshow with RGB data ([0..1] for floats or [0..255] for integers).\n",
      "WARNING:matplotlib.image:Clipping input data to the valid range for imshow with RGB data ([0..1] for floats or [0..255] for integers).\n"
     ]
    },
    {
     "name": "stdout",
     "output_type": "stream",
     "text": [
      "Generator Loss: [0.3308268189430237, 0.32902437448501587, 0.0009012164082378149]\n"
     ]
    },
    {
     "name": "stderr",
     "output_type": "stream",
     "text": [
      "WARNING:matplotlib.image:Clipping input data to the valid range for imshow with RGB data ([0..1] for floats or [0..255] for integers).\n",
      "WARNING:matplotlib.image:Clipping input data to the valid range for imshow with RGB data ([0..1] for floats or [0..255] for integers).\n",
      "WARNING:matplotlib.image:Clipping input data to the valid range for imshow with RGB data ([0..1] for floats or [0..255] for integers).\n",
      "WARNING:matplotlib.image:Clipping input data to the valid range for imshow with RGB data ([0..1] for floats or [0..255] for integers).\n",
      "WARNING:matplotlib.image:Clipping input data to the valid range for imshow with RGB data ([0..1] for floats or [0..255] for integers).\n",
      "WARNING:matplotlib.image:Clipping input data to the valid range for imshow with RGB data ([0..1] for floats or [0..255] for integers).\n",
      "WARNING:matplotlib.image:Clipping input data to the valid range for imshow with RGB data ([0..1] for floats or [0..255] for integers).\n",
      "WARNING:matplotlib.image:Clipping input data to the valid range for imshow with RGB data ([0..1] for floats or [0..255] for integers).\n"
     ]
    },
    {
     "name": "stdout",
     "output_type": "stream",
     "text": [
      "2/2 [==============================] - 0s 14ms/step\n",
      "Discriminator Loss: 0.16407453057331622\n"
     ]
    },
    {
     "name": "stderr",
     "output_type": "stream",
     "text": [
      "WARNING:matplotlib.image:Clipping input data to the valid range for imshow with RGB data ([0..1] for floats or [0..255] for integers).\n",
      "WARNING:matplotlib.image:Clipping input data to the valid range for imshow with RGB data ([0..1] for floats or [0..255] for integers).\n"
     ]
    },
    {
     "name": "stdout",
     "output_type": "stream",
     "text": [
      "Generator Loss: [0.3286234736442566, 0.3267214894294739, 0.000950989022385329]\n"
     ]
    },
    {
     "name": "stderr",
     "output_type": "stream",
     "text": [
      "WARNING:matplotlib.image:Clipping input data to the valid range for imshow with RGB data ([0..1] for floats or [0..255] for integers).\n",
      "WARNING:matplotlib.image:Clipping input data to the valid range for imshow with RGB data ([0..1] for floats or [0..255] for integers).\n",
      "WARNING:matplotlib.image:Clipping input data to the valid range for imshow with RGB data ([0..1] for floats or [0..255] for integers).\n",
      "WARNING:matplotlib.image:Clipping input data to the valid range for imshow with RGB data ([0..1] for floats or [0..255] for integers).\n",
      "WARNING:matplotlib.image:Clipping input data to the valid range for imshow with RGB data ([0..1] for floats or [0..255] for integers).\n",
      "WARNING:matplotlib.image:Clipping input data to the valid range for imshow with RGB data ([0..1] for floats or [0..255] for integers).\n",
      "WARNING:matplotlib.image:Clipping input data to the valid range for imshow with RGB data ([0..1] for floats or [0..255] for integers).\n",
      "WARNING:matplotlib.image:Clipping input data to the valid range for imshow with RGB data ([0..1] for floats or [0..255] for integers).\n"
     ]
    },
    {
     "name": "stdout",
     "output_type": "stream",
     "text": [
      "2/2 [==============================] - 0s 15ms/step\n",
      "Discriminator Loss: 0.1668444848019135\n"
     ]
    },
    {
     "name": "stderr",
     "output_type": "stream",
     "text": [
      "WARNING:matplotlib.image:Clipping input data to the valid range for imshow with RGB data ([0..1] for floats or [0..255] for integers).\n",
      "WARNING:matplotlib.image:Clipping input data to the valid range for imshow with RGB data ([0..1] for floats or [0..255] for integers).\n"
     ]
    },
    {
     "name": "stdout",
     "output_type": "stream",
     "text": [
      "Generator Loss: [0.3289119601249695, 0.3270811140537262, 0.0009154232684522867]\n"
     ]
    },
    {
     "name": "stderr",
     "output_type": "stream",
     "text": [
      "WARNING:matplotlib.image:Clipping input data to the valid range for imshow with RGB data ([0..1] for floats or [0..255] for integers).\n",
      "WARNING:matplotlib.image:Clipping input data to the valid range for imshow with RGB data ([0..1] for floats or [0..255] for integers).\n",
      "WARNING:matplotlib.image:Clipping input data to the valid range for imshow with RGB data ([0..1] for floats or [0..255] for integers).\n",
      "WARNING:matplotlib.image:Clipping input data to the valid range for imshow with RGB data ([0..1] for floats or [0..255] for integers).\n",
      "WARNING:matplotlib.image:Clipping input data to the valid range for imshow with RGB data ([0..1] for floats or [0..255] for integers).\n",
      "WARNING:matplotlib.image:Clipping input data to the valid range for imshow with RGB data ([0..1] for floats or [0..255] for integers).\n",
      "WARNING:matplotlib.image:Clipping input data to the valid range for imshow with RGB data ([0..1] for floats or [0..255] for integers).\n",
      "WARNING:matplotlib.image:Clipping input data to the valid range for imshow with RGB data ([0..1] for floats or [0..255] for integers).\n"
     ]
    },
    {
     "name": "stdout",
     "output_type": "stream",
     "text": [
      "2/2 [==============================] - 0s 15ms/step\n",
      "Discriminator Loss: 0.16387204339253003\n"
     ]
    },
    {
     "name": "stderr",
     "output_type": "stream",
     "text": [
      "WARNING:matplotlib.image:Clipping input data to the valid range for imshow with RGB data ([0..1] for floats or [0..255] for integers).\n",
      "WARNING:matplotlib.image:Clipping input data to the valid range for imshow with RGB data ([0..1] for floats or [0..255] for integers).\n"
     ]
    },
    {
     "name": "stdout",
     "output_type": "stream",
     "text": [
      "Generator Loss: [0.3289167582988739, 0.32731300592422485, 0.0008018704247660935]\n"
     ]
    },
    {
     "name": "stderr",
     "output_type": "stream",
     "text": [
      "WARNING:matplotlib.image:Clipping input data to the valid range for imshow with RGB data ([0..1] for floats or [0..255] for integers).\n",
      "WARNING:matplotlib.image:Clipping input data to the valid range for imshow with RGB data ([0..1] for floats or [0..255] for integers).\n",
      "WARNING:matplotlib.image:Clipping input data to the valid range for imshow with RGB data ([0..1] for floats or [0..255] for integers).\n",
      "WARNING:matplotlib.image:Clipping input data to the valid range for imshow with RGB data ([0..1] for floats or [0..255] for integers).\n",
      "WARNING:matplotlib.image:Clipping input data to the valid range for imshow with RGB data ([0..1] for floats or [0..255] for integers).\n",
      "WARNING:matplotlib.image:Clipping input data to the valid range for imshow with RGB data ([0..1] for floats or [0..255] for integers).\n",
      "WARNING:matplotlib.image:Clipping input data to the valid range for imshow with RGB data ([0..1] for floats or [0..255] for integers).\n",
      "WARNING:matplotlib.image:Clipping input data to the valid range for imshow with RGB data ([0..1] for floats or [0..255] for integers).\n"
     ]
    },
    {
     "name": "stdout",
     "output_type": "stream",
     "text": [
      "2/2 [==============================] - 0s 15ms/step\n",
      "Discriminator Loss: 0.16299110676959572\n"
     ]
    },
    {
     "name": "stderr",
     "output_type": "stream",
     "text": [
      "WARNING:matplotlib.image:Clipping input data to the valid range for imshow with RGB data ([0..1] for floats or [0..255] for integers).\n"
     ]
    },
    {
     "name": "stdout",
     "output_type": "stream",
     "text": [
      "Generator Loss: [0.3295151889324188, 0.3279815912246704, 0.0007668000180274248]\n"
     ]
    },
    {
     "name": "stderr",
     "output_type": "stream",
     "text": [
      "WARNING:matplotlib.image:Clipping input data to the valid range for imshow with RGB data ([0..1] for floats or [0..255] for integers).\n",
      "WARNING:matplotlib.image:Clipping input data to the valid range for imshow with RGB data ([0..1] for floats or [0..255] for integers).\n",
      "WARNING:matplotlib.image:Clipping input data to the valid range for imshow with RGB data ([0..1] for floats or [0..255] for integers).\n",
      "WARNING:matplotlib.image:Clipping input data to the valid range for imshow with RGB data ([0..1] for floats or [0..255] for integers).\n",
      "WARNING:matplotlib.image:Clipping input data to the valid range for imshow with RGB data ([0..1] for floats or [0..255] for integers).\n",
      "WARNING:matplotlib.image:Clipping input data to the valid range for imshow with RGB data ([0..1] for floats or [0..255] for integers).\n",
      "WARNING:matplotlib.image:Clipping input data to the valid range for imshow with RGB data ([0..1] for floats or [0..255] for integers).\n",
      "WARNING:matplotlib.image:Clipping input data to the valid range for imshow with RGB data ([0..1] for floats or [0..255] for integers).\n",
      "WARNING:matplotlib.image:Clipping input data to the valid range for imshow with RGB data ([0..1] for floats or [0..255] for integers).\n"
     ]
    },
    {
     "name": "stdout",
     "output_type": "stream",
     "text": [
      "2/2 [==============================] - 0s 15ms/step\n",
      "Discriminator Loss: 0.16432771086033426\n"
     ]
    },
    {
     "name": "stderr",
     "output_type": "stream",
     "text": [
      "WARNING:matplotlib.image:Clipping input data to the valid range for imshow with RGB data ([0..1] for floats or [0..255] for integers).\n",
      "WARNING:matplotlib.image:Clipping input data to the valid range for imshow with RGB data ([0..1] for floats or [0..255] for integers).\n"
     ]
    },
    {
     "name": "stdout",
     "output_type": "stream",
     "text": [
      "Generator Loss: [0.3310815691947937, 0.3292272090911865, 0.0009271849412471056]\n"
     ]
    },
    {
     "name": "stderr",
     "output_type": "stream",
     "text": [
      "WARNING:matplotlib.image:Clipping input data to the valid range for imshow with RGB data ([0..1] for floats or [0..255] for integers).\n",
      "WARNING:matplotlib.image:Clipping input data to the valid range for imshow with RGB data ([0..1] for floats or [0..255] for integers).\n",
      "WARNING:matplotlib.image:Clipping input data to the valid range for imshow with RGB data ([0..1] for floats or [0..255] for integers).\n",
      "WARNING:matplotlib.image:Clipping input data to the valid range for imshow with RGB data ([0..1] for floats or [0..255] for integers).\n",
      "WARNING:matplotlib.image:Clipping input data to the valid range for imshow with RGB data ([0..1] for floats or [0..255] for integers).\n",
      "WARNING:matplotlib.image:Clipping input data to the valid range for imshow with RGB data ([0..1] for floats or [0..255] for integers).\n",
      "WARNING:matplotlib.image:Clipping input data to the valid range for imshow with RGB data ([0..1] for floats or [0..255] for integers).\n",
      "WARNING:matplotlib.image:Clipping input data to the valid range for imshow with RGB data ([0..1] for floats or [0..255] for integers).\n"
     ]
    },
    {
     "name": "stdout",
     "output_type": "stream",
     "text": [
      "2/2 [==============================] - 0s 15ms/step\n",
      "Discriminator Loss: 0.16484704285494445\n"
     ]
    },
    {
     "name": "stderr",
     "output_type": "stream",
     "text": [
      "WARNING:matplotlib.image:Clipping input data to the valid range for imshow with RGB data ([0..1] for floats or [0..255] for integers).\n",
      "WARNING:matplotlib.image:Clipping input data to the valid range for imshow with RGB data ([0..1] for floats or [0..255] for integers).\n"
     ]
    },
    {
     "name": "stdout",
     "output_type": "stream",
     "text": [
      "Generator Loss: [0.32982951402664185, 0.32802408933639526, 0.0009027062333188951]\n"
     ]
    },
    {
     "name": "stderr",
     "output_type": "stream",
     "text": [
      "WARNING:matplotlib.image:Clipping input data to the valid range for imshow with RGB data ([0..1] for floats or [0..255] for integers).\n",
      "WARNING:matplotlib.image:Clipping input data to the valid range for imshow with RGB data ([0..1] for floats or [0..255] for integers).\n",
      "WARNING:matplotlib.image:Clipping input data to the valid range for imshow with RGB data ([0..1] for floats or [0..255] for integers).\n",
      "WARNING:matplotlib.image:Clipping input data to the valid range for imshow with RGB data ([0..1] for floats or [0..255] for integers).\n",
      "WARNING:matplotlib.image:Clipping input data to the valid range for imshow with RGB data ([0..1] for floats or [0..255] for integers).\n",
      "WARNING:matplotlib.image:Clipping input data to the valid range for imshow with RGB data ([0..1] for floats or [0..255] for integers).\n",
      "WARNING:matplotlib.image:Clipping input data to the valid range for imshow with RGB data ([0..1] for floats or [0..255] for integers).\n",
      "WARNING:matplotlib.image:Clipping input data to the valid range for imshow with RGB data ([0..1] for floats or [0..255] for integers).\n"
     ]
    },
    {
     "name": "stdout",
     "output_type": "stream",
     "text": [
      "2/2 [==============================] - 0s 14ms/step\n",
      "Discriminator Loss: 0.17072134183490562\n"
     ]
    },
    {
     "name": "stderr",
     "output_type": "stream",
     "text": [
      "WARNING:matplotlib.image:Clipping input data to the valid range for imshow with RGB data ([0..1] for floats or [0..255] for integers).\n",
      "WARNING:matplotlib.image:Clipping input data to the valid range for imshow with RGB data ([0..1] for floats or [0..255] for integers).\n"
     ]
    },
    {
     "name": "stdout",
     "output_type": "stream",
     "text": [
      "Generator Loss: [0.3288557529449463, 0.32702937722206116, 0.0009131896076723933]\n"
     ]
    },
    {
     "name": "stderr",
     "output_type": "stream",
     "text": [
      "WARNING:matplotlib.image:Clipping input data to the valid range for imshow with RGB data ([0..1] for floats or [0..255] for integers).\n",
      "WARNING:matplotlib.image:Clipping input data to the valid range for imshow with RGB data ([0..1] for floats or [0..255] for integers).\n",
      "WARNING:matplotlib.image:Clipping input data to the valid range for imshow with RGB data ([0..1] for floats or [0..255] for integers).\n",
      "WARNING:matplotlib.image:Clipping input data to the valid range for imshow with RGB data ([0..1] for floats or [0..255] for integers).\n",
      "WARNING:matplotlib.image:Clipping input data to the valid range for imshow with RGB data ([0..1] for floats or [0..255] for integers).\n",
      "WARNING:matplotlib.image:Clipping input data to the valid range for imshow with RGB data ([0..1] for floats or [0..255] for integers).\n",
      "WARNING:matplotlib.image:Clipping input data to the valid range for imshow with RGB data ([0..1] for floats or [0..255] for integers).\n",
      "WARNING:matplotlib.image:Clipping input data to the valid range for imshow with RGB data ([0..1] for floats or [0..255] for integers).\n"
     ]
    },
    {
     "name": "stdout",
     "output_type": "stream",
     "text": [
      "2/2 [==============================] - 0s 18ms/step\n",
      "Discriminator Loss: 0.16352938752856971\n"
     ]
    },
    {
     "name": "stderr",
     "output_type": "stream",
     "text": [
      "WARNING:matplotlib.image:Clipping input data to the valid range for imshow with RGB data ([0..1] for floats or [0..255] for integers).\n",
      "WARNING:matplotlib.image:Clipping input data to the valid range for imshow with RGB data ([0..1] for floats or [0..255] for integers).\n"
     ]
    },
    {
     "name": "stdout",
     "output_type": "stream",
     "text": [
      "Generator Loss: [0.32782119512557983, 0.32568836212158203, 0.0010664190631359816]\n"
     ]
    },
    {
     "name": "stderr",
     "output_type": "stream",
     "text": [
      "WARNING:matplotlib.image:Clipping input data to the valid range for imshow with RGB data ([0..1] for floats or [0..255] for integers).\n",
      "WARNING:matplotlib.image:Clipping input data to the valid range for imshow with RGB data ([0..1] for floats or [0..255] for integers).\n",
      "WARNING:matplotlib.image:Clipping input data to the valid range for imshow with RGB data ([0..1] for floats or [0..255] for integers).\n",
      "WARNING:matplotlib.image:Clipping input data to the valid range for imshow with RGB data ([0..1] for floats or [0..255] for integers).\n",
      "WARNING:matplotlib.image:Clipping input data to the valid range for imshow with RGB data ([0..1] for floats or [0..255] for integers).\n",
      "WARNING:matplotlib.image:Clipping input data to the valid range for imshow with RGB data ([0..1] for floats or [0..255] for integers).\n",
      "WARNING:matplotlib.image:Clipping input data to the valid range for imshow with RGB data ([0..1] for floats or [0..255] for integers).\n",
      "WARNING:matplotlib.image:Clipping input data to the valid range for imshow with RGB data ([0..1] for floats or [0..255] for integers).\n"
     ]
    },
    {
     "name": "stdout",
     "output_type": "stream",
     "text": [
      "2/2 [==============================] - 0s 14ms/step\n",
      "Discriminator Loss: 0.16483305491806277\n"
     ]
    },
    {
     "name": "stderr",
     "output_type": "stream",
     "text": [
      "WARNING:matplotlib.image:Clipping input data to the valid range for imshow with RGB data ([0..1] for floats or [0..255] for integers).\n",
      "WARNING:matplotlib.image:Clipping input data to the valid range for imshow with RGB data ([0..1] for floats or [0..255] for integers).\n"
     ]
    },
    {
     "name": "stdout",
     "output_type": "stream",
     "text": [
      "Generator Loss: [0.32847169041633606, 0.32626962661743164, 0.001101034227758646]\n"
     ]
    },
    {
     "name": "stderr",
     "output_type": "stream",
     "text": [
      "WARNING:matplotlib.image:Clipping input data to the valid range for imshow with RGB data ([0..1] for floats or [0..255] for integers).\n",
      "WARNING:matplotlib.image:Clipping input data to the valid range for imshow with RGB data ([0..1] for floats or [0..255] for integers).\n",
      "WARNING:matplotlib.image:Clipping input data to the valid range for imshow with RGB data ([0..1] for floats or [0..255] for integers).\n",
      "WARNING:matplotlib.image:Clipping input data to the valid range for imshow with RGB data ([0..1] for floats or [0..255] for integers).\n",
      "WARNING:matplotlib.image:Clipping input data to the valid range for imshow with RGB data ([0..1] for floats or [0..255] for integers).\n",
      "WARNING:matplotlib.image:Clipping input data to the valid range for imshow with RGB data ([0..1] for floats or [0..255] for integers).\n",
      "WARNING:matplotlib.image:Clipping input data to the valid range for imshow with RGB data ([0..1] for floats or [0..255] for integers).\n",
      "WARNING:matplotlib.image:Clipping input data to the valid range for imshow with RGB data ([0..1] for floats or [0..255] for integers).\n"
     ]
    },
    {
     "name": "stdout",
     "output_type": "stream",
     "text": [
      "2/2 [==============================] - 0s 15ms/step\n",
      "Discriminator Loss: 0.168911514409956\n"
     ]
    },
    {
     "name": "stderr",
     "output_type": "stream",
     "text": [
      "WARNING:matplotlib.image:Clipping input data to the valid range for imshow with RGB data ([0..1] for floats or [0..255] for integers).\n",
      "WARNING:matplotlib.image:Clipping input data to the valid range for imshow with RGB data ([0..1] for floats or [0..255] for integers).\n"
     ]
    },
    {
     "name": "stdout",
     "output_type": "stream",
     "text": [
      "Generator Loss: [0.32950273156166077, 0.32774075865745544, 0.0008809860446490347]\n"
     ]
    },
    {
     "name": "stderr",
     "output_type": "stream",
     "text": [
      "WARNING:matplotlib.image:Clipping input data to the valid range for imshow with RGB data ([0..1] for floats or [0..255] for integers).\n",
      "WARNING:matplotlib.image:Clipping input data to the valid range for imshow with RGB data ([0..1] for floats or [0..255] for integers).\n",
      "WARNING:matplotlib.image:Clipping input data to the valid range for imshow with RGB data ([0..1] for floats or [0..255] for integers).\n",
      "WARNING:matplotlib.image:Clipping input data to the valid range for imshow with RGB data ([0..1] for floats or [0..255] for integers).\n",
      "WARNING:matplotlib.image:Clipping input data to the valid range for imshow with RGB data ([0..1] for floats or [0..255] for integers).\n",
      "WARNING:matplotlib.image:Clipping input data to the valid range for imshow with RGB data ([0..1] for floats or [0..255] for integers).\n",
      "WARNING:matplotlib.image:Clipping input data to the valid range for imshow with RGB data ([0..1] for floats or [0..255] for integers).\n",
      "WARNING:matplotlib.image:Clipping input data to the valid range for imshow with RGB data ([0..1] for floats or [0..255] for integers).\n"
     ]
    },
    {
     "name": "stdout",
     "output_type": "stream",
     "text": [
      "2/2 [==============================] - 0s 14ms/step\n",
      "Discriminator Loss: 0.16319497772838076\n"
     ]
    },
    {
     "name": "stderr",
     "output_type": "stream",
     "text": [
      "WARNING:matplotlib.image:Clipping input data to the valid range for imshow with RGB data ([0..1] for floats or [0..255] for integers).\n",
      "WARNING:matplotlib.image:Clipping input data to the valid range for imshow with RGB data ([0..1] for floats or [0..255] for integers).\n"
     ]
    },
    {
     "name": "stdout",
     "output_type": "stream",
     "text": [
      "Generator Loss: [0.3295949697494507, 0.3274466395378113, 0.0010741609148681164]\n"
     ]
    },
    {
     "name": "stderr",
     "output_type": "stream",
     "text": [
      "WARNING:matplotlib.image:Clipping input data to the valid range for imshow with RGB data ([0..1] for floats or [0..255] for integers).\n",
      "WARNING:matplotlib.image:Clipping input data to the valid range for imshow with RGB data ([0..1] for floats or [0..255] for integers).\n",
      "WARNING:matplotlib.image:Clipping input data to the valid range for imshow with RGB data ([0..1] for floats or [0..255] for integers).\n",
      "WARNING:matplotlib.image:Clipping input data to the valid range for imshow with RGB data ([0..1] for floats or [0..255] for integers).\n",
      "WARNING:matplotlib.image:Clipping input data to the valid range for imshow with RGB data ([0..1] for floats or [0..255] for integers).\n",
      "WARNING:matplotlib.image:Clipping input data to the valid range for imshow with RGB data ([0..1] for floats or [0..255] for integers).\n",
      "WARNING:matplotlib.image:Clipping input data to the valid range for imshow with RGB data ([0..1] for floats or [0..255] for integers).\n",
      "WARNING:matplotlib.image:Clipping input data to the valid range for imshow with RGB data ([0..1] for floats or [0..255] for integers).\n"
     ]
    },
    {
     "name": "stdout",
     "output_type": "stream",
     "text": [
      "2/2 [==============================] - 0s 15ms/step\n",
      "Discriminator Loss: 0.16302514397443701\n"
     ]
    },
    {
     "name": "stderr",
     "output_type": "stream",
     "text": [
      "WARNING:matplotlib.image:Clipping input data to the valid range for imshow with RGB data ([0..1] for floats or [0..255] for integers).\n",
      "WARNING:matplotlib.image:Clipping input data to the valid range for imshow with RGB data ([0..1] for floats or [0..255] for integers).\n"
     ]
    },
    {
     "name": "stdout",
     "output_type": "stream",
     "text": [
      "Generator Loss: [0.3280581533908844, 0.32641759514808655, 0.0008202718454413116]\n"
     ]
    },
    {
     "name": "stderr",
     "output_type": "stream",
     "text": [
      "WARNING:matplotlib.image:Clipping input data to the valid range for imshow with RGB data ([0..1] for floats or [0..255] for integers).\n",
      "WARNING:matplotlib.image:Clipping input data to the valid range for imshow with RGB data ([0..1] for floats or [0..255] for integers).\n",
      "WARNING:matplotlib.image:Clipping input data to the valid range for imshow with RGB data ([0..1] for floats or [0..255] for integers).\n",
      "WARNING:matplotlib.image:Clipping input data to the valid range for imshow with RGB data ([0..1] for floats or [0..255] for integers).\n",
      "WARNING:matplotlib.image:Clipping input data to the valid range for imshow with RGB data ([0..1] for floats or [0..255] for integers).\n",
      "WARNING:matplotlib.image:Clipping input data to the valid range for imshow with RGB data ([0..1] for floats or [0..255] for integers).\n",
      "WARNING:matplotlib.image:Clipping input data to the valid range for imshow with RGB data ([0..1] for floats or [0..255] for integers).\n",
      "WARNING:matplotlib.image:Clipping input data to the valid range for imshow with RGB data ([0..1] for floats or [0..255] for integers).\n"
     ]
    },
    {
     "name": "stdout",
     "output_type": "stream",
     "text": [
      "2/2 [==============================] - 0s 15ms/step\n",
      "Discriminator Loss: 0.16293269543439237\n"
     ]
    },
    {
     "name": "stderr",
     "output_type": "stream",
     "text": [
      "WARNING:matplotlib.image:Clipping input data to the valid range for imshow with RGB data ([0..1] for floats or [0..255] for integers).\n",
      "WARNING:matplotlib.image:Clipping input data to the valid range for imshow with RGB data ([0..1] for floats or [0..255] for integers).\n"
     ]
    },
    {
     "name": "stdout",
     "output_type": "stream",
     "text": [
      "Generator Loss: [0.3272004723548889, 0.3257344365119934, 0.0007330219377763569]\n"
     ]
    },
    {
     "name": "stderr",
     "output_type": "stream",
     "text": [
      "WARNING:matplotlib.image:Clipping input data to the valid range for imshow with RGB data ([0..1] for floats or [0..255] for integers).\n",
      "WARNING:matplotlib.image:Clipping input data to the valid range for imshow with RGB data ([0..1] for floats or [0..255] for integers).\n",
      "WARNING:matplotlib.image:Clipping input data to the valid range for imshow with RGB data ([0..1] for floats or [0..255] for integers).\n",
      "WARNING:matplotlib.image:Clipping input data to the valid range for imshow with RGB data ([0..1] for floats or [0..255] for integers).\n",
      "WARNING:matplotlib.image:Clipping input data to the valid range for imshow with RGB data ([0..1] for floats or [0..255] for integers).\n",
      "WARNING:matplotlib.image:Clipping input data to the valid range for imshow with RGB data ([0..1] for floats or [0..255] for integers).\n",
      "WARNING:matplotlib.image:Clipping input data to the valid range for imshow with RGB data ([0..1] for floats or [0..255] for integers).\n",
      "WARNING:matplotlib.image:Clipping input data to the valid range for imshow with RGB data ([0..1] for floats or [0..255] for integers).\n"
     ]
    },
    {
     "name": "stdout",
     "output_type": "stream",
     "text": [
      "2/2 [==============================] - 0s 15ms/step\n",
      "Discriminator Loss: 0.16297066529182302\n"
     ]
    },
    {
     "name": "stderr",
     "output_type": "stream",
     "text": [
      "WARNING:matplotlib.image:Clipping input data to the valid range for imshow with RGB data ([0..1] for floats or [0..255] for integers).\n",
      "WARNING:matplotlib.image:Clipping input data to the valid range for imshow with RGB data ([0..1] for floats or [0..255] for integers).\n"
     ]
    },
    {
     "name": "stdout",
     "output_type": "stream",
     "text": [
      "Generator Loss: [0.32940399646759033, 0.32768118381500244, 0.0008614059770479798]\n"
     ]
    },
    {
     "name": "stderr",
     "output_type": "stream",
     "text": [
      "WARNING:matplotlib.image:Clipping input data to the valid range for imshow with RGB data ([0..1] for floats or [0..255] for integers).\n",
      "WARNING:matplotlib.image:Clipping input data to the valid range for imshow with RGB data ([0..1] for floats or [0..255] for integers).\n",
      "WARNING:matplotlib.image:Clipping input data to the valid range for imshow with RGB data ([0..1] for floats or [0..255] for integers).\n",
      "WARNING:matplotlib.image:Clipping input data to the valid range for imshow with RGB data ([0..1] for floats or [0..255] for integers).\n",
      "WARNING:matplotlib.image:Clipping input data to the valid range for imshow with RGB data ([0..1] for floats or [0..255] for integers).\n",
      "WARNING:matplotlib.image:Clipping input data to the valid range for imshow with RGB data ([0..1] for floats or [0..255] for integers).\n",
      "WARNING:matplotlib.image:Clipping input data to the valid range for imshow with RGB data ([0..1] for floats or [0..255] for integers).\n",
      "WARNING:matplotlib.image:Clipping input data to the valid range for imshow with RGB data ([0..1] for floats or [0..255] for integers).\n"
     ]
    },
    {
     "name": "stdout",
     "output_type": "stream",
     "text": [
      "2/2 [==============================] - 0s 15ms/step\n",
      "Discriminator Loss: 0.16297172906422475\n"
     ]
    },
    {
     "name": "stderr",
     "output_type": "stream",
     "text": [
      "WARNING:matplotlib.image:Clipping input data to the valid range for imshow with RGB data ([0..1] for floats or [0..255] for integers).\n",
      "WARNING:matplotlib.image:Clipping input data to the valid range for imshow with RGB data ([0..1] for floats or [0..255] for integers).\n"
     ]
    },
    {
     "name": "stdout",
     "output_type": "stream",
     "text": [
      "Generator Loss: [0.32755059003829956, 0.3261566162109375, 0.0006969815585762262]\n"
     ]
    },
    {
     "name": "stderr",
     "output_type": "stream",
     "text": [
      "WARNING:matplotlib.image:Clipping input data to the valid range for imshow with RGB data ([0..1] for floats or [0..255] for integers).\n",
      "WARNING:matplotlib.image:Clipping input data to the valid range for imshow with RGB data ([0..1] for floats or [0..255] for integers).\n",
      "WARNING:matplotlib.image:Clipping input data to the valid range for imshow with RGB data ([0..1] for floats or [0..255] for integers).\n",
      "WARNING:matplotlib.image:Clipping input data to the valid range for imshow with RGB data ([0..1] for floats or [0..255] for integers).\n",
      "WARNING:matplotlib.image:Clipping input data to the valid range for imshow with RGB data ([0..1] for floats or [0..255] for integers).\n",
      "WARNING:matplotlib.image:Clipping input data to the valid range for imshow with RGB data ([0..1] for floats or [0..255] for integers).\n",
      "WARNING:matplotlib.image:Clipping input data to the valid range for imshow with RGB data ([0..1] for floats or [0..255] for integers).\n",
      "WARNING:matplotlib.image:Clipping input data to the valid range for imshow with RGB data ([0..1] for floats or [0..255] for integers).\n"
     ]
    },
    {
     "name": "stdout",
     "output_type": "stream",
     "text": [
      "2/2 [==============================] - 0s 15ms/step\n",
      "Discriminator Loss: 0.1631070739063034\n"
     ]
    },
    {
     "name": "stderr",
     "output_type": "stream",
     "text": [
      "WARNING:matplotlib.image:Clipping input data to the valid range for imshow with RGB data ([0..1] for floats or [0..255] for integers).\n",
      "WARNING:matplotlib.image:Clipping input data to the valid range for imshow with RGB data ([0..1] for floats or [0..255] for integers).\n"
     ]
    },
    {
     "name": "stdout",
     "output_type": "stream",
     "text": [
      "Generator Loss: [0.3272955119609833, 0.3259870707988739, 0.0006542244227603078]\n"
     ]
    },
    {
     "name": "stderr",
     "output_type": "stream",
     "text": [
      "WARNING:matplotlib.image:Clipping input data to the valid range for imshow with RGB data ([0..1] for floats or [0..255] for integers).\n",
      "WARNING:matplotlib.image:Clipping input data to the valid range for imshow with RGB data ([0..1] for floats or [0..255] for integers).\n",
      "WARNING:matplotlib.image:Clipping input data to the valid range for imshow with RGB data ([0..1] for floats or [0..255] for integers).\n",
      "WARNING:matplotlib.image:Clipping input data to the valid range for imshow with RGB data ([0..1] for floats or [0..255] for integers).\n",
      "WARNING:matplotlib.image:Clipping input data to the valid range for imshow with RGB data ([0..1] for floats or [0..255] for integers).\n",
      "WARNING:matplotlib.image:Clipping input data to the valid range for imshow with RGB data ([0..1] for floats or [0..255] for integers).\n",
      "WARNING:matplotlib.image:Clipping input data to the valid range for imshow with RGB data ([0..1] for floats or [0..255] for integers).\n",
      "WARNING:matplotlib.image:Clipping input data to the valid range for imshow with RGB data ([0..1] for floats or [0..255] for integers).\n"
     ]
    },
    {
     "name": "stdout",
     "output_type": "stream",
     "text": [
      "2/2 [==============================] - 0s 15ms/step\n",
      "Discriminator Loss: 0.1629131050168553\n"
     ]
    },
    {
     "name": "stderr",
     "output_type": "stream",
     "text": [
      "WARNING:matplotlib.image:Clipping input data to the valid range for imshow with RGB data ([0..1] for floats or [0..255] for integers).\n",
      "WARNING:matplotlib.image:Clipping input data to the valid range for imshow with RGB data ([0..1] for floats or [0..255] for integers).\n"
     ]
    },
    {
     "name": "stdout",
     "output_type": "stream",
     "text": [
      "Generator Loss: [0.3270067274570465, 0.3255382180213928, 0.0007342563476413488]\n"
     ]
    },
    {
     "name": "stderr",
     "output_type": "stream",
     "text": [
      "WARNING:matplotlib.image:Clipping input data to the valid range for imshow with RGB data ([0..1] for floats or [0..255] for integers).\n",
      "WARNING:matplotlib.image:Clipping input data to the valid range for imshow with RGB data ([0..1] for floats or [0..255] for integers).\n",
      "WARNING:matplotlib.image:Clipping input data to the valid range for imshow with RGB data ([0..1] for floats or [0..255] for integers).\n",
      "WARNING:matplotlib.image:Clipping input data to the valid range for imshow with RGB data ([0..1] for floats or [0..255] for integers).\n",
      "WARNING:matplotlib.image:Clipping input data to the valid range for imshow with RGB data ([0..1] for floats or [0..255] for integers).\n",
      "WARNING:matplotlib.image:Clipping input data to the valid range for imshow with RGB data ([0..1] for floats or [0..255] for integers).\n",
      "WARNING:matplotlib.image:Clipping input data to the valid range for imshow with RGB data ([0..1] for floats or [0..255] for integers).\n",
      "WARNING:matplotlib.image:Clipping input data to the valid range for imshow with RGB data ([0..1] for floats or [0..255] for integers).\n"
     ]
    },
    {
     "name": "stdout",
     "output_type": "stream",
     "text": [
      "2/2 [==============================] - 0s 15ms/step\n",
      "Discriminator Loss: 0.163083693385488\n"
     ]
    },
    {
     "name": "stderr",
     "output_type": "stream",
     "text": [
      "WARNING:matplotlib.image:Clipping input data to the valid range for imshow with RGB data ([0..1] for floats or [0..255] for integers).\n",
      "WARNING:matplotlib.image:Clipping input data to the valid range for imshow with RGB data ([0..1] for floats or [0..255] for integers).\n"
     ]
    },
    {
     "name": "stdout",
     "output_type": "stream",
     "text": [
      "Generator Loss: [0.32885217666625977, 0.32724225521087646, 0.0008049545576795936]\n"
     ]
    },
    {
     "name": "stderr",
     "output_type": "stream",
     "text": [
      "WARNING:matplotlib.image:Clipping input data to the valid range for imshow with RGB data ([0..1] for floats or [0..255] for integers).\n",
      "WARNING:matplotlib.image:Clipping input data to the valid range for imshow with RGB data ([0..1] for floats or [0..255] for integers).\n",
      "WARNING:matplotlib.image:Clipping input data to the valid range for imshow with RGB data ([0..1] for floats or [0..255] for integers).\n",
      "WARNING:matplotlib.image:Clipping input data to the valid range for imshow with RGB data ([0..1] for floats or [0..255] for integers).\n",
      "WARNING:matplotlib.image:Clipping input data to the valid range for imshow with RGB data ([0..1] for floats or [0..255] for integers).\n",
      "WARNING:matplotlib.image:Clipping input data to the valid range for imshow with RGB data ([0..1] for floats or [0..255] for integers).\n",
      "WARNING:matplotlib.image:Clipping input data to the valid range for imshow with RGB data ([0..1] for floats or [0..255] for integers).\n",
      "WARNING:matplotlib.image:Clipping input data to the valid range for imshow with RGB data ([0..1] for floats or [0..255] for integers).\n"
     ]
    },
    {
     "name": "stdout",
     "output_type": "stream",
     "text": [
      "Epoch: 11\n",
      "2/2 [==============================] - 0s 14ms/step\n",
      "Discriminator Loss: 0.16388035123782174\n",
      "Generator Loss: [0.33646780252456665, 0.33437883853912354, 0.0010444774525240064]\n",
      "2/2 [==============================] - 0s 15ms/step\n",
      "Discriminator Loss: 0.16408699674411764\n",
      "Generator Loss: [0.3316735029220581, 0.3294943571090698, 0.001089578028768301]\n",
      "2/2 [==============================] - 0s 15ms/step\n",
      "Discriminator Loss: 0.16375214943082028\n",
      "Generator Loss: [0.32774147391319275, 0.3257142901420593, 0.0010135932825505733]\n",
      "2/2 [==============================] - 0s 15ms/step\n",
      "Discriminator Loss: 0.16428598634513492\n",
      "Generator Loss: [0.3327715992927551, 0.3307664394378662, 0.0010025853989645839]\n",
      "2/2 [==============================] - 0s 15ms/step\n",
      "Discriminator Loss: 0.16359606753201206\n",
      "Generator Loss: [0.3276744782924652, 0.3258747160434723, 0.0008998815901577473]\n",
      "2/2 [==============================] - 0s 15ms/step\n",
      "Discriminator Loss: 0.16567851742354378\n",
      "Generator Loss: [0.327513188123703, 0.3256192207336426, 0.0009469882352277637]\n",
      "2/2 [==============================] - 0s 15ms/step\n",
      "Discriminator Loss: 0.16666939260312574\n",
      "Generator Loss: [0.3283228278160095, 0.32679229974746704, 0.0007652672356925905]\n",
      "2/2 [==============================] - 0s 15ms/step\n",
      "Discriminator Loss: 0.17686068294756296\n",
      "Generator Loss: [0.33826926350593567, 0.33583498001098633, 0.001217134646140039]\n",
      "2/2 [==============================] - 0s 15ms/step\n",
      "Discriminator Loss: 0.16643584011586654\n",
      "Generator Loss: [0.3284880518913269, 0.32557064294815063, 0.0014587105251848698]\n",
      "2/2 [==============================] - 0s 15ms/step\n",
      "Discriminator Loss: 0.16457265549342992\n",
      "Generator Loss: [0.32785192131996155, 0.32562825083732605, 0.001111833844333887]\n",
      "2/2 [==============================] - 0s 15ms/step\n",
      "Discriminator Loss: 0.16643172920782945\n",
      "Generator Loss: [0.3279922902584076, 0.3262613117694855, 0.0008654948323965073]\n",
      "2/2 [==============================] - 0s 15ms/step\n",
      "Discriminator Loss: 0.16372899383486583\n",
      "Generator Loss: [0.33680829405784607, 0.33515289425849915, 0.0008277034503407776]\n",
      "2/2 [==============================] - 0s 15ms/step\n",
      "Discriminator Loss: 0.16360862120245656\n",
      "Generator Loss: [0.3291770815849304, 0.3275263011455536, 0.0008253857959061861]\n",
      "2/2 [==============================] - 0s 15ms/step\n",
      "Discriminator Loss: 0.16441640911466493\n",
      "Generator Loss: [0.3315044939517975, 0.33022046089172363, 0.000642013328615576]\n",
      "2/2 [==============================] - 0s 15ms/step\n",
      "Discriminator Loss: 0.1676886224640839\n",
      "Generator Loss: [0.32936519384384155, 0.32658669352531433, 0.0013892478309571743]\n",
      "2/2 [==============================] - 0s 15ms/step\n",
      "Discriminator Loss: 0.16413483178718025\n",
      "Generator Loss: [0.32886630296707153, 0.3264159560203552, 0.0012251732405275106]\n",
      "2/2 [==============================] - 0s 15ms/step\n",
      "Discriminator Loss: 0.16646869925864394\n",
      "Generator Loss: [0.327580988407135, 0.3255850672721863, 0.0009979554452002048]\n",
      "2/2 [==============================] - 0s 16ms/step\n",
      "Discriminator Loss: 0.16459916712801714\n",
      "Generator Loss: [0.3272651135921478, 0.32581815123558044, 0.0007234747754409909]\n",
      "2/2 [==============================] - 0s 15ms/step\n",
      "Discriminator Loss: 0.16483590884058685\n",
      "Generator Loss: [0.32743722200393677, 0.3257652819156647, 0.0008359644562005997]\n",
      "2/2 [==============================] - 0s 14ms/step\n",
      "Discriminator Loss: 0.16386801166390796\n",
      "Generator Loss: [0.33256271481513977, 0.3307705223560333, 0.0008960928535088897]\n",
      "2/2 [==============================] - 0s 15ms/step\n",
      "Discriminator Loss: 0.16442408703733236\n",
      "Generator Loss: [0.3338821530342102, 0.3323928713798523, 0.0007446453673765063]\n",
      "2/2 [==============================] - 0s 15ms/step\n",
      "Discriminator Loss: 0.16538151439874582\n",
      "Generator Loss: [0.33558937907218933, 0.33408036828041077, 0.0007544980617240071]\n",
      "2/2 [==============================] - 0s 15ms/step\n",
      "Discriminator Loss: 0.17320465994737333\n",
      "Generator Loss: [0.3467370569705963, 0.3448396325111389, 0.000948714034166187]\n",
      "2/2 [==============================] - 0s 15ms/step\n",
      "Discriminator Loss: 0.1668456124318709\n",
      "Generator Loss: [0.3543027341365814, 0.3519221246242523, 0.0011902987025678158]\n",
      "2/2 [==============================] - 0s 15ms/step\n",
      "Discriminator Loss: 0.1714874494518881\n",
      "Generator Loss: [0.4452546536922455, 0.44268563389778137, 0.001284502912312746]\n",
      "2/2 [==============================] - 0s 15ms/step\n",
      "Discriminator Loss: 0.18026043222744192\n",
      "Generator Loss: [0.499977707862854, 0.4980951249599457, 0.0009412863873876631]\n",
      "2/2 [==============================] - 0s 15ms/step\n",
      "Discriminator Loss: 0.2068161177253387\n",
      "Generator Loss: [0.330660343170166, 0.3288227915763855, 0.0009187739342451096]\n",
      "2/2 [==============================] - 0s 15ms/step\n",
      "Discriminator Loss: 0.16752572506675278\n",
      "Generator Loss: [0.3305394947528839, 0.3286190629005432, 0.000960218720138073]\n",
      "2/2 [==============================] - 0s 15ms/step\n",
      "Discriminator Loss: 0.16431058221360217\n",
      "Generator Loss: [0.3279372453689575, 0.3261679410934448, 0.0008846481796354055]\n",
      "2/2 [==============================] - 0s 15ms/step\n",
      "Discriminator Loss: 0.1679605845365586\n",
      "Generator Loss: [0.32838478684425354, 0.326686292886734, 0.0008492534980177879]\n",
      "2/2 [==============================] - 0s 15ms/step\n",
      "Discriminator Loss: 0.18145172474396531\n",
      "Generator Loss: [0.32838210463523865, 0.3266148865222931, 0.0008836024207994342]\n",
      "2/2 [==============================] - 0s 15ms/step\n",
      "Discriminator Loss: 0.16358894824634262\n",
      "Generator Loss: [0.32920974493026733, 0.3271745443344116, 0.0010175982024520636]\n",
      "2/2 [==============================] - 0s 15ms/step\n",
      "Discriminator Loss: 0.16505507280635356\n",
      "Generator Loss: [0.3294057250022888, 0.3275819420814514, 0.0009118919260799885]\n",
      "2/2 [==============================] - 0s 15ms/step\n",
      "Discriminator Loss: 0.16906268146863113\n",
      "Generator Loss: [0.35818663239479065, 0.3560357093811035, 0.0010754631366580725]\n",
      "2/2 [==============================] - 0s 15ms/step\n",
      "Discriminator Loss: 0.1648951421630045\n",
      "Generator Loss: [0.3380148112773895, 0.33583560585975647, 0.001089606899768114]\n",
      "2/2 [==============================] - 0s 15ms/step\n",
      "Discriminator Loss: 0.16739723182877242\n",
      "Generator Loss: [0.34347060322761536, 0.3412705659866333, 0.00110002385918051]\n",
      "2/2 [==============================] - 0s 15ms/step\n",
      "Discriminator Loss: 0.16610986784780835\n",
      "Generator Loss: [0.3337644636631012, 0.3316807150840759, 0.001041880575940013]\n",
      "2/2 [==============================] - 0s 15ms/step\n",
      "Discriminator Loss: 0.17008056136711502\n",
      "Generator Loss: [0.33937832713127136, 0.337371289730072, 0.0010035247541964054]\n",
      "2/2 [==============================] - 0s 15ms/step\n",
      "Discriminator Loss: 0.16777864169512213\n",
      "Generator Loss: [0.3426315188407898, 0.34058332443237305, 0.0010241002310067415]\n",
      "2/2 [==============================] - 0s 15ms/step\n",
      "Discriminator Loss: 0.17706905029490372\n",
      "Generator Loss: [0.36183416843414307, 0.3600805103778839, 0.0008768344996497035]\n",
      "2/2 [==============================] - 0s 15ms/step\n",
      "Discriminator Loss: 0.18166571671827114\n",
      "Generator Loss: [0.46533170342445374, 0.4634001851081848, 0.0009657571790739894]\n",
      "2/2 [==============================] - 0s 15ms/step\n",
      "Discriminator Loss: 0.21167431817070792\n",
      "Generator Loss: [0.3411908745765686, 0.33958005905151367, 0.000805410323664546]\n",
      "2/2 [==============================] - 0s 15ms/step\n",
      "Discriminator Loss: 0.16809763832497993\n",
      "Generator Loss: [0.3820933997631073, 0.3798694610595703, 0.001111974474042654]\n",
      "2/2 [==============================] - 0s 15ms/step\n",
      "Discriminator Loss: 0.17268222736811367\n",
      "Generator Loss: [0.3420436382293701, 0.3400796055793762, 0.0009820209816098213]\n",
      "2/2 [==============================] - 0s 14ms/step\n",
      "Discriminator Loss: 0.1667650688609683\n",
      "Generator Loss: [0.33166903257369995, 0.3296253979206085, 0.0010218109237030149]\n",
      "2/2 [==============================] - 0s 15ms/step\n",
      "Discriminator Loss: 0.16438953008173485\n",
      "Generator Loss: [0.32787060737609863, 0.3259561061859131, 0.0009572434355504811]\n",
      "2/2 [==============================] - 0s 15ms/step\n",
      "Discriminator Loss: 0.16536616744542698\n",
      "Generator Loss: [0.33754122257232666, 0.33565860986709595, 0.0009412991348654032]\n",
      "2/2 [==============================] - 0s 15ms/step\n",
      "Discriminator Loss: 0.17075331980277042\n",
      "Generator Loss: [0.33876052498817444, 0.33673611283302307, 0.001012200373224914]\n",
      "2/2 [==============================] - 0s 15ms/step\n",
      "Discriminator Loss: 0.16393193063140643\n",
      "Generator Loss: [0.328227698802948, 0.32595229148864746, 0.001137708779424429]\n",
      "2/2 [==============================] - 0s 15ms/step\n",
      "Discriminator Loss: 0.16489713221471902\n",
      "Generator Loss: [0.3273281753063202, 0.3256113529205322, 0.0008584183524362743]\n",
      "2/2 [==============================] - 0s 15ms/step\n",
      "Discriminator Loss: 0.16704006523104908\n",
      "Generator Loss: [0.34656938910484314, 0.3449176251888275, 0.0008258857997134328]\n",
      "2/2 [==============================] - 0s 15ms/step\n",
      "Discriminator Loss: 0.17974344873687187\n",
      "Generator Loss: [0.32692259550094604, 0.32561641931533813, 0.0006530885584652424]\n",
      "2/2 [==============================] - 0s 15ms/step\n",
      "Discriminator Loss: 0.16339330724076717\n",
      "Generator Loss: [0.3281172811985016, 0.3263775110244751, 0.0008698898600414395]\n",
      "2/2 [==============================] - 0s 15ms/step\n",
      "Discriminator Loss: 0.164121557289036\n",
      "Generator Loss: [0.32972660660743713, 0.3280932903289795, 0.000816657324321568]\n",
      "2/2 [==============================] - 0s 15ms/step\n",
      "Discriminator Loss: 0.1675275473515967\n",
      "Generator Loss: [0.3282110095024109, 0.3263201117515564, 0.0009454539394937456]\n",
      "2/2 [==============================] - 0s 15ms/step\n",
      "Discriminator Loss: 0.16513732588668972\n",
      "Generator Loss: [0.3322567641735077, 0.3305438160896301, 0.0008564761374145746]\n",
      "2/2 [==============================] - 0s 15ms/step\n",
      "Discriminator Loss: 0.1698836057612425\n",
      "Generator Loss: [0.3278695344924927, 0.32573097944259644, 0.0010692719370126724]\n",
      "2/2 [==============================] - 0s 16ms/step\n",
      "Discriminator Loss: 0.1645778541933396\n",
      "Generator Loss: [0.32803717255592346, 0.32620030641555786, 0.000918438658118248]\n",
      "2/2 [==============================] - 0s 15ms/step\n",
      "Discriminator Loss: 0.16489143609078383\n",
      "Generator Loss: [0.34926503896713257, 0.34764111042022705, 0.0008119592675939202]\n",
      "2/2 [==============================] - 0s 16ms/step\n",
      "Discriminator Loss: 0.16495465028924627\n",
      "Generator Loss: [0.3282012343406677, 0.3262457251548767, 0.000977757154032588]\n",
      "2/2 [==============================] - 0s 15ms/step\n",
      "Discriminator Loss: 0.16954918696774257\n",
      "Generator Loss: [0.3564915060997009, 0.3551105558872223, 0.0006904688198119402]\n",
      "2/2 [==============================] - 0s 15ms/step\n",
      "Discriminator Loss: 0.1713986055983696\n",
      "Generator Loss: [0.3396807312965393, 0.3383665084838867, 0.0006571153644472361]\n",
      "2/2 [==============================] - 0s 15ms/step\n",
      "Discriminator Loss: 0.18221642951141348\n",
      "Generator Loss: [0.3426835238933563, 0.34114789962768555, 0.0007678127149119973]\n",
      "2/2 [==============================] - 0s 15ms/step\n",
      "Discriminator Loss: 0.16703642632774063\n",
      "Generator Loss: [0.34965431690216064, 0.3479994535446167, 0.0008274264400824904]\n",
      "2/2 [==============================] - 0s 15ms/step\n",
      "Discriminator Loss: 0.1755006155999581\n",
      "Generator Loss: [0.37854456901550293, 0.37618643045425415, 0.0011790702119469643]\n",
      "2/2 [==============================] - 0s 15ms/step\n",
      "Discriminator Loss: 0.18976925082461094\n",
      "Generator Loss: [0.3355574607849121, 0.3340241014957428, 0.0007666769088245928]\n",
      "2/2 [==============================] - 0s 15ms/step\n",
      "Discriminator Loss: 0.1715202355690053\n",
      "Generator Loss: [0.3303443193435669, 0.32910627126693726, 0.000619017519056797]\n",
      "2/2 [==============================] - 0s 15ms/step\n",
      "Discriminator Loss: 0.1695128560095327\n",
      "Generator Loss: [0.3310164213180542, 0.32928934693336487, 0.0008635339909233153]\n",
      "2/2 [==============================] - 0s 15ms/step\n",
      "Discriminator Loss: 0.1771431246074826\n",
      "Generator Loss: [0.34326714277267456, 0.3414238691329956, 0.0009216382168233395]\n",
      "2/2 [==============================] - 0s 15ms/step\n",
      "Discriminator Loss: 0.1691644606794398\n",
      "Generator Loss: [0.3570794463157654, 0.3552866280078888, 0.0008964023436419666]\n",
      "2/2 [==============================] - 0s 15ms/step\n",
      "Discriminator Loss: 0.17044373289445502\n",
      "Generator Loss: [0.33076953887939453, 0.3288502097129822, 0.0009596612071618438]\n",
      "2/2 [==============================] - 0s 15ms/step\n",
      "Discriminator Loss: 0.16573679169141542\n",
      "Generator Loss: [0.3276551365852356, 0.32617437839508057, 0.0007403829367831349]\n",
      "2/2 [==============================] - 0s 15ms/step\n"
     ]
    }
   ],
   "source": [
    "stage1 = StackGanStage1()\n",
    "stage1.train_stage1()"
   ]
  },
  {
   "cell_type": "markdown",
   "metadata": {
    "id": "inj5IwROxFgE"
   },
   "source": [
    "## Check test folder for gernerated images from Stage1 Generator"
   ]
  },
  {
   "cell_type": "markdown",
   "metadata": {},
   "source": [
    "## Let's Implement Stage 2 Generator"
   ]
  },
  {
   "cell_type": "code",
   "execution_count": 11,
   "metadata": {},
   "outputs": [],
   "source": [
    "############################################################\n",
    "# Stage 2 Generator Network\n",
    "############################################################\n",
    "\n",
    "def concat_along_dims(inputs):\n",
    "\t\"\"\"Joins the conditioned text with the encoded image along the dimensions.\n",
    "\n",
    "\tArgs:\n",
    "\t\tinputs: consisting of conditioned text and encoded images as [c,x].\n",
    "\n",
    "\tReturns:\n",
    "\t\tJoint block along the dimensions.\n",
    "\t\"\"\"\n",
    "\tc = inputs[0]\n",
    "\tx = inputs[1]\n",
    "\n",
    "\tc = K.expand_dims(c, axis=1)\n",
    "\tc = K.expand_dims(c, axis=1)\n",
    "\tc = K.tile(c, [1, 16, 16, 1])\n",
    "\treturn K.concatenate([c, x], axis = 3)\n",
    "\n",
    "def residual_block(input):\n",
    "\t\"\"\"Residual block with plain identity connections.\n",
    "\n",
    "\tArgs:\n",
    "\t\tinputs: input layer or an encoded layer\n",
    "\n",
    "\tReturns:\n",
    "\t\tLayer with computed identity mapping.\n",
    "\t\"\"\"\n",
    "\tx = Conv2D(512, kernel_size=(3,3), padding='same', use_bias=False,\n",
    "\t\t\t\tkernel_initializer='he_uniform')(input)\n",
    "\tx = BatchNormalization(gamma_initializer='ones', beta_initializer='zeros')(x)\n",
    "\tx = ReLU()(x)\n",
    "\t\n",
    "\tx = Conv2D(512, kernel_size=(3,3), padding='same', use_bias=False,\n",
    "\t\t\t\tkernel_initializer='he_uniform')(x)\n",
    "\tx = BatchNormalization(gamma_initializer='ones', beta_initializer='zeros')(x)\n",
    "\t\n",
    "\tx = add([x, input])\n",
    "\tx = ReLU()(x)\n",
    "\n",
    "\treturn x\n",
    "\n",
    "def build_stage2_generator():\n",
    "\t\"\"\"Build the Stage 2 Generator Network using the conditioning text and images from stage 1.\n",
    "\n",
    "\tReturns:\n",
    "\t\tStage 2 Generator Model for StackGAN.\n",
    "\t\"\"\"\n",
    "\tinput_layer1 = Input(shape=(1024,))\n",
    "\tinput_images = Input(shape=(64, 64, 3))\n",
    "\n",
    "\t# Conditioning Augmentation\n",
    "\tca = Dense(256)(input_layer1)\n",
    "\tmls = LeakyReLU(alpha=0.2)(ca)\n",
    "\tc = Lambda(conditioning_augmentation)(mls)\n",
    "\n",
    "\t# Downsampling block\n",
    "\tx = ZeroPadding2D(padding=(1,1))(input_images)\n",
    "\tx = Conv2D(128, kernel_size=(3,3), strides=1, use_bias=False,\n",
    "\t\t\t\tkernel_initializer='he_uniform')(x)\n",
    "\tx = ReLU()(x)\n",
    "\n",
    "\tx = ZeroPadding2D(padding=(1,1))(x)\n",
    "\tx = Conv2D(256, kernel_size=(4,4), strides=2, use_bias=False,\n",
    "\t\t\t\tkernel_initializer='he_uniform')(x)\n",
    "\tx = BatchNormalization(gamma_initializer='ones', beta_initializer='zeros')(x)\n",
    "\tx = ReLU()(x)\n",
    "\n",
    "\tx = ZeroPadding2D(padding=(1,1))(x)\n",
    "\tx = Conv2D(512, kernel_size=(4,4), strides=2, use_bias=False,\n",
    "\t\t\t\tkernel_initializer='he_uniform')(x)\n",
    "\tx = BatchNormalization(gamma_initializer='ones', beta_initializer='zeros')(x)\n",
    "\tx = ReLU()(x)\n",
    "\n",
    "\t# Concatenate text conditioning block with the encoded image\n",
    "\tconcat = concat_along_dims([c, x])\n",
    "\n",
    "\t# Residual Blocks\n",
    "\tx = ZeroPadding2D(padding=(1,1))(concat)\n",
    "\tx = Conv2D(512, kernel_size=(3,3), use_bias=False, kernel_initializer='he_uniform')(x)\n",
    "\tx = BatchNormalization(gamma_initializer='ones', beta_initializer='zeros')(x)\n",
    "\tx = ReLU()(x)\n",
    "\n",
    "\tx = residual_block(x)\n",
    "\tx = residual_block(x)\n",
    "\tx = residual_block(x)\n",
    "\tx = residual_block(x)\n",
    "\n",
    "\t# Upsampling Blocks\n",
    "\tx = UpSamplingBlock(x, 512)\n",
    "\tx = UpSamplingBlock(x, 256)\n",
    "\tx = UpSamplingBlock(x, 128)\n",
    "\tx = UpSamplingBlock(x, 64)\n",
    "\n",
    "\tx = Conv2D(3, kernel_size=(3,3), padding='same', use_bias=False, kernel_initializer='he_uniform')(x)\n",
    "\tx = Activation('tanh')(x)\n",
    "\t\n",
    "\tstage2_gen = Model(inputs=[input_layer1, input_images], outputs=[x, mls])\n",
    "\treturn stage2_gen\n",
    "\n"
   ]
  },
  {
   "cell_type": "code",
   "execution_count": null,
   "metadata": {},
   "outputs": [],
   "source": [
    "generator_stage2 = build_stage2_generator()\n",
    "generator_stage2.summary()"
   ]
  },
  {
   "cell_type": "code",
   "execution_count": 13,
   "metadata": {},
   "outputs": [],
   "source": [
    "\n",
    "############################################################\n",
    "# Stage 2 Discriminator Network\n",
    "############################################################\n",
    "\n",
    "def build_stage2_discriminator():\n",
    "\t\"\"\"Builds the Stage 2 Discriminator that uses the 256x256 resolution images from the generator\n",
    "\tand the compressed and spatially replicated embeddings.\n",
    "\n",
    "\tReturns:\n",
    "\t\tStage 2 Discriminator Model for StackGAN.\n",
    "\t\"\"\"\n",
    "\tinput_layer1 = Input(shape=(256, 256, 3))\n",
    "\n",
    "\tx = Conv2D(64, kernel_size=(4,4), padding='same', strides=2, use_bias=False,\n",
    "\t\t\t\tkernel_initializer='he_uniform')(input_layer1)\n",
    "\tx = LeakyReLU(alpha=0.2)(x)\n",
    "\n",
    "\tx = ConvBlock(x, 128)\n",
    "\tx = ConvBlock(x, 256)\n",
    "\tx = ConvBlock(x, 512)\n",
    "\tx = ConvBlock(x, 1024)\n",
    "\tx = ConvBlock(x, 2048)\n",
    "\tx = ConvBlock(x, 1024, (1,1), 1)\n",
    "\tx = ConvBlock(x, 512, (1,1), 1, False)\n",
    "\n",
    "\tx1 = ConvBlock(x, 128, (1,1), 1)\n",
    "\tx1 = ConvBlock(x1, 128, (3,3), 1)\n",
    "\tx1 = ConvBlock(x1, 512, (3,3), 1, False)\n",
    "\n",
    "\tx2 = add([x, x1])\n",
    "\tx2 = LeakyReLU(alpha=0.2)(x2)\n",
    "\n",
    "\t# Concatenate compressed and spatially replicated embedding\n",
    "\tinput_layer2 = Input(shape=(4, 4, 128))\n",
    "\tconcat = concatenate([x2, input_layer2])\n",
    "\n",
    "\tx3 = Conv2D(512, kernel_size=(1,1), strides=1, padding='same', kernel_initializer='he_uniform')(concat)\n",
    "\tx3 = BatchNormalization(gamma_initializer='ones', beta_initializer='zeros')(x3)\n",
    "\tx3 = LeakyReLU(alpha=0.2)(x3)\n",
    "\n",
    "\t# Flatten and add a FC layer\n",
    "\tx3 = Flatten()(x3)\n",
    "\tx3 = Dense(1)(x3)\n",
    "\tx3 = Activation('sigmoid')(x3)\n",
    "\n",
    "\tstage2_dis = Model(inputs=[input_layer1, input_layer2], outputs=[x3])\n",
    "\treturn stage2_dis\n",
    "\n"
   ]
  },
  {
   "cell_type": "code",
   "execution_count": null,
   "metadata": {},
   "outputs": [],
   "source": [
    "discriminator_stage2 = build_stage2_discriminator()\n",
    "discriminator_stage2.summary()"
   ]
  },
  {
   "cell_type": "code",
   "execution_count": 15,
   "metadata": {},
   "outputs": [],
   "source": [
    "\n",
    "############################################################\n",
    "# Stage 2 Adversarial Model\n",
    "############################################################\n",
    "\n",
    "def stage2_adversarial_network(stage2_disc, stage2_gen, stage1_gen):\n",
    "\t\"\"\"Stage 2 Adversarial Network.\n",
    "\n",
    "\tArgs:\n",
    "\t\tstage2_disc: Stage 2 Discriminator Model.\n",
    "\t\tstage2_gen: Stage 2 Generator Model.\n",
    "\t\tstage1_gen: Stage 1 Generator Model.\n",
    "\n",
    "\tReturns:\n",
    "\t\tStage 2 Adversarial network.\n",
    "\t\"\"\"\n",
    "\tconditioned_embedding = Input(shape=(1024, ))\n",
    "\tlatent_space = Input(shape=(100, ))\n",
    "\tcompressed_replicated = Input(shape=(4, 4, 128))\n",
    "    \n",
    "\t#the discriminator is trained separately and stage1_gen already trained, and this is the reason why we freeze its layers by setting the property trainable=false\n",
    "\tinput_images, ca = stage1_gen([conditioned_embedding, latent_space])\n",
    "\tstage2_disc.trainable = False\n",
    "\tstage1_gen.trainable = False\n",
    "\n",
    "\timages, ca2 = stage2_gen([conditioned_embedding, input_images])\n",
    "\tprobability = stage2_disc([images, compressed_replicated])\n",
    "\n",
    "\treturn Model(inputs=[conditioned_embedding, latent_space, compressed_replicated],\n",
    "\t\toutputs=[probability, ca2])\n"
   ]
  },
  {
   "cell_type": "code",
   "execution_count": null,
   "metadata": {},
   "outputs": [],
   "source": [
    "adversarial_stage2 = stage2_adversarial_network(discriminator_stage2, generator_stage2, generator)\n",
    "adversarial_stage2.summary()"
   ]
  },
  {
   "cell_type": "code",
   "execution_count": 17,
   "metadata": {},
   "outputs": [],
   "source": [
    "\n",
    "class StackGanStage2(object):\n",
    "\t\"\"\"StackGAN Stage 2 class.\n",
    "\n",
    "\tArgs:\n",
    "\t\tepochs: Number of epochs\n",
    "\t\tz_dim: Latent space dimensions\n",
    "\t\tbatch_size: Batch Size\n",
    "\t\tenable_function: If True, training function is decorated with tf.function\n",
    "\t\tstage2_generator_lr: Learning rate for stage 2 generator\n",
    "\t\tstage2_discriminator_lr: Learning rate for stage 2 discriminator\n",
    "\t\"\"\"\n",
    "\tdef __init__(self, epochs=500, z_dim=100, batch_size=64, enable_function=True, stage2_generator_lr=0.0002, stage2_discriminator_lr=0.0002):\n",
    "\t\tself.epochs = epochs\n",
    "\t\tself.z_dim = z_dim\n",
    "\t\tself.enable_function = enable_function\n",
    "\t\tself.stage1_generator_lr = stage2_generator_lr\n",
    "\t\tself.stage1_discriminator_lr = stage2_discriminator_lr\n",
    "\t\tself.low_image_size = 64\n",
    "\t\tself.high_image_size = 256\n",
    "\t\tself.conditioning_dim = 128\n",
    "\t\tself.batch_size = batch_size\n",
    "\t\tself.stage2_generator_optimizer = Adam(lr=stage2_generator_lr, beta_1=0.5, beta_2=0.999)\n",
    "\t\tself.stage2_discriminator_optimizer = Adam(lr=stage2_discriminator_lr, beta_1=0.5, beta_2=0.999)\n",
    "\t\tself.stage1_generator = build_stage1_generator()\n",
    "\t\tself.stage1_generator.compile(loss='binary_crossentropy', optimizer=self.stage2_generator_optimizer)\n",
    "\t\tself.stage1_generator.load_weights('weights/stage1_gen.h5')\n",
    "\t\tself.stage2_generator = build_stage2_generator()\n",
    "\t\tself.stage2_generator.compile(loss='binary_crossentropy', optimizer=self.stage2_generator_optimizer)\n",
    "\n",
    "\t\tself.stage2_discriminator = build_stage2_discriminator()\n",
    "\t\tself.stage2_discriminator.compile(loss='binary_crossentropy', optimizer=self.stage2_discriminator_optimizer)\n",
    "\n",
    "\t\tself.ca_network = build_ca_network()\n",
    "\t\tself.ca_network.compile(loss='binary_crossentropy', optimizer='Adam')\n",
    "\n",
    "\t\tself.embedding_compressor = build_embedding_compressor()\n",
    "\t\tself.embedding_compressor.compile(loss='binary_crossentropy', optimizer='Adam')\n",
    "\n",
    "\t\tself.stage2_adversarial = stage2_adversarial_network(self.stage2_discriminator, self.stage2_generator, self.stage1_generator)\n",
    "\t\tself.stage2_adversarial.compile(loss=['binary_crossentropy', adversarial_loss], loss_weights=[1, 2.0], optimizer=self.stage2_generator_optimizer)\t\n",
    "\n",
    "\t\tself.checkpoint2 = tf.train.Checkpoint(\n",
    "        \tgenerator_optimizer=self.stage2_generator_optimizer,\n",
    "        \tdiscriminator_optimizer=self.stage2_discriminator_optimizer,\n",
    "        \tgenerator=self.stage2_generator,\n",
    "        \tdiscriminator=self.stage2_discriminator,\n",
    "        \tgenerator1=self.stage1_generator)\n",
    "\n",
    "\tdef visualize_stage2(self):\n",
    "\t\t\"\"\"Running Tensorboard visualizations.\n",
    "\t\t\"\"\"\n",
    "\t\ttb = TensorBoard(log_dir=\"logs/\".format(time.time()))\n",
    "\t\ttb.set_model(self.stage2_generator)\n",
    "\t\ttb.set_model(self.stage2_discriminator)\n",
    "\n",
    "\tdef train_stage2(self):\n",
    "\t\t\"\"\"Trains Stage 2 StackGAN.\n",
    "\t\t\"\"\"\n",
    "\t\tx_high_train, y_high_train, high_train_embeds = load_data(filename_path=filename_path_train, class_id_path=class_id_path_train,\n",
    "      dataset_path=dataset_path, embeddings_path=embeddings_path_train, size=(256, 256))\n",
    "\n",
    "\t\tx_high_test, y_high_test, high_test_embeds = load_data(filename_path=filename_path_test, class_id_path=class_id_path_test, \n",
    "      dataset_path=dataset_path, embeddings_path=embeddings_path_test, size=(256, 256))\n",
    "\n",
    "\t\tx_low_train, y_low_train, low_train_embeds = load_data(filename_path=filename_path_train, class_id_path=class_id_path_train,\n",
    "      dataset_path=dataset_path, embeddings_path=embeddings_path_train, size=(64, 64))\n",
    "\n",
    "\t\tx_low_test, y_low_test, low_test_embeds = load_data(filename_path=filename_path_test, class_id_path=class_id_path_test, \n",
    "      dataset_path=dataset_path, embeddings_path=embeddings_path_test, size=(64, 64))\n",
    "\n",
    "\t\treal = np.ones((self.batch_size, 1), dtype='float') * 0.9\n",
    "\t\tfake = np.zeros((self.batch_size, 1), dtype='float') * 0.1\n",
    "\n",
    "\t\tfor epoch in range(self.epochs):\n",
    "\t\t\tprint(f'Epoch: {epoch}')\n",
    "\n",
    "\t\t\tgen_loss = []\n",
    "\t\t\tdisc_loss = []\n",
    "\n",
    "\t\t\tnum_batches = int(x_high_train.shape[0] / self.batch_size)\n",
    "\n",
    "\t\t\tfor i in range(num_batches):\n",
    "\n",
    "\t\t\t\tlatent_space = np.random.normal(0, 1, size=(self.batch_size, self.z_dim))\n",
    "\t\t\t\tembedding_text = high_train_embeds[i * self.batch_size:(i + 1) * self.batch_size]\n",
    "\t\t\t\tcompressed_embedding = self.embedding_compressor.predict_on_batch(embedding_text)\n",
    "\t\t\t\tcompressed_embedding = np.reshape(compressed_embedding, (-1, 1, 1, self.conditioning_dim))\n",
    "\t\t\t\tcompressed_embedding = np.tile(compressed_embedding, (1, 4, 4, 1))\n",
    "\n",
    "\t\t\t\timage_batch = x_high_train[i * self.batch_size:(i+1) * self.batch_size]\n",
    "\t\t\t\timage_batch = (image_batch - 127.5) / 127.5\n",
    "\t\t\t\t\n",
    "\t\t\t\tlow_res_fakes, _ = self.stage1_generator.predict([embedding_text, latent_space], verbose=3)\n",
    "\t\t\t\thigh_res_fakes, _ = self.stage2_generator.predict([embedding_text, low_res_fakes], verbose=3)\n",
    "\n",
    "\t\t\t\tdiscriminator_loss = self.stage2_discriminator.train_on_batch([image_batch, compressed_embedding],\n",
    "\t\t\t\t\tnp.reshape(real, (self.batch_size, 1)))\n",
    "\n",
    "\t\t\t\tdiscriminator_loss_gen = self.stage2_discriminator.train_on_batch([high_res_fakes, compressed_embedding],\n",
    "\t\t\t\t\tnp.reshape(fake, (self.batch_size, 1)))\n",
    "\n",
    "\t\t\t\tdiscriminator_loss_fake = self.stage2_discriminator.train_on_batch([image_batch[:(self.batch_size-1)], compressed_embedding[1:]],\n",
    "\t\t\t\t\tnp.reshape(fake[1:], (self.batch_size - 1, 1)))\n",
    "\n",
    "\t\t\t\td_loss = 0.5 * np.add(discriminator_loss, 0.5 * np.add(discriminator_loss_gen, discriminator_loss_fake))\n",
    "\t\t\t\tdisc_loss.append(d_loss)\n",
    "\n",
    "\t\t\t\tprint(f'Discriminator Loss: {d_loss}')\n",
    "\n",
    "\t\t\t\tg_loss = self.stage2_adversarial.train_on_batch([embedding_text, latent_space, compressed_embedding],\n",
    "\t\t\t\t\t[K.ones((self.batch_size, 1)) * 0.9, K.ones((self.batch_size, 256)) * 0.9])\n",
    "\t\t\t\tgen_loss.append(g_loss)\n",
    "\n",
    "\t\t\t\tprint(f'Generator Loss: {g_loss}')\n",
    "\n",
    "\t\t\t\tif epoch % 5 == 0:\n",
    "\t\t\t\t\tlatent_space = np.random.normal(0, 1, size=(self.batch_size, self.z_dim))\n",
    "\t\t\t\t\tembedding_batch = high_test_embeds[0 : self.batch_size]\n",
    "\n",
    "\t\t\t\t\tlow_fake_images, _ = self.stage1_generator.predict([embedding_batch, latent_space], verbose=3)\n",
    "\t\t\t\t\thigh_fake_images, _ = self.stage2_generator.predict([embedding_batch, low_fake_images], verbose=3)\n",
    "\n",
    "\t\t\t\t\tfor i, image in enumerate(high_fake_images[:10]):\n",
    "\t\t\t\t\t    save_image(image, f'results_stage2/gen_{epoch}_{i}.png')\n",
    "\n",
    "\t\t\t\tif epoch % 10 == 0:\n",
    "\t\t\t\t\tself.stage2_generator.save_weights('weights/stage2_gen.h5')\n",
    "\t\t\t\t\tself.stage2_discriminator.save_weights(\"weights/stage2_disc.h5\")\n",
    "\t\t\t\t\tself.ca_network.save_weights('weights/stage2_ca.h5')\n",
    "\t\t\t\t\tself.embedding_compressor.save_weights('weights/stage2_embco.h5')\n",
    "\t\t\t\t\tself.stage2_adversarial.save_weights('weights/stage2_adv.h5')\n",
    "\n",
    "\t\tself.stage2_generator.save_weights('weights/stage2_gen.h5')\n",
    "\t\tself.stage2_discriminator.save_weights(\"weights/stage2_disc.h5\")\n"
   ]
  },
  {
   "cell_type": "code",
   "execution_count": null,
   "metadata": {},
   "outputs": [],
   "source": [
    "stage2 = StackGanStage2()\n",
    "stage2.train_stage2()"
   ]
  },
  {
   "cell_type": "code",
   "execution_count": null,
   "metadata": {},
   "outputs": [],
   "source": []
  }
 ],
 "metadata": {
  "accelerator": "GPU",
  "colab": {
   "collapsed_sections": [],
   "name": "stackgan.ipynb",
   "provenance": []
  },
  "kernelspec": {
   "display_name": "Python 3 (ipykernel)",
   "language": "python",
   "name": "python3"
  },
  "language_info": {
   "codemirror_mode": {
    "name": "ipython",
    "version": 3
   },
   "file_extension": ".py",
   "mimetype": "text/x-python",
   "name": "python",
   "nbconvert_exporter": "python",
   "pygments_lexer": "ipython3",
   "version": "3.8.10"
  }
 },
 "nbformat": 4,
 "nbformat_minor": 4
}
